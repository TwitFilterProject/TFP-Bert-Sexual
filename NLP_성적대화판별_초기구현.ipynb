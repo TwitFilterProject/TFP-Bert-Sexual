{
  "cells": [
    {
      "cell_type": "markdown",
      "metadata": {
        "id": "hoZajiV-6YEh"
      },
      "source": [
        "#**오픈소스 팀 과제 - BERT를 활용한 대화 이진 분류 - 전유정**\n",
        "\n",
        "허깅페이스(Hugging Face)에서 제공하는 transformer 라이브러리를 활용하여 한국어 BERT로 텍스트 대화 중에서 성적인 텍스트를 분류해보도록 하겠습니다.\n",
        "\n",
        "1.1. 사용한 데이터\n",
        "- 텍스트 윤리 검정 데이터\n",
        "https://www.aihub.or.kr/aihubdata/data/view.do?currMenu=115&topMenu=100&dataSetSn=558\n",
        "\n",
        "1.2. 데이터셋 구조\n",
        "총 44,998개의 데이터로 총 5개의 라벨로 이루어져 있습니다.\n",
        " - 일반 대화와 성적 대화만 추출\n",
        " - 데이터 결측치 제거\n",
        " - Okt 라이브러리를 활용한 토큰화\n",
        "다음과 같은 과정을 통해 데이터 전처리를 진행하였으며, 최종 21,740개의 데이터로 간소화 하였으며, 라벨도 2개로 단축시켰습니다. + 성적인 대화의 수가 적어 정확성이 높지 않은 경우를 고려하여, 성적인 데이터셋을 학습 데이터로 추가시켰습니다.\n",
        "\n",
        "2. 모델 학습\n",
        "\n",
        " 2.1. 훈련-테스트 데이터 분할\n",
        "2만 개의 데이터도 적은 수는 아니나 더 다양한 케이스를 학습하기 위해 20%를 test 데이터로 구분했습니다.\n",
        "\n",
        " 2.2. BERT 토크나이저 불러오기\n",
        "\n",
        " 2.3. DataLoader 구성\n",
        "\n",
        " 2.4. BERT 모델 불러오기\n",
        "\n",
        " 2.5. 모델 훈련"
      ]
    },
    {
      "cell_type": "code",
      "execution_count": null,
      "metadata": {
        "colab": {
          "base_uri": "https://localhost:8080/"
        },
        "id": "XyncOKy2JI_G",
        "outputId": "f733c8be-f213-4334-e24f-9bc353a14450"
      },
      "outputs": [
        {
          "output_type": "stream",
          "name": "stdout",
          "text": [
            "Requirement already satisfied: pandas in /usr/local/lib/python3.10/dist-packages (2.0.3)\n",
            "Requirement already satisfied: python-dateutil>=2.8.2 in /usr/local/lib/python3.10/dist-packages (from pandas) (2.8.2)\n",
            "Requirement already satisfied: pytz>=2020.1 in /usr/local/lib/python3.10/dist-packages (from pandas) (2023.4)\n",
            "Requirement already satisfied: tzdata>=2022.1 in /usr/local/lib/python3.10/dist-packages (from pandas) (2024.1)\n",
            "Requirement already satisfied: numpy>=1.21.0 in /usr/local/lib/python3.10/dist-packages (from pandas) (1.25.2)\n",
            "Requirement already satisfied: six>=1.5 in /usr/local/lib/python3.10/dist-packages (from python-dateutil>=2.8.2->pandas) (1.16.0)\n",
            "Requirement already satisfied: numpy in /usr/local/lib/python3.10/dist-packages (1.25.2)\n",
            "Requirement already satisfied: pillow in /usr/local/lib/python3.10/dist-packages (9.4.0)\n"
          ]
        }
      ],
      "source": [
        "!pip install pandas\n",
        "!pip install numpy\n",
        "!pip install pillow\n",
        "!pip install konlpy\n",
        "!pip install wordcloud"
      ]
    },
    {
      "cell_type": "code",
      "execution_count": null,
      "metadata": {
        "colab": {
          "base_uri": "https://localhost:8080/"
        },
        "id": "WpcfOADA748A",
        "outputId": "f583acbc-e19e-44ab-9fce-be8158065e1c"
      },
      "outputs": [
        {
          "output_type": "stream",
          "name": "stdout",
          "text": [
            "Requirement already satisfied: konlpy in /usr/local/lib/python3.10/dist-packages (0.6.0)\n",
            "Requirement already satisfied: JPype1>=0.7.0 in /usr/local/lib/python3.10/dist-packages (from konlpy) (1.5.0)\n",
            "Requirement already satisfied: lxml>=4.1.0 in /usr/local/lib/python3.10/dist-packages (from konlpy) (4.9.4)\n",
            "Requirement already satisfied: numpy>=1.6 in /usr/local/lib/python3.10/dist-packages (from konlpy) (1.25.2)\n",
            "Requirement already satisfied: packaging in /usr/local/lib/python3.10/dist-packages (from JPype1>=0.7.0->konlpy) (24.0)\n"
          ]
        }
      ],
      "source": [
        "\n",
        "!pip install konlpy"
      ]
    },
    {
      "cell_type": "code",
      "execution_count": null,
      "metadata": {
        "id": "_tQuc0d7JVmn"
      },
      "outputs": [],
      "source": [
        "import pandas as pd\n",
        "\n",
        "from wordcloud import WordCloud\n",
        "import matplotlib.pyplot as plt\n",
        "from collections import Counter\n",
        "from konlpy.tag import Hannanum\n",
        "from PIL import Image\n",
        "import numpy as np"
      ]
    },
    {
      "cell_type": "code",
      "execution_count": null,
      "metadata": {
        "id": "USzfMwI2JlQv"
      },
      "outputs": [],
      "source": [
        "df = pd.read_csv(\"test\", sep='\\t', header=None)"
      ]
    },
    {
      "cell_type": "code",
      "execution_count": null,
      "metadata": {
        "colab": {
          "base_uri": "https://localhost:8080/",
          "height": 381
        },
        "id": "Gp9uKDEiJuDC",
        "outputId": "ceb5cf7f-b5a5-4d56-db84-723b896f95a5"
      },
      "outputs": [
        {
          "output_type": "stream",
          "name": "stdout",
          "text": [
            "총 44998줄 x 6 열\n"
          ]
        },
        {
          "output_type": "execute_result",
          "data": {
            "text/plain": [
              "       0      1    2  3             4                            5\n",
              "25139  3  False  0.0  1  IMMORAL_NONE        부러워서 나도 트레이너가 꿈으로 바꿨어\n",
              "32849  5  False  0.0  1  IMMORAL_NONE                   상대한테 해주려고?\n",
              "32149  3   True  1.0  2       CENSURE  집에서 니가 하는게 없으면 그런거라도 알아서 해라\n",
              "37839  1  False  0.0  1  IMMORAL_NONE   저 사람을 뽑으면 나라가 잘 변화될 수 있을까?\n",
              "18111  2  False  0.0  2  IMMORAL_NONE                  나 그렇게 심해..?\n",
              "35410  2   True  2.0  2        SEXUAL         오 그게 말로만 듣던 오피녀인 건가?\n",
              "35796  2   True  1.4  2       CENSURE     어휴 ㅋㅋㅋ 이래서 공익들이 까여야 하는거야\n",
              "20342  3  False  0.0  1  IMMORAL_NONE                  내가 무슨 짐승이니?\n",
              "43018  1  False  0.0  1  IMMORAL_NONE     <이름>이 선거 때 말만 안 바꾸면 좋을텐데\n",
              "2757   2   True  1.4  2       CENSURE         하라는 수업은 안하고 틀니만 딱딱거림"
            ],
            "text/html": [
              "\n",
              "  <div id=\"df-6e78a45a-baef-4a56-b548-5b20d058a71d\" class=\"colab-df-container\">\n",
              "    <div>\n",
              "<style scoped>\n",
              "    .dataframe tbody tr th:only-of-type {\n",
              "        vertical-align: middle;\n",
              "    }\n",
              "\n",
              "    .dataframe tbody tr th {\n",
              "        vertical-align: top;\n",
              "    }\n",
              "\n",
              "    .dataframe thead th {\n",
              "        text-align: right;\n",
              "    }\n",
              "</style>\n",
              "<table border=\"1\" class=\"dataframe\">\n",
              "  <thead>\n",
              "    <tr style=\"text-align: right;\">\n",
              "      <th></th>\n",
              "      <th>0</th>\n",
              "      <th>1</th>\n",
              "      <th>2</th>\n",
              "      <th>3</th>\n",
              "      <th>4</th>\n",
              "      <th>5</th>\n",
              "    </tr>\n",
              "  </thead>\n",
              "  <tbody>\n",
              "    <tr>\n",
              "      <th>25139</th>\n",
              "      <td>3</td>\n",
              "      <td>False</td>\n",
              "      <td>0.0</td>\n",
              "      <td>1</td>\n",
              "      <td>IMMORAL_NONE</td>\n",
              "      <td>부러워서 나도 트레이너가 꿈으로 바꿨어</td>\n",
              "    </tr>\n",
              "    <tr>\n",
              "      <th>32849</th>\n",
              "      <td>5</td>\n",
              "      <td>False</td>\n",
              "      <td>0.0</td>\n",
              "      <td>1</td>\n",
              "      <td>IMMORAL_NONE</td>\n",
              "      <td>상대한테 해주려고?</td>\n",
              "    </tr>\n",
              "    <tr>\n",
              "      <th>32149</th>\n",
              "      <td>3</td>\n",
              "      <td>True</td>\n",
              "      <td>1.0</td>\n",
              "      <td>2</td>\n",
              "      <td>CENSURE</td>\n",
              "      <td>집에서 니가 하는게 없으면 그런거라도 알아서 해라</td>\n",
              "    </tr>\n",
              "    <tr>\n",
              "      <th>37839</th>\n",
              "      <td>1</td>\n",
              "      <td>False</td>\n",
              "      <td>0.0</td>\n",
              "      <td>1</td>\n",
              "      <td>IMMORAL_NONE</td>\n",
              "      <td>저 사람을 뽑으면 나라가 잘 변화될 수 있을까?</td>\n",
              "    </tr>\n",
              "    <tr>\n",
              "      <th>18111</th>\n",
              "      <td>2</td>\n",
              "      <td>False</td>\n",
              "      <td>0.0</td>\n",
              "      <td>2</td>\n",
              "      <td>IMMORAL_NONE</td>\n",
              "      <td>나 그렇게 심해..?</td>\n",
              "    </tr>\n",
              "    <tr>\n",
              "      <th>35410</th>\n",
              "      <td>2</td>\n",
              "      <td>True</td>\n",
              "      <td>2.0</td>\n",
              "      <td>2</td>\n",
              "      <td>SEXUAL</td>\n",
              "      <td>오 그게 말로만 듣던 오피녀인 건가?</td>\n",
              "    </tr>\n",
              "    <tr>\n",
              "      <th>35796</th>\n",
              "      <td>2</td>\n",
              "      <td>True</td>\n",
              "      <td>1.4</td>\n",
              "      <td>2</td>\n",
              "      <td>CENSURE</td>\n",
              "      <td>어휴 ㅋㅋㅋ 이래서 공익들이 까여야 하는거야</td>\n",
              "    </tr>\n",
              "    <tr>\n",
              "      <th>20342</th>\n",
              "      <td>3</td>\n",
              "      <td>False</td>\n",
              "      <td>0.0</td>\n",
              "      <td>1</td>\n",
              "      <td>IMMORAL_NONE</td>\n",
              "      <td>내가 무슨 짐승이니?</td>\n",
              "    </tr>\n",
              "    <tr>\n",
              "      <th>43018</th>\n",
              "      <td>1</td>\n",
              "      <td>False</td>\n",
              "      <td>0.0</td>\n",
              "      <td>1</td>\n",
              "      <td>IMMORAL_NONE</td>\n",
              "      <td>&lt;이름&gt;이 선거 때 말만 안 바꾸면 좋을텐데</td>\n",
              "    </tr>\n",
              "    <tr>\n",
              "      <th>2757</th>\n",
              "      <td>2</td>\n",
              "      <td>True</td>\n",
              "      <td>1.4</td>\n",
              "      <td>2</td>\n",
              "      <td>CENSURE</td>\n",
              "      <td>하라는 수업은 안하고 틀니만 딱딱거림</td>\n",
              "    </tr>\n",
              "  </tbody>\n",
              "</table>\n",
              "</div>\n",
              "    <div class=\"colab-df-buttons\">\n",
              "\n",
              "  <div class=\"colab-df-container\">\n",
              "    <button class=\"colab-df-convert\" onclick=\"convertToInteractive('df-6e78a45a-baef-4a56-b548-5b20d058a71d')\"\n",
              "            title=\"Convert this dataframe to an interactive table.\"\n",
              "            style=\"display:none;\">\n",
              "\n",
              "  <svg xmlns=\"http://www.w3.org/2000/svg\" height=\"24px\" viewBox=\"0 -960 960 960\">\n",
              "    <path d=\"M120-120v-720h720v720H120Zm60-500h600v-160H180v160Zm220 220h160v-160H400v160Zm0 220h160v-160H400v160ZM180-400h160v-160H180v160Zm440 0h160v-160H620v160ZM180-180h160v-160H180v160Zm440 0h160v-160H620v160Z\"/>\n",
              "  </svg>\n",
              "    </button>\n",
              "\n",
              "  <style>\n",
              "    .colab-df-container {\n",
              "      display:flex;\n",
              "      gap: 12px;\n",
              "    }\n",
              "\n",
              "    .colab-df-convert {\n",
              "      background-color: #E8F0FE;\n",
              "      border: none;\n",
              "      border-radius: 50%;\n",
              "      cursor: pointer;\n",
              "      display: none;\n",
              "      fill: #1967D2;\n",
              "      height: 32px;\n",
              "      padding: 0 0 0 0;\n",
              "      width: 32px;\n",
              "    }\n",
              "\n",
              "    .colab-df-convert:hover {\n",
              "      background-color: #E2EBFA;\n",
              "      box-shadow: 0px 1px 2px rgba(60, 64, 67, 0.3), 0px 1px 3px 1px rgba(60, 64, 67, 0.15);\n",
              "      fill: #174EA6;\n",
              "    }\n",
              "\n",
              "    .colab-df-buttons div {\n",
              "      margin-bottom: 4px;\n",
              "    }\n",
              "\n",
              "    [theme=dark] .colab-df-convert {\n",
              "      background-color: #3B4455;\n",
              "      fill: #D2E3FC;\n",
              "    }\n",
              "\n",
              "    [theme=dark] .colab-df-convert:hover {\n",
              "      background-color: #434B5C;\n",
              "      box-shadow: 0px 1px 3px 1px rgba(0, 0, 0, 0.15);\n",
              "      filter: drop-shadow(0px 1px 2px rgba(0, 0, 0, 0.3));\n",
              "      fill: #FFFFFF;\n",
              "    }\n",
              "  </style>\n",
              "\n",
              "    <script>\n",
              "      const buttonEl =\n",
              "        document.querySelector('#df-6e78a45a-baef-4a56-b548-5b20d058a71d button.colab-df-convert');\n",
              "      buttonEl.style.display =\n",
              "        google.colab.kernel.accessAllowed ? 'block' : 'none';\n",
              "\n",
              "      async function convertToInteractive(key) {\n",
              "        const element = document.querySelector('#df-6e78a45a-baef-4a56-b548-5b20d058a71d');\n",
              "        const dataTable =\n",
              "          await google.colab.kernel.invokeFunction('convertToInteractive',\n",
              "                                                    [key], {});\n",
              "        if (!dataTable) return;\n",
              "\n",
              "        const docLinkHtml = 'Like what you see? Visit the ' +\n",
              "          '<a target=\"_blank\" href=https://colab.research.google.com/notebooks/data_table.ipynb>data table notebook</a>'\n",
              "          + ' to learn more about interactive tables.';\n",
              "        element.innerHTML = '';\n",
              "        dataTable['output_type'] = 'display_data';\n",
              "        await google.colab.output.renderOutput(dataTable, element);\n",
              "        const docLink = document.createElement('div');\n",
              "        docLink.innerHTML = docLinkHtml;\n",
              "        element.appendChild(docLink);\n",
              "      }\n",
              "    </script>\n",
              "  </div>\n",
              "\n",
              "\n",
              "<div id=\"df-f7faf868-60d1-4c22-bc80-fce37c9dd37a\">\n",
              "  <button class=\"colab-df-quickchart\" onclick=\"quickchart('df-f7faf868-60d1-4c22-bc80-fce37c9dd37a')\"\n",
              "            title=\"Suggest charts\"\n",
              "            style=\"display:none;\">\n",
              "\n",
              "<svg xmlns=\"http://www.w3.org/2000/svg\" height=\"24px\"viewBox=\"0 0 24 24\"\n",
              "     width=\"24px\">\n",
              "    <g>\n",
              "        <path d=\"M19 3H5c-1.1 0-2 .9-2 2v14c0 1.1.9 2 2 2h14c1.1 0 2-.9 2-2V5c0-1.1-.9-2-2-2zM9 17H7v-7h2v7zm4 0h-2V7h2v10zm4 0h-2v-4h2v4z\"/>\n",
              "    </g>\n",
              "</svg>\n",
              "  </button>\n",
              "\n",
              "<style>\n",
              "  .colab-df-quickchart {\n",
              "      --bg-color: #E8F0FE;\n",
              "      --fill-color: #1967D2;\n",
              "      --hover-bg-color: #E2EBFA;\n",
              "      --hover-fill-color: #174EA6;\n",
              "      --disabled-fill-color: #AAA;\n",
              "      --disabled-bg-color: #DDD;\n",
              "  }\n",
              "\n",
              "  [theme=dark] .colab-df-quickchart {\n",
              "      --bg-color: #3B4455;\n",
              "      --fill-color: #D2E3FC;\n",
              "      --hover-bg-color: #434B5C;\n",
              "      --hover-fill-color: #FFFFFF;\n",
              "      --disabled-bg-color: #3B4455;\n",
              "      --disabled-fill-color: #666;\n",
              "  }\n",
              "\n",
              "  .colab-df-quickchart {\n",
              "    background-color: var(--bg-color);\n",
              "    border: none;\n",
              "    border-radius: 50%;\n",
              "    cursor: pointer;\n",
              "    display: none;\n",
              "    fill: var(--fill-color);\n",
              "    height: 32px;\n",
              "    padding: 0;\n",
              "    width: 32px;\n",
              "  }\n",
              "\n",
              "  .colab-df-quickchart:hover {\n",
              "    background-color: var(--hover-bg-color);\n",
              "    box-shadow: 0 1px 2px rgba(60, 64, 67, 0.3), 0 1px 3px 1px rgba(60, 64, 67, 0.15);\n",
              "    fill: var(--button-hover-fill-color);\n",
              "  }\n",
              "\n",
              "  .colab-df-quickchart-complete:disabled,\n",
              "  .colab-df-quickchart-complete:disabled:hover {\n",
              "    background-color: var(--disabled-bg-color);\n",
              "    fill: var(--disabled-fill-color);\n",
              "    box-shadow: none;\n",
              "  }\n",
              "\n",
              "  .colab-df-spinner {\n",
              "    border: 2px solid var(--fill-color);\n",
              "    border-color: transparent;\n",
              "    border-bottom-color: var(--fill-color);\n",
              "    animation:\n",
              "      spin 1s steps(1) infinite;\n",
              "  }\n",
              "\n",
              "  @keyframes spin {\n",
              "    0% {\n",
              "      border-color: transparent;\n",
              "      border-bottom-color: var(--fill-color);\n",
              "      border-left-color: var(--fill-color);\n",
              "    }\n",
              "    20% {\n",
              "      border-color: transparent;\n",
              "      border-left-color: var(--fill-color);\n",
              "      border-top-color: var(--fill-color);\n",
              "    }\n",
              "    30% {\n",
              "      border-color: transparent;\n",
              "      border-left-color: var(--fill-color);\n",
              "      border-top-color: var(--fill-color);\n",
              "      border-right-color: var(--fill-color);\n",
              "    }\n",
              "    40% {\n",
              "      border-color: transparent;\n",
              "      border-right-color: var(--fill-color);\n",
              "      border-top-color: var(--fill-color);\n",
              "    }\n",
              "    60% {\n",
              "      border-color: transparent;\n",
              "      border-right-color: var(--fill-color);\n",
              "    }\n",
              "    80% {\n",
              "      border-color: transparent;\n",
              "      border-right-color: var(--fill-color);\n",
              "      border-bottom-color: var(--fill-color);\n",
              "    }\n",
              "    90% {\n",
              "      border-color: transparent;\n",
              "      border-bottom-color: var(--fill-color);\n",
              "    }\n",
              "  }\n",
              "</style>\n",
              "\n",
              "  <script>\n",
              "    async function quickchart(key) {\n",
              "      const quickchartButtonEl =\n",
              "        document.querySelector('#' + key + ' button');\n",
              "      quickchartButtonEl.disabled = true;  // To prevent multiple clicks.\n",
              "      quickchartButtonEl.classList.add('colab-df-spinner');\n",
              "      try {\n",
              "        const charts = await google.colab.kernel.invokeFunction(\n",
              "            'suggestCharts', [key], {});\n",
              "      } catch (error) {\n",
              "        console.error('Error during call to suggestCharts:', error);\n",
              "      }\n",
              "      quickchartButtonEl.classList.remove('colab-df-spinner');\n",
              "      quickchartButtonEl.classList.add('colab-df-quickchart-complete');\n",
              "    }\n",
              "    (() => {\n",
              "      let quickchartButtonEl =\n",
              "        document.querySelector('#df-f7faf868-60d1-4c22-bc80-fce37c9dd37a button');\n",
              "      quickchartButtonEl.style.display =\n",
              "        google.colab.kernel.accessAllowed ? 'block' : 'none';\n",
              "    })();\n",
              "  </script>\n",
              "</div>\n",
              "\n",
              "    </div>\n",
              "  </div>\n"
            ],
            "application/vnd.google.colaboratory.intrinsic+json": {
              "type": "dataframe",
              "summary": "{\n  \"name\": \"df\",\n  \"rows\": 10,\n  \"fields\": [\n    {\n      \"column\": 0,\n      \"properties\": {\n        \"dtype\": \"number\",\n        \"std\": 1,\n        \"min\": 1,\n        \"max\": 5,\n        \"num_unique_values\": 4,\n        \"samples\": [\n          5,\n          2,\n          3\n        ],\n        \"semantic_type\": \"\",\n        \"description\": \"\"\n      }\n    },\n    {\n      \"column\": 1,\n      \"properties\": {\n        \"dtype\": \"boolean\",\n        \"num_unique_values\": 2,\n        \"samples\": [\n          true,\n          false\n        ],\n        \"semantic_type\": \"\",\n        \"description\": \"\"\n      }\n    },\n    {\n      \"column\": 2,\n      \"properties\": {\n        \"dtype\": \"number\",\n        \"std\": 0.7857056276579246,\n        \"min\": 0.0,\n        \"max\": 2.0,\n        \"num_unique_values\": 4,\n        \"samples\": [\n          1.0,\n          1.4\n        ],\n        \"semantic_type\": \"\",\n        \"description\": \"\"\n      }\n    },\n    {\n      \"column\": 3,\n      \"properties\": {\n        \"dtype\": \"number\",\n        \"std\": 0,\n        \"min\": 1,\n        \"max\": 2,\n        \"num_unique_values\": 2,\n        \"samples\": [\n          2,\n          1\n        ],\n        \"semantic_type\": \"\",\n        \"description\": \"\"\n      }\n    },\n    {\n      \"column\": 4,\n      \"properties\": {\n        \"dtype\": \"category\",\n        \"num_unique_values\": 3,\n        \"samples\": [\n          \"IMMORAL_NONE\",\n          \"CENSURE\"\n        ],\n        \"semantic_type\": \"\",\n        \"description\": \"\"\n      }\n    },\n    {\n      \"column\": 5,\n      \"properties\": {\n        \"dtype\": \"string\",\n        \"num_unique_values\": 10,\n        \"samples\": [\n          \"<\\uc774\\ub984>\\uc774 \\uc120\\uac70 \\ub54c \\ub9d0\\ub9cc \\uc548 \\ubc14\\uafb8\\uba74 \\uc88b\\uc744\\ud150\\ub370\",\n          \"\\uc0c1\\ub300\\ud55c\\ud14c \\ud574\\uc8fc\\ub824\\uace0?\"\n        ],\n        \"semantic_type\": \"\",\n        \"description\": \"\"\n      }\n    }\n  ]\n}"
            }
          },
          "metadata": {},
          "execution_count": 7
        }
      ],
      "source": [
        "df.shape\n",
        "df.sample(n=10)\n",
        "total_rows, total_columns = df.shape\n",
        "print(f\"총 {total_rows}줄 x {total_columns} 열\")\n",
        "df.sample(n=10)"
      ]
    },
    {
      "cell_type": "markdown",
      "metadata": {
        "id": "iNPjy3dYCeQf"
      },
      "source": [
        "섹슈얼 데이터 csv (test 데이터)\n",
        "\n"
      ]
    },
    {
      "cell_type": "code",
      "execution_count": null,
      "metadata": {
        "id": "O1ceAy23dZcs"
      },
      "outputs": [],
      "source": [
        "# 성적 대화 데이터만 추출\n",
        "sexual_df = df[df[4].str.contains(\"SEXUAL\")]\n",
        "\n",
        "# 대화 유형과 텍스트 메세지만 추출\n",
        "selected_df = sexual_df.iloc[:, [4, 5]]\n",
        "\n",
        "# CSV로 저장\n",
        "selected_df.to_csv(\"selected_data.csv\", index=False, header=None)"
      ]
    },
    {
      "cell_type": "markdown",
      "metadata": {
        "id": "54ugOGxpCg5S"
      },
      "source": [
        "일상 대화 데이터 csv (test 데이터)"
      ]
    },
    {
      "cell_type": "code",
      "execution_count": null,
      "metadata": {
        "id": "u1hP73vRCSvH"
      },
      "outputs": [],
      "source": [
        "# 일상 대화만 추출\n",
        "moral_df = df[df[4].str.contains(\"IMMORAL_NONE\")]\n",
        "\n",
        "# 대화 유형과 텍스트 메세지만 추출\n",
        "moral_selected_df = moral_df.iloc[:, [4, 5]]\n",
        "\n",
        "# CSV로 저장\n",
        "moral_selected_df.to_csv(\"moral_selected_data.csv\", index=False, header=None)"
      ]
    },
    {
      "cell_type": "markdown",
      "metadata": {
        "id": "Oa7A05KYDVa0"
      },
      "source": [
        "섹슈얼 데이터 + 일상 대화 데이터 csv화 (test 데이터)"
      ]
    },
    {
      "cell_type": "code",
      "execution_count": null,
      "metadata": {
        "colab": {
          "base_uri": "https://localhost:8080/"
        },
        "id": "UMqDqMm9C5QG",
        "outputId": "7f6c2b72-8d66-4ecf-c346-e1c0745419cb"
      },
      "outputs": [
        {
          "output_type": "stream",
          "name": "stdout",
          "text": [
            "                    4                                              5\n",
            "0        IMMORAL_NONE                       <마미손> 이번에 해명 영상 올렸던데 봤어?\n",
            "1        IMMORAL_NONE                           어 <염따> 제대로 큰일 난거 같던데\n",
            "3        IMMORAL_NONE                             요즘 같은 시대에 모솔이 가능해?\n",
            "4        IMMORAL_NONE                           흐음 글쎄.. 그럴 수도 있지, 뭐.\n",
            "6        IMMORAL_NONE                  어제 교수가 지 자식 볼 책 도서관에서 빌료오라고 함\n",
            "...               ...                                            ...\n",
            "44933     HATE,SEXUAL                  벌레 같은 것들이 다시 니들 엄마 자궁으로 들어가;;\n",
            "44945          SEXUAL  어디서 몸굴리던 개버릇 남 못준다고 지금도 더럽게 몸 섞으면서 돈 벌고 있을 수도\n",
            "44946          SEXUAL                             역시 한국 여자답게 잘 벌리는 듯\n",
            "44992  SEXUAL,CENSURE                           밋틴건가... 차라리 다 벗지 ㅋㅋㅋ\n",
            "44993  SEXUAL,CENSURE                                  ㄱㅊ도 걍 내놓고 다녀~\n",
            "\n",
            "[21740 rows x 2 columns]\n"
          ]
        }
      ],
      "source": [
        "merged_df = pd.concat([moral_selected_df, selected_df])\n",
        "merged_df.to_csv(\"test_data.csv\", index=False, header=None)\n",
        "print(merged_df)"
      ]
    },
    {
      "cell_type": "markdown",
      "metadata": {
        "id": "3sDHAxyRDtOi"
      },
      "source": [
        " 섹슈얼 데이터 (train 데이터 = 모델 학습 데이터)"
      ]
    },
    {
      "cell_type": "code",
      "execution_count": null,
      "metadata": {
        "id": "QfpoRDdCtJAU"
      },
      "outputs": [],
      "source": [
        "train_df = pd.read_csv(\"train\", sep='\\t', header=None)"
      ]
    },
    {
      "cell_type": "code",
      "execution_count": null,
      "metadata": {
        "colab": {
          "base_uri": "https://localhost:8080/"
        },
        "id": "K7GsGVKxb-p6",
        "outputId": "f05aa241-94ee-4a38-b2fd-8cb8d022fd90"
      },
      "outputs": [
        {
          "output_type": "stream",
          "name": "stdout",
          "text": [
            "        0      1    2  3             4  \\\n",
            "0       1   True  2.0  1       CENSURE   \n",
            "1       2   True  2.0  2       CENSURE   \n",
            "2       3   True  2.0  1       CENSURE   \n",
            "3       4   True  2.0  2       CENSURE   \n",
            "4       1   True  1.0  1       CENSURE   \n",
            "...    ..    ...  ... ..           ...   \n",
            "348068  1  False  0.0  1  IMMORAL_NONE   \n",
            "348069  2  False  0.0  2  IMMORAL_NONE   \n",
            "348070  1  False  0.0  1  IMMORAL_NONE   \n",
            "348071  3  False  0.0  2  IMMORAL_NONE   \n",
            "348072  2  False  0.0  2  IMMORAL_NONE   \n",
            "\n",
            "                                              5  \n",
            "0                   부랴부랴 왔는데 아무도 안왔네. 시간개념들이 없네  \n",
            "1                             맞아. 사람들이 진짜 개념이없다  \n",
            "2                                  저렇게는 살지 말아야지  \n",
            "3                        그러게 게으르고 멍청한 사람들은 맞아야해  \n",
            "4                             인방 보는 남자는 거르는게 맞다  \n",
            "...                                         ...  \n",
            "348068                              나는 매일 죽고 싶어  \n",
            "348069                 시한부도 열심히 사는데 너가 그러면 안 되지  \n",
            "348070  애들이 똑똑해지긴 했는데 문제는 무식한 애들한테도 스마트폰이 생긴 거지  \n",
            "348071  밖에서는 꺼내지도 못할 말을 인터넷이라고 당당히 하는 게 우습긴 하더라  \n",
            "348072                     동네에서 판건데 뭔 대량생산 타령이야  \n",
            "\n",
            "[348073 rows x 6 columns]\n"
          ]
        }
      ],
      "source": [
        "print(train_df)"
      ]
    },
    {
      "cell_type": "code",
      "execution_count": null,
      "metadata": {
        "colab": {
          "base_uri": "https://localhost:8080/"
        },
        "id": "w11JY2-fEW-h",
        "outputId": "56a8a205-040d-4ff1-ced2-37c3667347c3"
      },
      "outputs": [
        {
          "output_type": "stream",
          "name": "stdout",
          "text": [
            "\n"
          ]
        }
      ],
      "source": [
        "# NaN 값 제거\n",
        "t_sexual_df = train_df.dropna(subset=[4]).copy()\n",
        "\n",
        "# 섹슈얼 데이터만 추출\n",
        "t_sexual_df = t_sexual_df[t_sexual_df[4].str.contains(\"SEXUAL\")]\n",
        "\n",
        "# 대화 유형과 텍스트 메세지만 추출\n",
        "t_selected_df = t_sexual_df.iloc[:, [4, 5]]\n",
        "\n",
        "# CSV로 저장\n",
        "t_selected_df.to_csv(\"t_train_df_selected_data.csv\", index=False, header=None)\n",
        "print()\n"
      ]
    },
    {
      "cell_type": "code",
      "execution_count": null,
      "metadata": {
        "id": "P0iwyfAntTAu"
      },
      "outputs": [],
      "source": [
        "# NaN 값 제거\n",
        "t_moral_df = train_df.dropna(subset=[4]).copy()\n",
        "\n",
        "# 일상 대화만 추출\n",
        "t_moral_df = t_moral_df[t_moral_df[4].str.contains(\"IMMORAL_NONE\")]\n",
        "\n",
        "# 대화 유형과 텍스트 메세지만 추출\n",
        "t_moral_selected_df = t_moral_df.iloc[:, [4, 5]]\n",
        "\n",
        "# CSV로 저장\n",
        "t_moral_selected_df.to_csv(\"t_selected_data.csv\", index=False, header=None)"
      ]
    },
    {
      "cell_type": "code",
      "execution_count": null,
      "metadata": {
        "colab": {
          "base_uri": "https://localhost:8080/"
        },
        "id": "3-QB1WIQtjZc",
        "outputId": "b4352861-9227-414b-9b1f-8942bf2f21f8"
      },
      "outputs": [
        {
          "output_type": "stream",
          "name": "stdout",
          "text": [
            "                           4                                  5\n",
            "10              IMMORAL_NONE                쉴드가 아니라 국가가 면제해준거야.\n",
            "17              IMMORAL_NONE                      짐승입장도 들어봐야지ㅋㅋ\n",
            "19              IMMORAL_NONE                  <이름>이 이제 급하긴 한가보네\n",
            "20              IMMORAL_NONE                     깐부라고 부르기까지 하다니\n",
            "22              IMMORAL_NONE        어머니 간 이식 해 주기 싫어서 도망쳤다고...?\n",
            "...                      ...                                ...\n",
            "347962  CENSURE,ABUSE,SEXUAL     뭐만 하면 힘들데 그냥 집가서 엄마한테 젖도 달라고 해\n",
            "347972        CENSURE,SEXUAL        염소 뷰지가 로린이 뷰지랑 제일 비슷하다고 했나?\n",
            "348002   CENSURE,HATE,SEXUAL  아무리 길어봐야 한8년유지하다 애2~3명까낳고 이혼크리밟을듯\n",
            "348011                SEXUAL                       그냥 임신공격해 ㅋㅋㅋ\n",
            "348037                SEXUAL         물고 빠는 거 달인이라 이런 거 스킵 가능임ㅋㅋ\n",
            "\n",
            "[174033 rows x 2 columns]\n"
          ]
        }
      ],
      "source": [
        "t_merged_df = pd.concat([t_moral_selected_df, t_selected_df])\n",
        "t_merged_df.to_csv(\"t_test_data.csv\", index=False, header=None)\n",
        "print(t_merged_df)"
      ]
    },
    {
      "cell_type": "code",
      "execution_count": null,
      "metadata": {
        "colab": {
          "base_uri": "https://localhost:8080/"
        },
        "id": "zatBXyD61Uel",
        "outputId": "51f912b7-27d6-4f10-83a5-c6f1e9396d4a"
      },
      "outputs": [
        {
          "output_type": "stream",
          "name": "stdout",
          "text": [
            "Requirement already satisfied: torchtext==0.6.0 in /usr/local/lib/python3.10/dist-packages (0.6.0)\n",
            "Requirement already satisfied: tqdm in /usr/local/lib/python3.10/dist-packages (from torchtext==0.6.0) (4.66.4)\n",
            "Requirement already satisfied: requests in /usr/local/lib/python3.10/dist-packages (from torchtext==0.6.0) (2.31.0)\n",
            "Requirement already satisfied: torch in /usr/local/lib/python3.10/dist-packages (from torchtext==0.6.0) (2.3.0+cu121)\n",
            "Requirement already satisfied: numpy in /usr/local/lib/python3.10/dist-packages (from torchtext==0.6.0) (1.25.2)\n",
            "Requirement already satisfied: six in /usr/local/lib/python3.10/dist-packages (from torchtext==0.6.0) (1.16.0)\n",
            "Requirement already satisfied: sentencepiece in /usr/local/lib/python3.10/dist-packages (from torchtext==0.6.0) (0.1.99)\n",
            "Requirement already satisfied: charset-normalizer<4,>=2 in /usr/local/lib/python3.10/dist-packages (from requests->torchtext==0.6.0) (3.3.2)\n",
            "Requirement already satisfied: idna<4,>=2.5 in /usr/local/lib/python3.10/dist-packages (from requests->torchtext==0.6.0) (3.7)\n",
            "Requirement already satisfied: urllib3<3,>=1.21.1 in /usr/local/lib/python3.10/dist-packages (from requests->torchtext==0.6.0) (2.0.7)\n",
            "Requirement already satisfied: certifi>=2017.4.17 in /usr/local/lib/python3.10/dist-packages (from requests->torchtext==0.6.0) (2024.2.2)\n",
            "Requirement already satisfied: filelock in /usr/local/lib/python3.10/dist-packages (from torch->torchtext==0.6.0) (3.14.0)\n",
            "Requirement already satisfied: typing-extensions>=4.8.0 in /usr/local/lib/python3.10/dist-packages (from torch->torchtext==0.6.0) (4.11.0)\n",
            "Requirement already satisfied: sympy in /usr/local/lib/python3.10/dist-packages (from torch->torchtext==0.6.0) (1.12)\n",
            "Requirement already satisfied: networkx in /usr/local/lib/python3.10/dist-packages (from torch->torchtext==0.6.0) (3.3)\n",
            "Requirement already satisfied: jinja2 in /usr/local/lib/python3.10/dist-packages (from torch->torchtext==0.6.0) (3.1.4)\n",
            "Requirement already satisfied: fsspec in /usr/local/lib/python3.10/dist-packages (from torch->torchtext==0.6.0) (2023.6.0)\n",
            "Requirement already satisfied: nvidia-cuda-nvrtc-cu12==12.1.105 in /usr/local/lib/python3.10/dist-packages (from torch->torchtext==0.6.0) (12.1.105)\n",
            "Requirement already satisfied: nvidia-cuda-runtime-cu12==12.1.105 in /usr/local/lib/python3.10/dist-packages (from torch->torchtext==0.6.0) (12.1.105)\n",
            "Requirement already satisfied: nvidia-cuda-cupti-cu12==12.1.105 in /usr/local/lib/python3.10/dist-packages (from torch->torchtext==0.6.0) (12.1.105)\n",
            "Requirement already satisfied: nvidia-cudnn-cu12==8.9.2.26 in /usr/local/lib/python3.10/dist-packages (from torch->torchtext==0.6.0) (8.9.2.26)\n",
            "Requirement already satisfied: nvidia-cublas-cu12==12.1.3.1 in /usr/local/lib/python3.10/dist-packages (from torch->torchtext==0.6.0) (12.1.3.1)\n",
            "Requirement already satisfied: nvidia-cufft-cu12==11.0.2.54 in /usr/local/lib/python3.10/dist-packages (from torch->torchtext==0.6.0) (11.0.2.54)\n",
            "Requirement already satisfied: nvidia-curand-cu12==10.3.2.106 in /usr/local/lib/python3.10/dist-packages (from torch->torchtext==0.6.0) (10.3.2.106)\n",
            "Requirement already satisfied: nvidia-cusolver-cu12==11.4.5.107 in /usr/local/lib/python3.10/dist-packages (from torch->torchtext==0.6.0) (11.4.5.107)\n",
            "Requirement already satisfied: nvidia-cusparse-cu12==12.1.0.106 in /usr/local/lib/python3.10/dist-packages (from torch->torchtext==0.6.0) (12.1.0.106)\n",
            "Requirement already satisfied: nvidia-nccl-cu12==2.20.5 in /usr/local/lib/python3.10/dist-packages (from torch->torchtext==0.6.0) (2.20.5)\n",
            "Requirement already satisfied: nvidia-nvtx-cu12==12.1.105 in /usr/local/lib/python3.10/dist-packages (from torch->torchtext==0.6.0) (12.1.105)\n",
            "Requirement already satisfied: triton==2.3.0 in /usr/local/lib/python3.10/dist-packages (from torch->torchtext==0.6.0) (2.3.0)\n",
            "Requirement already satisfied: nvidia-nvjitlink-cu12 in /usr/local/lib/python3.10/dist-packages (from nvidia-cusolver-cu12==11.4.5.107->torch->torchtext==0.6.0) (12.5.40)\n",
            "Requirement already satisfied: MarkupSafe>=2.0 in /usr/local/lib/python3.10/dist-packages (from jinja2->torch->torchtext==0.6.0) (2.1.5)\n",
            "Requirement already satisfied: mpmath>=0.19 in /usr/local/lib/python3.10/dist-packages (from sympy->torch->torchtext==0.6.0) (1.3.0)\n"
          ]
        }
      ],
      "source": [
        "!pip install torchtext==0.6.0"
      ]
    },
    {
      "cell_type": "code",
      "execution_count": null,
      "metadata": {
        "colab": {
          "base_uri": "https://localhost:8080/",
          "height": 349
        },
        "id": "vGeSzJdB0Vvy",
        "outputId": "d43f4c98-c162-438c-88ec-9e8022b8c0fa"
      },
      "outputs": [
        {
          "output_type": "display_data",
          "data": {
            "text/plain": [
              "<IPython.core.display.HTML object>"
            ],
            "text/html": [
              "<table border=\"1\" class=\"dataframe\">\n",
              "  <thead>\n",
              "    <tr style=\"text-align: right;\">\n",
              "      <th>4</th>\n",
              "      <th>5</th>\n",
              "    </tr>\n",
              "  </thead>\n",
              "  <tbody>\n",
              "    <tr>\n",
              "      <td>0</td>\n",
              "      <td>[마미, 손, 이번, 해명, 영상, 올렸던데, 봤어]</td>\n",
              "    </tr>\n",
              "    <tr>\n",
              "      <td>0</td>\n",
              "      <td>[어, 염따, 제대로, 큰일, 난거, 같던데]</td>\n",
              "    </tr>\n",
              "    <tr>\n",
              "      <td>0</td>\n",
              "      <td>[요즘, 같은, 시대, 모, 솔이, 가능해]</td>\n",
              "    </tr>\n",
              "    <tr>\n",
              "      <td>0</td>\n",
              "      <td>[흐음, 글쎄, 그럴, 수도, 있지, 뭐]</td>\n",
              "    </tr>\n",
              "    <tr>\n",
              "      <td>1</td>\n",
              "      <td>[벌레, 같은, 것, 이, 다시, 니, 엄마, 자궁, 들어가]</td>\n",
              "    </tr>\n",
              "    <tr>\n",
              "      <td>1</td>\n",
              "      <td>[어디서, 몸, 굴리, 던, 개, 버릇, 남, 못, 준다고, 지금, 더럽게, 몸, 섞으면서, 돈, 벌고, 있을, 수도]</td>\n",
              "    </tr>\n",
              "    <tr>\n",
              "      <td>1</td>\n",
              "      <td>[역시, 한국, 여자, 답, 게, 벌리는, 듯]</td>\n",
              "    </tr>\n",
              "    <tr>\n",
              "      <td>1</td>\n",
              "      <td>[밋틴건, 차라리, 다, 벗지]</td>\n",
              "    </tr>\n",
              "    <tr>\n",
              "      <td>1</td>\n",
              "      <td>[ㄱㅊ, 내놓고, 다녀]</td>\n",
              "    </tr>\n",
              "  </tbody>\n",
              "</table>"
            ]
          },
          "metadata": {}
        },
        {
          "output_type": "stream",
          "name": "stdout",
          "text": [
            "총 21740줄 x 2 열\n"
          ]
        }
      ],
      "source": [
        "from konlpy.tag import Okt\n",
        "import re\n",
        "import pandas as pd\n",
        "from IPython.display import display, HTML\n",
        "\n",
        "# 섹슈얼 데이터만 추출한 데이터프레임인 sexual_df가 이미 생성되어 있다고 가정합니다.\n",
        "# 여기에 대해 전처리 작업을 수행하겠습니다.\n",
        "\n",
        "# 형태소 분석기 초기화\n",
        "tokenizer = Okt()\n",
        "\n",
        "# 텍스트 전처리 함수\n",
        "def preprocess_text(text):\n",
        "    # 특수문자 및 반복적인 문자 제거\n",
        "    text = re.sub(r'[^\\w\\s]', '', text)  # 특수문자 제거\n",
        "    # \"ㅋㅋ, ㅎㅎ\"와 같은 특정한 문자열 패턴 제거\n",
        "    text = re.sub(r'ㅋ+', '', text)\n",
        "    text = re.sub(r'ㅎ+', '', text)\n",
        "    text = re.sub(r'ㅠ+', '', text)\n",
        "    text = re.sub(r'ㅡㅡ', '', text)\n",
        "    text = re.sub(r'(.)\\1+', r'\\1\\1', text)  # 반복적인 문자 축약\n",
        "    # 형태소 분석 및 불용어 처리\n",
        "    morphs = tokenizer.morphs(text)\n",
        "    stopwords = ['의','가','에','들','는','잘','걍','과','도','를','으로','한','하다', '히', '힣', '흠', '!','?','<','>','(',')','[',']','|','#','.']\n",
        "    filtered_morphs = [word for word in morphs if not word in stopwords]\n",
        "    return filtered_morphs\n",
        "\n",
        "# 2번째 열 선택 (대화 텍스트)\n",
        "text_column = merged_df.iloc[:, 1]\n",
        "\n",
        "# 열을 문자열로 변환\n",
        "text_column_str = text_column.astype(str)\n",
        "\n",
        "# 텍스트 전처리 적용\n",
        "preprocessed_text_column = text_column_str.apply(preprocess_text)\n",
        "\n",
        "# 1번째 열 선택 (moral, sexual 라벨)\n",
        "id_column = merged_df.iloc[:, 0]\n",
        "\n",
        "# 1번째 열의 라벨 변환\n",
        "id_column = id_column.apply(lambda x: 0 if x == 'IMMORAL_NONE' else 1)\n",
        "\n",
        "# 1번째 열과 2번째 열 (라벨, 텍스트) 합쳐서 하나로 반환\n",
        "result_df = pd.concat([id_column, preprocessed_text_column], axis=1)\n",
        "\n",
        "# CSV로 저장\n",
        "result_df.to_csv(\"result_df.csv\", index=False, header=None)\n",
        "\n",
        "# 데이터의 처음 5줄과 끝 5줄 추출\n",
        "first_five = result_df.head(4)\n",
        "last_five = result_df.tail(5)\n",
        "\n",
        "# 처음 5줄과 끝 5줄을 하나의 데이터프레임으로 결합\n",
        "combined_df = pd.concat([first_five, last_five])\n",
        "\n",
        "# 데이터의 총 행 수와 열 수\n",
        "total_rows, total_columns = result_df.shape\n",
        "\n",
        "# 데이터프레임 출력 (HTML 테이블로 변환)\n",
        "display(HTML(combined_df.to_html(index=False, header=[\"Label\", \"Processed Text\"])))\n",
        "\n",
        "# 총 행과 열 수 출력 (테이블 형식)\n",
        "print(f\"총 {total_rows}줄 x {total_columns} 열\")\n"
      ]
    },
    {
      "cell_type": "code",
      "execution_count": null,
      "metadata": {
        "colab": {
          "base_uri": "https://localhost:8080/"
        },
        "id": "xZh_6a6cvfAA",
        "outputId": "0233ef82-6151-4919-fb1c-cc1535151e28"
      },
      "outputs": [
        {
          "output_type": "stream",
          "name": "stdout",
          "text": [
            "                           4  \\\n",
            "10              IMMORAL_NONE   \n",
            "17              IMMORAL_NONE   \n",
            "19              IMMORAL_NONE   \n",
            "20              IMMORAL_NONE   \n",
            "22              IMMORAL_NONE   \n",
            "...                      ...   \n",
            "347962  CENSURE,ABUSE,SEXUAL   \n",
            "347972        CENSURE,SEXUAL   \n",
            "348002   CENSURE,HATE,SEXUAL   \n",
            "348011                SEXUAL   \n",
            "348037                SEXUAL   \n",
            "\n",
            "                                                        5  \n",
            "10                                [쉴드, 아니라, 국가, 면제, 해준거야]  \n",
            "17                                      [짐승, 입장, 들어, 봐야지]  \n",
            "19                                [이름, 이, 이제, 급하긴, 가보, 네]  \n",
            "20                                 [깐, 부라, 고, 부르기까지, 하다니]  \n",
            "22                        [어머니, 간, 이식, 해, 주기, 싫어서, 도망쳤다고]  \n",
            "...                                                   ...  \n",
            "347962     [뭐, 만, 하면, 힘들데, 그냥, 집가서, 엄마, 한테, 젖도, 달라, 고, 해]  \n",
            "347972            [염소, 뷰, 지, 로린, 이, 뷰, 지랑, 제일, 비슷하다고, 했나]  \n",
            "348002  [아무리, 길어, 봐야, 8년, 유지하다, 애, 23, 명, 까, 낳고, 이혼, 크...  \n",
            "348011                                    [그냥, 임신, 공격, 해]  \n",
            "348037            [물, 고, 빠는, 거, 달인, 이라, 이런, 거, 스킵, 가능, 임]  \n",
            "\n",
            "[174033 rows x 2 columns]\n"
          ]
        }
      ],
      "source": [
        "from konlpy.tag import Okt\n",
        "import re\n",
        "import pandas as pd\n",
        "\n",
        "# 섹슈얼 데이터만 추출한 데이터프레임인 sexual_df가 이미 생성되어 있다고 가정합니다.\n",
        "# 여기에 대해 전처리 작업을 수행하겠습니다.\n",
        "\n",
        "# 형태소 분석기 초기화\n",
        "tokenizer = Okt()\n",
        "\n",
        "# 텍스트 전처리 함수\n",
        "def preprocess_text(text):\n",
        "    # 특수문자 및 반복적인 문자 제거\n",
        "    text = re.sub(r'[^\\w\\s]', '', text)  # 특수문자 제거\n",
        "    # \"ㅋㅋ, ㅎㅎ\"와 같은 특정한 문자열 패턴 제거\n",
        "    text = re.sub(r'ㅋ+', '', text)\n",
        "    text = re.sub(r'ㅎ+', '', text)\n",
        "    text = re.sub(r'ㅠ+', '', text)\n",
        "    text = re.sub(r'ㅡㅡ', '', text)\n",
        "    text = re.sub(r'(.)\\1+', r'\\1\\1', text)  # 반복적인 문자 축약\n",
        "    # 형태소 분석 및 불용어 처리\n",
        "    morphs = tokenizer.morphs(text)\n",
        "    stopwords = ['의','가','에','들','는','잘','걍','과','도','를','으로','한','하다', '히', '힣', '흠', '!','?','<','>','(',')','[',']','|','#','.']\n",
        "    filtered_morphs = [word for word in morphs if not word in stopwords]\n",
        "    return filtered_morphs\n",
        "\n",
        "# 2번째 열 선택 (대화 텍스트)\n",
        "t_text_column = t_merged_df.iloc[:, 1]\n",
        "\n",
        "# 열을 문자열로 변환\n",
        "t_text_column_str = t_text_column.astype(str)\n",
        "\n",
        "# 텍스트 전처리 적용\n",
        "t_preprocessed_text_column = t_text_column_str.apply(preprocess_text)\n",
        "\n",
        "# 1번째 열 선택 (moral, sexual 라벨)\n",
        "t_id_column = t_merged_df.iloc[:, 0]\n",
        "\n",
        "# 1번째 열과 2번째 열 (라벨, 텍스트) 합쳐서 하나로 반환\n",
        "t_result_df = pd.concat([t_id_column, t_preprocessed_text_column], axis=1)\n",
        "\n",
        "# CSV로 저장\n",
        "t_result_df.to_csv(\"t_result_df.csv\", index=False, header=None)\n",
        "print(t_result_df)"
      ]
    },
    {
      "cell_type": "code",
      "execution_count": null,
      "metadata": {
        "id": "a-9pSfpQ9kwk"
      },
      "outputs": [],
      "source": [
        "import json\n",
        "\n",
        "# 모든 토큰을 담을 집합 생성\n",
        "token_set = set()\n",
        "\n",
        "# 전처리된 텍스트 데이터로부터 모든 토큰을 추출하여 집합에 추가\n",
        "for tokens in preprocessed_text_column:\n",
        "    token_set.update(tokens)\n",
        "\n",
        "# 토큰과 인덱스를 매핑할 딕셔너리 생성\n",
        "token_to_index = {token: idx for idx, token in enumerate(sorted(token_set))}\n",
        "\n",
        "# 데이터 사전을 JSON 파일로 저장\n",
        "with open('sexual_dictionary.json', 'w', encoding='utf-8') as f:\n",
        "    json.dump(token_to_index, f, ensure_ascii=False, indent=4)\n"
      ]
    },
    {
      "cell_type": "markdown",
      "metadata": {
        "id": "M0sVTPqFa9Mg"
      },
      "source": [
        "BERT 모델링\n"
      ]
    },
    {
      "cell_type": "code",
      "execution_count": null,
      "metadata": {
        "id": "jbEqLnTxa7bZ"
      },
      "outputs": [],
      "source": [
        "import torch\n",
        "from torch.utils.data import Dataset, DataLoader\n",
        "from transformers import BertTokenizer, BertForSequenceClassification, AdamW\n",
        "from sklearn.model_selection import train_test_split\n",
        "from sklearn.utils import shuffle\n",
        "import pandas as pd"
      ]
    },
    {
      "cell_type": "code",
      "execution_count": null,
      "metadata": {
        "id": "o70UW0oNaji5"
      },
      "outputs": [],
      "source": [
        "class CustomDataset(Dataset):\n",
        "    def __init__(self, dataframe, tokenizer, max_length):\n",
        "        self.dataframe = dataframe\n",
        "        self.tokenizer = tokenizer\n",
        "        self.max_length = max_length\n",
        "\n",
        "    def __len__(self):\n",
        "        return len(self.dataframe)\n",
        "\n",
        "    def __getitem__(self, idx):\n",
        "        text = self.dataframe.iloc[idx]['text']\n",
        "        label = self.dataframe.iloc[idx]['label']\n",
        "        encoding = self.tokenizer.encode_plus(\n",
        "            text,\n",
        "            add_special_tokens=True,\n",
        "            max_length=self.max_length,\n",
        "            padding='max_length',\n",
        "            truncation=True,\n",
        "            return_tensors='pt',\n",
        "            return_attention_mask=True,\n",
        "            return_token_type_ids=False,\n",
        "        )\n",
        "\n",
        "        return {\n",
        "            'input_ids': encoding['input_ids'].squeeze(0),\n",
        "            'attention_mask': encoding['attention_mask'].squeeze(0),\n",
        "            'label': torch.tensor(label, dtype=torch.long)\n",
        "        }\n"
      ]
    },
    {
      "cell_type": "code",
      "execution_count": null,
      "metadata": {
        "colab": {
          "base_uri": "https://localhost:8080/"
        },
        "id": "YPv8HcBAQCeL",
        "outputId": "04808449-0dd8-4681-d6b6-4027634892bd"
      },
      "outputs": [
        {
          "output_type": "stream",
          "name": "stderr",
          "text": [
            "Some weights of BertForSequenceClassification were not initialized from the model checkpoint at bert-base-multilingual-cased and are newly initialized: ['classifier.bias', 'classifier.weight']\n",
            "You should probably TRAIN this model on a down-stream task to be able to use it for predictions and inference.\n",
            "/usr/local/lib/python3.10/dist-packages/transformers/optimization.py:588: FutureWarning: This implementation of AdamW is deprecated and will be removed in a future version. Use the PyTorch implementation torch.optim.AdamW instead, or set `no_deprecation_warning=True` to disable this warning\n",
            "  warnings.warn(\n"
          ]
        },
        {
          "output_type": "execute_result",
          "data": {
            "text/plain": [
              "BertForSequenceClassification(\n",
              "  (bert): BertModel(\n",
              "    (embeddings): BertEmbeddings(\n",
              "      (word_embeddings): Embedding(119547, 768, padding_idx=0)\n",
              "      (position_embeddings): Embedding(512, 768)\n",
              "      (token_type_embeddings): Embedding(2, 768)\n",
              "      (LayerNorm): LayerNorm((768,), eps=1e-12, elementwise_affine=True)\n",
              "      (dropout): Dropout(p=0.1, inplace=False)\n",
              "    )\n",
              "    (encoder): BertEncoder(\n",
              "      (layer): ModuleList(\n",
              "        (0-11): 12 x BertLayer(\n",
              "          (attention): BertAttention(\n",
              "            (self): BertSdpaSelfAttention(\n",
              "              (query): Linear(in_features=768, out_features=768, bias=True)\n",
              "              (key): Linear(in_features=768, out_features=768, bias=True)\n",
              "              (value): Linear(in_features=768, out_features=768, bias=True)\n",
              "              (dropout): Dropout(p=0.1, inplace=False)\n",
              "            )\n",
              "            (output): BertSelfOutput(\n",
              "              (dense): Linear(in_features=768, out_features=768, bias=True)\n",
              "              (LayerNorm): LayerNorm((768,), eps=1e-12, elementwise_affine=True)\n",
              "              (dropout): Dropout(p=0.1, inplace=False)\n",
              "            )\n",
              "          )\n",
              "          (intermediate): BertIntermediate(\n",
              "            (dense): Linear(in_features=768, out_features=3072, bias=True)\n",
              "            (intermediate_act_fn): GELUActivation()\n",
              "          )\n",
              "          (output): BertOutput(\n",
              "            (dense): Linear(in_features=3072, out_features=768, bias=True)\n",
              "            (LayerNorm): LayerNorm((768,), eps=1e-12, elementwise_affine=True)\n",
              "            (dropout): Dropout(p=0.1, inplace=False)\n",
              "          )\n",
              "        )\n",
              "      )\n",
              "    )\n",
              "    (pooler): BertPooler(\n",
              "      (dense): Linear(in_features=768, out_features=768, bias=True)\n",
              "      (activation): Tanh()\n",
              "    )\n",
              "  )\n",
              "  (dropout): Dropout(p=0.1, inplace=False)\n",
              "  (classifier): Linear(in_features=768, out_features=2, bias=True)\n",
              ")"
            ]
          },
          "metadata": {},
          "execution_count": 42
        }
      ],
      "source": [
        "from sklearn.model_selection import train_test_split\n",
        "\n",
        "# 데이터 로드 및 전처리\n",
        "train_data = pd.read_csv(\"t_test_data.csv\", header=None)\n",
        "train_data.columns = ['label', 'text']\n",
        "train_data['label'] = train_data['label'].apply(lambda x: 0 if x == 'IMMORAL_NONE' else 1)\n",
        "\n",
        "# 데이터를 훈련과 검증 데이터셋으로 분할\n",
        "train_data, val_data = train_test_split(train_data, test_size=0.2, random_state=42)\n",
        "\n",
        "# 토크나이저 로드\n",
        "tokenizer = BertTokenizer.from_pretrained(\"bert-base-multilingual-cased\")\n",
        "\n",
        "# 데이터셋 인스턴스 생성\n",
        "train_dataset = CustomDataset(train_data, tokenizer, max_length=128)\n",
        "val_dataset = CustomDataset(val_data, tokenizer, max_length=128)\n",
        "\n",
        "# 데이터로더 생성 (셔플링 수행)\n",
        "train_dataloader = DataLoader(train_dataset, batch_size=16, shuffle=True)\n",
        "val_dataloader = DataLoader(val_dataset, batch_size=16, shuffle=False)\n",
        "\n",
        "# 모델 정의\n",
        "model = BertForSequenceClassification.from_pretrained(\"bert-base-multilingual-cased\", num_labels=2)\n",
        "\n",
        "# 옵티마이저 및 스케줄러 설정\n",
        "optimizer = AdamW(model.parameters(), lr=2e-5)\n",
        "scheduler = torch.optim.lr_scheduler.StepLR(optimizer, step_size=5, gamma=0.1)\n",
        "\n",
        "# 디바이스 설정\n",
        "device = torch.device(\"cuda\" if torch.cuda.is_available() else \"cpu\")\n",
        "model.to(device)\n"
      ]
    },
    {
      "cell_type": "code",
      "execution_count": null,
      "metadata": {
        "colab": {
          "base_uri": "https://localhost:8080/"
        },
        "id": "r7CTjSoOXPg0",
        "outputId": "ccb02b52-c118-409b-f777-c9dcb9b813f3"
      },
      "outputs": [
        {
          "output_type": "stream",
          "name": "stdout",
          "text": [
            "Sample 1:\n",
            "\n",
            "Input IDs: tensor([   101,   9283,  69023,  11287,    100,   9290,  14523,   9367,  48599,\n",
            "         30873, 119210,  16439,    119,    102,      0,      0,      0,      0,\n",
            "             0,      0,      0,      0,      0,      0,      0,      0,      0,\n",
            "             0,      0,      0,      0,      0,      0,      0,      0,      0,\n",
            "             0,      0,      0,      0,      0,      0,      0,      0,      0,\n",
            "             0,      0,      0,      0,      0,      0,      0,      0,      0,\n",
            "             0,      0,      0,      0,      0,      0,      0,      0,      0,\n",
            "             0,      0,      0,      0,      0,      0,      0,      0,      0,\n",
            "             0,      0,      0,      0,      0,      0,      0,      0,      0,\n",
            "             0,      0,      0,      0,      0,      0,      0,      0,      0,\n",
            "             0,      0,      0,      0,      0,      0,      0,      0,      0,\n",
            "             0,      0,      0,      0,      0,      0,      0,      0,      0,\n",
            "             0,      0,      0,      0,      0,      0,      0,      0,      0,\n",
            "             0,      0,      0,      0,      0,      0,      0,      0,      0,\n",
            "             0,      0]) \n",
            "\n",
            "Attention Mask: tensor([1, 1, 1, 1, 1, 1, 1, 1, 1, 1, 1, 1, 1, 1, 0, 0, 0, 0, 0, 0, 0, 0, 0, 0,\n",
            "        0, 0, 0, 0, 0, 0, 0, 0, 0, 0, 0, 0, 0, 0, 0, 0, 0, 0, 0, 0, 0, 0, 0, 0,\n",
            "        0, 0, 0, 0, 0, 0, 0, 0, 0, 0, 0, 0, 0, 0, 0, 0, 0, 0, 0, 0, 0, 0, 0, 0,\n",
            "        0, 0, 0, 0, 0, 0, 0, 0, 0, 0, 0, 0, 0, 0, 0, 0, 0, 0, 0, 0, 0, 0, 0, 0,\n",
            "        0, 0, 0, 0, 0, 0, 0, 0, 0, 0, 0, 0, 0, 0, 0, 0, 0, 0, 0, 0, 0, 0, 0, 0,\n",
            "        0, 0, 0, 0, 0, 0, 0, 0]) \n",
            "\n",
            "Label: tensor(0) \n",
            "\n",
            "Sample 2:\n",
            "\n",
            "Input IDs: tensor([   101,   9330,  12092,   9519, 119411,  41521,   8855,  11664,   8843,\n",
            "        119080,  12092,   9065, 118775,  11102,  41521,   8855,  16985,    117,\n",
            "           102,      0,      0,      0,      0,      0,      0,      0,      0,\n",
            "             0,      0,      0,      0,      0,      0,      0,      0,      0,\n",
            "             0,      0,      0,      0,      0,      0,      0,      0,      0,\n",
            "             0,      0,      0,      0,      0,      0,      0,      0,      0,\n",
            "             0,      0,      0,      0,      0,      0,      0,      0,      0,\n",
            "             0,      0,      0,      0,      0,      0,      0,      0,      0,\n",
            "             0,      0,      0,      0,      0,      0,      0,      0,      0,\n",
            "             0,      0,      0,      0,      0,      0,      0,      0,      0,\n",
            "             0,      0,      0,      0,      0,      0,      0,      0,      0,\n",
            "             0,      0,      0,      0,      0,      0,      0,      0,      0,\n",
            "             0,      0,      0,      0,      0,      0,      0,      0,      0,\n",
            "             0,      0,      0,      0,      0,      0,      0,      0,      0,\n",
            "             0,      0]) \n",
            "\n",
            "Attention Mask: tensor([1, 1, 1, 1, 1, 1, 1, 1, 1, 1, 1, 1, 1, 1, 1, 1, 1, 1, 1, 0, 0, 0, 0, 0,\n",
            "        0, 0, 0, 0, 0, 0, 0, 0, 0, 0, 0, 0, 0, 0, 0, 0, 0, 0, 0, 0, 0, 0, 0, 0,\n",
            "        0, 0, 0, 0, 0, 0, 0, 0, 0, 0, 0, 0, 0, 0, 0, 0, 0, 0, 0, 0, 0, 0, 0, 0,\n",
            "        0, 0, 0, 0, 0, 0, 0, 0, 0, 0, 0, 0, 0, 0, 0, 0, 0, 0, 0, 0, 0, 0, 0, 0,\n",
            "        0, 0, 0, 0, 0, 0, 0, 0, 0, 0, 0, 0, 0, 0, 0, 0, 0, 0, 0, 0, 0, 0, 0, 0,\n",
            "        0, 0, 0, 0, 0, 0, 0, 0]) \n",
            "\n",
            "Label: tensor(0) \n",
            "\n",
            "Sample 3:\n",
            "\n",
            "Input IDs: tensor([101, 100, 102,   0,   0,   0,   0,   0,   0,   0,   0,   0,   0,   0,\n",
            "          0,   0,   0,   0,   0,   0,   0,   0,   0,   0,   0,   0,   0,   0,\n",
            "          0,   0,   0,   0,   0,   0,   0,   0,   0,   0,   0,   0,   0,   0,\n",
            "          0,   0,   0,   0,   0,   0,   0,   0,   0,   0,   0,   0,   0,   0,\n",
            "          0,   0,   0,   0,   0,   0,   0,   0,   0,   0,   0,   0,   0,   0,\n",
            "          0,   0,   0,   0,   0,   0,   0,   0,   0,   0,   0,   0,   0,   0,\n",
            "          0,   0,   0,   0,   0,   0,   0,   0,   0,   0,   0,   0,   0,   0,\n",
            "          0,   0,   0,   0,   0,   0,   0,   0,   0,   0,   0,   0,   0,   0,\n",
            "          0,   0,   0,   0,   0,   0,   0,   0,   0,   0,   0,   0,   0,   0,\n",
            "          0,   0]) \n",
            "\n",
            "Attention Mask: tensor([1, 1, 1, 0, 0, 0, 0, 0, 0, 0, 0, 0, 0, 0, 0, 0, 0, 0, 0, 0, 0, 0, 0, 0,\n",
            "        0, 0, 0, 0, 0, 0, 0, 0, 0, 0, 0, 0, 0, 0, 0, 0, 0, 0, 0, 0, 0, 0, 0, 0,\n",
            "        0, 0, 0, 0, 0, 0, 0, 0, 0, 0, 0, 0, 0, 0, 0, 0, 0, 0, 0, 0, 0, 0, 0, 0,\n",
            "        0, 0, 0, 0, 0, 0, 0, 0, 0, 0, 0, 0, 0, 0, 0, 0, 0, 0, 0, 0, 0, 0, 0, 0,\n",
            "        0, 0, 0, 0, 0, 0, 0, 0, 0, 0, 0, 0, 0, 0, 0, 0, 0, 0, 0, 0, 0, 0, 0, 0,\n",
            "        0, 0, 0, 0, 0, 0, 0, 0]) \n",
            "\n",
            "Label: tensor(0) \n",
            "\n",
            "Sample 4:\n",
            "\n",
            "Input IDs: tensor([  101,  9538,  9251, 10739,  9682,  9491, 32679,   119,   119,   102,\n",
            "            0,     0,     0,     0,     0,     0,     0,     0,     0,     0,\n",
            "            0,     0,     0,     0,     0,     0,     0,     0,     0,     0,\n",
            "            0,     0,     0,     0,     0,     0,     0,     0,     0,     0,\n",
            "            0,     0,     0,     0,     0,     0,     0,     0,     0,     0,\n",
            "            0,     0,     0,     0,     0,     0,     0,     0,     0,     0,\n",
            "            0,     0,     0,     0,     0,     0,     0,     0,     0,     0,\n",
            "            0,     0,     0,     0,     0,     0,     0,     0,     0,     0,\n",
            "            0,     0,     0,     0,     0,     0,     0,     0,     0,     0,\n",
            "            0,     0,     0,     0,     0,     0,     0,     0,     0,     0,\n",
            "            0,     0,     0,     0,     0,     0,     0,     0,     0,     0,\n",
            "            0,     0,     0,     0,     0,     0,     0,     0,     0,     0,\n",
            "            0,     0,     0,     0,     0,     0,     0,     0]) \n",
            "\n",
            "Attention Mask: tensor([1, 1, 1, 1, 1, 1, 1, 1, 1, 1, 0, 0, 0, 0, 0, 0, 0, 0, 0, 0, 0, 0, 0, 0,\n",
            "        0, 0, 0, 0, 0, 0, 0, 0, 0, 0, 0, 0, 0, 0, 0, 0, 0, 0, 0, 0, 0, 0, 0, 0,\n",
            "        0, 0, 0, 0, 0, 0, 0, 0, 0, 0, 0, 0, 0, 0, 0, 0, 0, 0, 0, 0, 0, 0, 0, 0,\n",
            "        0, 0, 0, 0, 0, 0, 0, 0, 0, 0, 0, 0, 0, 0, 0, 0, 0, 0, 0, 0, 0, 0, 0, 0,\n",
            "        0, 0, 0, 0, 0, 0, 0, 0, 0, 0, 0, 0, 0, 0, 0, 0, 0, 0, 0, 0, 0, 0, 0, 0,\n",
            "        0, 0, 0, 0, 0, 0, 0, 0]) \n",
            "\n",
            "Label: tensor(0) \n",
            "\n",
            "Sample 5:\n",
            "\n",
            "Input IDs: tensor([  101,  9519, 33077,   100, 66402, 12030, 28911,   136,   102,     0,\n",
            "            0,     0,     0,     0,     0,     0,     0,     0,     0,     0,\n",
            "            0,     0,     0,     0,     0,     0,     0,     0,     0,     0,\n",
            "            0,     0,     0,     0,     0,     0,     0,     0,     0,     0,\n",
            "            0,     0,     0,     0,     0,     0,     0,     0,     0,     0,\n",
            "            0,     0,     0,     0,     0,     0,     0,     0,     0,     0,\n",
            "            0,     0,     0,     0,     0,     0,     0,     0,     0,     0,\n",
            "            0,     0,     0,     0,     0,     0,     0,     0,     0,     0,\n",
            "            0,     0,     0,     0,     0,     0,     0,     0,     0,     0,\n",
            "            0,     0,     0,     0,     0,     0,     0,     0,     0,     0,\n",
            "            0,     0,     0,     0,     0,     0,     0,     0,     0,     0,\n",
            "            0,     0,     0,     0,     0,     0,     0,     0,     0,     0,\n",
            "            0,     0,     0,     0,     0,     0,     0,     0]) \n",
            "\n",
            "Attention Mask: tensor([1, 1, 1, 1, 1, 1, 1, 1, 1, 0, 0, 0, 0, 0, 0, 0, 0, 0, 0, 0, 0, 0, 0, 0,\n",
            "        0, 0, 0, 0, 0, 0, 0, 0, 0, 0, 0, 0, 0, 0, 0, 0, 0, 0, 0, 0, 0, 0, 0, 0,\n",
            "        0, 0, 0, 0, 0, 0, 0, 0, 0, 0, 0, 0, 0, 0, 0, 0, 0, 0, 0, 0, 0, 0, 0, 0,\n",
            "        0, 0, 0, 0, 0, 0, 0, 0, 0, 0, 0, 0, 0, 0, 0, 0, 0, 0, 0, 0, 0, 0, 0, 0,\n",
            "        0, 0, 0, 0, 0, 0, 0, 0, 0, 0, 0, 0, 0, 0, 0, 0, 0, 0, 0, 0, 0, 0, 0, 0,\n",
            "        0, 0, 0, 0, 0, 0, 0, 0]) \n",
            "\n",
            "Label: tensor(0) \n",
            "\n"
          ]
        }
      ],
      "source": [
        "for i in range(5):  # 예시로 첫 5개 샘플 출력\n",
        "    sample = train_dataset[i]\n",
        "\n",
        "    print(f\"Sample {i + 1}:\\n\")\n",
        "    print(\"Input IDs:\", sample['input_ids'], \"\\n\")\n",
        "    print(\"Attention Mask:\", sample['attention_mask'], \"\\n\")\n",
        "    print(\"Label:\", sample['label'], \"\\n\")\n"
      ]
    },
    {
      "cell_type": "code",
      "source": [
        "import matplotlib.pyplot as plt\n",
        "from sklearn.metrics import accuracy_score\n",
        "\n",
        "# 손실 기록\n",
        "train_losses = []\n",
        "val_losses = []\n",
        "val_accuracies = []  # 정확도 기록\n",
        "\n",
        "\n",
        "epochs = 5\n",
        "\n",
        "# 학습\n",
        "for epoch in range(epochs):\n",
        "    model.train()\n",
        "    total_loss = 0\n",
        "    for step, batch in enumerate(train_dataloader):\n",
        "        input_ids = batch['input_ids'].to(device)\n",
        "        attention_mask = batch['attention_mask'].to(device)\n",
        "        labels = batch['label'].to(device)\n",
        "\n",
        "        # Forward 수행\n",
        "        outputs = model(input_ids, attention_mask=attention_mask, labels=labels)\n",
        "\n",
        "        # 로스 구함\n",
        "        loss = outputs.loss\n",
        "\n",
        "        optimizer.zero_grad()\n",
        "        loss.backward()\n",
        "        optimizer.step()\n",
        "\n",
        "        total_loss += loss.item()\n",
        "\n",
        "        # 배치 진행 상황 출력\n",
        "        if step % 500 == 0:\n",
        "            print(f'Epoch {epoch + 1} - Batch {step}/{len(train_dataloader)} - Loss: {loss.item()}')\n",
        "\n",
        "    # 에폭별 평균 손실 출력\n",
        "    avg_loss = total_loss / len(train_dataloader)\n",
        "    print(\"Epoch {} - Avg. Loss: {}\".format(epoch + 1, avg_loss))\n",
        "    train_losses.append(avg_loss)\n",
        "\n",
        "    # 검증\n",
        "    model.eval()\n",
        "    val_loss = 0\n",
        "    val_preds = []\n",
        "    val_labels = []\n",
        "    with torch.no_grad():\n",
        "        for batch in val_dataloader:\n",
        "            input_ids = batch['input_ids'].to(device)\n",
        "            attention_mask = batch['attention_mask'].to(device)\n",
        "            labels = batch['label'].to(device)\n",
        "            outputs = model(input_ids, attention_mask=attention_mask, labels=labels)\n",
        "            loss = outputs.loss\n",
        "            logits = outputs.logits\n",
        "            val_loss += loss.item()\n",
        "            val_preds.extend(logits.argmax(dim=1).tolist())\n",
        "            val_labels.extend(labels.tolist())\n",
        "\n",
        "    val_accuracy = accuracy_score(val_labels, val_preds)\n",
        "    print(\"Validation Accuracy:\", val_accuracy)\n",
        "    val_accuracies.append(val_accuracy)\n",
        "\n",
        "    # 검증 손실 기록\n",
        "    val_losses.append(val_loss)\n",
        "\n",
        "# 손실 그래프 그리기\n",
        "plt.plot(train_losses, label='Training Loss')\n",
        "plt.plot(val_losses, label='Validation Loss')\n",
        "plt.xlabel('Epoch')\n",
        "plt.ylabel('Loss')\n",
        "plt.title('Training and Validation Loss')\n",
        "plt.legend()\n",
        "plt.show()\n",
        "\n",
        "# 정확도 그래프 그리기\n",
        "plt.plot(val_accuracies, label='Validation Accuracy', color='green')\n",
        "plt.xlabel('Epoch')\n",
        "plt.ylabel('Accuracy')\n",
        "plt.title('Validation Accuracy')\n",
        "plt.legend()\n",
        "plt.show()\n"
      ],
      "metadata": {
        "colab": {
          "base_uri": "https://localhost:8080/",
          "height": 1000
        },
        "id": "M3Bpy6TraFj1",
        "outputId": "700983ad-0fdf-484f-8217-5fa0b810683c"
      },
      "execution_count": null,
      "outputs": [
        {
          "output_type": "stream",
          "name": "stdout",
          "text": [
            "Epoch 1 - Batch 0/8702 - Loss: 0.6047435402870178\n",
            "Epoch 1 - Batch 500/8702 - Loss: 0.26693448424339294\n",
            "Epoch 1 - Batch 1000/8702 - Loss: 0.1712663620710373\n",
            "Epoch 1 - Batch 1500/8702 - Loss: 0.21717405319213867\n",
            "Epoch 1 - Batch 2000/8702 - Loss: 0.11060171574354172\n",
            "Epoch 1 - Batch 2500/8702 - Loss: 0.395502507686615\n",
            "Epoch 1 - Batch 3000/8702 - Loss: 0.2647757828235626\n",
            "Epoch 1 - Batch 3500/8702 - Loss: 0.33867278695106506\n",
            "Epoch 1 - Batch 4000/8702 - Loss: 0.42207732796669006\n",
            "Epoch 1 - Batch 4500/8702 - Loss: 0.2536919116973877\n",
            "Epoch 1 - Batch 5000/8702 - Loss: 0.21541905403137207\n",
            "Epoch 1 - Batch 5500/8702 - Loss: 0.035854678601026535\n",
            "Epoch 1 - Batch 6000/8702 - Loss: 0.29133784770965576\n",
            "Epoch 1 - Batch 6500/8702 - Loss: 0.08034121990203857\n",
            "Epoch 1 - Batch 7000/8702 - Loss: 0.13138097524642944\n",
            "Epoch 1 - Batch 7500/8702 - Loss: 0.289703905582428\n",
            "Epoch 1 - Batch 8000/8702 - Loss: 0.332068532705307\n",
            "Epoch 1 - Batch 8500/8702 - Loss: 0.06801948696374893\n",
            "Epoch 1 - Avg. Loss: 0.18679321139970193\n",
            "Validation Accuracy: 0.9498951360358548\n",
            "Epoch 2 - Batch 0/8702 - Loss: 0.15097084641456604\n",
            "Epoch 2 - Batch 500/8702 - Loss: 0.05246507376432419\n",
            "Epoch 2 - Batch 1000/8702 - Loss: 0.03853814676403999\n",
            "Epoch 2 - Batch 1500/8702 - Loss: 0.040159665048122406\n",
            "Epoch 2 - Batch 2000/8702 - Loss: 0.06640757620334625\n",
            "Epoch 2 - Batch 2500/8702 - Loss: 0.0651862770318985\n",
            "Epoch 2 - Batch 3000/8702 - Loss: 0.05595383048057556\n",
            "Epoch 2 - Batch 3500/8702 - Loss: 0.04325946047902107\n",
            "Epoch 2 - Batch 4000/8702 - Loss: 0.41907113790512085\n",
            "Epoch 2 - Batch 4500/8702 - Loss: 0.020612098276615143\n",
            "Epoch 2 - Batch 5000/8702 - Loss: 0.05441625788807869\n",
            "Epoch 2 - Batch 5500/8702 - Loss: 0.32449957728385925\n",
            "Epoch 2 - Batch 6000/8702 - Loss: 0.5402510166168213\n",
            "Epoch 2 - Batch 6500/8702 - Loss: 0.13838908076286316\n",
            "Epoch 2 - Batch 7000/8702 - Loss: 0.01058748085051775\n",
            "Epoch 2 - Batch 7500/8702 - Loss: 0.26903659105300903\n",
            "Epoch 2 - Batch 8000/8702 - Loss: 0.003006222192198038\n",
            "Epoch 2 - Batch 8500/8702 - Loss: 0.5242723822593689\n",
            "Epoch 2 - Avg. Loss: 0.13797532224063289\n",
            "Validation Accuracy: 0.951820036199615\n",
            "Epoch 3 - Batch 0/8702 - Loss: 0.013689239509403706\n",
            "Epoch 3 - Batch 500/8702 - Loss: 0.26691901683807373\n",
            "Epoch 3 - Batch 1000/8702 - Loss: 0.20007014274597168\n",
            "Epoch 3 - Batch 1500/8702 - Loss: 0.01933511532843113\n",
            "Epoch 3 - Batch 2000/8702 - Loss: 0.23414583504199982\n",
            "Epoch 3 - Batch 2500/8702 - Loss: 0.03923439234495163\n",
            "Epoch 3 - Batch 3000/8702 - Loss: 0.11743436008691788\n",
            "Epoch 3 - Batch 3500/8702 - Loss: 0.10514923930168152\n",
            "Epoch 3 - Batch 4000/8702 - Loss: 0.0385206937789917\n",
            "Epoch 3 - Batch 4500/8702 - Loss: 0.01181024219840765\n",
            "Epoch 3 - Batch 5000/8702 - Loss: 0.08540278673171997\n",
            "Epoch 3 - Batch 5500/8702 - Loss: 0.0465506948530674\n",
            "Epoch 3 - Batch 6000/8702 - Loss: 0.11027844250202179\n",
            "Epoch 3 - Batch 6500/8702 - Loss: 0.0629093274474144\n",
            "Epoch 3 - Batch 7000/8702 - Loss: 0.08492739498615265\n",
            "Epoch 3 - Batch 7500/8702 - Loss: 0.053042031824588776\n",
            "Epoch 3 - Batch 8000/8702 - Loss: 0.2450997531414032\n",
            "Epoch 3 - Batch 8500/8702 - Loss: 0.03615952655673027\n",
            "Epoch 3 - Avg. Loss: 0.11364277341183722\n",
            "Validation Accuracy: 0.9533427184187089\n"
          ]
        },
        {
          "output_type": "display_data",
          "data": {
            "text/plain": [
              "<Figure size 640x480 with 1 Axes>"
            ],
            "image/png": "[encoded data removed]"
          },
          "metadata": {}
        },
        {
          "output_type": "display_data",
          "data": {
            "text/plain": [
              "<Figure size 640x480 with 1 Axes>"
            ],
            "image/png": "[encoded data removed]"
          },
          "metadata": {}
        }
      ]
    },
    {
      "cell_type": "markdown",
      "source": [
        "테스트 loss를 줄이기 위해서 바꿔본 점은 다음과 같습니다.\n",
        "\n",
        "1. 데이터셋 수 감소 (train set을 80%로 감소)\n",
        "2. 에폭 수 감소 (5 -> 3)\n",
        "3. 기존 코드에서는 BERT 모델을 직접 구현하는 대신, 사전 학습된 BERT 모델을 불러왔음 -> BertForSequenceClassification 클래스를 사용하여 사전 학습된 BERT 모델과 분류 레이어를 함께 초기화해봄.  \n",
        "\n",
        "\n",
        "-> 에폭을 너무 줄이니 정확한 예측 불가능 에폭을 5로 하되 , 데이터 전처리를 더 진행할 예정\n"
      ],
      "metadata": {
        "id": "mPXok-GF4SqH"
      }
    },
    {
      "cell_type": "code",
      "execution_count": null,
      "metadata": {
        "id": "BBn6QSkmnLmD",
        "colab": {
          "base_uri": "https://localhost:8080/"
        },
        "outputId": "7cbc5db2-b975-4697-945a-c38e807cc24e"
      },
      "outputs": [
        {
          "output_type": "stream",
          "name": "stdout",
          "text": [
            "Requirement already satisfied: konlpy in /usr/local/lib/python3.10/dist-packages (0.6.0)\n",
            "Requirement already satisfied: JPype1>=0.7.0 in /usr/local/lib/python3.10/dist-packages (from konlpy) (1.5.0)\n",
            "Requirement already satisfied: lxml>=4.1.0 in /usr/local/lib/python3.10/dist-packages (from konlpy) (4.9.4)\n",
            "Requirement already satisfied: numpy>=1.6 in /usr/local/lib/python3.10/dist-packages (from konlpy) (1.25.2)\n",
            "Requirement already satisfied: packaging in /usr/local/lib/python3.10/dist-packages (from JPype1>=0.7.0->konlpy) (24.0)\n"
          ]
        }
      ],
      "source": [
        "!pip install konlpy\n"
      ]
    },
    {
      "cell_type": "code",
      "execution_count": null,
      "metadata": {
        "id": "FD4NqPX9uDew",
        "colab": {
          "base_uri": "https://localhost:8080/"
        },
        "outputId": "ba985ca4-f343-4a5d-ae5f-886fd614c709"
      },
      "outputs": [
        {
          "output_type": "stream",
          "name": "stderr",
          "text": [
            "Some weights of BertForSequenceClassification were not initialized from the model checkpoint at bert-base-multilingual-cased and are newly initialized: ['classifier.bias', 'classifier.weight']\n",
            "You should probably TRAIN this model on a down-stream task to be able to use it for predictions and inference.\n"
          ]
        },
        {
          "output_type": "stream",
          "name": "stdout",
          "text": [
            "이 문장은 성적인 내용을 담고 있지 않습니다.\n"
          ]
        }
      ],
      "source": [
        "from transformers import BertTokenizer, BertForSequenceClassification\n",
        "import torch\n",
        "\n",
        "# BERT 모델과 토크나이저 불러오기\n",
        "model = BertForSequenceClassification.from_pretrained('bert-base-multilingual-cased', num_labels=2)\n",
        "tokenizer = BertTokenizer.from_pretrained('bert-base-multilingual-cased')\n",
        "\n",
        "# GPU를 사용할 수 있다면 GPU로 모델을 이동\n",
        "device = torch.device('cuda' if torch.cuda.is_available() else 'cpu')\n",
        "model.to(device)\n",
        "\n",
        "# 새로운 텍스트를 분류하는 함수 정의\n",
        "def classify_text(text):\n",
        "    # 전처리: 텍스트를 BERT 모델의 입력 형식으로 변환\n",
        "    encoded_text = tokenizer(text, return_tensors='pt', padding=True, truncation=True)\n",
        "    input_ids = encoded_text['input_ids'].to(device)\n",
        "    attention_mask = encoded_text['attention_mask'].to(device)\n",
        "\n",
        "    # 모델 추론\n",
        "    with torch.no_grad():\n",
        "        outputs = model(input_ids, attention_mask=attention_mask)\n",
        "        probabilities = torch.softmax(outputs.logits, dim=1)\n",
        "        predicted_class = torch.argmax(probabilities).item()  # 가장 높은 확률을 가진 클래스 선택\n",
        "\n",
        "    return predicted_class\n",
        "\n",
        "# 새로운 텍스트 입력\n",
        "new_text = \"와 저 여자 앞뒤가 똑같아 ㅋㅋㅋㅋㅋ\"\n",
        "# 텍스트 분류 결과 출력\n",
        "classification_result = classify_text(new_text)\n",
        "if classification_result == 1:\n",
        "    print(\"이 문장은 성적인 내용을 담고 있습니다.\")\n",
        "else:\n",
        "    print(\"이 문장은 성적인 내용을 담고 있지 않습니다.\")"
      ]
    },
    {
      "cell_type": "code",
      "execution_count": null,
      "metadata": {
        "id": "KMJ24snByh8p",
        "colab": {
          "base_uri": "https://localhost:8080/"
        },
        "outputId": "cde93335-cf55-4bbb-95ed-45ba9b84418a"
      },
      "outputs": [
        {
          "output_type": "stream",
          "name": "stdout",
          "text": [
            "이 문장은 성적인 내용을 담고 있습니다.\n"
          ]
        }
      ],
      "source": [
        "# 새로운 텍스트 입력\n",
        "new_text = \"나 어제 성매매 하고 왔다\"\n",
        "# 텍스트 분류 결과 출력\n",
        "classification_result = classify_text(new_text)\n",
        "if classification_result == 1:\n",
        "    print(\"이 문장은 성적인 내용을 담고 있습니다.\")\n",
        "else:\n",
        "    print(\"이 문장은 성적인 내용을 담고 있지 않습니다.\")"
      ]
    },
    {
      "cell_type": "code",
      "source": [
        "# 모델 저장 경로 설정\n",
        "model_path = 'Sexualexpression_model'\n",
        "\n",
        "# 모델 저장\n",
        "torch.save(model.state_dict(), model_path)\n",
        "\n",
        "print(\"모델이 저장되었습니다:\", model_path)\n"
      ],
      "metadata": {
        "colab": {
          "base_uri": "https://localhost:8080/"
        },
        "id": "WgAaNQ9bVRIc",
        "outputId": "2bf5214a-ef14-4b00-e190-5382d4dfcd33"
      },
      "execution_count": null,
      "outputs": [
        {
          "output_type": "stream",
          "name": "stdout",
          "text": [
            "모델이 저장되었습니다: Sexualexpression_model\n"
          ]
        }
      ]
    }
  ],
  "metadata": {
    "accelerator": "GPU",
    "colab": {
      "gpuType": "T4",
      "provenance": []
    },
    "kernelspec": {
      "display_name": "Python 3",
      "name": "python3"
    },
    "language_info": {
      "name": "python"
    }
  },
  "nbformat": 4,
  "nbformat_minor": 0
}