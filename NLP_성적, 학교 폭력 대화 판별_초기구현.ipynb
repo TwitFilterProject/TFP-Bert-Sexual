{
  "cells": [
    {
      "cell_type": "markdown",
      "metadata": {
        "id": "hoZajiV-6YEh"
      },
      "source": [
        "#**오픈소스 팀 과제 - BERT를 활용한 대화 다중 분류 - 전유정**\n",
        "\n",
        "허깅페이스(Hugging Face)에서 제공하는 transformer 라이브러리를 활용하여 한국어 BERT로 텍스트 대화 중에서 일반 텍스트, 성적 텍스트, 학교 폭력 텍스트를를 분류해보도록 하겠습니다.\n",
        "\n",
        "1.1. 사용한 데이터\n",
        "- 텍스트 윤리 검정 데이터\n",
        "https://www.aihub.or.kr/aihubdata/data/view.do?currMenu=115&topMenu=100&dataSetSn=558\n",
        "\n",
        "1.2. 데이터셋 구조\n",
        "테스트 데이터, 44,998개 훈련 데이터 348,073개로 총 5개의 라벨로 이루어져 있습니다. 성적인 대화의 수가 적어 정확성이 높지 않은 경우를 고려하여, 성적인 데이터셋을 직접 수집하여 학습 데이터로 추가시켰습니다.\n",
        "\n",
        " - 일반 대화와 성적 대화, 학교 폭력 대화를 추출\n",
        " - 데이터 결측치 제거\n",
        " - Okt 라이브러리를 활용한 토큰화\n",
        "다음과 같은 과정을 통해 데이터 전처리를 진행하였으며, 테스트 데이터 약 1만개, 훈련 데이터 약 8만개로 단축시켰으며, 간소화 하였으며, 라벨도 2개로 단축시켰습니다.\n",
        "\n",
        "2. 모델 학습\n",
        "\n",
        " 2.1. 훈련-테스트 데이터 분할\n",
        "BERT 모델같이 사전 학습된 모델의 경우, 적은 데이터로도 좋은 성능을 낼 수 있습니다. 따라서, 테스트 데이터는 5만개를 전부 사용하였으며, 훈련 데이터의 경우 80%를 사용했습니다.\n",
        "\n",
        " 2.2. BERT 토크나이저 불러오기\n",
        "\n",
        " 2.3. DataLoader 구성\n",
        "\n",
        " 2.4. BERT 모델 불러오기\n",
        "\n",
        " 2.5. 모델 훈련\n",
        "\n",
        "\n",
        "\n",
        "+ 초기에는 이진 판별로 모델을 학습 시키고자 했으나, 이진 판별만 하기에 데이터 셋의 크기가 컸기 때문에 성적 대화 뿐만 아니라 학교 폭력 대화까지 총 3가지의 대화를 클래스 별로 판별하고자 합니다.\n",
        "\n",
        "1. VIOLENCE, CRIME, ABUSE 총 3가지의 데이터셋 라벨을 '학교 폭력 데이터'로 추출하였으며, 이를 각각 훈련과 테스트 데이터에 결합시켰습니다.\n",
        "\n",
        "2. 하나의 모델에서 3개의 클래스를 학습 시키는 다중 클래스 분류 학습을 진행했었지만, 성능이 좋지 않았습니다. 따라서 첫 번째로 성적 대화인지 아닌지 판별하는 학습과 두 번째로 성적 대화를 제외한 데이터에서 학교 폭력 대화인지 아닌지 판별하는 학습 총 2회를 진행시켰습니다.\n",
        "\n",
        "3. 2회 진행한 학습을 최종적으로 하나의 모델로 결합시켜, 총 3가지 클래스의 대화 판별이 가능하도록 했습니다.\n",
        "\n",
        "-> train과 test 모두 loss는 우하향, accuracy와 f1-score는 우상향하는 모습이 보였으나, 성적 대화 판별을 하는 첫 번째 학습에서의 f1-score가 낮았습니다. 그 이유는 성적 대화와 일반, 학교 폭력 대화를 판별하는 과정에서, 성적 대화의 데이터 개수가 현저하게 적어 데이터 불균형이 있음을 확인할 수 있었습니다. 2차 수정에는 이러한 점을 보완할 예정입니다."
      ]
    },
    {
      "cell_type": "code",
      "execution_count": 1,
      "metadata": {
        "colab": {
          "base_uri": "https://localhost:8080/"
        },
        "id": "XyncOKy2JI_G",
        "outputId": "ef4a76e0-bd89-4758-e534-0abc77f12876"
      },
      "outputs": [
        {
          "output_type": "stream",
          "name": "stdout",
          "text": [
            "Requirement already satisfied: pandas in /usr/local/lib/python3.10/dist-packages (2.0.3)\n",
            "Requirement already satisfied: python-dateutil>=2.8.2 in /usr/local/lib/python3.10/dist-packages (from pandas) (2.8.2)\n",
            "Requirement already satisfied: pytz>=2020.1 in /usr/local/lib/python3.10/dist-packages (from pandas) (2023.4)\n",
            "Requirement already satisfied: tzdata>=2022.1 in /usr/local/lib/python3.10/dist-packages (from pandas) (2024.1)\n",
            "Requirement already satisfied: numpy>=1.21.0 in /usr/local/lib/python3.10/dist-packages (from pandas) (1.25.2)\n",
            "Requirement already satisfied: six>=1.5 in /usr/local/lib/python3.10/dist-packages (from python-dateutil>=2.8.2->pandas) (1.16.0)\n",
            "Requirement already satisfied: numpy in /usr/local/lib/python3.10/dist-packages (1.25.2)\n",
            "Requirement already satisfied: pillow in /usr/local/lib/python3.10/dist-packages (9.4.0)\n",
            "Collecting konlpy\n",
            "  Downloading konlpy-0.6.0-py2.py3-none-any.whl (19.4 MB)\n",
            "\u001b[2K     \u001b[90m━━━━━━━━━━━━━━━━━━━━━━━━━━━━━━━━━━━━━━━━\u001b[0m \u001b[32m19.4/19.4 MB\u001b[0m \u001b[31m69.1 MB/s\u001b[0m eta \u001b[36m0:00:00\u001b[0m\n",
            "\u001b[?25hCollecting JPype1>=0.7.0 (from konlpy)\n",
            "  Downloading JPype1-1.5.0-cp310-cp310-manylinux_2_17_x86_64.manylinux2014_x86_64.whl (488 kB)\n",
            "\u001b[2K     \u001b[90m━━━━━━━━━━━━━━━━━━━━━━━━━━━━━━━━━━━━━━━━\u001b[0m \u001b[32m488.6/488.6 kB\u001b[0m \u001b[31m40.3 MB/s\u001b[0m eta \u001b[36m0:00:00\u001b[0m\n",
            "\u001b[?25hRequirement already satisfied: lxml>=4.1.0 in /usr/local/lib/python3.10/dist-packages (from konlpy) (4.9.4)\n",
            "Requirement already satisfied: numpy>=1.6 in /usr/local/lib/python3.10/dist-packages (from konlpy) (1.25.2)\n",
            "Requirement already satisfied: packaging in /usr/local/lib/python3.10/dist-packages (from JPype1>=0.7.0->konlpy) (24.1)\n",
            "Installing collected packages: JPype1, konlpy\n",
            "Successfully installed JPype1-1.5.0 konlpy-0.6.0\n",
            "Requirement already satisfied: wordcloud in /usr/local/lib/python3.10/dist-packages (1.9.3)\n",
            "Requirement already satisfied: numpy>=1.6.1 in /usr/local/lib/python3.10/dist-packages (from wordcloud) (1.25.2)\n",
            "Requirement already satisfied: pillow in /usr/local/lib/python3.10/dist-packages (from wordcloud) (9.4.0)\n",
            "Requirement already satisfied: matplotlib in /usr/local/lib/python3.10/dist-packages (from wordcloud) (3.7.1)\n",
            "Requirement already satisfied: contourpy>=1.0.1 in /usr/local/lib/python3.10/dist-packages (from matplotlib->wordcloud) (1.2.1)\n",
            "Requirement already satisfied: cycler>=0.10 in /usr/local/lib/python3.10/dist-packages (from matplotlib->wordcloud) (0.12.1)\n",
            "Requirement already satisfied: fonttools>=4.22.0 in /usr/local/lib/python3.10/dist-packages (from matplotlib->wordcloud) (4.53.0)\n",
            "Requirement already satisfied: kiwisolver>=1.0.1 in /usr/local/lib/python3.10/dist-packages (from matplotlib->wordcloud) (1.4.5)\n",
            "Requirement already satisfied: packaging>=20.0 in /usr/local/lib/python3.10/dist-packages (from matplotlib->wordcloud) (24.1)\n",
            "Requirement already satisfied: pyparsing>=2.3.1 in /usr/local/lib/python3.10/dist-packages (from matplotlib->wordcloud) (3.1.2)\n",
            "Requirement already satisfied: python-dateutil>=2.7 in /usr/local/lib/python3.10/dist-packages (from matplotlib->wordcloud) (2.8.2)\n",
            "Requirement already satisfied: six>=1.5 in /usr/local/lib/python3.10/dist-packages (from python-dateutil>=2.7->matplotlib->wordcloud) (1.16.0)\n"
          ]
        }
      ],
      "source": [
        "!pip install pandas\n",
        "!pip install numpy\n",
        "!pip install pillow\n",
        "!pip install konlpy\n",
        "!pip install wordcloud"
      ]
    },
    {
      "cell_type": "code",
      "execution_count": 2,
      "metadata": {
        "colab": {
          "base_uri": "https://localhost:8080/"
        },
        "id": "WpcfOADA748A",
        "outputId": "4f1e1dd4-0862-47ae-c27b-2a9e2dfe60c8"
      },
      "outputs": [
        {
          "output_type": "stream",
          "name": "stdout",
          "text": [
            "Requirement already satisfied: konlpy in /usr/local/lib/python3.10/dist-packages (0.6.0)\n",
            "Requirement already satisfied: JPype1>=0.7.0 in /usr/local/lib/python3.10/dist-packages (from konlpy) (1.5.0)\n",
            "Requirement already satisfied: lxml>=4.1.0 in /usr/local/lib/python3.10/dist-packages (from konlpy) (4.9.4)\n",
            "Requirement already satisfied: numpy>=1.6 in /usr/local/lib/python3.10/dist-packages (from konlpy) (1.25.2)\n",
            "Requirement already satisfied: packaging in /usr/local/lib/python3.10/dist-packages (from JPype1>=0.7.0->konlpy) (24.1)\n"
          ]
        }
      ],
      "source": [
        "\n",
        "\n",
        "!pip install konlpy"
      ]
    },
    {
      "cell_type": "code",
      "execution_count": 3,
      "metadata": {
        "id": "_tQuc0d7JVmn"
      },
      "outputs": [],
      "source": [
        "import pandas as pd\n",
        "\n",
        "from wordcloud import WordCloud\n",
        "import matplotlib.pyplot as plt\n",
        "from collections import Counter\n",
        "from konlpy.tag import Hannanum\n",
        "from PIL import Image\n",
        "import numpy as np"
      ]
    },
    {
      "cell_type": "markdown",
      "source": [
        "# TEST 데이터"
      ],
      "metadata": {
        "id": "Z0xdPbhbSVJ1"
      }
    },
    {
      "cell_type": "code",
      "execution_count": 4,
      "metadata": {
        "id": "USzfMwI2JlQv",
        "colab": {
          "base_uri": "https://localhost:8080/"
        },
        "outputId": "6af2e050-c981-4a94-b4f2-ffb5dff162bd"
      },
      "outputs": [
        {
          "output_type": "stream",
          "name": "stdout",
          "text": [
            "Successfully read the file.\n",
            "First row removed.\n",
            "   0      1    2  3              4                           5\n",
            "0  1  False  0.0  1   IMMORAL_NONE    <마미손> 이번에 해명 영상 올렸던데 봤어?\n",
            "1  2  False  0.0  2   IMMORAL_NONE        어 <염따> 제대로 큰일 난거 같던데\n",
            "2  3   True  1.0  3  CENSURE,ABUSE  <염따> 뭐됐지 ㅋㅋ 그럴줄 알았다 티팔이 샛기\n",
            "3  1  False  0.0  1   IMMORAL_NONE          요즘 같은 시대에 모솔이 가능해?\n",
            "4  2  False  0.0  2   IMMORAL_NONE        흐음 글쎄.. 그럴 수도 있지, 뭐.\n",
            "Number of rows: 57556\n"
          ]
        }
      ],
      "source": [
        "import pandas as pd\n",
        "\n",
        "try:\n",
        "    # 엑셀 파일 읽기\n",
        "    df = pd.read_excel(\"test_data.xlsx\", header=None)\n",
        "    print(\"Successfully read the file.\")\n",
        "\n",
        "    # 첫 번째 행 제거\n",
        "    df = df.iloc[1:].reset_index(drop=True)\n",
        "    print(\"First row removed.\")\n",
        "\n",
        "    # 데이터프레임의 첫 몇 줄과 행 개수 출력\n",
        "    print(df.head())\n",
        "    num_rows = df.shape[0]\n",
        "    print(f\"Number of rows: {num_rows}\")\n",
        "except Exception as e:\n",
        "    print(f\"Failed to read the file. Error: {e}\")"
      ]
    },
    {
      "cell_type": "markdown",
      "metadata": {
        "id": "iNPjy3dYCeQf"
      },
      "source": [
        "섹슈얼 데이터\n"
      ]
    },
    {
      "cell_type": "code",
      "execution_count": 5,
      "metadata": {
        "colab": {
          "base_uri": "https://localhost:8080/"
        },
        "id": "O1ceAy23dZcs",
        "outputId": "e7041f39-c83f-49bb-e94d-7afb0d0c3097"
      },
      "outputs": [
        {
          "output_type": "stream",
          "name": "stdout",
          "text": [
            "SEXUAL 데이터 행 개수: 5490\n"
          ]
        }
      ],
      "source": [
        "import pandas as pd\n",
        "\n",
        "# 'SEXUAL' 포함된 데이터프레임 추출\n",
        "sexual_df = df[df[4].str.contains(\"SEXUAL\")]\n",
        "\n",
        "# 대화 유형과 텍스트 메세지만 추출\n",
        "selected_sexual_df = sexual_df.iloc[:, [4, 5]]\n",
        "\n",
        "# 데이터 행 개수 추출\n",
        "num_rows = selected_sexual_df.shape[0]\n",
        "print(f\"SEXUAL 데이터 행 개수: {num_rows}\")"
      ]
    },
    {
      "cell_type": "markdown",
      "metadata": {
        "id": "54ugOGxpCg5S"
      },
      "source": [
        "일상 대화 데이터"
      ]
    },
    {
      "cell_type": "code",
      "execution_count": 6,
      "metadata": {
        "colab": {
          "base_uri": "https://localhost:8080/"
        },
        "id": "u1hP73vRCSvH",
        "outputId": "3611ab86-37a6-415d-eb0f-d6ef89dd5dbc"
      },
      "outputs": [
        {
          "output_type": "stream",
          "name": "stdout",
          "text": [
            "                  4                        5\n",
            "815    IMMORAL_NONE                  그게 맞긴 해\n",
            "9950   IMMORAL_NONE             정말 세금 아깝다...\n",
            "7779   IMMORAL_NONE      그 사람 게임을 발로 하는거 맞지?\n",
            "31647  IMMORAL_NONE                잘 놀다가 왔나?\n",
            "29248  IMMORAL_NONE              도저히 납득이 안가네\n",
            "...             ...                      ...\n",
            "25699  IMMORAL_NONE    요즘 팝송 되게 좋지않아? 즐겨듣고있어\n",
            "22430  IMMORAL_NONE          야 그정도 아닌데 오바하지마\n",
            "35311  IMMORAL_NONE          <이름> 너무 예쁨ㅠㅠㅠㅠㅠ\n",
            "19709  IMMORAL_NONE             계산기를 잘못 눌렀겠지\n",
            "8206   IMMORAL_NONE  나 이번에 성적장학금 받았어 ㅎㅎㅎ 잘했지\n",
            "\n",
            "[5500 rows x 2 columns]\n"
          ]
        }
      ],
      "source": [
        "import pandas as pd\n",
        "\n",
        "\n",
        "# 'IMMORAL_NONE' 포함된 데이터프레임 추출\n",
        "moral_df = df[df[4].str.contains(\"IMMORAL_NONE\")]\n",
        "\n",
        "# 대화 유형과 텍스트 메세지만 추출\n",
        "moral_selected_df = moral_df.iloc[:, [4, 5]]\n",
        "\n",
        "# 5천개 또는 가능한 최대 개수로 줄이기\n",
        "sample_size = min(5500, len(moral_selected_df))\n",
        "selected_moral_df = moral_selected_df.sample(n=sample_size, random_state=1)\n",
        "\n",
        "# 결과 출력\n",
        "print(selected_moral_df)\n"
      ]
    },
    {
      "cell_type": "markdown",
      "source": [
        "학교 폭력 데이터\n"
      ],
      "metadata": {
        "id": "c0R0CK07SdGq"
      }
    },
    {
      "cell_type": "code",
      "source": [
        "import pandas as pd\n",
        "\n",
        "\n",
        "# 'VIOLENCE|CRIME|ABUSE' 포함된 데이터프레임 추출\n",
        "violence_df = df[df[4].str.contains(\"VIOLENCE|CRIME|ABUSE\")]\n",
        "\n",
        "# 'SEXUAL'이 포함된 행을 제외\n",
        "violence_df = violence_df[~violence_df[4].str.contains(\"SEXUAL\", na=False)]\n",
        "\n",
        "# 대화 유형과 텍스트 메세지만 추출\n",
        "violence_selected_df = violence_df.iloc[:, [4, 5]]\n",
        "\n",
        "# 5천개 또는 가능한 최대 개수로 줄이기\n",
        "sample_size = min(5500, len(violence_selected_df))\n",
        "violence_selected_df = violence_selected_df.sample(n=sample_size, random_state=1)\n",
        "\n",
        "# 결과 출력\n",
        "print(violence_selected_df)\n"
      ],
      "metadata": {
        "colab": {
          "base_uri": "https://localhost:8080/"
        },
        "id": "Qe09ZFpwSbeq",
        "outputId": "5288252e-44b5-4e85-8e47-f153b0091dcd"
      },
      "execution_count": 7,
      "outputs": [
        {
          "output_type": "stream",
          "name": "stdout",
          "text": [
            "                   4                                5\n",
            "57312       VIOLENCE  원래 바퀴벌레는 생명령 ㅅㅌㅊ라 죽여도 죽여도 끝이 없음\n",
            "56727          ABUSE                              앰뒤?\n",
            "56559          ABUSE                             조옷까셈\n",
            "51701          ABUSE     왜  봊  못 잡스런아먹어서 안달이니  갓나냔 들아\n",
            "50989       VIOLENCE                   <이름> 강제로 하고 싶다\n",
            "...              ...                              ...\n",
            "24798       VIOLENCE               그럼 걍 나가서 한강물에 뛰어내려\n",
            "29480  CENSURE,ABUSE     응 너는 개조져놔서 그것조차 안어울리는 것 같다^^\n",
            "42824       VIOLENCE                  진짜 한 대 쎄게 치고 싶다\n",
            "53633       VIOLENCE    제발 강의들을 떄 옆에서 말걸지마 죽빵 치고 싶으니까\n",
            "54755          ABUSE                              엿먹어\n",
            "\n",
            "[5500 rows x 2 columns]\n"
          ]
        }
      ]
    },
    {
      "cell_type": "markdown",
      "metadata": {
        "id": "Oa7A05KYDVa0"
      },
      "source": [
        "섹슈얼 데이터 + 일상 대화 데이터 + 학교 폭력 데이터"
      ]
    },
    {
      "cell_type": "code",
      "execution_count": 8,
      "metadata": {
        "colab": {
          "base_uri": "https://localhost:8080/"
        },
        "id": "UMqDqMm9C5QG",
        "outputId": "352ea644-0aa6-475b-fbf2-e86e8b380647"
      },
      "outputs": [
        {
          "output_type": "stream",
          "name": "stdout",
          "text": [
            "SEXUAL + IMMORAL_NONE + VIOLENCE 데이터 행 개수: 16490\n"
          ]
        }
      ],
      "source": [
        "test_merged_df = pd.concat([selected_sexual_df, selected_moral_df, violence_selected_df])\n",
        "\n",
        "num_rows = test_merged_df.shape[0]\n",
        "print(f\"SEXUAL + IMMORAL_NONE + VIOLENCE 데이터 행 개수: {num_rows}\")"
      ]
    },
    {
      "cell_type": "markdown",
      "source": [
        "# Train 데이터"
      ],
      "metadata": {
        "id": "6AkQW71GSocE"
      }
    },
    {
      "cell_type": "code",
      "execution_count": 9,
      "metadata": {
        "id": "QfpoRDdCtJAU",
        "colab": {
          "base_uri": "https://localhost:8080/"
        },
        "outputId": "fa4800ed-5432-4969-f6aa-2d3669b8756b"
      },
      "outputs": [
        {
          "output_type": "stream",
          "name": "stdout",
          "text": [
            "       0     1    2  3         4                                            5\n",
            "0      1  True  2.0  1   CENSURE                  부랴부랴 왔는데 아무도 안왔네. 시간개념들이 없네\n",
            "1      2  True  2.0  2   CENSURE                            맞아. 사람들이 진짜 개념이없다\n",
            "2      3  True  2.0  1   CENSURE                                 저렇게는 살지 말아야지\n",
            "3      4  True  2.0  2   CENSURE                       그러게 게으르고 멍청한 사람들은 맞아야해\n",
            "4      1  True  1.0  1   CENSURE                            인방 보는 남자는 거르는게 맞다\n",
            "...   ..   ...  ... ..       ...                                          ...\n",
            "12660  3  True  2.4  1  VIOLENCE               그니까; 진짜 잡아서 날개 뜯고 머가리 뽑아버리고싶어.\n",
            "12661  3  True  2.4  1     ABUSE               그니까; 진짜 잡아서 날개 뜯고 머가리 뽑아버리고싶어.\n",
            "12662  2  True  1.8  1  VIOLENCE                         남자 아래에 깔려서 당하고 싶은건가?\n",
            "12663  4  True  1.8  2    SEXUAL          저정도면 놀아달라는 거 아닌가? 저 라인봐봐 만지면 으스러지겠어\n",
            "12664  5  True  2.6  1    SEXUAL  저 언덕 사이에 손을 넣고 주물러주면 그럴걸 ㅋㅋ 본인도 바라고 있지 않을까?\n",
            "\n",
            "[515298 rows x 6 columns]\n"
          ]
        }
      ],
      "source": [
        "train_df = pd.read_csv(\"train1.xlsx\", sep='\\t', header=None)\n",
        "train2_df = pd.read_csv(\"train2.xlsx\", sep='\\t', header=None)\n",
        "train3_df = pd.read_csv(\"train3.xlsx\", sep='\\t', header=None)\n",
        "train4_df = pd.read_csv(\"train4.xlsx\", sep='\\t', header=None)\n",
        "# 두 데이터프레임 병합\n",
        "merged_train_df = pd.concat([train_df, train2_df, train3_df, train4_df])\n",
        "print(merged_train_df)"
      ]
    },
    {
      "cell_type": "markdown",
      "source": [
        "성적 대화 데이터"
      ],
      "metadata": {
        "id": "0FZoHaeQLX1t"
      }
    },
    {
      "cell_type": "code",
      "execution_count": 10,
      "metadata": {
        "colab": {
          "base_uri": "https://localhost:8080/"
        },
        "id": "w11JY2-fEW-h",
        "outputId": "8e13fbe1-2184-46b4-f69e-39e74257ea87"
      },
      "outputs": [
        {
          "output_type": "stream",
          "name": "stdout",
          "text": [
            "SEXUAL 데이터 행 개수: 40907\n"
          ]
        }
      ],
      "source": [
        "import pandas as pd\n",
        "\n",
        "# 'SEXUAL' 포함된 데이터프레임 추출\n",
        "train_sexual_df = merged_train_df[merged_train_df[4].str.contains(\"SEXUAL\")]\n",
        "\n",
        "# 대화 유형과 텍스트 메세지만 추출\n",
        "train_selected_sexual_df = train_sexual_df.iloc[:, [4, 5]]\n",
        "\n",
        "# 결과 출력\n",
        "# 데이터 행 개수 추출\n",
        "num_rows = train_selected_sexual_df.shape[0]\n",
        "print(f\"SEXUAL 데이터 행 개수: {num_rows}\")"
      ]
    },
    {
      "cell_type": "markdown",
      "source": [
        "일반 대화 데이터"
      ],
      "metadata": {
        "id": "QqA5rB_ULZrQ"
      }
    },
    {
      "cell_type": "code",
      "source": [
        "import pandas as pd\n",
        "\n",
        "# 'IMMORAL_NONE' 포함된 데이터프레임 추출\n",
        "train_moral_df =  merged_train_df[merged_train_df[4].str.contains(\"IMMORAL_NONE\", na=False)]\n",
        "\n",
        "# 대화 유형과 텍스트 메세지만 추출\n",
        "train_selected_moral_df = train_moral_df.iloc[:, [4, 5]]\n",
        "\n",
        "# 40100개 또는 가능한 최대 개수로 줄이기\n",
        "sample_size = min(41000, len(train_selected_moral_df))\n",
        "train_selected_moral_df = train_selected_moral_df.sample(n=sample_size, random_state=1)\n",
        "\n",
        "# 결과 출력\n",
        "print(train_selected_moral_df)"
      ],
      "metadata": {
        "colab": {
          "base_uri": "https://localhost:8080/"
        },
        "id": "8_Hz0bkISrlW",
        "outputId": "b83977f4-233d-4a63-b6ac-26367fc58de4"
      },
      "execution_count": 11,
      "outputs": [
        {
          "output_type": "stream",
          "name": "stdout",
          "text": [
            "                   4                                5\n",
            "70704   IMMORAL_NONE                    전생에 나라를 구한 듯.\n",
            "22341   IMMORAL_NONE                 이 예쁜 유튜버 사진 좀 봐바\n",
            "120712  IMMORAL_NONE                       <조권> 얘 뭐냐?\n",
            "12628   IMMORAL_NONE               그러면 대부분 고등학생 정도 될듯\n",
            "95124   IMMORAL_NONE               코로나 확진자는 계속해서 늘어나네\n",
            "...              ...                              ...\n",
            "107143  IMMORAL_NONE                   <미주> 너무 예쁘지 않냐\n",
            "16069   IMMORAL_NONE            여기 애들은 같은 성별이면 용서되나보네\n",
            "292454  IMMORAL_NONE         ㅋㅋㅋ 속도위반으로 임신해서 결혼하는 거잖아\n",
            "115     IMMORAL_NONE                  어 그 덩치 좀 있는 애 ?\n",
            "15524   IMMORAL_NONE  남자한테 사랑받고 연애하면 페미 그만두게 된다던 그 분?\n",
            "\n",
            "[41000 rows x 2 columns]\n"
          ]
        }
      ]
    },
    {
      "cell_type": "markdown",
      "source": [
        "학교 폭력 데이터"
      ],
      "metadata": {
        "id": "-_1VJRYVLbUR"
      }
    },
    {
      "cell_type": "code",
      "execution_count": 12,
      "metadata": {
        "colab": {
          "base_uri": "https://localhost:8080/"
        },
        "id": "P0iwyfAntTAu",
        "outputId": "20a3c7be-1a31-4472-f423-06a0e82fa568"
      },
      "outputs": [
        {
          "output_type": "stream",
          "name": "stdout",
          "text": [
            "                    4                                           5\n",
            "52560        VIOLENCE         아 진짜 이래서 위에것들이 입만 나불거리는데 진짜 패고 싶은거야\n",
            "97395   CENSURE,ABUSE                 진짜 빡치니까 빨리 쳐 뛰어오라고 굼뱅이 색기야.\n",
            "292374  CENSURE,ABUSE                  ㄹㅇ 거긴 볍신 전용 지하철 맞는 듯 줄라 웃겨\n",
            "261064  CENSURE,ABUSE                  어휴 그걸 이제알았냐 너 십돼지련이라 살빼야했음\n",
            "64900        VIOLENCE                                 진짜 쳐 죽이고 싶다\n",
            "...               ...                                         ...\n",
            "255114       VIOLENCE                      쪼개는 것만 봐도 뺨따귀 후려치고 싶더라\n",
            "96539           ABUSE  배나온 한남충들 진짜 꼰떄이기까지하면 저 심연속에서 역겨움이 스멀스멀 올라옴\n",
            "208641  CENSURE,ABUSE                      이댓글 추천하는 새히들은 최소한 개바보다\n",
            "117885  CENSURE,ABUSE    이게 팩트야 이 멍청한 샛기야 ㅋㅋ 취업난인거 알면 이과로 전향해 뵹시나\n",
            "81877           ABUSE         니 몸에 붙어 있는 지방들이 더 말 안 통할 것 같은데 돼지년아\n",
            "\n",
            "[41000 rows x 2 columns]\n"
          ]
        }
      ],
      "source": [
        "# 대화 유형이 \"ABUSE\", \"VIOLENCE\", \"CRIME\" 중 하나를 단독으로 포함하는 대화 추출\n",
        "train_violence_df = merged_train_df[merged_train_df[4].str.contains(\"VIOLENCE|CRIME|ABUSE\", na=False)]\n",
        "\n",
        "# 대화 유형과 텍스트 메세지만 추출\n",
        "train_selected_violence_df = train_violence_df.iloc[:, [4, 5]]\n",
        "\n",
        "# 'SEXUAL'이 포함된 행을 제외\n",
        "train_violence_df = train_violence_df[~train_violence_df[4].str.contains(\"SEXUAL\", na=False)]\n",
        "\n",
        "# 40100개 또는 가능한 최대 개수로 줄이기\n",
        "sample_size = min(41000, len(train_selected_violence_df))\n",
        "train_selected_violence_df = train_selected_violence_df .sample(n=sample_size, random_state=1)\n",
        "\n",
        "print(train_selected_violence_df)"
      ]
    },
    {
      "cell_type": "code",
      "execution_count": 13,
      "metadata": {
        "colab": {
          "base_uri": "https://localhost:8080/"
        },
        "id": "3-QB1WIQtjZc",
        "outputId": "620d249c-035c-4265-9850-c89dbcd7bd00"
      },
      "outputs": [
        {
          "output_type": "stream",
          "name": "stdout",
          "text": [
            "                          4                                           5\n",
            "5       HATE,CENSURE,SEXUAL                      특히 벗방보는 애들은 진짜 거세 시켜야함\n",
            "6            CENSURE,SEXUAL                          볼 게 없어서 벗방을 보냐 ㅋㅋㅋ\n",
            "11           CENSURE,SEXUAL                        에로배우들을 데려다가 아이돌을 만드네\n",
            "12           CENSURE,SEXUAL                           쟤네들은 표정이 딱 야동인데..\n",
            "26             ABUSE,SEXUAL                              줫빠지게 힘들어서 잣같았다\n",
            "...                     ...                                         ...\n",
            "255114             VIOLENCE                      쪼개는 것만 봐도 뺨따귀 후려치고 싶더라\n",
            "96539                 ABUSE  배나온 한남충들 진짜 꼰떄이기까지하면 저 심연속에서 역겨움이 스멀스멀 올라옴\n",
            "208641        CENSURE,ABUSE                      이댓글 추천하는 새히들은 최소한 개바보다\n",
            "117885        CENSURE,ABUSE    이게 팩트야 이 멍청한 샛기야 ㅋㅋ 취업난인거 알면 이과로 전향해 뵹시나\n",
            "81877                 ABUSE         니 몸에 붙어 있는 지방들이 더 말 안 통할 것 같은데 돼지년아\n",
            "\n",
            "[122907 rows x 2 columns]\n"
          ]
        }
      ],
      "source": [
        "train_merged_df = pd.concat([train_selected_sexual_df, train_selected_moral_df, train_selected_violence_df])\n",
        "print(train_merged_df)"
      ]
    },
    {
      "cell_type": "code",
      "execution_count": 14,
      "metadata": {
        "colab": {
          "base_uri": "https://localhost:8080/"
        },
        "id": "zatBXyD61Uel",
        "outputId": "59ccdb56-7447-4e13-be8b-9920f7082de8"
      },
      "outputs": [
        {
          "output_type": "stream",
          "name": "stdout",
          "text": [
            "Collecting torchtext==0.6.0\n",
            "  Downloading torchtext-0.6.0-py3-none-any.whl (64 kB)\n",
            "\u001b[2K     \u001b[90m━━━━━━━━━━━━━━━━━━━━━━━━━━━━━━━━━━━━━━━━\u001b[0m \u001b[32m64.2/64.2 kB\u001b[0m \u001b[31m895.8 kB/s\u001b[0m eta \u001b[36m0:00:00\u001b[0m\n",
            "\u001b[?25hRequirement already satisfied: tqdm in /usr/local/lib/python3.10/dist-packages (from torchtext==0.6.0) (4.66.4)\n",
            "Requirement already satisfied: requests in /usr/local/lib/python3.10/dist-packages (from torchtext==0.6.0) (2.31.0)\n",
            "Requirement already satisfied: torch in /usr/local/lib/python3.10/dist-packages (from torchtext==0.6.0) (2.3.0+cu121)\n",
            "Requirement already satisfied: numpy in /usr/local/lib/python3.10/dist-packages (from torchtext==0.6.0) (1.25.2)\n",
            "Requirement already satisfied: six in /usr/local/lib/python3.10/dist-packages (from torchtext==0.6.0) (1.16.0)\n",
            "Requirement already satisfied: sentencepiece in /usr/local/lib/python3.10/dist-packages (from torchtext==0.6.0) (0.1.99)\n",
            "Requirement already satisfied: charset-normalizer<4,>=2 in /usr/local/lib/python3.10/dist-packages (from requests->torchtext==0.6.0) (3.3.2)\n",
            "Requirement already satisfied: idna<4,>=2.5 in /usr/local/lib/python3.10/dist-packages (from requests->torchtext==0.6.0) (3.7)\n",
            "Requirement already satisfied: urllib3<3,>=1.21.1 in /usr/local/lib/python3.10/dist-packages (from requests->torchtext==0.6.0) (2.0.7)\n",
            "Requirement already satisfied: certifi>=2017.4.17 in /usr/local/lib/python3.10/dist-packages (from requests->torchtext==0.6.0) (2024.6.2)\n",
            "Requirement already satisfied: filelock in /usr/local/lib/python3.10/dist-packages (from torch->torchtext==0.6.0) (3.14.0)\n",
            "Requirement already satisfied: typing-extensions>=4.8.0 in /usr/local/lib/python3.10/dist-packages (from torch->torchtext==0.6.0) (4.12.2)\n",
            "Requirement already satisfied: sympy in /usr/local/lib/python3.10/dist-packages (from torch->torchtext==0.6.0) (1.12.1)\n",
            "Requirement already satisfied: networkx in /usr/local/lib/python3.10/dist-packages (from torch->torchtext==0.6.0) (3.3)\n",
            "Requirement already satisfied: jinja2 in /usr/local/lib/python3.10/dist-packages (from torch->torchtext==0.6.0) (3.1.4)\n",
            "Requirement already satisfied: fsspec in /usr/local/lib/python3.10/dist-packages (from torch->torchtext==0.6.0) (2023.6.0)\n",
            "Collecting nvidia-cuda-nvrtc-cu12==12.1.105 (from torch->torchtext==0.6.0)\n",
            "  Using cached nvidia_cuda_nvrtc_cu12-12.1.105-py3-none-manylinux1_x86_64.whl (23.7 MB)\n",
            "Collecting nvidia-cuda-runtime-cu12==12.1.105 (from torch->torchtext==0.6.0)\n",
            "  Using cached nvidia_cuda_runtime_cu12-12.1.105-py3-none-manylinux1_x86_64.whl (823 kB)\n",
            "Collecting nvidia-cuda-cupti-cu12==12.1.105 (from torch->torchtext==0.6.0)\n",
            "  Using cached nvidia_cuda_cupti_cu12-12.1.105-py3-none-manylinux1_x86_64.whl (14.1 MB)\n",
            "Collecting nvidia-cudnn-cu12==8.9.2.26 (from torch->torchtext==0.6.0)\n",
            "  Using cached nvidia_cudnn_cu12-8.9.2.26-py3-none-manylinux1_x86_64.whl (731.7 MB)\n",
            "Collecting nvidia-cublas-cu12==12.1.3.1 (from torch->torchtext==0.6.0)\n",
            "  Using cached nvidia_cublas_cu12-12.1.3.1-py3-none-manylinux1_x86_64.whl (410.6 MB)\n",
            "Collecting nvidia-cufft-cu12==11.0.2.54 (from torch->torchtext==0.6.0)\n",
            "  Using cached nvidia_cufft_cu12-11.0.2.54-py3-none-manylinux1_x86_64.whl (121.6 MB)\n",
            "Collecting nvidia-curand-cu12==10.3.2.106 (from torch->torchtext==0.6.0)\n",
            "  Using cached nvidia_curand_cu12-10.3.2.106-py3-none-manylinux1_x86_64.whl (56.5 MB)\n",
            "Collecting nvidia-cusolver-cu12==11.4.5.107 (from torch->torchtext==0.6.0)\n",
            "  Using cached nvidia_cusolver_cu12-11.4.5.107-py3-none-manylinux1_x86_64.whl (124.2 MB)\n",
            "Collecting nvidia-cusparse-cu12==12.1.0.106 (from torch->torchtext==0.6.0)\n",
            "  Using cached nvidia_cusparse_cu12-12.1.0.106-py3-none-manylinux1_x86_64.whl (196.0 MB)\n",
            "Collecting nvidia-nccl-cu12==2.20.5 (from torch->torchtext==0.6.0)\n",
            "  Using cached nvidia_nccl_cu12-2.20.5-py3-none-manylinux2014_x86_64.whl (176.2 MB)\n",
            "Collecting nvidia-nvtx-cu12==12.1.105 (from torch->torchtext==0.6.0)\n",
            "  Using cached nvidia_nvtx_cu12-12.1.105-py3-none-manylinux1_x86_64.whl (99 kB)\n",
            "Requirement already satisfied: triton==2.3.0 in /usr/local/lib/python3.10/dist-packages (from torch->torchtext==0.6.0) (2.3.0)\n",
            "Collecting nvidia-nvjitlink-cu12 (from nvidia-cusolver-cu12==11.4.5.107->torch->torchtext==0.6.0)\n",
            "  Downloading nvidia_nvjitlink_cu12-12.5.40-py3-none-manylinux2014_x86_64.whl (21.3 MB)\n",
            "\u001b[2K     \u001b[90m━━━━━━━━━━━━━━━━━━━━━━━━━━━━━━━━━━━━━━━━\u001b[0m \u001b[32m21.3/21.3 MB\u001b[0m \u001b[31m62.5 MB/s\u001b[0m eta \u001b[36m0:00:00\u001b[0m\n",
            "\u001b[?25hRequirement already satisfied: MarkupSafe>=2.0 in /usr/local/lib/python3.10/dist-packages (from jinja2->torch->torchtext==0.6.0) (2.1.5)\n",
            "Requirement already satisfied: mpmath<1.4.0,>=1.1.0 in /usr/local/lib/python3.10/dist-packages (from sympy->torch->torchtext==0.6.0) (1.3.0)\n",
            "Installing collected packages: nvidia-nvtx-cu12, nvidia-nvjitlink-cu12, nvidia-nccl-cu12, nvidia-curand-cu12, nvidia-cufft-cu12, nvidia-cuda-runtime-cu12, nvidia-cuda-nvrtc-cu12, nvidia-cuda-cupti-cu12, nvidia-cublas-cu12, nvidia-cusparse-cu12, nvidia-cudnn-cu12, nvidia-cusolver-cu12, torchtext\n",
            "  Attempting uninstall: torchtext\n",
            "    Found existing installation: torchtext 0.18.0\n",
            "    Uninstalling torchtext-0.18.0:\n",
            "      Successfully uninstalled torchtext-0.18.0\n",
            "Successfully installed nvidia-cublas-cu12-12.1.3.1 nvidia-cuda-cupti-cu12-12.1.105 nvidia-cuda-nvrtc-cu12-12.1.105 nvidia-cuda-runtime-cu12-12.1.105 nvidia-cudnn-cu12-8.9.2.26 nvidia-cufft-cu12-11.0.2.54 nvidia-curand-cu12-10.3.2.106 nvidia-cusolver-cu12-11.4.5.107 nvidia-cusparse-cu12-12.1.0.106 nvidia-nccl-cu12-2.20.5 nvidia-nvjitlink-cu12-12.5.40 nvidia-nvtx-cu12-12.1.105 torchtext-0.6.0\n"
          ]
        }
      ],
      "source": [
        "!pip install torchtext==0.6.0"
      ]
    },
    {
      "cell_type": "markdown",
      "source": [
        "# 텍스트 데이터 토큰화"
      ],
      "metadata": {
        "id": "5KUU0MmhLgds"
      }
    },
    {
      "cell_type": "code",
      "execution_count": 15,
      "metadata": {
        "colab": {
          "base_uri": "https://localhost:8080/"
        },
        "id": "vGeSzJdB0Vvy",
        "outputId": "6849ad46-6744-49fb-c05b-61fb8303efad"
      },
      "outputs": [
        {
          "output_type": "stream",
          "name": "stdout",
          "text": [
            "                         4                                             5\n",
            "22     CENSURE,HATE,SEXUAL     [충격, 은, 니, ㅂㅈ, 속, 에서, 나올, 때, 니, 엄마, 받는거고]\n",
            "32                  SEXUAL                           [어제, 얘, 따먹음, 물, 콸콸]\n",
            "33            SEXUAL,CRIME                        [영상, 없음, 담, 엔, 찍어, 와라]\n",
            "34            SEXUAL,CRIME                                 [오케, 무조건, 이지]\n",
            "38                  SEXUAL  [ㅈ, 물, 처럼, 차, 버린, 뇌, 내, 망상, 배설, 하, 니까, 시원하다]\n",
            "...                    ...                                           ...\n",
            "24798             VIOLENCE                           [그럼, 나가서, 강물, 뛰어내려]\n",
            "29480        CENSURE,ABUSE     [응, 너, 개조, 져, 놔서, 그것, 조차, 안, 어울리는, 것, 같다]\n",
            "42824             VIOLENCE                           [진짜, 대, 쎄게, 치고, 싶다]\n",
            "53633             VIOLENCE   [제발, 강의, 을, 떄, 옆, 에서, 말, 걸지마, 죽빵, 치고, 싶으니까]\n",
            "54755                ABUSE                                         [엿먹어]\n",
            "\n",
            "[16490 rows x 2 columns]\n"
          ]
        }
      ],
      "source": [
        "from konlpy.tag import Okt\n",
        "import re\n",
        "import pandas as pd\n",
        "\n",
        "# 섹슈얼 데이터만 추출한 데이터프레임인 sexual_df가 이미 생성되어 있다고 가정합니다.\n",
        "# 여기에 대해 전처리 작업을 수행하겠습니다.\n",
        "\n",
        "# 형태소 분석기 초기화\n",
        "tokenizer = Okt()\n",
        "\n",
        "# 텍스트 전처리 함수\n",
        "def preprocess_text(text):\n",
        "    # 특수문자 및 반복적인 문자 제거\n",
        "    text = re.sub(r'[^\\w\\s]', '', text)  # 특수문자 제거\n",
        "    # \"ㅋㅋ, ㅎㅎ\"와 같은 특정한 문자열 패턴 제거\n",
        "    text = re.sub(r'ㅋ+', '', text)\n",
        "    text = re.sub(r'ㅎ+', '', text)\n",
        "    text = re.sub(r'ㅠ+', '', text)\n",
        "    text = re.sub(r'ㅡㅡ', '', text)\n",
        "    text = re.sub(r'(.)\\1+', r'\\1\\1', text)  # 반복적인 문자 축약\n",
        "    # 형태소 분석 및 불용어 처리\n",
        "    morphs = tokenizer.morphs(text)\n",
        "    stopwords = ['의','가','에','들','는','잘','걍','과','도','를','으로','한','하다', '히', '힣', '흠', '!','?','<','>','(',')','[',']','|','#','.']\n",
        "    filtered_morphs = [word for word in morphs if not word in stopwords]\n",
        "    return filtered_morphs\n",
        "\n",
        "# 2번째 열 선택 (대화 텍스트)\n",
        "text_column = test_merged_df.iloc[:, 1]\n",
        "\n",
        "# 열을 문자열로 변환\n",
        "text_column_str = text_column.astype(str)\n",
        "\n",
        "# 텍스트 전처리 적용\n",
        "preprocessed_text_column = text_column_str.apply(preprocess_text)\n",
        "\n",
        "# 1번째 열 선택 (moral, sexual 라벨)\n",
        "id_column = test_merged_df.iloc[:, 0]\n",
        "\n",
        "# 1번째 열과 2번째 열 (라벨, 텍스트) 합쳐서 하나로 반환\n",
        "result_df = pd.concat([id_column, preprocessed_text_column], axis=1)\n",
        "\n",
        "# CSV로 저장\n",
        "result_df.to_csv(\"result_df.csv\", index=False, header=None)\n",
        "print(result_df)"
      ]
    },
    {
      "cell_type": "code",
      "execution_count": 16,
      "metadata": {
        "colab": {
          "base_uri": "https://localhost:8080/"
        },
        "id": "xZh_6a6cvfAA",
        "outputId": "58bfaa30-0989-4f30-cd2e-cb098ccb3fdc"
      },
      "outputs": [
        {
          "output_type": "stream",
          "name": "stdout",
          "text": [
            "                          4                                                  5\n",
            "5       HATE,CENSURE,SEXUAL                 [특히, 벗방, 보는, 애, 은, 진짜, 거세, 시켜, 야함]\n",
            "6            CENSURE,SEXUAL                             [볼, 게, 없어서, 벗방, 을, 보냐]\n",
            "11           CENSURE,SEXUAL                   [에로, 배우, 을, 데려다가, 아이돌, 을, 만드, 네]\n",
            "12           CENSURE,SEXUAL                       [쟤, 네, 들은, 표정, 이, 딱, 야동, 인데]\n",
            "26             ABUSE,SEXUAL                             [줫빠지, 게, 힘들어서, 잣, 같았다]\n",
            "...                     ...                                                ...\n",
            "255114             VIOLENCE                  [쪼개는, 것, 만, 봐도, 뺨따귀, 후려, 치고, 싶더라]\n",
            "96539                 ABUSE  [배, 나온, 남충, 진짜, 꼰떄, 이기, 까지, 하면, 저, 심, 연속, 에서, ...\n",
            "208641        CENSURE,ABUSE             [이, 댓글, 추천, 하는, 새히, 들은, 최소한, 개, 바보, 다]\n",
            "117885        CENSURE,ABUSE  [이, 게, 팩트, 야, 이, 멍청한, 샛기, 야, 취업, 난, 인거, 알, 면, ...\n",
            "81877                 ABUSE  [니, 몸, 붙어, 있는, 지방, 이, 더, 말, 안, 통, 할, 것, 같은데, 돼...\n",
            "\n",
            "[122907 rows x 2 columns]\n"
          ]
        }
      ],
      "source": [
        "from konlpy.tag import Okt\n",
        "import re\n",
        "import pandas as pd\n",
        "\n",
        "# 섹슈얼 데이터만 추출한 데이터프레임인 sexual_df가 이미 생성되어 있다고 가정합니다.\n",
        "# 여기에 대해 전처리 작업을 수행하겠습니다.\n",
        "\n",
        "# 형태소 분석기 초기화\n",
        "tokenizer = Okt()\n",
        "\n",
        "# 텍스트 전처리 함수\n",
        "def preprocess_text(text):\n",
        "    # 특수문자 및 반복적인 문자 제거\n",
        "    text = re.sub(r'[^\\w\\s]', '', text)  # 특수문자 제거\n",
        "    # \"ㅋㅋ, ㅎㅎ\"와 같은 특정한 문자열 패턴 제거\n",
        "    text = re.sub(r'ㅋ+', '', text)\n",
        "    text = re.sub(r'ㅎ+', '', text)\n",
        "    text = re.sub(r'ㅠ+', '', text)\n",
        "    text = re.sub(r'ㅡㅡ', '', text)\n",
        "    text = re.sub(r'(.)\\1+', r'\\1\\1', text)  # 반복적인 문자 축약\n",
        "    # 형태소 분석 및 불용어 처리\n",
        "    morphs = tokenizer.morphs(text)\n",
        "    stopwords = ['의','가','에','들','는','잘','걍','과','도','를','으로','한','하다', '히', '힣', '흠', '!','?','<','>','(',')','[',']','|','#','.']\n",
        "    filtered_morphs = [word for word in morphs if not word in stopwords]\n",
        "    return filtered_morphs\n",
        "\n",
        "# 2번째 열 선택 (대화 텍스트)\n",
        "t_text_column = train_merged_df.iloc[:, 1]\n",
        "\n",
        "# 열을 문자열로 변환\n",
        "t_text_column_str = t_text_column.astype(str)\n",
        "\n",
        "# 텍스트 전처리 적용\n",
        "t_preprocessed_text_column = t_text_column_str.apply(preprocess_text)\n",
        "\n",
        "# 1번째 열 선택 (moral, sexual 라벨)\n",
        "t_id_column = train_merged_df.iloc[:, 0]\n",
        "\n",
        "# 1번째 열과 2번째 열 (라벨, 텍스트) 합쳐서 하나로 반환\n",
        "t_result_df = pd.concat([t_id_column, t_preprocessed_text_column], axis=1)\n",
        "\n",
        "# CSV로 저장\n",
        "t_result_df.to_csv(\"t_result_df.csv\", index=False, header=None)\n",
        "print(t_result_df)"
      ]
    },
    {
      "cell_type": "markdown",
      "source": [
        "# 모델 학습"
      ],
      "metadata": {
        "id": "JLGpOXeM6fSG"
      }
    },
    {
      "cell_type": "markdown",
      "source": [
        "다중 분류를 시도한 첫 시도에는\n",
        "IMMORAL_NONE(일반 문장)은 0, SEXUAL(성적 문장) 은 1, VIOLENCE(폭력 문장)은 2로 하나의 모델 학습으로 3개의 클래스를 분류하는 다중 분류 학습을 진행했습니다. 하지만 그렇게 하니 정확도, F1 Score 모두 좋지 않은 성능을 보였습니다.\n",
        "\n",
        "그래서 stage1, stage2로 나눠 모델 학습을 다중 분류로 진행하지 않고, 이진 분류로 2번 진행하도록 했습니다. stage1(첫 학습)에서는 SEXUAL과 UNSEXUAL(일반적 문장, 학교 폭력 문장)문장만 구분하도록, stage2(두 번째 학습)에서는 IMMORAL_NONE(일반적 문장)과 VIOLENCE(폭력적 문장)을 구분하도록 했습니다.\n",
        "\n",
        "모델 학습 시간은 에폭 5씩 2번 실행을 시킴으로써 더 오래 걸렸지만, 성능은 더 개선된 결과를 볼 수 있었습니다."
      ],
      "metadata": {
        "id": "4DBwiba2MGXi"
      }
    },
    {
      "cell_type": "code",
      "source": [
        "import pandas as pd\n",
        "from sklearn.model_selection import train_test_split\n",
        "import torch\n",
        "from torch.utils.data import Dataset, DataLoader\n",
        "from transformers import BertTokenizer, BertForSequenceClassification, get_linear_schedule_with_warmup\n",
        "import torch.nn as nn\n",
        "import torch.optim as optim\n",
        "from tqdm import tqdm\n",
        "import matplotlib.pyplot as plt\n",
        "from sklearn.metrics import f1_score\n",
        "from torch.cuda.amp import GradScaler, autocast\n",
        "\n",
        "# 데이터 로드 및 전처리\n",
        "def label_mapping_stage1(label):\n",
        "    if label == 'SEXUAL':\n",
        "        return 1\n",
        "    else:\n",
        "        return 0\n",
        "\n",
        "def label_mapping_stage2(label):\n",
        "    if label == 'IMMORAL_NONE':\n",
        "        return 0\n",
        "    else:\n",
        "        return 1\n",
        "\n",
        "train_data = pd.read_csv(\"t_result_df.csv\", header=None, names=['label', 'text'])\n",
        "train_data['label_stage1'] = train_data['label'].apply(label_mapping_stage1)\n",
        "train_data['label_stage2'] = train_data['label'].apply(label_mapping_stage2)\n",
        "\n",
        "test_data = pd.read_csv(\"result_df.csv\", header=None, names=['label', 'text'])\n",
        "test_data['label_stage1'] = test_data['label'].apply(label_mapping_stage1)\n",
        "test_data['label_stage2'] = test_data['label'].apply(label_mapping_stage2)\n",
        "\n",
        "# 트레인 데이터의 60%만 사용\n",
        "train_data, _ = train_test_split(train_data, train_size=0.6, random_state=42, stratify=train_data['label_stage1'])\n",
        "\n",
        "# BERT용 데이터셋 정의\n",
        "class BertDataset(Dataset):\n",
        "    def __init__(self, texts, labels, tokenizer, max_length):\n",
        "        self.texts = texts\n",
        "        self.labels = labels\n",
        "        self.tokenizer = tokenizer\n",
        "        self.max_length = max_length\n",
        "\n",
        "    def __len__(self):\n",
        "        return len(self.texts)\n",
        "\n",
        "    def __getitem__(self, idx):\n",
        "        text = self.texts[idx]\n",
        "        label = self.labels[idx]\n",
        "\n",
        "        encoding = self.tokenizer.encode_plus(\n",
        "            text,\n",
        "            add_special_tokens=True,\n",
        "            max_length=self.max_length,\n",
        "            padding='max_length',\n",
        "            truncation=True,\n",
        "            return_tensors='pt'\n",
        "        )\n",
        "\n",
        "        return {\n",
        "            'input_ids': encoding['input_ids'].flatten(),\n",
        "            'attention_mask': encoding['attention_mask'].flatten(),\n",
        "            'label': torch.tensor(label, dtype=torch.long)\n",
        "        }\n",
        "\n",
        "# 데이터셋 및 데이터로더 생성\n",
        "tokenizer = BertTokenizer.from_pretrained('bert-base-multilingual-cased')\n",
        "max_length = 128\n",
        "\n",
        "# Stage 1 데이터셋\n",
        "train_dataset_stage1 = BertDataset(train_data['text'].values, train_data['label_stage1'].values, tokenizer, max_length)\n",
        "test_dataset_stage1 = BertDataset(test_data['text'].values, test_data['label_stage1'].values, tokenizer, max_length)\n",
        "\n",
        "train_loader_stage1 = DataLoader(train_dataset_stage1, batch_size=32, shuffle=True, num_workers=2)\n",
        "test_loader_stage1 = DataLoader(test_dataset_stage1, batch_size=32, shuffle=False, num_workers=2)\n",
        "\n",
        "# Stage 2 데이터셋\n",
        "non_sexual_train_data = train_data[train_data['label_stage1'] == 0]\n",
        "non_sexual_test_data = test_data[test_data['label_stage1'] == 0]\n",
        "\n",
        "train_dataset_stage2 = BertDataset(non_sexual_train_data['text'].values, non_sexual_train_data['label_stage2'].values, tokenizer, max_length)\n",
        "test_dataset_stage2 = BertDataset(non_sexual_test_data['text'].values, non_sexual_test_data['label_stage2'].values, tokenizer, max_length)\n",
        "\n",
        "train_loader_stage2 = DataLoader(train_dataset_stage2, batch_size=32, shuffle=True, num_workers=2)\n",
        "test_loader_stage2 = DataLoader(test_dataset_stage2, batch_size=32, shuffle=False, num_workers=2)\n",
        "\n",
        "# BERT 모델 로드\n",
        "model_stage1 = BertForSequenceClassification.from_pretrained(\n",
        "    'bert-base-multilingual-cased',\n",
        "    num_labels=2,  # 이진 분류\n",
        "    output_attentions=False,\n",
        "    output_hidden_states=False,\n",
        "    hidden_dropout_prob=0.3\n",
        ")\n",
        "\n",
        "model_stage2 = BertForSequenceClassification.from_pretrained(\n",
        "    'bert-base-multilingual-cased',\n",
        "    num_labels=2,  # 이진 분류\n",
        "    output_attentions=False,\n",
        "    output_hidden_states=False,\n",
        "    hidden_dropout_prob=0.3\n",
        ")\n",
        "\n",
        "device = torch.device('cuda' if torch.cuda.is_available() else 'cpu')\n",
        "model_stage1.to(device)\n",
        "model_stage2.to(device)\n",
        "\n",
        "optimizer_stage1 = optim.AdamW(model_stage1.parameters(), lr=1e-5)\n",
        "optimizer_stage2 = optim.AdamW(model_stage2.parameters(), lr=1e-5)\n",
        "\n",
        "criterion = nn.CrossEntropyLoss()\n",
        "scaler = GradScaler()\n",
        "\n",
        "# 학습률 스케줄러 설정\n",
        "total_steps_stage1 = len(train_loader_stage1) * 5  # num_epochs를 5로 가정\n",
        "scheduler_stage1 = get_linear_schedule_with_warmup(optimizer_stage1, num_warmup_steps=0, num_training_steps=total_steps_stage1)\n",
        "\n",
        "total_steps_stage2 = len(train_loader_stage2) * 5  # num_epochs를 5로 가정\n",
        "scheduler_stage2 = get_linear_schedule_with_warmup(optimizer_stage2, num_warmup_steps=0, num_training_steps=total_steps_stage2)\n",
        "\n",
        "# 학습 및 평가 함수 정의\n",
        "def train_epoch(model, data_loader, optimizer, criterion, device, scaler, scheduler):\n",
        "    model.train()\n",
        "    epoch_loss = 0\n",
        "    correct_predictions = 0\n",
        "    total_predictions = 0\n",
        "    progress_bar = tqdm(data_loader, desc=\"Training\", leave=False)\n",
        "    for batch in progress_bar:\n",
        "        input_ids = batch['input_ids'].to(device)\n",
        "        attention_mask = batch['attention_mask'].to(device)\n",
        "        labels = batch['label'].to(device)\n",
        "\n",
        "        optimizer.zero_grad()\n",
        "\n",
        "        with autocast():\n",
        "            outputs = model(input_ids, attention_mask=attention_mask)\n",
        "            loss = criterion(outputs.logits, labels)\n",
        "\n",
        "        scaler.scale(loss).backward()\n",
        "        scaler.step(optimizer)\n",
        "        scaler.update()\n",
        "        scheduler.step()\n",
        "\n",
        "        predictions = torch.argmax(outputs.logits, dim=1)\n",
        "        correct_predictions += torch.sum(predictions == labels).item()\n",
        "        total_predictions += len(labels)\n",
        "        epoch_loss += loss.item()\n",
        "\n",
        "        progress_bar.set_postfix(loss=loss.item(), accuracy=correct_predictions / total_predictions)\n",
        "\n",
        "    accuracy = correct_predictions / total_predictions\n",
        "    return epoch_loss / len(data_loader), accuracy\n",
        "\n",
        "def evaluate(model, data_loader, criterion, device):\n",
        "    model.eval()\n",
        "    epoch_loss = 0\n",
        "    correct_predictions = 0\n",
        "    total_predictions = 0\n",
        "    all_predictions = []\n",
        "    all_labels = []\n",
        "    progress_bar = tqdm(data_loader, desc=\"Evaluating\", leave=False)\n",
        "    with torch.no_grad():\n",
        "        for batch in progress_bar:\n",
        "            input_ids = batch['input_ids'].to(device)\n",
        "            attention_mask = batch['attention_mask'].to(device)\n",
        "            labels = batch['label'].to(device)\n",
        "\n",
        "            outputs = model(input_ids, attention_mask=attention_mask)\n",
        "            loss = criterion(outputs.logits, labels)\n",
        "            epoch_loss += loss.item()\n",
        "\n",
        "            predictions = torch.argmax(outputs.logits, dim=1)\n",
        "            correct_predictions += torch.sum(predictions == labels).item()\n",
        "            total_predictions += len(labels)\n",
        "            all_predictions.extend(predictions.cpu().numpy())\n",
        "            all_labels.extend(labels.cpu().numpy())\n",
        "\n",
        "            progress_bar.set_postfix(loss=loss.item(), accuracy=correct_predictions / total_predictions)\n",
        "\n",
        "    accuracy = correct_predictions / total_predictions\n",
        "    f1 = f1_score(all_labels, all_predictions, average='binary')\n",
        "    return epoch_loss / len(data_loader), accuracy, f1\n",
        "\n",
        "# Stage 1 Training and Evaluation\n",
        "num_epochs = 5\n",
        "\n",
        "train_losses_stage1 = []\n",
        "test_losses_stage1 = []\n",
        "train_accuracies_stage1 = []\n",
        "test_accuracies_stage1 = []\n",
        "f1_scores_stage1 = []\n",
        "\n",
        "for epoch in range(num_epochs):\n",
        "    train_loss, train_accuracy = train_epoch(model_stage1, train_loader_stage1, optimizer_stage1, criterion, device, scaler, scheduler_stage1)\n",
        "    test_loss, test_accuracy, f1 = evaluate(model_stage1, test_loader_stage1, criterion, device)\n",
        "\n",
        "    train_losses_stage1.append(train_loss)\n",
        "    train_accuracies_stage1.append(train_accuracy)\n",
        "    test_losses_stage1.append(test_loss)\n",
        "    test_accuracies_stage1.append(test_accuracy)\n",
        "    f1_scores_stage1.append(f1)\n",
        "\n",
        "    tqdm.write(f'Epoch {epoch + 1}/{num_epochs} (Stage 1)')\n",
        "    tqdm.write(f'Train Loss: {train_loss:.4f}, Train Accuracy: {train_accuracy:.4f}')\n",
        "    tqdm.write(f'Test Loss: {test_loss:.4f}, Test Accuracy: {test_accuracy:.4f}')\n",
        "    tqdm.write(f'F1 Score: {f1:.4f}')\n",
        "\n",
        "    # Stage 1 모델 저장\n",
        "    torch.save(model_stage1.state_dict(), \"stage1_model.pth\")\n",
        "\n",
        "# Stage 2 Training and Evaluation\n",
        "train_losses_stage2 = []\n",
        "test_losses_stage2 = []\n",
        "train_accuracies_stage2 = []\n",
        "test_accuracies_stage2 = []\n",
        "f1_scores_stage2 = []\n",
        "\n",
        "for epoch in range(num_epochs):\n",
        "    train_loss, train_accuracy = train_epoch(model_stage2, train_loader_stage2, optimizer_stage2, criterion, device, scaler, scheduler_stage2)\n",
        "    test_loss, test_accuracy, f1 = evaluate(model_stage2, test_loader_stage2, criterion, device)\n",
        "\n",
        "    train_losses_stage2.append(train_loss)\n",
        "    train_accuracies_stage2.append(train_accuracy)\n",
        "    test_losses_stage2.append(test_loss)\n",
        "    test_accuracies_stage2.append(test_accuracy)\n",
        "    f1_scores_stage2.append(f1)\n",
        "\n",
        "    tqdm.write(f'Epoch {epoch + 1}/{num_epochs} (Stage 2)')\n",
        "    tqdm.write(f'Train Loss: {train_loss:.4f}, Train Accuracy: {train_accuracy:.4f}')\n",
        "    tqdm.write(f'Test Loss: {test_loss:.4f}, Test Accuracy: {test_accuracy:.4f}')\n",
        "    tqdm.write(f'F1 Score: {f1:.4f}')\n",
        "\n",
        "    # Stage 2 모델 저장\n",
        "    torch.save(model_stage2.state_dict(), \"stage2_model.pth\")\n",
        "\n",
        "# 최종 모델 저장\n",
        "torch.save(model_stage1.state_dict(), \"final_stage1_model.pth\")\n",
        "torch.save(model_stage2.state_dict(), \"final_stage2_model.pth\")\n",
        "print(\"Final models saved to final_stage1_model.pth and final_stage2_model.pth\")\n",
        "\n",
        "# 학습 과정 시각화\n",
        "plt.figure(figsize=(12, 6))\n",
        "plt.subplot(1, 2, 1)\n",
        "plt.plot(train_losses_stage1, label='Train Loss Stage 1')\n",
        "plt.plot(test_losses_stage1, label='Test Loss Stage 1')\n",
        "plt.plot(train_losses_stage2, label='Train Loss Stage 2')\n",
        "plt.plot(test_losses_stage2, label='Test Loss Stage 2')\n",
        "plt.xlabel('Epoch')\n",
        "plt.ylabel('Loss')\n",
        "plt.legend()\n",
        "\n",
        "plt.subplot(1, 2, 2)\n",
        "plt.plot(train_accuracies_stage1, label='Train Accuracy Stage 1')\n",
        "plt.plot(test_accuracies_stage1, label='Test Accuracy Stage 1')\n",
        "plt.plot(train_accuracies_stage2, label='Train Accuracy Stage 2')\n",
        "plt.plot(test_accuracies_stage2, label='Test Accuracy Stage 2')\n",
        "plt.xlabel('Epoch')\n",
        "plt.ylabel('Accuracy')\n",
        "plt.legend()\n",
        "\n",
        "plt.tight_layout()\n",
        "plt.show()\n",
        "\n",
        "# F1 스코어 시각화\n",
        "plt.figure(figsize=(12, 6))\n",
        "plt.plot(f1_scores_stage1, label='F1 Score Stage 1')\n",
        "plt.plot(f1_scores_stage2, label='F1 Score Stage 2')\n",
        "plt.xlabel('Epoch')\n",
        "plt.ylabel('F1 Score')\n",
        "plt.legend()\n",
        "plt.show()\n"
      ],
      "metadata": {
        "id": "pioB1c8w5nnb",
        "outputId": "6bd0b972-5783-40b3-d86e-1e7a3e97434d",
        "colab": {
          "base_uri": "https://localhost:8080/",
          "height": 1000,
          "referenced_widgets": [
            "8478f26ad35642fa847085f409669689",
            "bde27c9a140d4eca9e0027e56c5a7a10",
            "29c50c42594c4ffba268bb40644189b0",
            "6b7dfe0b35f4461ba3b9cf27ffb109b3",
            "f1f0f70a53324654850b379ebfa63553",
            "8f49e1acf3ed4ebf97d2ff9aa4069581",
            "729225b099c44afeaad04360d7242307",
            "cc00a9b52ef24b769acabbd3676b97af",
            "5fa0a0324ed04d29b8fda1ceaa925aee",
            "f218d25e834f446fbe2e1e72db21d2f8",
            "b85691c7a96748a29ea0845dff01e580",
            "471e41f2d17c4fa1b9be116259dfeb94",
            "90a15f7209754ca0a869752b321cede3",
            "3d4206c2869a41c2b0bdd5c54257760a",
            "dac9a2f0c8a14ac8837df7c7083d7d12",
            "63ef9b50a057421e98fcb78a6a1be83b",
            "606f8838fafe4ba980b9f318caf6ff1f",
            "6433ffe8147f45e18c5a31a3de701206",
            "fcb380bdca5c4a12b0171228c036a562",
            "6a1fb31d592945c687a7120ea45f11f7",
            "c894111ef7d1455e8c4df95cffb48b7c",
            "d9307e7652bf49efbf0d9616e24216b1",
            "0409cbc9b56a409d8da9d9658c769e37",
            "debe020949364f55843d72b26df5cf79",
            "53c8ad8f88b949bb9ff7e026dbdd7af5",
            "2318ab46d67f4e16a39356cad32cfdfa",
            "e2e65a4675a0414db07670d15af3ce66",
            "e1a1d93d50824a95971b0cf62180dad2",
            "566834b7b4dc466e997acdbf571fe419",
            "d70b5c4e64ee4bb4a584c6a7484af918",
            "dd63a983453e4e5991321a486ed09936",
            "567abb4cdd6e46daa6e773afd9c3b1ec",
            "6512c32c664c4e93a285467d9332a6aa",
            "fe5847c2743e4712b8651e1fcba15b79",
            "816e48a6bf1b491aaaf3a169bfa8b660",
            "0dbaa48fed494249922861c9b279b60c",
            "ea23de375939465b9e523bf4bd943abd",
            "3f4cccd49754412cb2acedfdbbf95fcc",
            "27e31b50a20b47bf980f966231734abe",
            "c4dfe7efcbd84ddab9aaf415a4cfd442",
            "f51ec16be15f4a9d986dfdeb6d783b2f",
            "b771c353287f45d8a4e7541c82194537",
            "ca9b4cf273504165b6e626d4dc0086f8",
            "c97ffa135bc949a69d2dc5e4ed496d4a",
            "e65cf0d3ee4a4736a50131090839ee8a",
            "625a3a1ef2b2453da06c69583a2e764b",
            "80da42e366a84e5bbf8deea6e645440f",
            "bb6cd55abae7499d8623d20092dcbf6e",
            "c445182e2ef649018427feb3ebd8f12e",
            "ddc0b5d1cee141a6af22962b1ff61786",
            "38b14e458a8449c4bd3b910b547ba09b",
            "6820ee8b1a1844419bbe11a12d865192",
            "c9ecf52ca0414a108efb1188e7e48221",
            "48c34572947b416eaa681c44db09e088",
            "e3f085133a73477693ee1f8d6686917f"
          ]
        }
      },
      "execution_count": 18,
      "outputs": [
        {
          "output_type": "stream",
          "name": "stderr",
          "text": [
            "/usr/local/lib/python3.10/dist-packages/huggingface_hub/utils/_token.py:89: UserWarning: \n",
            "The secret `HF_TOKEN` does not exist in your Colab secrets.\n",
            "To authenticate with the Hugging Face Hub, create a token in your settings tab (https://huggingface.co/settings/tokens), set it as secret in your Google Colab and restart your session.\n",
            "You will be able to reuse this secret in all of your notebooks.\n",
            "Please note that authentication is recommended but still optional to access public models or datasets.\n",
            "  warnings.warn(\n"
          ]
        },
        {
          "output_type": "display_data",
          "data": {
            "text/plain": [
              "tokenizer_config.json:   0%|          | 0.00/49.0 [00:00<?, ?B/s]"
            ],
            "application/vnd.jupyter.widget-view+json": {
              "version_major": 2,
              "version_minor": 0,
              "model_id": "8478f26ad35642fa847085f409669689"
            }
          },
          "metadata": {}
        },
        {
          "output_type": "display_data",
          "data": {
            "text/plain": [
              "vocab.txt:   0%|          | 0.00/996k [00:00<?, ?B/s]"
            ],
            "application/vnd.jupyter.widget-view+json": {
              "version_major": 2,
              "version_minor": 0,
              "model_id": "471e41f2d17c4fa1b9be116259dfeb94"
            }
          },
          "metadata": {}
        },
        {
          "output_type": "display_data",
          "data": {
            "text/plain": [
              "tokenizer.json:   0%|          | 0.00/1.96M [00:00<?, ?B/s]"
            ],
            "application/vnd.jupyter.widget-view+json": {
              "version_major": 2,
              "version_minor": 0,
              "model_id": "0409cbc9b56a409d8da9d9658c769e37"
            }
          },
          "metadata": {}
        },
        {
          "output_type": "stream",
          "name": "stderr",
          "text": [
            "/usr/local/lib/python3.10/dist-packages/huggingface_hub/file_download.py:1132: FutureWarning: `resume_download` is deprecated and will be removed in version 1.0.0. Downloads always resume when possible. If you want to force a new download, use `force_download=True`.\n",
            "  warnings.warn(\n"
          ]
        },
        {
          "output_type": "display_data",
          "data": {
            "text/plain": [
              "config.json:   0%|          | 0.00/625 [00:00<?, ?B/s]"
            ],
            "application/vnd.jupyter.widget-view+json": {
              "version_major": 2,
              "version_minor": 0,
              "model_id": "fe5847c2743e4712b8651e1fcba15b79"
            }
          },
          "metadata": {}
        },
        {
          "output_type": "display_data",
          "data": {
            "text/plain": [
              "model.safetensors:   0%|          | 0.00/714M [00:00<?, ?B/s]"
            ],
            "application/vnd.jupyter.widget-view+json": {
              "version_major": 2,
              "version_minor": 0,
              "model_id": "e65cf0d3ee4a4736a50131090839ee8a"
            }
          },
          "metadata": {}
        },
        {
          "output_type": "stream",
          "name": "stderr",
          "text": [
            "Some weights of BertForSequenceClassification were not initialized from the model checkpoint at bert-base-multilingual-cased and are newly initialized: ['classifier.bias', 'classifier.weight']\n",
            "You should probably TRAIN this model on a down-stream task to be able to use it for predictions and inference.\n",
            "Some weights of BertForSequenceClassification were not initialized from the model checkpoint at bert-base-multilingual-cased and are newly initialized: ['classifier.bias', 'classifier.weight']\n",
            "You should probably TRAIN this model on a down-stream task to be able to use it for predictions and inference.\n",
            "Training:   0%|          | 0/2305 [00:00<?, ?it/s]/usr/local/lib/python3.10/dist-packages/torch/optim/lr_scheduler.py:143: UserWarning: Detected call of `lr_scheduler.step()` before `optimizer.step()`. In PyTorch 1.1.0 and later, you should call them in the opposite order: `optimizer.step()` before `lr_scheduler.step()`.  Failure to do this will result in PyTorch skipping the first value of the learning rate schedule. See more details at https://pytorch.org/docs/stable/optim.html#how-to-adjust-learning-rate\n",
            "  warnings.warn(\"Detected call of `lr_scheduler.step()` before `optimizer.step()`. \"\n"
          ]
        },
        {
          "output_type": "stream",
          "name": "stdout",
          "text": [
            "Epoch 1/5 (Stage 1)\n",
            "Train Loss: 0.4625, Train Accuracy: 0.7891\n",
            "Test Loss: 0.4081, Test Accuracy: 0.8157\n",
            "F1 Score: 0.5679\n"
          ]
        },
        {
          "output_type": "stream",
          "name": "stderr",
          "text": []
        },
        {
          "output_type": "stream",
          "name": "stdout",
          "text": [
            "Epoch 2/5 (Stage 1)\n",
            "Train Loss: 0.4105, Train Accuracy: 0.8071\n",
            "Test Loss: 0.3831, Test Accuracy: 0.8220\n",
            "F1 Score: 0.6293\n"
          ]
        },
        {
          "output_type": "stream",
          "name": "stderr",
          "text": []
        },
        {
          "output_type": "stream",
          "name": "stdout",
          "text": [
            "Epoch 3/5 (Stage 1)\n",
            "Train Loss: 0.3895, Train Accuracy: 0.8156\n",
            "Test Loss: 0.3839, Test Accuracy: 0.8297\n",
            "F1 Score: 0.6461\n"
          ]
        },
        {
          "output_type": "stream",
          "name": "stderr",
          "text": []
        },
        {
          "output_type": "stream",
          "name": "stdout",
          "text": [
            "Epoch 4/5 (Stage 1)\n",
            "Train Loss: 0.3771, Train Accuracy: 0.8216\n",
            "Test Loss: 0.3814, Test Accuracy: 0.8323\n",
            "F1 Score: 0.6328\n"
          ]
        },
        {
          "output_type": "stream",
          "name": "stderr",
          "text": []
        },
        {
          "output_type": "stream",
          "name": "stdout",
          "text": [
            "Epoch 5/5 (Stage 1)\n",
            "Train Loss: 0.3685, Train Accuracy: 0.8239\n",
            "Test Loss: 0.3787, Test Accuracy: 0.8313\n",
            "F1 Score: 0.6432\n"
          ]
        },
        {
          "output_type": "stream",
          "name": "stderr",
          "text": [
            "Training:   0%|          | 0/1783 [00:00<?, ?it/s]/usr/local/lib/python3.10/dist-packages/torch/optim/lr_scheduler.py:143: UserWarning: Detected call of `lr_scheduler.step()` before `optimizer.step()`. In PyTorch 1.1.0 and later, you should call them in the opposite order: `optimizer.step()` before `lr_scheduler.step()`.  Failure to do this will result in PyTorch skipping the first value of the learning rate schedule. See more details at https://pytorch.org/docs/stable/optim.html#how-to-adjust-learning-rate\n",
            "  warnings.warn(\"Detected call of `lr_scheduler.step()` before `optimizer.step()`. \"\n"
          ]
        },
        {
          "output_type": "stream",
          "name": "stdout",
          "text": [
            "Epoch 1/5 (Stage 2)\n",
            "Train Loss: 0.4533, Train Accuracy: 0.7866\n",
            "Test Loss: 0.3449, Test Accuracy: 0.8629\n",
            "F1 Score: 0.8741\n"
          ]
        },
        {
          "output_type": "stream",
          "name": "stderr",
          "text": []
        },
        {
          "output_type": "stream",
          "name": "stdout",
          "text": [
            "Epoch 2/5 (Stage 2)\n",
            "Train Loss: 0.3660, Train Accuracy: 0.8402\n",
            "Test Loss: 0.3125, Test Accuracy: 0.8756\n",
            "F1 Score: 0.8879\n"
          ]
        },
        {
          "output_type": "stream",
          "name": "stderr",
          "text": []
        },
        {
          "output_type": "stream",
          "name": "stdout",
          "text": [
            "Epoch 3/5 (Stage 2)\n",
            "Train Loss: 0.3366, Train Accuracy: 0.8556\n",
            "Test Loss: 0.3153, Test Accuracy: 0.8810\n",
            "F1 Score: 0.8927\n"
          ]
        },
        {
          "output_type": "stream",
          "name": "stderr",
          "text": []
        },
        {
          "output_type": "stream",
          "name": "stdout",
          "text": [
            "Epoch 4/5 (Stage 2)\n",
            "Train Loss: 0.3141, Train Accuracy: 0.8654\n",
            "Test Loss: 0.3144, Test Accuracy: 0.8795\n",
            "F1 Score: 0.8893\n"
          ]
        },
        {
          "output_type": "stream",
          "name": "stderr",
          "text": []
        },
        {
          "output_type": "stream",
          "name": "stdout",
          "text": [
            "Epoch 5/5 (Stage 2)\n",
            "Train Loss: 0.3020, Train Accuracy: 0.8716\n",
            "Test Loss: 0.3182, Test Accuracy: 0.8796\n",
            "F1 Score: 0.8886\n",
            "Final models saved to final_stage1_model.pth and final_stage2_model.pth\n"
          ]
        },
        {
          "output_type": "display_data",
          "data": {
            "text/plain": [
              "<Figure size 1200x600 with 2 Axes>"
            ],
            "image/png": "[encoded data removed]"
          },
          "metadata": {}
        },
        {
          "output_type": "display_data",
          "data": {
            "text/plain": [
              "<Figure size 1200x600 with 1 Axes>"
            ],
            "image/png": "[encoded data removed]"
          },
          "metadata": {}
        }
      ]
    },
    {
      "cell_type": "markdown",
      "source": [
        "모델 학습 결과\n",
        "\n",
        "Stage 1 -> 성적 문장인지 아닌지 판별하는 모델 학습\n",
        "\n",
        "Train Loss: 0.3685, Train Accuracy: 0.8239\n",
        "\n",
        "Test Loss: 0.3787, Test Accuracy: 0.8313\n",
        "\n",
        "F1 Score: 0.6432\n",
        "\n",
        "Stage 2 -> 일반 문장인지 학교 폭력 문장인지 판별하는 모델 학습\n",
        "\n",
        "Train Loss: 0.3020, Train Accuracy: 0.8716\n",
        "\n",
        "Test Loss: 0.3182, Test Accuracy: 0.8796\n",
        "\n",
        "F1 Score: 0.8886\n",
        "\n",
        "다음과 같은 결과가 나왔고, 그래프 역시 loss는 우하향, accuracy는 우상향, f1-score는 우상향하는 모습을 살펴볼 수 있음"
      ],
      "metadata": {
        "id": "mysAQJIGNWzi"
      }
    },
    {
      "cell_type": "code",
      "source": [
        "import torch.nn as nn\n",
        "from transformers import BertModel\n",
        "\n",
        "class MultiTaskBertModel(nn.Module):\n",
        "    def __init__(self, model_name, num_labels_stage1, num_labels_stage2):\n",
        "        super(MultiTaskBertModel, self).__init__()\n",
        "        self.bert = BertModel.from_pretrained(model_name)\n",
        "        self.dropout = nn.Dropout(0.3)\n",
        "        self.classifier_stage1 = nn.Linear(self.bert.config.hidden_size, num_labels_stage1)\n",
        "        self.classifier_stage2 = nn.Linear(self.bert.config.hidden_size, num_labels_stage2)\n",
        "\n",
        "    def forward(self, input_ids, attention_mask):\n",
        "        outputs = self.bert(input_ids=input_ids, attention_mask=attention_mask)\n",
        "        pooled_output = self.dropout(outputs[1])\n",
        "        logits_stage1 = self.classifier_stage1(pooled_output)\n",
        "        logits_stage2 = self.classifier_stage2(pooled_output)\n",
        "        return logits_stage1, logits_stage2\n",
        "\n",
        "# 모델 초기화\n",
        "model = MultiTaskBertModel('bert-base-multilingual-cased', num_labels_stage1=2, num_labels_stage2=2)\n",
        "device = torch.device('cuda' if torch.cuda.is_available() else 'cpu')\n",
        "model.to(device)\n"
      ],
      "metadata": {
        "colab": {
          "base_uri": "https://localhost:8080/"
        },
        "id": "pZwJqi57xaqX",
        "outputId": "1ba0080a-965e-4f12-aad5-721bba950380"
      },
      "execution_count": 19,
      "outputs": [
        {
          "output_type": "execute_result",
          "data": {
            "text/plain": [
              "MultiTaskBertModel(\n",
              "  (bert): BertModel(\n",
              "    (embeddings): BertEmbeddings(\n",
              "      (word_embeddings): Embedding(119547, 768, padding_idx=0)\n",
              "      (position_embeddings): Embedding(512, 768)\n",
              "      (token_type_embeddings): Embedding(2, 768)\n",
              "      (LayerNorm): LayerNorm((768,), eps=1e-12, elementwise_affine=True)\n",
              "      (dropout): Dropout(p=0.1, inplace=False)\n",
              "    )\n",
              "    (encoder): BertEncoder(\n",
              "      (layer): ModuleList(\n",
              "        (0-11): 12 x BertLayer(\n",
              "          (attention): BertAttention(\n",
              "            (self): BertSdpaSelfAttention(\n",
              "              (query): Linear(in_features=768, out_features=768, bias=True)\n",
              "              (key): Linear(in_features=768, out_features=768, bias=True)\n",
              "              (value): Linear(in_features=768, out_features=768, bias=True)\n",
              "              (dropout): Dropout(p=0.1, inplace=False)\n",
              "            )\n",
              "            (output): BertSelfOutput(\n",
              "              (dense): Linear(in_features=768, out_features=768, bias=True)\n",
              "              (LayerNorm): LayerNorm((768,), eps=1e-12, elementwise_affine=True)\n",
              "              (dropout): Dropout(p=0.1, inplace=False)\n",
              "            )\n",
              "          )\n",
              "          (intermediate): BertIntermediate(\n",
              "            (dense): Linear(in_features=768, out_features=3072, bias=True)\n",
              "            (intermediate_act_fn): GELUActivation()\n",
              "          )\n",
              "          (output): BertOutput(\n",
              "            (dense): Linear(in_features=3072, out_features=768, bias=True)\n",
              "            (LayerNorm): LayerNorm((768,), eps=1e-12, elementwise_affine=True)\n",
              "            (dropout): Dropout(p=0.1, inplace=False)\n",
              "          )\n",
              "        )\n",
              "      )\n",
              "    )\n",
              "    (pooler): BertPooler(\n",
              "      (dense): Linear(in_features=768, out_features=768, bias=True)\n",
              "      (activation): Tanh()\n",
              "    )\n",
              "  )\n",
              "  (dropout): Dropout(p=0.3, inplace=False)\n",
              "  (classifier_stage1): Linear(in_features=768, out_features=2, bias=True)\n",
              "  (classifier_stage2): Linear(in_features=768, out_features=2, bias=True)\n",
              ")"
            ]
          },
          "metadata": {},
          "execution_count": 19
        }
      ]
    },
    {
      "cell_type": "code",
      "source": [
        "import torch\n",
        "\n",
        "# 모델 저장 함수 정의\n",
        "def save_model(model, model_path):\n",
        "    torch.save(model.state_dict(), model_path)\n",
        "    print(f\"Model saved to {model_path}\")\n",
        "\n",
        "# 최종 모델 저장\n",
        "save_model(model, \"final_multitask_model.pth\")\n"
      ],
      "metadata": {
        "colab": {
          "base_uri": "https://localhost:8080/"
        },
        "id": "BiBwvqE4xdaq",
        "outputId": "b60f1105-2dcb-4146-ef7a-0fae26459d33"
      },
      "execution_count": 20,
      "outputs": [
        {
          "output_type": "stream",
          "name": "stdout",
          "text": [
            "Model saved to final_multitask_model.pth\n"
          ]
        }
      ]
    },
    {
      "cell_type": "markdown",
      "source": [
        "# 모델 성능 지표 확인"
      ],
      "metadata": {
        "id": "G0xMqWs9LkyB"
      }
    },
    {
      "cell_type": "code",
      "source": [
        "import torch\n",
        "from sklearn.metrics import classification_report\n",
        "from transformers import BertTokenizer\n",
        "\n",
        "# 모델 평가 및 성능 지표 출력 함수 정의\n",
        "def evaluate_and_report(final_model, test_loader_stage1, test_loader_stage2, device):\n",
        "    final_model.eval()\n",
        "\n",
        "    all_predictions_stage1 = []\n",
        "    all_labels_stage1 = []\n",
        "    all_predictions_stage2 = []\n",
        "    all_labels_stage2 = []\n",
        "\n",
        "    with torch.no_grad():\n",
        "        # Stage 1 예측\n",
        "        for batch in test_loader_stage1:\n",
        "            input_ids = batch['input_ids'].to(device)\n",
        "            attention_mask = batch['attention_mask'].to(device)\n",
        "            labels = batch['label'].to(device)\n",
        "\n",
        "            outputs = final_model(input_ids, attention_mask=attention_mask, stage=1)\n",
        "            predictions = torch.argmax(outputs, dim=1)\n",
        "\n",
        "            all_predictions_stage1.extend(predictions.cpu().numpy())\n",
        "            all_labels_stage1.extend(labels.cpu().numpy())\n",
        "\n",
        "        # Stage 2 예측 (Non-sexual 데이터)\n",
        "        for batch in test_loader_stage2:\n",
        "            input_ids = batch['input_ids'].to(device)\n",
        "            attention_mask = batch['attention_mask'].to(device)\n",
        "            labels = batch['label'].to(device)\n",
        "\n",
        "            outputs = final_model(input_ids, attention_mask=attention_mask, stage=2)\n",
        "            predictions = torch.argmax(outputs, dim=1)\n",
        "\n",
        "            all_predictions_stage2.extend(predictions.cpu().numpy())\n",
        "            all_labels_stage2.extend(labels.cpu().numpy())\n",
        "\n",
        "    # Stage 1 성능 지표 출력\n",
        "    print(\"Stage 1 Classification Report (SEXUAL (성적 문장) vs NON-SEXUAL (일반적 문장, 학교 폭력 문장)):\")\n",
        "    print(classification_report(all_labels_stage1, all_predictions_stage1, target_names=['NON-SEXUAL', 'SEXUAL']))\n",
        "\n",
        "    # Stage 2 성능 지표 출력\n",
        "    print(\"Stage 2 Classification Report (IMMORAL_NONE (일반적 문장) vs VIOLENCE (학교 폭력 문장)):\")\n",
        "    print(classification_report(all_labels_stage2, all_predictions_stage2, target_names=['IMMORAL_NONE', 'VIOLENCE']))\n",
        "\n",
        "# 최종 모델 클래스 정의\n",
        "class FinalModel(nn.Module):\n",
        "    def __init__(self, model_stage1, model_stage2):\n",
        "        super(FinalModel, self).__init__()\n",
        "        self.model_stage1 = model_stage1\n",
        "        self.model_stage2 = model_stage2\n",
        "\n",
        "    def forward(self, input_ids, attention_mask, stage):\n",
        "        if stage == 1:\n",
        "            return self.model_stage1(input_ids, attention_mask=attention_mask).logits\n",
        "        else:\n",
        "            return self.model_stage2(input_ids, attention_mask=attention_mask).logits\n",
        "\n",
        "# 최종 모델 인스턴스 생성 및 평가\n",
        "final_model = FinalModel(model_stage1, model_stage2).to(device)\n",
        "evaluate_and_report(final_model, test_loader_stage1, test_loader_stage2, device)\n"
      ],
      "metadata": {
        "colab": {
          "base_uri": "https://localhost:8080/"
        },
        "id": "-KkCf2gKyQ6V",
        "outputId": "41469276-0c14-4c39-ee1b-831d8358d6a2"
      },
      "execution_count": 61,
      "outputs": [
        {
          "output_type": "stream",
          "name": "stdout",
          "text": [
            "Stage 1 Classification Report (SEXUAL (성적 문장) vs NON-SEXUAL (일반적 문장, 학교 폭력 문장)):\n",
            "              precision    recall  f1-score   support\n",
            "\n",
            "  NON-SEXUAL       0.89      0.89      0.89     12561\n",
            "      SEXUAL       0.65      0.64      0.64      3929\n",
            "\n",
            "    accuracy                           0.83     16490\n",
            "   macro avg       0.77      0.76      0.77     16490\n",
            "weighted avg       0.83      0.83      0.83     16490\n",
            "\n",
            "Stage 2 Classification Report (IMMORAL_NONE (일반적 문장) vs VIOLENCE (학교 폭력 문장)):\n",
            "              precision    recall  f1-score   support\n",
            "\n",
            "IMMORAL_NONE       0.83      0.91      0.87      5500\n",
            "    VIOLENCE       0.93      0.85      0.89      7061\n",
            "\n",
            "    accuracy                           0.88     12561\n",
            "   macro avg       0.88      0.88      0.88     12561\n",
            "weighted avg       0.88      0.88      0.88     12561\n",
            "\n"
          ]
        }
      ]
    },
    {
      "cell_type": "markdown",
      "source": [
        "SEXUAL의 성능이 낮은 이유는 support 즉 테스트 문장이 3929개로, 일반적 문장 + 학교 폭력 문장을 합친 문장보다 부족했기 때문에 생긴 현상이라고 유추됩니다.\n",
        "\n",
        "다음 학습엔 SEXUAL의 테스트 문장을 1000개 증가시킬 예정입니다."
      ],
      "metadata": {
        "id": "m_YJPYVx9Nib"
      }
    },
    {
      "cell_type": "markdown",
      "source": [
        "# 예측"
      ],
      "metadata": {
        "id": "jIZdc4rtLoMq"
      }
    },
    {
      "cell_type": "code",
      "execution_count": 62,
      "metadata": {
        "id": "BBn6QSkmnLmD",
        "colab": {
          "base_uri": "https://localhost:8080/"
        },
        "outputId": "7195939a-ef94-4b8a-b617-cf94c3b678cd"
      },
      "outputs": [
        {
          "output_type": "stream",
          "name": "stdout",
          "text": [
            "입력 문장: 몰카 영상 보니까 짜릿하다\n",
            "예측된 클래스: SEXUAL\n",
            "클래스 확률: [[0.30867895 0.6913211 ]]\n"
          ]
        }
      ],
      "source": [
        "import torch\n",
        "from transformers import BertTokenizer\n",
        "import numpy as np\n",
        "\n",
        "# 예측 함수 정의\n",
        "def predict_class(sentence, model_stage1, model_stage2, tokenizer, max_length, device):\n",
        "    model_stage1.eval()\n",
        "    model_stage2.eval()\n",
        "\n",
        "    encoding = tokenizer.encode_plus(\n",
        "        sentence,\n",
        "        add_special_tokens=True,\n",
        "        max_length=max_length,\n",
        "        padding='max_length',\n",
        "        truncation=True,\n",
        "        return_tensors='pt'\n",
        "    )\n",
        "\n",
        "    input_ids = encoding['input_ids'].to(device)\n",
        "    attention_mask = encoding['attention_mask'].to(device)\n",
        "\n",
        "    # Stage 1 예측 (SEXUAL 여부)\n",
        "    with torch.no_grad():\n",
        "        outputs_stage1 = model_stage1(input_ids, attention_mask=attention_mask)\n",
        "        probabilities_stage1 = torch.nn.functional.softmax(outputs_stage1.logits, dim=-1)\n",
        "        predicted_class_stage1 = torch.argmax(probabilities_stage1, dim=1).item()\n",
        "\n",
        "    if predicted_class_stage1 == 1:\n",
        "        return \"SEXUAL\", probabilities_stage1.cpu().numpy()\n",
        "\n",
        "    # Stage 2 예측 (Non-sexual 데이터)\n",
        "    with torch.no_grad():\n",
        "        outputs_stage2 = model_stage2(input_ids, attention_mask=attention_mask)\n",
        "        probabilities_stage2 = torch.nn.functional.softmax(outputs_stage2.logits, dim=-1)\n",
        "        predicted_class_stage2 = torch.argmax(probabilities_stage2, dim=1).item()\n",
        "\n",
        "    if predicted_class_stage2 == 0:\n",
        "        return \"IMMORAL_NONE\", probabilities_stage2.cpu().numpy()\n",
        "    else:\n",
        "        return \"SCHOOL VIOLENCE\", probabilities_stage2.cpu().numpy()\n",
        "\n",
        "# 토크나이저 및 디바이스 설정\n",
        "tokenizer = BertTokenizer.from_pretrained('bert-base-multilingual-cased')\n",
        "device = torch.device('cuda' if torch.cuda.is_available() else 'cpu')\n",
        "\n",
        "# 예측할 문장\n",
        "test_sentence = \"몰카 영상 보니까 짜릿하다\"\n",
        "\n",
        "# 예측\n",
        "predicted_class, probabilities = predict_class(test_sentence, model_stage1, model_stage2, tokenizer, max_length=128, device=device)\n",
        "\n",
        "print(f\"입력 문장: {test_sentence}\")\n",
        "print(f\"예측된 클래스: {predicted_class}\")\n",
        "print(f\"클래스 확률: {probabilities}\")\n"
      ]
    },
    {
      "cell_type": "code",
      "source": [
        "# 예측할 문장\n",
        "test_sentence = \"오픈 소스 수업 가야지?\"\n",
        "\n",
        "# 예측\n",
        "predicted_class, probabilities = predict_class(test_sentence, model_stage1, model_stage2, tokenizer, max_length=128, device=device)\n",
        "\n",
        "print(f\"입력 문장: {test_sentence}\")\n",
        "print(f\"예측된 클래스: {predicted_class}\")\n",
        "print(f\"클래스 확률: {probabilities}\")"
      ],
      "metadata": {
        "id": "5riIZrcy9unh",
        "colab": {
          "base_uri": "https://localhost:8080/"
        },
        "outputId": "2190e6c2-2af2-4a60-b4c5-4d3f11640f47"
      },
      "execution_count": 63,
      "outputs": [
        {
          "output_type": "stream",
          "name": "stdout",
          "text": [
            "입력 문장: 오픈 소스 수업 가야지?\n",
            "예측된 클래스: IMMORAL_NONE\n",
            "클래스 확률: [[0.99581224 0.00418771]]\n"
          ]
        }
      ]
    },
    {
      "cell_type": "code",
      "source": [
        "# 예측할 문장\n",
        "test_sentence = \"섹시한 영상 있으면 돈 줄게\"\n",
        "\n",
        "# 예측\n",
        "predicted_class, probabilities = predict_class(test_sentence, model_stage1, model_stage2, tokenizer, max_length=128, device=device)\n",
        "\n",
        "print(f\"입력 문장: {test_sentence}\")\n",
        "print(f\"예측된 클래스: {predicted_class}\")\n",
        "print(f\"클래스 확률: {probabilities}\")"
      ],
      "metadata": {
        "id": "e0PlnaYv_YuX",
        "colab": {
          "base_uri": "https://localhost:8080/"
        },
        "outputId": "b67d8729-3829-4351-a65d-9e78e2f5a730"
      },
      "execution_count": 64,
      "outputs": [
        {
          "output_type": "stream",
          "name": "stdout",
          "text": [
            "입력 문장: 섹시한 영상 있으면 돈 줄게\n",
            "예측된 클래스: SEXUAL\n",
            "클래스 확률: [[0.17174637 0.8282536 ]]\n"
          ]
        }
      ]
    },
    {
      "cell_type": "code",
      "source": [
        "# 예측할 문장\n",
        "test_sentence = \"너 담배 안 사오면 죽인다\"\n",
        "\n",
        "# 예측\n",
        "predicted_class, probabilities = predict_class(test_sentence, model_stage1, model_stage2, tokenizer, max_length=128, device=device)\n",
        "\n",
        "print(f\"입력 문장: {test_sentence}\")\n",
        "print(f\"예측된 클래스: {predicted_class}\")\n",
        "print(f\"클래스 확률: {probabilities}\")"
      ],
      "metadata": {
        "id": "Pk-Rigoh_bU8",
        "colab": {
          "base_uri": "https://localhost:8080/"
        },
        "outputId": "dcd8e508-e656-42af-adee-f056ca3d7513"
      },
      "execution_count": 65,
      "outputs": [
        {
          "output_type": "stream",
          "name": "stdout",
          "text": [
            "입력 문장: 너 담배 안 사오면 죽인다\n",
            "예측된 클래스: SCHOOL VIOLENCE\n",
            "클래스 확률: [[0.1238414 0.8761586]]\n"
          ]
        }
      ]
    },
    {
      "cell_type": "code",
      "source": [
        "# 예측할 문장\n",
        "test_sentence = \"같은 반 여자애 몸매 쩔더라\"\n",
        "\n",
        "# 예측\n",
        "predicted_class, probabilities = predict_class(test_sentence, model_stage1, model_stage2, tokenizer, max_length=128, device=device)\n",
        "\n",
        "print(f\"입력 문장: {test_sentence}\")\n",
        "print(f\"예측된 클래스: {predicted_class}\")\n",
        "print(f\"클래스 확률: {probabilities}\")"
      ],
      "metadata": {
        "colab": {
          "base_uri": "https://localhost:8080/"
        },
        "id": "BP0Uh8qv33O7",
        "outputId": "cb0fe609-619e-4bfe-f8fc-ce14e337b97c"
      },
      "execution_count": 66,
      "outputs": [
        {
          "output_type": "stream",
          "name": "stdout",
          "text": [
            "입력 문장: 같은 반 여자애 몸매 쩔더라\n",
            "예측된 클래스: SEXUAL\n",
            "클래스 확률: [[0.17041191 0.82958806]]\n"
          ]
        }
      ]
    },
    {
      "cell_type": "code",
      "source": [
        "# 예측할 문장\n",
        "test_sentence = \"와, 너 한 대 치고 싶게 생겼음\"\n",
        "\n",
        "# 예측\n",
        "predicted_class, probabilities = predict_class(test_sentence, model_stage1, model_stage2, tokenizer, max_length=128, device=device)\n",
        "\n",
        "print(f\"입력 문장: {test_sentence}\")\n",
        "print(f\"예측된 클래스: {predicted_class}\")\n",
        "print(f\"클래스 확률: {probabilities}\")"
      ],
      "metadata": {
        "id": "zGNMkIcIBCxG",
        "colab": {
          "base_uri": "https://localhost:8080/"
        },
        "outputId": "ec508aba-5ad7-4f1d-a9fe-2c45e87874c7"
      },
      "execution_count": 67,
      "outputs": [
        {
          "output_type": "stream",
          "name": "stdout",
          "text": [
            "입력 문장: 와, 너 한 대 치고 싶게 생겼음\n",
            "예측된 클래스: SCHOOL VIOLENCE\n",
            "클래스 확률: [[0.08866611 0.9113339 ]]\n"
          ]
        }
      ]
    },
    {
      "cell_type": "code",
      "source": [
        "# 예측할 문장\n",
        "test_sentence = \"골때리게 하면 빠다 때린다\"\n",
        "\n",
        "# 예측\n",
        "predicted_class, probabilities = predict_class(test_sentence, model_stage1, model_stage2, tokenizer, max_length=128, device=device)\n",
        "\n",
        "print(f\"입력 문장: {test_sentence}\")\n",
        "print(f\"예측된 클래스: {predicted_class}\")\n",
        "print(f\"클래스 확률: {probabilities}\")"
      ],
      "metadata": {
        "id": "7wKun75S9xjM",
        "colab": {
          "base_uri": "https://localhost:8080/"
        },
        "outputId": "3228ef25-6db5-4112-d7d0-68ee0c5695e7"
      },
      "execution_count": 68,
      "outputs": [
        {
          "output_type": "stream",
          "name": "stdout",
          "text": [
            "입력 문장: 골때리게 하면 빠다 때린다\n",
            "예측된 클래스: SCHOOL VIOLENCE\n",
            "클래스 확률: [[0.00710558 0.9928945 ]]\n"
          ]
        }
      ]
    },
    {
      "cell_type": "code",
      "source": [
        "# 예측할 문장\n",
        "test_sentence = \"말을 왜이렇게 나쁘게 해\"\n",
        "\n",
        "# 예측\n",
        "predicted_class, probabilities = predict_class(test_sentence, model_stage1, model_stage2, tokenizer, max_length=128, device=device)\n",
        "\n",
        "print(f\"입력 문장: {test_sentence}\")\n",
        "print(f\"예측된 클래스: {predicted_class}\")\n",
        "print(f\"클래스 확률: {probabilities}\")"
      ],
      "metadata": {
        "id": "YmwxqUj8BcRY",
        "colab": {
          "base_uri": "https://localhost:8080/"
        },
        "outputId": "727b1a9a-1a6b-4a6a-99d5-b73eb4750a79"
      },
      "execution_count": 69,
      "outputs": [
        {
          "output_type": "stream",
          "name": "stdout",
          "text": [
            "입력 문장: 말을 왜이렇게 나쁘게 해\n",
            "예측된 클래스: IMMORAL_NONE\n",
            "클래스 확률: [[0.9969279  0.00307214]]\n"
          ]
        }
      ]
    },
    {
      "cell_type": "code",
      "source": [
        "# 예측할 문장\n",
        "test_sentence = \"내 여자친구 엄청 귀여워!\"\n",
        "\n",
        "# 예측\n",
        "predicted_class, probabilities = predict_class(test_sentence, model_stage1, model_stage2, tokenizer, max_length=128, device=device)\n",
        "\n",
        "print(f\"입력 문장: {test_sentence}\")\n",
        "print(f\"예측된 클래스: {predicted_class}\")\n",
        "print(f\"클래스 확률: {probabilities}\")"
      ],
      "metadata": {
        "colab": {
          "base_uri": "https://localhost:8080/"
        },
        "id": "BUzowm3i4pxt",
        "outputId": "650eb048-3d39-4085-d77f-2c5fec5bb267"
      },
      "execution_count": 70,
      "outputs": [
        {
          "output_type": "stream",
          "name": "stdout",
          "text": [
            "입력 문장: 내 여자친구 엄청 귀여워!\n",
            "예측된 클래스: IMMORAL_NONE\n",
            "클래스 확률: [[0.996356 0.003644]]\n"
          ]
        }
      ]
    }
  ],
  "metadata": {
    "colab": {
      "provenance": [],
      "gpuType": "T4"
    },
    "kernelspec": {
      "display_name": "Python 3",
      "name": "python3"
    },
    "language_info": {
      "name": "python"
    },
    "accelerator": "GPU",
    "widgets": {
      "application/vnd.jupyter.widget-state+json": {
        "8478f26ad35642fa847085f409669689": {
          "model_module": "@jupyter-widgets/controls",
          "model_name": "HBoxModel",
          "model_module_version": "1.5.0",
          "state": {
            "_dom_classes": [],
            "_model_module": "@jupyter-widgets/controls",
            "_model_module_version": "1.5.0",
            "_model_name": "HBoxModel",
            "_view_count": null,
            "_view_module": "@jupyter-widgets/controls",
            "_view_module_version": "1.5.0",
            "_view_name": "HBoxView",
            "box_style": "",
            "children": [
              "IPY_MODEL_bde27c9a140d4eca9e0027e56c5a7a10",
              "IPY_MODEL_29c50c42594c4ffba268bb40644189b0",
              "IPY_MODEL_6b7dfe0b35f4461ba3b9cf27ffb109b3"
            ],
            "layout": "IPY_MODEL_f1f0f70a53324654850b379ebfa63553"
          }
        },
        "bde27c9a140d4eca9e0027e56c5a7a10": {
          "model_module": "@jupyter-widgets/controls",
          "model_name": "HTMLModel",
          "model_module_version": "1.5.0",
          "state": {
            "_dom_classes": [],
            "_model_module": "@jupyter-widgets/controls",
            "_model_module_version": "1.5.0",
            "_model_name": "HTMLModel",
            "_view_count": null,
            "_view_module": "@jupyter-widgets/controls",
            "_view_module_version": "1.5.0",
            "_view_name": "HTMLView",
            "description": "",
            "description_tooltip": null,
            "layout": "IPY_MODEL_8f49e1acf3ed4ebf97d2ff9aa4069581",
            "placeholder": "​",
            "style": "IPY_MODEL_729225b099c44afeaad04360d7242307",
            "value": "tokenizer_config.json: 100%"
          }
        },
        "29c50c42594c4ffba268bb40644189b0": {
          "model_module": "@jupyter-widgets/controls",
          "model_name": "FloatProgressModel",
          "model_module_version": "1.5.0",
          "state": {
            "_dom_classes": [],
            "_model_module": "@jupyter-widgets/controls",
            "_model_module_version": "1.5.0",
            "_model_name": "FloatProgressModel",
            "_view_count": null,
            "_view_module": "@jupyter-widgets/controls",
            "_view_module_version": "1.5.0",
            "_view_name": "ProgressView",
            "bar_style": "success",
            "description": "",
            "description_tooltip": null,
            "layout": "IPY_MODEL_cc00a9b52ef24b769acabbd3676b97af",
            "max": 49,
            "min": 0,
            "orientation": "horizontal",
            "style": "IPY_MODEL_5fa0a0324ed04d29b8fda1ceaa925aee",
            "value": 49
          }
        },
        "6b7dfe0b35f4461ba3b9cf27ffb109b3": {
          "model_module": "@jupyter-widgets/controls",
          "model_name": "HTMLModel",
          "model_module_version": "1.5.0",
          "state": {
            "_dom_classes": [],
            "_model_module": "@jupyter-widgets/controls",
            "_model_module_version": "1.5.0",
            "_model_name": "HTMLModel",
            "_view_count": null,
            "_view_module": "@jupyter-widgets/controls",
            "_view_module_version": "1.5.0",
            "_view_name": "HTMLView",
            "description": "",
            "description_tooltip": null,
            "layout": "IPY_MODEL_f218d25e834f446fbe2e1e72db21d2f8",
            "placeholder": "​",
            "style": "IPY_MODEL_b85691c7a96748a29ea0845dff01e580",
            "value": " 49.0/49.0 [00:00&lt;00:00, 2.69kB/s]"
          }
        },
        "f1f0f70a53324654850b379ebfa63553": {
          "model_module": "@jupyter-widgets/base",
          "model_name": "LayoutModel",
          "model_module_version": "1.2.0",
          "state": {
            "_model_module": "@jupyter-widgets/base",
            "_model_module_version": "1.2.0",
            "_model_name": "LayoutModel",
            "_view_count": null,
            "_view_module": "@jupyter-widgets/base",
            "_view_module_version": "1.2.0",
            "_view_name": "LayoutView",
            "align_content": null,
            "align_items": null,
            "align_self": null,
            "border": null,
            "bottom": null,
            "display": null,
            "flex": null,
            "flex_flow": null,
            "grid_area": null,
            "grid_auto_columns": null,
            "grid_auto_flow": null,
            "grid_auto_rows": null,
            "grid_column": null,
            "grid_gap": null,
            "grid_row": null,
            "grid_template_areas": null,
            "grid_template_columns": null,
            "grid_template_rows": null,
            "height": null,
            "justify_content": null,
            "justify_items": null,
            "left": null,
            "margin": null,
            "max_height": null,
            "max_width": null,
            "min_height": null,
            "min_width": null,
            "object_fit": null,
            "object_position": null,
            "order": null,
            "overflow": null,
            "overflow_x": null,
            "overflow_y": null,
            "padding": null,
            "right": null,
            "top": null,
            "visibility": null,
            "width": null
          }
        },
        "8f49e1acf3ed4ebf97d2ff9aa4069581": {
          "model_module": "@jupyter-widgets/base",
          "model_name": "LayoutModel",
          "model_module_version": "1.2.0",
          "state": {
            "_model_module": "@jupyter-widgets/base",
            "_model_module_version": "1.2.0",
            "_model_name": "LayoutModel",
            "_view_count": null,
            "_view_module": "@jupyter-widgets/base",
            "_view_module_version": "1.2.0",
            "_view_name": "LayoutView",
            "align_content": null,
            "align_items": null,
            "align_self": null,
            "border": null,
            "bottom": null,
            "display": null,
            "flex": null,
            "flex_flow": null,
            "grid_area": null,
            "grid_auto_columns": null,
            "grid_auto_flow": null,
            "grid_auto_rows": null,
            "grid_column": null,
            "grid_gap": null,
            "grid_row": null,
            "grid_template_areas": null,
            "grid_template_columns": null,
            "grid_template_rows": null,
            "height": null,
            "justify_content": null,
            "justify_items": null,
            "left": null,
            "margin": null,
            "max_height": null,
            "max_width": null,
            "min_height": null,
            "min_width": null,
            "object_fit": null,
            "object_position": null,
            "order": null,
            "overflow": null,
            "overflow_x": null,
            "overflow_y": null,
            "padding": null,
            "right": null,
            "top": null,
            "visibility": null,
            "width": null
          }
        },
        "729225b099c44afeaad04360d7242307": {
          "model_module": "@jupyter-widgets/controls",
          "model_name": "DescriptionStyleModel",
          "model_module_version": "1.5.0",
          "state": {
            "_model_module": "@jupyter-widgets/controls",
            "_model_module_version": "1.5.0",
            "_model_name": "DescriptionStyleModel",
            "_view_count": null,
            "_view_module": "@jupyter-widgets/base",
            "_view_module_version": "1.2.0",
            "_view_name": "StyleView",
            "description_width": ""
          }
        },
        "cc00a9b52ef24b769acabbd3676b97af": {
          "model_module": "@jupyter-widgets/base",
          "model_name": "LayoutModel",
          "model_module_version": "1.2.0",
          "state": {
            "_model_module": "@jupyter-widgets/base",
            "_model_module_version": "1.2.0",
            "_model_name": "LayoutModel",
            "_view_count": null,
            "_view_module": "@jupyter-widgets/base",
            "_view_module_version": "1.2.0",
            "_view_name": "LayoutView",
            "align_content": null,
            "align_items": null,
            "align_self": null,
            "border": null,
            "bottom": null,
            "display": null,
            "flex": null,
            "flex_flow": null,
            "grid_area": null,
            "grid_auto_columns": null,
            "grid_auto_flow": null,
            "grid_auto_rows": null,
            "grid_column": null,
            "grid_gap": null,
            "grid_row": null,
            "grid_template_areas": null,
            "grid_template_columns": null,
            "grid_template_rows": null,
            "height": null,
            "justify_content": null,
            "justify_items": null,
            "left": null,
            "margin": null,
            "max_height": null,
            "max_width": null,
            "min_height": null,
            "min_width": null,
            "object_fit": null,
            "object_position": null,
            "order": null,
            "overflow": null,
            "overflow_x": null,
            "overflow_y": null,
            "padding": null,
            "right": null,
            "top": null,
            "visibility": null,
            "width": null
          }
        },
        "5fa0a0324ed04d29b8fda1ceaa925aee": {
          "model_module": "@jupyter-widgets/controls",
          "model_name": "ProgressStyleModel",
          "model_module_version": "1.5.0",
          "state": {
            "_model_module": "@jupyter-widgets/controls",
            "_model_module_version": "1.5.0",
            "_model_name": "ProgressStyleModel",
            "_view_count": null,
            "_view_module": "@jupyter-widgets/base",
            "_view_module_version": "1.2.0",
            "_view_name": "StyleView",
            "bar_color": null,
            "description_width": ""
          }
        },
        "f218d25e834f446fbe2e1e72db21d2f8": {
          "model_module": "@jupyter-widgets/base",
          "model_name": "LayoutModel",
          "model_module_version": "1.2.0",
          "state": {
            "_model_module": "@jupyter-widgets/base",
            "_model_module_version": "1.2.0",
            "_model_name": "LayoutModel",
            "_view_count": null,
            "_view_module": "@jupyter-widgets/base",
            "_view_module_version": "1.2.0",
            "_view_name": "LayoutView",
            "align_content": null,
            "align_items": null,
            "align_self": null,
            "border": null,
            "bottom": null,
            "display": null,
            "flex": null,
            "flex_flow": null,
            "grid_area": null,
            "grid_auto_columns": null,
            "grid_auto_flow": null,
            "grid_auto_rows": null,
            "grid_column": null,
            "grid_gap": null,
            "grid_row": null,
            "grid_template_areas": null,
            "grid_template_columns": null,
            "grid_template_rows": null,
            "height": null,
            "justify_content": null,
            "justify_items": null,
            "left": null,
            "margin": null,
            "max_height": null,
            "max_width": null,
            "min_height": null,
            "min_width": null,
            "object_fit": null,
            "object_position": null,
            "order": null,
            "overflow": null,
            "overflow_x": null,
            "overflow_y": null,
            "padding": null,
            "right": null,
            "top": null,
            "visibility": null,
            "width": null
          }
        },
        "b85691c7a96748a29ea0845dff01e580": {
          "model_module": "@jupyter-widgets/controls",
          "model_name": "DescriptionStyleModel",
          "model_module_version": "1.5.0",
          "state": {
            "_model_module": "@jupyter-widgets/controls",
            "_model_module_version": "1.5.0",
            "_model_name": "DescriptionStyleModel",
            "_view_count": null,
            "_view_module": "@jupyter-widgets/base",
            "_view_module_version": "1.2.0",
            "_view_name": "StyleView",
            "description_width": ""
          }
        },
        "471e41f2d17c4fa1b9be116259dfeb94": {
          "model_module": "@jupyter-widgets/controls",
          "model_name": "HBoxModel",
          "model_module_version": "1.5.0",
          "state": {
            "_dom_classes": [],
            "_model_module": "@jupyter-widgets/controls",
            "_model_module_version": "1.5.0",
            "_model_name": "HBoxModel",
            "_view_count": null,
            "_view_module": "@jupyter-widgets/controls",
            "_view_module_version": "1.5.0",
            "_view_name": "HBoxView",
            "box_style": "",
            "children": [
              "IPY_MODEL_90a15f7209754ca0a869752b321cede3",
              "IPY_MODEL_3d4206c2869a41c2b0bdd5c54257760a",
              "IPY_MODEL_dac9a2f0c8a14ac8837df7c7083d7d12"
            ],
            "layout": "IPY_MODEL_63ef9b50a057421e98fcb78a6a1be83b"
          }
        },
        "90a15f7209754ca0a869752b321cede3": {
          "model_module": "@jupyter-widgets/controls",
          "model_name": "HTMLModel",
          "model_module_version": "1.5.0",
          "state": {
            "_dom_classes": [],
            "_model_module": "@jupyter-widgets/controls",
            "_model_module_version": "1.5.0",
            "_model_name": "HTMLModel",
            "_view_count": null,
            "_view_module": "@jupyter-widgets/controls",
            "_view_module_version": "1.5.0",
            "_view_name": "HTMLView",
            "description": "",
            "description_tooltip": null,
            "layout": "IPY_MODEL_606f8838fafe4ba980b9f318caf6ff1f",
            "placeholder": "​",
            "style": "IPY_MODEL_6433ffe8147f45e18c5a31a3de701206",
            "value": "vocab.txt: 100%"
          }
        },
        "3d4206c2869a41c2b0bdd5c54257760a": {
          "model_module": "@jupyter-widgets/controls",
          "model_name": "FloatProgressModel",
          "model_module_version": "1.5.0",
          "state": {
            "_dom_classes": [],
            "_model_module": "@jupyter-widgets/controls",
            "_model_module_version": "1.5.0",
            "_model_name": "FloatProgressModel",
            "_view_count": null,
            "_view_module": "@jupyter-widgets/controls",
            "_view_module_version": "1.5.0",
            "_view_name": "ProgressView",
            "bar_style": "success",
            "description": "",
            "description_tooltip": null,
            "layout": "IPY_MODEL_fcb380bdca5c4a12b0171228c036a562",
            "max": 995526,
            "min": 0,
            "orientation": "horizontal",
            "style": "IPY_MODEL_6a1fb31d592945c687a7120ea45f11f7",
            "value": 995526
          }
        },
        "dac9a2f0c8a14ac8837df7c7083d7d12": {
          "model_module": "@jupyter-widgets/controls",
          "model_name": "HTMLModel",
          "model_module_version": "1.5.0",
          "state": {
            "_dom_classes": [],
            "_model_module": "@jupyter-widgets/controls",
            "_model_module_version": "1.5.0",
            "_model_name": "HTMLModel",
            "_view_count": null,
            "_view_module": "@jupyter-widgets/controls",
            "_view_module_version": "1.5.0",
            "_view_name": "HTMLView",
            "description": "",
            "description_tooltip": null,
            "layout": "IPY_MODEL_c894111ef7d1455e8c4df95cffb48b7c",
            "placeholder": "​",
            "style": "IPY_MODEL_d9307e7652bf49efbf0d9616e24216b1",
            "value": " 996k/996k [00:00&lt;00:00, 4.58MB/s]"
          }
        },
        "63ef9b50a057421e98fcb78a6a1be83b": {
          "model_module": "@jupyter-widgets/base",
          "model_name": "LayoutModel",
          "model_module_version": "1.2.0",
          "state": {
            "_model_module": "@jupyter-widgets/base",
            "_model_module_version": "1.2.0",
            "_model_name": "LayoutModel",
            "_view_count": null,
            "_view_module": "@jupyter-widgets/base",
            "_view_module_version": "1.2.0",
            "_view_name": "LayoutView",
            "align_content": null,
            "align_items": null,
            "align_self": null,
            "border": null,
            "bottom": null,
            "display": null,
            "flex": null,
            "flex_flow": null,
            "grid_area": null,
            "grid_auto_columns": null,
            "grid_auto_flow": null,
            "grid_auto_rows": null,
            "grid_column": null,
            "grid_gap": null,
            "grid_row": null,
            "grid_template_areas": null,
            "grid_template_columns": null,
            "grid_template_rows": null,
            "height": null,
            "justify_content": null,
            "justify_items": null,
            "left": null,
            "margin": null,
            "max_height": null,
            "max_width": null,
            "min_height": null,
            "min_width": null,
            "object_fit": null,
            "object_position": null,
            "order": null,
            "overflow": null,
            "overflow_x": null,
            "overflow_y": null,
            "padding": null,
            "right": null,
            "top": null,
            "visibility": null,
            "width": null
          }
        },
        "606f8838fafe4ba980b9f318caf6ff1f": {
          "model_module": "@jupyter-widgets/base",
          "model_name": "LayoutModel",
          "model_module_version": "1.2.0",
          "state": {
            "_model_module": "@jupyter-widgets/base",
            "_model_module_version": "1.2.0",
            "_model_name": "LayoutModel",
            "_view_count": null,
            "_view_module": "@jupyter-widgets/base",
            "_view_module_version": "1.2.0",
            "_view_name": "LayoutView",
            "align_content": null,
            "align_items": null,
            "align_self": null,
            "border": null,
            "bottom": null,
            "display": null,
            "flex": null,
            "flex_flow": null,
            "grid_area": null,
            "grid_auto_columns": null,
            "grid_auto_flow": null,
            "grid_auto_rows": null,
            "grid_column": null,
            "grid_gap": null,
            "grid_row": null,
            "grid_template_areas": null,
            "grid_template_columns": null,
            "grid_template_rows": null,
            "height": null,
            "justify_content": null,
            "justify_items": null,
            "left": null,
            "margin": null,
            "max_height": null,
            "max_width": null,
            "min_height": null,
            "min_width": null,
            "object_fit": null,
            "object_position": null,
            "order": null,
            "overflow": null,
            "overflow_x": null,
            "overflow_y": null,
            "padding": null,
            "right": null,
            "top": null,
            "visibility": null,
            "width": null
          }
        },
        "6433ffe8147f45e18c5a31a3de701206": {
          "model_module": "@jupyter-widgets/controls",
          "model_name": "DescriptionStyleModel",
          "model_module_version": "1.5.0",
          "state": {
            "_model_module": "@jupyter-widgets/controls",
            "_model_module_version": "1.5.0",
            "_model_name": "DescriptionStyleModel",
            "_view_count": null,
            "_view_module": "@jupyter-widgets/base",
            "_view_module_version": "1.2.0",
            "_view_name": "StyleView",
            "description_width": ""
          }
        },
        "fcb380bdca5c4a12b0171228c036a562": {
          "model_module": "@jupyter-widgets/base",
          "model_name": "LayoutModel",
          "model_module_version": "1.2.0",
          "state": {
            "_model_module": "@jupyter-widgets/base",
            "_model_module_version": "1.2.0",
            "_model_name": "LayoutModel",
            "_view_count": null,
            "_view_module": "@jupyter-widgets/base",
            "_view_module_version": "1.2.0",
            "_view_name": "LayoutView",
            "align_content": null,
            "align_items": null,
            "align_self": null,
            "border": null,
            "bottom": null,
            "display": null,
            "flex": null,
            "flex_flow": null,
            "grid_area": null,
            "grid_auto_columns": null,
            "grid_auto_flow": null,
            "grid_auto_rows": null,
            "grid_column": null,
            "grid_gap": null,
            "grid_row": null,
            "grid_template_areas": null,
            "grid_template_columns": null,
            "grid_template_rows": null,
            "height": null,
            "justify_content": null,
            "justify_items": null,
            "left": null,
            "margin": null,
            "max_height": null,
            "max_width": null,
            "min_height": null,
            "min_width": null,
            "object_fit": null,
            "object_position": null,
            "order": null,
            "overflow": null,
            "overflow_x": null,
            "overflow_y": null,
            "padding": null,
            "right": null,
            "top": null,
            "visibility": null,
            "width": null
          }
        },
        "6a1fb31d592945c687a7120ea45f11f7": {
          "model_module": "@jupyter-widgets/controls",
          "model_name": "ProgressStyleModel",
          "model_module_version": "1.5.0",
          "state": {
            "_model_module": "@jupyter-widgets/controls",
            "_model_module_version": "1.5.0",
            "_model_name": "ProgressStyleModel",
            "_view_count": null,
            "_view_module": "@jupyter-widgets/base",
            "_view_module_version": "1.2.0",
            "_view_name": "StyleView",
            "bar_color": null,
            "description_width": ""
          }
        },
        "c894111ef7d1455e8c4df95cffb48b7c": {
          "model_module": "@jupyter-widgets/base",
          "model_name": "LayoutModel",
          "model_module_version": "1.2.0",
          "state": {
            "_model_module": "@jupyter-widgets/base",
            "_model_module_version": "1.2.0",
            "_model_name": "LayoutModel",
            "_view_count": null,
            "_view_module": "@jupyter-widgets/base",
            "_view_module_version": "1.2.0",
            "_view_name": "LayoutView",
            "align_content": null,
            "align_items": null,
            "align_self": null,
            "border": null,
            "bottom": null,
            "display": null,
            "flex": null,
            "flex_flow": null,
            "grid_area": null,
            "grid_auto_columns": null,
            "grid_auto_flow": null,
            "grid_auto_rows": null,
            "grid_column": null,
            "grid_gap": null,
            "grid_row": null,
            "grid_template_areas": null,
            "grid_template_columns": null,
            "grid_template_rows": null,
            "height": null,
            "justify_content": null,
            "justify_items": null,
            "left": null,
            "margin": null,
            "max_height": null,
            "max_width": null,
            "min_height": null,
            "min_width": null,
            "object_fit": null,
            "object_position": null,
            "order": null,
            "overflow": null,
            "overflow_x": null,
            "overflow_y": null,
            "padding": null,
            "right": null,
            "top": null,
            "visibility": null,
            "width": null
          }
        },
        "d9307e7652bf49efbf0d9616e24216b1": {
          "model_module": "@jupyter-widgets/controls",
          "model_name": "DescriptionStyleModel",
          "model_module_version": "1.5.0",
          "state": {
            "_model_module": "@jupyter-widgets/controls",
            "_model_module_version": "1.5.0",
            "_model_name": "DescriptionStyleModel",
            "_view_count": null,
            "_view_module": "@jupyter-widgets/base",
            "_view_module_version": "1.2.0",
            "_view_name": "StyleView",
            "description_width": ""
          }
        },
        "0409cbc9b56a409d8da9d9658c769e37": {
          "model_module": "@jupyter-widgets/controls",
          "model_name": "HBoxModel",
          "model_module_version": "1.5.0",
          "state": {
            "_dom_classes": [],
            "_model_module": "@jupyter-widgets/controls",
            "_model_module_version": "1.5.0",
            "_model_name": "HBoxModel",
            "_view_count": null,
            "_view_module": "@jupyter-widgets/controls",
            "_view_module_version": "1.5.0",
            "_view_name": "HBoxView",
            "box_style": "",
            "children": [
              "IPY_MODEL_debe020949364f55843d72b26df5cf79",
              "IPY_MODEL_53c8ad8f88b949bb9ff7e026dbdd7af5",
              "IPY_MODEL_2318ab46d67f4e16a39356cad32cfdfa"
            ],
            "layout": "IPY_MODEL_e2e65a4675a0414db07670d15af3ce66"
          }
        },
        "debe020949364f55843d72b26df5cf79": {
          "model_module": "@jupyter-widgets/controls",
          "model_name": "HTMLModel",
          "model_module_version": "1.5.0",
          "state": {
            "_dom_classes": [],
            "_model_module": "@jupyter-widgets/controls",
            "_model_module_version": "1.5.0",
            "_model_name": "HTMLModel",
            "_view_count": null,
            "_view_module": "@jupyter-widgets/controls",
            "_view_module_version": "1.5.0",
            "_view_name": "HTMLView",
            "description": "",
            "description_tooltip": null,
            "layout": "IPY_MODEL_e1a1d93d50824a95971b0cf62180dad2",
            "placeholder": "​",
            "style": "IPY_MODEL_566834b7b4dc466e997acdbf571fe419",
            "value": "tokenizer.json: 100%"
          }
        },
        "53c8ad8f88b949bb9ff7e026dbdd7af5": {
          "model_module": "@jupyter-widgets/controls",
          "model_name": "FloatProgressModel",
          "model_module_version": "1.5.0",
          "state": {
            "_dom_classes": [],
            "_model_module": "@jupyter-widgets/controls",
            "_model_module_version": "1.5.0",
            "_model_name": "FloatProgressModel",
            "_view_count": null,
            "_view_module": "@jupyter-widgets/controls",
            "_view_module_version": "1.5.0",
            "_view_name": "ProgressView",
            "bar_style": "success",
            "description": "",
            "description_tooltip": null,
            "layout": "IPY_MODEL_d70b5c4e64ee4bb4a584c6a7484af918",
            "max": 1961828,
            "min": 0,
            "orientation": "horizontal",
            "style": "IPY_MODEL_dd63a983453e4e5991321a486ed09936",
            "value": 1961828
          }
        },
        "2318ab46d67f4e16a39356cad32cfdfa": {
          "model_module": "@jupyter-widgets/controls",
          "model_name": "HTMLModel",
          "model_module_version": "1.5.0",
          "state": {
            "_dom_classes": [],
            "_model_module": "@jupyter-widgets/controls",
            "_model_module_version": "1.5.0",
            "_model_name": "HTMLModel",
            "_view_count": null,
            "_view_module": "@jupyter-widgets/controls",
            "_view_module_version": "1.5.0",
            "_view_name": "HTMLView",
            "description": "",
            "description_tooltip": null,
            "layout": "IPY_MODEL_567abb4cdd6e46daa6e773afd9c3b1ec",
            "placeholder": "​",
            "style": "IPY_MODEL_6512c32c664c4e93a285467d9332a6aa",
            "value": " 1.96M/1.96M [00:00&lt;00:00, 4.53MB/s]"
          }
        },
        "e2e65a4675a0414db07670d15af3ce66": {
          "model_module": "@jupyter-widgets/base",
          "model_name": "LayoutModel",
          "model_module_version": "1.2.0",
          "state": {
            "_model_module": "@jupyter-widgets/base",
            "_model_module_version": "1.2.0",
            "_model_name": "LayoutModel",
            "_view_count": null,
            "_view_module": "@jupyter-widgets/base",
            "_view_module_version": "1.2.0",
            "_view_name": "LayoutView",
            "align_content": null,
            "align_items": null,
            "align_self": null,
            "border": null,
            "bottom": null,
            "display": null,
            "flex": null,
            "flex_flow": null,
            "grid_area": null,
            "grid_auto_columns": null,
            "grid_auto_flow": null,
            "grid_auto_rows": null,
            "grid_column": null,
            "grid_gap": null,
            "grid_row": null,
            "grid_template_areas": null,
            "grid_template_columns": null,
            "grid_template_rows": null,
            "height": null,
            "justify_content": null,
            "justify_items": null,
            "left": null,
            "margin": null,
            "max_height": null,
            "max_width": null,
            "min_height": null,
            "min_width": null,
            "object_fit": null,
            "object_position": null,
            "order": null,
            "overflow": null,
            "overflow_x": null,
            "overflow_y": null,
            "padding": null,
            "right": null,
            "top": null,
            "visibility": null,
            "width": null
          }
        },
        "e1a1d93d50824a95971b0cf62180dad2": {
          "model_module": "@jupyter-widgets/base",
          "model_name": "LayoutModel",
          "model_module_version": "1.2.0",
          "state": {
            "_model_module": "@jupyter-widgets/base",
            "_model_module_version": "1.2.0",
            "_model_name": "LayoutModel",
            "_view_count": null,
            "_view_module": "@jupyter-widgets/base",
            "_view_module_version": "1.2.0",
            "_view_name": "LayoutView",
            "align_content": null,
            "align_items": null,
            "align_self": null,
            "border": null,
            "bottom": null,
            "display": null,
            "flex": null,
            "flex_flow": null,
            "grid_area": null,
            "grid_auto_columns": null,
            "grid_auto_flow": null,
            "grid_auto_rows": null,
            "grid_column": null,
            "grid_gap": null,
            "grid_row": null,
            "grid_template_areas": null,
            "grid_template_columns": null,
            "grid_template_rows": null,
            "height": null,
            "justify_content": null,
            "justify_items": null,
            "left": null,
            "margin": null,
            "max_height": null,
            "max_width": null,
            "min_height": null,
            "min_width": null,
            "object_fit": null,
            "object_position": null,
            "order": null,
            "overflow": null,
            "overflow_x": null,
            "overflow_y": null,
            "padding": null,
            "right": null,
            "top": null,
            "visibility": null,
            "width": null
          }
        },
        "566834b7b4dc466e997acdbf571fe419": {
          "model_module": "@jupyter-widgets/controls",
          "model_name": "DescriptionStyleModel",
          "model_module_version": "1.5.0",
          "state": {
            "_model_module": "@jupyter-widgets/controls",
            "_model_module_version": "1.5.0",
            "_model_name": "DescriptionStyleModel",
            "_view_count": null,
            "_view_module": "@jupyter-widgets/base",
            "_view_module_version": "1.2.0",
            "_view_name": "StyleView",
            "description_width": ""
          }
        },
        "d70b5c4e64ee4bb4a584c6a7484af918": {
          "model_module": "@jupyter-widgets/base",
          "model_name": "LayoutModel",
          "model_module_version": "1.2.0",
          "state": {
            "_model_module": "@jupyter-widgets/base",
            "_model_module_version": "1.2.0",
            "_model_name": "LayoutModel",
            "_view_count": null,
            "_view_module": "@jupyter-widgets/base",
            "_view_module_version": "1.2.0",
            "_view_name": "LayoutView",
            "align_content": null,
            "align_items": null,
            "align_self": null,
            "border": null,
            "bottom": null,
            "display": null,
            "flex": null,
            "flex_flow": null,
            "grid_area": null,
            "grid_auto_columns": null,
            "grid_auto_flow": null,
            "grid_auto_rows": null,
            "grid_column": null,
            "grid_gap": null,
            "grid_row": null,
            "grid_template_areas": null,
            "grid_template_columns": null,
            "grid_template_rows": null,
            "height": null,
            "justify_content": null,
            "justify_items": null,
            "left": null,
            "margin": null,
            "max_height": null,
            "max_width": null,
            "min_height": null,
            "min_width": null,
            "object_fit": null,
            "object_position": null,
            "order": null,
            "overflow": null,
            "overflow_x": null,
            "overflow_y": null,
            "padding": null,
            "right": null,
            "top": null,
            "visibility": null,
            "width": null
          }
        },
        "dd63a983453e4e5991321a486ed09936": {
          "model_module": "@jupyter-widgets/controls",
          "model_name": "ProgressStyleModel",
          "model_module_version": "1.5.0",
          "state": {
            "_model_module": "@jupyter-widgets/controls",
            "_model_module_version": "1.5.0",
            "_model_name": "ProgressStyleModel",
            "_view_count": null,
            "_view_module": "@jupyter-widgets/base",
            "_view_module_version": "1.2.0",
            "_view_name": "StyleView",
            "bar_color": null,
            "description_width": ""
          }
        },
        "567abb4cdd6e46daa6e773afd9c3b1ec": {
          "model_module": "@jupyter-widgets/base",
          "model_name": "LayoutModel",
          "model_module_version": "1.2.0",
          "state": {
            "_model_module": "@jupyter-widgets/base",
            "_model_module_version": "1.2.0",
            "_model_name": "LayoutModel",
            "_view_count": null,
            "_view_module": "@jupyter-widgets/base",
            "_view_module_version": "1.2.0",
            "_view_name": "LayoutView",
            "align_content": null,
            "align_items": null,
            "align_self": null,
            "border": null,
            "bottom": null,
            "display": null,
            "flex": null,
            "flex_flow": null,
            "grid_area": null,
            "grid_auto_columns": null,
            "grid_auto_flow": null,
            "grid_auto_rows": null,
            "grid_column": null,
            "grid_gap": null,
            "grid_row": null,
            "grid_template_areas": null,
            "grid_template_columns": null,
            "grid_template_rows": null,
            "height": null,
            "justify_content": null,
            "justify_items": null,
            "left": null,
            "margin": null,
            "max_height": null,
            "max_width": null,
            "min_height": null,
            "min_width": null,
            "object_fit": null,
            "object_position": null,
            "order": null,
            "overflow": null,
            "overflow_x": null,
            "overflow_y": null,
            "padding": null,
            "right": null,
            "top": null,
            "visibility": null,
            "width": null
          }
        },
        "6512c32c664c4e93a285467d9332a6aa": {
          "model_module": "@jupyter-widgets/controls",
          "model_name": "DescriptionStyleModel",
          "model_module_version": "1.5.0",
          "state": {
            "_model_module": "@jupyter-widgets/controls",
            "_model_module_version": "1.5.0",
            "_model_name": "DescriptionStyleModel",
            "_view_count": null,
            "_view_module": "@jupyter-widgets/base",
            "_view_module_version": "1.2.0",
            "_view_name": "StyleView",
            "description_width": ""
          }
        },
        "fe5847c2743e4712b8651e1fcba15b79": {
          "model_module": "@jupyter-widgets/controls",
          "model_name": "HBoxModel",
          "model_module_version": "1.5.0",
          "state": {
            "_dom_classes": [],
            "_model_module": "@jupyter-widgets/controls",
            "_model_module_version": "1.5.0",
            "_model_name": "HBoxModel",
            "_view_count": null,
            "_view_module": "@jupyter-widgets/controls",
            "_view_module_version": "1.5.0",
            "_view_name": "HBoxView",
            "box_style": "",
            "children": [
              "IPY_MODEL_816e48a6bf1b491aaaf3a169bfa8b660",
              "IPY_MODEL_0dbaa48fed494249922861c9b279b60c",
              "IPY_MODEL_ea23de375939465b9e523bf4bd943abd"
            ],
            "layout": "IPY_MODEL_3f4cccd49754412cb2acedfdbbf95fcc"
          }
        },
        "816e48a6bf1b491aaaf3a169bfa8b660": {
          "model_module": "@jupyter-widgets/controls",
          "model_name": "HTMLModel",
          "model_module_version": "1.5.0",
          "state": {
            "_dom_classes": [],
            "_model_module": "@jupyter-widgets/controls",
            "_model_module_version": "1.5.0",
            "_model_name": "HTMLModel",
            "_view_count": null,
            "_view_module": "@jupyter-widgets/controls",
            "_view_module_version": "1.5.0",
            "_view_name": "HTMLView",
            "description": "",
            "description_tooltip": null,
            "layout": "IPY_MODEL_27e31b50a20b47bf980f966231734abe",
            "placeholder": "​",
            "style": "IPY_MODEL_c4dfe7efcbd84ddab9aaf415a4cfd442",
            "value": "config.json: 100%"
          }
        },
        "0dbaa48fed494249922861c9b279b60c": {
          "model_module": "@jupyter-widgets/controls",
          "model_name": "FloatProgressModel",
          "model_module_version": "1.5.0",
          "state": {
            "_dom_classes": [],
            "_model_module": "@jupyter-widgets/controls",
            "_model_module_version": "1.5.0",
            "_model_name": "FloatProgressModel",
            "_view_count": null,
            "_view_module": "@jupyter-widgets/controls",
            "_view_module_version": "1.5.0",
            "_view_name": "ProgressView",
            "bar_style": "success",
            "description": "",
            "description_tooltip": null,
            "layout": "IPY_MODEL_f51ec16be15f4a9d986dfdeb6d783b2f",
            "max": 625,
            "min": 0,
            "orientation": "horizontal",
            "style": "IPY_MODEL_b771c353287f45d8a4e7541c82194537",
            "value": 625
          }
        },
        "ea23de375939465b9e523bf4bd943abd": {
          "model_module": "@jupyter-widgets/controls",
          "model_name": "HTMLModel",
          "model_module_version": "1.5.0",
          "state": {
            "_dom_classes": [],
            "_model_module": "@jupyter-widgets/controls",
            "_model_module_version": "1.5.0",
            "_model_name": "HTMLModel",
            "_view_count": null,
            "_view_module": "@jupyter-widgets/controls",
            "_view_module_version": "1.5.0",
            "_view_name": "HTMLView",
            "description": "",
            "description_tooltip": null,
            "layout": "IPY_MODEL_ca9b4cf273504165b6e626d4dc0086f8",
            "placeholder": "​",
            "style": "IPY_MODEL_c97ffa135bc949a69d2dc5e4ed496d4a",
            "value": " 625/625 [00:00&lt;00:00, 37.4kB/s]"
          }
        },
        "3f4cccd49754412cb2acedfdbbf95fcc": {
          "model_module": "@jupyter-widgets/base",
          "model_name": "LayoutModel",
          "model_module_version": "1.2.0",
          "state": {
            "_model_module": "@jupyter-widgets/base",
            "_model_module_version": "1.2.0",
            "_model_name": "LayoutModel",
            "_view_count": null,
            "_view_module": "@jupyter-widgets/base",
            "_view_module_version": "1.2.0",
            "_view_name": "LayoutView",
            "align_content": null,
            "align_items": null,
            "align_self": null,
            "border": null,
            "bottom": null,
            "display": null,
            "flex": null,
            "flex_flow": null,
            "grid_area": null,
            "grid_auto_columns": null,
            "grid_auto_flow": null,
            "grid_auto_rows": null,
            "grid_column": null,
            "grid_gap": null,
            "grid_row": null,
            "grid_template_areas": null,
            "grid_template_columns": null,
            "grid_template_rows": null,
            "height": null,
            "justify_content": null,
            "justify_items": null,
            "left": null,
            "margin": null,
            "max_height": null,
            "max_width": null,
            "min_height": null,
            "min_width": null,
            "object_fit": null,
            "object_position": null,
            "order": null,
            "overflow": null,
            "overflow_x": null,
            "overflow_y": null,
            "padding": null,
            "right": null,
            "top": null,
            "visibility": null,
            "width": null
          }
        },
        "27e31b50a20b47bf980f966231734abe": {
          "model_module": "@jupyter-widgets/base",
          "model_name": "LayoutModel",
          "model_module_version": "1.2.0",
          "state": {
            "_model_module": "@jupyter-widgets/base",
            "_model_module_version": "1.2.0",
            "_model_name": "LayoutModel",
            "_view_count": null,
            "_view_module": "@jupyter-widgets/base",
            "_view_module_version": "1.2.0",
            "_view_name": "LayoutView",
            "align_content": null,
            "align_items": null,
            "align_self": null,
            "border": null,
            "bottom": null,
            "display": null,
            "flex": null,
            "flex_flow": null,
            "grid_area": null,
            "grid_auto_columns": null,
            "grid_auto_flow": null,
            "grid_auto_rows": null,
            "grid_column": null,
            "grid_gap": null,
            "grid_row": null,
            "grid_template_areas": null,
            "grid_template_columns": null,
            "grid_template_rows": null,
            "height": null,
            "justify_content": null,
            "justify_items": null,
            "left": null,
            "margin": null,
            "max_height": null,
            "max_width": null,
            "min_height": null,
            "min_width": null,
            "object_fit": null,
            "object_position": null,
            "order": null,
            "overflow": null,
            "overflow_x": null,
            "overflow_y": null,
            "padding": null,
            "right": null,
            "top": null,
            "visibility": null,
            "width": null
          }
        },
        "c4dfe7efcbd84ddab9aaf415a4cfd442": {
          "model_module": "@jupyter-widgets/controls",
          "model_name": "DescriptionStyleModel",
          "model_module_version": "1.5.0",
          "state": {
            "_model_module": "@jupyter-widgets/controls",
            "_model_module_version": "1.5.0",
            "_model_name": "DescriptionStyleModel",
            "_view_count": null,
            "_view_module": "@jupyter-widgets/base",
            "_view_module_version": "1.2.0",
            "_view_name": "StyleView",
            "description_width": ""
          }
        },
        "f51ec16be15f4a9d986dfdeb6d783b2f": {
          "model_module": "@jupyter-widgets/base",
          "model_name": "LayoutModel",
          "model_module_version": "1.2.0",
          "state": {
            "_model_module": "@jupyter-widgets/base",
            "_model_module_version": "1.2.0",
            "_model_name": "LayoutModel",
            "_view_count": null,
            "_view_module": "@jupyter-widgets/base",
            "_view_module_version": "1.2.0",
            "_view_name": "LayoutView",
            "align_content": null,
            "align_items": null,
            "align_self": null,
            "border": null,
            "bottom": null,
            "display": null,
            "flex": null,
            "flex_flow": null,
            "grid_area": null,
            "grid_auto_columns": null,
            "grid_auto_flow": null,
            "grid_auto_rows": null,
            "grid_column": null,
            "grid_gap": null,
            "grid_row": null,
            "grid_template_areas": null,
            "grid_template_columns": null,
            "grid_template_rows": null,
            "height": null,
            "justify_content": null,
            "justify_items": null,
            "left": null,
            "margin": null,
            "max_height": null,
            "max_width": null,
            "min_height": null,
            "min_width": null,
            "object_fit": null,
            "object_position": null,
            "order": null,
            "overflow": null,
            "overflow_x": null,
            "overflow_y": null,
            "padding": null,
            "right": null,
            "top": null,
            "visibility": null,
            "width": null
          }
        },
        "b771c353287f45d8a4e7541c82194537": {
          "model_module": "@jupyter-widgets/controls",
          "model_name": "ProgressStyleModel",
          "model_module_version": "1.5.0",
          "state": {
            "_model_module": "@jupyter-widgets/controls",
            "_model_module_version": "1.5.0",
            "_model_name": "ProgressStyleModel",
            "_view_count": null,
            "_view_module": "@jupyter-widgets/base",
            "_view_module_version": "1.2.0",
            "_view_name": "StyleView",
            "bar_color": null,
            "description_width": ""
          }
        },
        "ca9b4cf273504165b6e626d4dc0086f8": {
          "model_module": "@jupyter-widgets/base",
          "model_name": "LayoutModel",
          "model_module_version": "1.2.0",
          "state": {
            "_model_module": "@jupyter-widgets/base",
            "_model_module_version": "1.2.0",
            "_model_name": "LayoutModel",
            "_view_count": null,
            "_view_module": "@jupyter-widgets/base",
            "_view_module_version": "1.2.0",
            "_view_name": "LayoutView",
            "align_content": null,
            "align_items": null,
            "align_self": null,
            "border": null,
            "bottom": null,
            "display": null,
            "flex": null,
            "flex_flow": null,
            "grid_area": null,
            "grid_auto_columns": null,
            "grid_auto_flow": null,
            "grid_auto_rows": null,
            "grid_column": null,
            "grid_gap": null,
            "grid_row": null,
            "grid_template_areas": null,
            "grid_template_columns": null,
            "grid_template_rows": null,
            "height": null,
            "justify_content": null,
            "justify_items": null,
            "left": null,
            "margin": null,
            "max_height": null,
            "max_width": null,
            "min_height": null,
            "min_width": null,
            "object_fit": null,
            "object_position": null,
            "order": null,
            "overflow": null,
            "overflow_x": null,
            "overflow_y": null,
            "padding": null,
            "right": null,
            "top": null,
            "visibility": null,
            "width": null
          }
        },
        "c97ffa135bc949a69d2dc5e4ed496d4a": {
          "model_module": "@jupyter-widgets/controls",
          "model_name": "DescriptionStyleModel",
          "model_module_version": "1.5.0",
          "state": {
            "_model_module": "@jupyter-widgets/controls",
            "_model_module_version": "1.5.0",
            "_model_name": "DescriptionStyleModel",
            "_view_count": null,
            "_view_module": "@jupyter-widgets/base",
            "_view_module_version": "1.2.0",
            "_view_name": "StyleView",
            "description_width": ""
          }
        },
        "e65cf0d3ee4a4736a50131090839ee8a": {
          "model_module": "@jupyter-widgets/controls",
          "model_name": "HBoxModel",
          "model_module_version": "1.5.0",
          "state": {
            "_dom_classes": [],
            "_model_module": "@jupyter-widgets/controls",
            "_model_module_version": "1.5.0",
            "_model_name": "HBoxModel",
            "_view_count": null,
            "_view_module": "@jupyter-widgets/controls",
            "_view_module_version": "1.5.0",
            "_view_name": "HBoxView",
            "box_style": "",
            "children": [
              "IPY_MODEL_625a3a1ef2b2453da06c69583a2e764b",
              "IPY_MODEL_80da42e366a84e5bbf8deea6e645440f",
              "IPY_MODEL_bb6cd55abae7499d8623d20092dcbf6e"
            ],
            "layout": "IPY_MODEL_c445182e2ef649018427feb3ebd8f12e"
          }
        },
        "625a3a1ef2b2453da06c69583a2e764b": {
          "model_module": "@jupyter-widgets/controls",
          "model_name": "HTMLModel",
          "model_module_version": "1.5.0",
          "state": {
            "_dom_classes": [],
            "_model_module": "@jupyter-widgets/controls",
            "_model_module_version": "1.5.0",
            "_model_name": "HTMLModel",
            "_view_count": null,
            "_view_module": "@jupyter-widgets/controls",
            "_view_module_version": "1.5.0",
            "_view_name": "HTMLView",
            "description": "",
            "description_tooltip": null,
            "layout": "IPY_MODEL_ddc0b5d1cee141a6af22962b1ff61786",
            "placeholder": "​",
            "style": "IPY_MODEL_38b14e458a8449c4bd3b910b547ba09b",
            "value": "model.safetensors: 100%"
          }
        },
        "80da42e366a84e5bbf8deea6e645440f": {
          "model_module": "@jupyter-widgets/controls",
          "model_name": "FloatProgressModel",
          "model_module_version": "1.5.0",
          "state": {
            "_dom_classes": [],
            "_model_module": "@jupyter-widgets/controls",
            "_model_module_version": "1.5.0",
            "_model_name": "FloatProgressModel",
            "_view_count": null,
            "_view_module": "@jupyter-widgets/controls",
            "_view_module_version": "1.5.0",
            "_view_name": "ProgressView",
            "bar_style": "success",
            "description": "",
            "description_tooltip": null,
            "layout": "IPY_MODEL_6820ee8b1a1844419bbe11a12d865192",
            "max": 714290682,
            "min": 0,
            "orientation": "horizontal",
            "style": "IPY_MODEL_c9ecf52ca0414a108efb1188e7e48221",
            "value": 714290682
          }
        },
        "bb6cd55abae7499d8623d20092dcbf6e": {
          "model_module": "@jupyter-widgets/controls",
          "model_name": "HTMLModel",
          "model_module_version": "1.5.0",
          "state": {
            "_dom_classes": [],
            "_model_module": "@jupyter-widgets/controls",
            "_model_module_version": "1.5.0",
            "_model_name": "HTMLModel",
            "_view_count": null,
            "_view_module": "@jupyter-widgets/controls",
            "_view_module_version": "1.5.0",
            "_view_name": "HTMLView",
            "description": "",
            "description_tooltip": null,
            "layout": "IPY_MODEL_48c34572947b416eaa681c44db09e088",
            "placeholder": "​",
            "style": "IPY_MODEL_e3f085133a73477693ee1f8d6686917f",
            "value": " 714M/714M [00:05&lt;00:00, 162MB/s]"
          }
        },
        "c445182e2ef649018427feb3ebd8f12e": {
          "model_module": "@jupyter-widgets/base",
          "model_name": "LayoutModel",
          "model_module_version": "1.2.0",
          "state": {
            "_model_module": "@jupyter-widgets/base",
            "_model_module_version": "1.2.0",
            "_model_name": "LayoutModel",
            "_view_count": null,
            "_view_module": "@jupyter-widgets/base",
            "_view_module_version": "1.2.0",
            "_view_name": "LayoutView",
            "align_content": null,
            "align_items": null,
            "align_self": null,
            "border": null,
            "bottom": null,
            "display": null,
            "flex": null,
            "flex_flow": null,
            "grid_area": null,
            "grid_auto_columns": null,
            "grid_auto_flow": null,
            "grid_auto_rows": null,
            "grid_column": null,
            "grid_gap": null,
            "grid_row": null,
            "grid_template_areas": null,
            "grid_template_columns": null,
            "grid_template_rows": null,
            "height": null,
            "justify_content": null,
            "justify_items": null,
            "left": null,
            "margin": null,
            "max_height": null,
            "max_width": null,
            "min_height": null,
            "min_width": null,
            "object_fit": null,
            "object_position": null,
            "order": null,
            "overflow": null,
            "overflow_x": null,
            "overflow_y": null,
            "padding": null,
            "right": null,
            "top": null,
            "visibility": null,
            "width": null
          }
        },
        "ddc0b5d1cee141a6af22962b1ff61786": {
          "model_module": "@jupyter-widgets/base",
          "model_name": "LayoutModel",
          "model_module_version": "1.2.0",
          "state": {
            "_model_module": "@jupyter-widgets/base",
            "_model_module_version": "1.2.0",
            "_model_name": "LayoutModel",
            "_view_count": null,
            "_view_module": "@jupyter-widgets/base",
            "_view_module_version": "1.2.0",
            "_view_name": "LayoutView",
            "align_content": null,
            "align_items": null,
            "align_self": null,
            "border": null,
            "bottom": null,
            "display": null,
            "flex": null,
            "flex_flow": null,
            "grid_area": null,
            "grid_auto_columns": null,
            "grid_auto_flow": null,
            "grid_auto_rows": null,
            "grid_column": null,
            "grid_gap": null,
            "grid_row": null,
            "grid_template_areas": null,
            "grid_template_columns": null,
            "grid_template_rows": null,
            "height": null,
            "justify_content": null,
            "justify_items": null,
            "left": null,
            "margin": null,
            "max_height": null,
            "max_width": null,
            "min_height": null,
            "min_width": null,
            "object_fit": null,
            "object_position": null,
            "order": null,
            "overflow": null,
            "overflow_x": null,
            "overflow_y": null,
            "padding": null,
            "right": null,
            "top": null,
            "visibility": null,
            "width": null
          }
        },
        "38b14e458a8449c4bd3b910b547ba09b": {
          "model_module": "@jupyter-widgets/controls",
          "model_name": "DescriptionStyleModel",
          "model_module_version": "1.5.0",
          "state": {
            "_model_module": "@jupyter-widgets/controls",
            "_model_module_version": "1.5.0",
            "_model_name": "DescriptionStyleModel",
            "_view_count": null,
            "_view_module": "@jupyter-widgets/base",
            "_view_module_version": "1.2.0",
            "_view_name": "StyleView",
            "description_width": ""
          }
        },
        "6820ee8b1a1844419bbe11a12d865192": {
          "model_module": "@jupyter-widgets/base",
          "model_name": "LayoutModel",
          "model_module_version": "1.2.0",
          "state": {
            "_model_module": "@jupyter-widgets/base",
            "_model_module_version": "1.2.0",
            "_model_name": "LayoutModel",
            "_view_count": null,
            "_view_module": "@jupyter-widgets/base",
            "_view_module_version": "1.2.0",
            "_view_name": "LayoutView",
            "align_content": null,
            "align_items": null,
            "align_self": null,
            "border": null,
            "bottom": null,
            "display": null,
            "flex": null,
            "flex_flow": null,
            "grid_area": null,
            "grid_auto_columns": null,
            "grid_auto_flow": null,
            "grid_auto_rows": null,
            "grid_column": null,
            "grid_gap": null,
            "grid_row": null,
            "grid_template_areas": null,
            "grid_template_columns": null,
            "grid_template_rows": null,
            "height": null,
            "justify_content": null,
            "justify_items": null,
            "left": null,
            "margin": null,
            "max_height": null,
            "max_width": null,
            "min_height": null,
            "min_width": null,
            "object_fit": null,
            "object_position": null,
            "order": null,
            "overflow": null,
            "overflow_x": null,
            "overflow_y": null,
            "padding": null,
            "right": null,
            "top": null,
            "visibility": null,
            "width": null
          }
        },
        "c9ecf52ca0414a108efb1188e7e48221": {
          "model_module": "@jupyter-widgets/controls",
          "model_name": "ProgressStyleModel",
          "model_module_version": "1.5.0",
          "state": {
            "_model_module": "@jupyter-widgets/controls",
            "_model_module_version": "1.5.0",
            "_model_name": "ProgressStyleModel",
            "_view_count": null,
            "_view_module": "@jupyter-widgets/base",
            "_view_module_version": "1.2.0",
            "_view_name": "StyleView",
            "bar_color": null,
            "description_width": ""
          }
        },
        "48c34572947b416eaa681c44db09e088": {
          "model_module": "@jupyter-widgets/base",
          "model_name": "LayoutModel",
          "model_module_version": "1.2.0",
          "state": {
            "_model_module": "@jupyter-widgets/base",
            "_model_module_version": "1.2.0",
            "_model_name": "LayoutModel",
            "_view_count": null,
            "_view_module": "@jupyter-widgets/base",
            "_view_module_version": "1.2.0",
            "_view_name": "LayoutView",
            "align_content": null,
            "align_items": null,
            "align_self": null,
            "border": null,
            "bottom": null,
            "display": null,
            "flex": null,
            "flex_flow": null,
            "grid_area": null,
            "grid_auto_columns": null,
            "grid_auto_flow": null,
            "grid_auto_rows": null,
            "grid_column": null,
            "grid_gap": null,
            "grid_row": null,
            "grid_template_areas": null,
            "grid_template_columns": null,
            "grid_template_rows": null,
            "height": null,
            "justify_content": null,
            "justify_items": null,
            "left": null,
            "margin": null,
            "max_height": null,
            "max_width": null,
            "min_height": null,
            "min_width": null,
            "object_fit": null,
            "object_position": null,
            "order": null,
            "overflow": null,
            "overflow_x": null,
            "overflow_y": null,
            "padding": null,
            "right": null,
            "top": null,
            "visibility": null,
            "width": null
          }
        },
        "e3f085133a73477693ee1f8d6686917f": {
          "model_module": "@jupyter-widgets/controls",
          "model_name": "DescriptionStyleModel",
          "model_module_version": "1.5.0",
          "state": {
            "_model_module": "@jupyter-widgets/controls",
            "_model_module_version": "1.5.0",
            "_model_name": "DescriptionStyleModel",
            "_view_count": null,
            "_view_module": "@jupyter-widgets/base",
            "_view_module_version": "1.2.0",
            "_view_name": "StyleView",
            "description_width": ""
          }
        }
      }
    }
  },
  "nbformat": 4,
  "nbformat_minor": 0
}