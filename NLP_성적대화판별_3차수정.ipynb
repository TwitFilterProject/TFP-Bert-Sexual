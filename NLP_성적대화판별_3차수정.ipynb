{
  "cells": [
    {
      "cell_type": "markdown",
      "metadata": {
        "id": "hoZajiV-6YEh"
      },
      "source": [
        "#**오픈소스 팀 과제 - BERT를 활용한 대화 이진 분류 - 전유정**\n",
        "아동의\n",
        "허깅페이스(Hugging Face)에서 제공하는 transformer 라이브러리를 활용하여 한국어 BERT로 텍스트 대화 중에서 성적인 텍스트를 분류해보도록 하겠습니다.\n",
        "\n",
        "1.1. 사용한 데이터\n",
        "- 텍스트 윤리 검정 데이터\n",
        "https://www.aihub.or.kr/aihubdata/data/view.do?currMenu=115&topMenu=100&dataSetSn=558\n",
        "\n",
        "1.2. 데이터셋 구조\n",
        "테스트 데이터, 44,998개 훈련 데이터 348,073개로 총 5개의 라벨로 이루어져 있습니다. 성적인 대화의 수가 적어 정확성이 높지 않은 경우를 고려하여, 성적인 데이터셋을 직접 수집하여 학습 데이터로 추가시켰습니다.\n",
        "\n",
        " - 일반 대화와 성적 대화만 추출\n",
        " - 데이터 결측치 제거\n",
        " - Okt 라이브러리를 활용한 토큰화\n",
        "다음과 같은 과정을 통해 데이터 전처리를 진행하였으며, 테스트 데이터 약 1만개, 훈련 데이터 약 8만개로 단축시켰으며, 간소화 하였으며, 라벨도 2개로 단축시켰습니다.\n",
        "\n",
        "2. 모델 학습\n",
        "\n",
        " 2.1. 훈련-테스트 데이터 분할\n",
        "BERT 모델같이 사전 학습된 모델의 경우, 적은 데이터로도 좋은 성능을 낼 수 있습니다. 따라서, 테스트 데이터는 1만개를 전부 사용하였으며, 훈련 데이터의 경우 60%인 4만 8천개를 사용했습니다.\n",
        "\n",
        " 2.2. BERT 토크나이저 불러오기\n",
        "\n",
        " 2.3. DataLoader 구성\n",
        "\n",
        " 2.4. BERT 모델 불러오기\n",
        "\n",
        " 2.5. 모델 훈련\n"
      ]
    },
    {
      "cell_type": "code",
      "execution_count": 3,
      "metadata": {
        "colab": {
          "base_uri": "https://localhost:8080/"
        },
        "id": "XyncOKy2JI_G",
        "outputId": "4a61def2-a5ae-444b-d8ac-0f6167e356dd"
      },
      "outputs": [
        {
          "output_type": "stream",
          "name": "stdout",
          "text": [
            "Requirement already satisfied: pandas in /usr/local/lib/python3.10/dist-packages (2.0.3)\n",
            "Requirement already satisfied: python-dateutil>=2.8.2 in /usr/local/lib/python3.10/dist-packages (from pandas) (2.8.2)\n",
            "Requirement already satisfied: pytz>=2020.1 in /usr/local/lib/python3.10/dist-packages (from pandas) (2023.4)\n",
            "Requirement already satisfied: tzdata>=2022.1 in /usr/local/lib/python3.10/dist-packages (from pandas) (2024.1)\n",
            "Requirement already satisfied: numpy>=1.21.0 in /usr/local/lib/python3.10/dist-packages (from pandas) (1.25.2)\n",
            "Requirement already satisfied: six>=1.5 in /usr/local/lib/python3.10/dist-packages (from python-dateutil>=2.8.2->pandas) (1.16.0)\n",
            "Requirement already satisfied: numpy in /usr/local/lib/python3.10/dist-packages (1.25.2)\n",
            "Requirement already satisfied: pillow in /usr/local/lib/python3.10/dist-packages (9.4.0)\n",
            "Collecting konlpy\n",
            "  Downloading konlpy-0.6.0-py2.py3-none-any.whl (19.4 MB)\n",
            "\u001b[2K     \u001b[90m━━━━━━━━━━━━━━━━━━━━━━━━━━━━━━━━━━━━━━━━\u001b[0m \u001b[32m19.4/19.4 MB\u001b[0m \u001b[31m55.3 MB/s\u001b[0m eta \u001b[36m0:00:00\u001b[0m\n",
            "\u001b[?25hCollecting JPype1>=0.7.0 (from konlpy)\n",
            "  Downloading JPype1-1.5.0-cp310-cp310-manylinux_2_17_x86_64.manylinux2014_x86_64.whl (488 kB)\n",
            "\u001b[2K     \u001b[90m━━━━━━━━━━━━━━━━━━━━━━━━━━━━━━━━━━━━━━━━\u001b[0m \u001b[32m488.6/488.6 kB\u001b[0m \u001b[31m59.3 MB/s\u001b[0m eta \u001b[36m0:00:00\u001b[0m\n",
            "\u001b[?25hRequirement already satisfied: lxml>=4.1.0 in /usr/local/lib/python3.10/dist-packages (from konlpy) (4.9.4)\n",
            "Requirement already satisfied: numpy>=1.6 in /usr/local/lib/python3.10/dist-packages (from konlpy) (1.25.2)\n",
            "Requirement already satisfied: packaging in /usr/local/lib/python3.10/dist-packages (from JPype1>=0.7.0->konlpy) (24.1)\n",
            "Installing collected packages: JPype1, konlpy\n",
            "Successfully installed JPype1-1.5.0 konlpy-0.6.0\n",
            "Requirement already satisfied: wordcloud in /usr/local/lib/python3.10/dist-packages (1.9.3)\n",
            "Requirement already satisfied: numpy>=1.6.1 in /usr/local/lib/python3.10/dist-packages (from wordcloud) (1.25.2)\n",
            "Requirement already satisfied: pillow in /usr/local/lib/python3.10/dist-packages (from wordcloud) (9.4.0)\n",
            "Requirement already satisfied: matplotlib in /usr/local/lib/python3.10/dist-packages (from wordcloud) (3.7.1)\n",
            "Requirement already satisfied: contourpy>=1.0.1 in /usr/local/lib/python3.10/dist-packages (from matplotlib->wordcloud) (1.2.1)\n",
            "Requirement already satisfied: cycler>=0.10 in /usr/local/lib/python3.10/dist-packages (from matplotlib->wordcloud) (0.12.1)\n",
            "Requirement already satisfied: fonttools>=4.22.0 in /usr/local/lib/python3.10/dist-packages (from matplotlib->wordcloud) (4.53.0)\n",
            "Requirement already satisfied: kiwisolver>=1.0.1 in /usr/local/lib/python3.10/dist-packages (from matplotlib->wordcloud) (1.4.5)\n",
            "Requirement already satisfied: packaging>=20.0 in /usr/local/lib/python3.10/dist-packages (from matplotlib->wordcloud) (24.1)\n",
            "Requirement already satisfied: pyparsing>=2.3.1 in /usr/local/lib/python3.10/dist-packages (from matplotlib->wordcloud) (3.1.2)\n",
            "Requirement already satisfied: python-dateutil>=2.7 in /usr/local/lib/python3.10/dist-packages (from matplotlib->wordcloud) (2.8.2)\n",
            "Requirement already satisfied: six>=1.5 in /usr/local/lib/python3.10/dist-packages (from python-dateutil>=2.7->matplotlib->wordcloud) (1.16.0)\n"
          ]
        }
      ],
      "source": [
        "!pip install pandas\n",
        "!pip install numpy\n",
        "!pip install pillow\n",
        "!pip install konlpy\n",
        "!pip install wordcloud"
      ]
    },
    {
      "cell_type": "code",
      "execution_count": 4,
      "metadata": {
        "colab": {
          "base_uri": "https://localhost:8080/"
        },
        "id": "WpcfOADA748A",
        "outputId": "5325408b-75ca-4796-ce4f-bd07c22168fb"
      },
      "outputs": [
        {
          "output_type": "stream",
          "name": "stdout",
          "text": [
            "Requirement already satisfied: konlpy in /usr/local/lib/python3.10/dist-packages (0.6.0)\n",
            "Requirement already satisfied: JPype1>=0.7.0 in /usr/local/lib/python3.10/dist-packages (from konlpy) (1.5.0)\n",
            "Requirement already satisfied: lxml>=4.1.0 in /usr/local/lib/python3.10/dist-packages (from konlpy) (4.9.4)\n",
            "Requirement already satisfied: numpy>=1.6 in /usr/local/lib/python3.10/dist-packages (from konlpy) (1.25.2)\n",
            "Requirement already satisfied: packaging in /usr/local/lib/python3.10/dist-packages (from JPype1>=0.7.0->konlpy) (24.1)\n"
          ]
        }
      ],
      "source": [
        "\n",
        "\n",
        "!pip install konlpy"
      ]
    },
    {
      "cell_type": "code",
      "execution_count": 5,
      "metadata": {
        "id": "_tQuc0d7JVmn"
      },
      "outputs": [],
      "source": [
        "import pandas as pd\n",
        "\n",
        "from wordcloud import WordCloud\n",
        "import matplotlib.pyplot as plt\n",
        "from collections import Counter\n",
        "from konlpy.tag import Hannanum\n",
        "from PIL import Image\n",
        "import numpy as np"
      ]
    },
    {
      "cell_type": "code",
      "execution_count": 6,
      "metadata": {
        "id": "USzfMwI2JlQv"
      },
      "outputs": [],
      "source": [
        "df = pd.read_csv(\"test\", sep='\\t', header=None)"
      ]
    },
    {
      "cell_type": "code",
      "execution_count": 7,
      "metadata": {
        "id": "e4G4er5tTXNL"
      },
      "outputs": [],
      "source": [
        "df2 = pd.read_csv(\"test2\", sep='\\t', header=None)"
      ]
    },
    {
      "cell_type": "code",
      "execution_count": 8,
      "metadata": {
        "colab": {
          "base_uri": "https://localhost:8080/"
        },
        "id": "Gp9uKDEiJuDC",
        "outputId": "1ca246c5-ae7d-4ece-dd94-acef69af0fef"
      },
      "outputs": [
        {
          "output_type": "stream",
          "name": "stdout",
          "text": [
            "       0      1    2  3               4                                      5\n",
            "0      1  False  0.0  1    IMMORAL_NONE               <마미손> 이번에 해명 영상 올렸던데 봤어?\n",
            "1      2  False  0.0  2    IMMORAL_NONE                   어 <염따> 제대로 큰일 난거 같던데\n",
            "2      3   True  1.0  3   CENSURE,ABUSE             <염따> 뭐됐지 ㅋㅋ 그럴줄 알았다 티팔이 샛기\n",
            "3      1  False  0.0  1    IMMORAL_NONE                     요즘 같은 시대에 모솔이 가능해?\n",
            "4      2  False  0.0  2    IMMORAL_NONE                   흐음 글쎄.. 그럴 수도 있지, 뭐.\n",
            "...   ..    ...  ... ..             ...                                    ...\n",
            "44993  3   True  1.8  2  SEXUAL,CENSURE                         상의 탈의한 사진 보내줘 \n",
            "44994  4   True  2.4  2    HATE,CENSURE                              틀딱 소리 하지마\n",
            "44995  1  False  0.0  1    IMMORAL_NONE                             쟤 또 티비 나오네\n",
            "44996  2   True  1.4  2         CENSURE  별로 이쁜지도 모르겠고 오히려 촌스럽게 생긴 것 같은데 계속 나오네\n",
            "44997  3   True  1.8  2         CENSURE                        혹시 쟤도 빵구 장사 하나?\n",
            "\n",
            "[44998 rows x 6 columns]\n"
          ]
        }
      ],
      "source": [
        "print(df)"
      ]
    },
    {
      "cell_type": "markdown",
      "metadata": {
        "id": "iNPjy3dYCeQf"
      },
      "source": [
        "섹슈얼 데이터 csv (test 데이터)\n",
        "\n"
      ]
    },
    {
      "cell_type": "code",
      "execution_count": 8,
      "metadata": {
        "colab": {
          "base_uri": "https://localhost:8080/"
        },
        "id": "O1ceAy23dZcs",
        "outputId": "e3d3bffa-6782-49fd-e5fb-cac12dcba387"
      },
      "outputs": [
        {
          "output_type": "stream",
          "name": "stdout",
          "text": [
            "                         4                                              5\n",
            "22     CENSURE,HATE,SEXUAL                 충격은 니가 ㅂㅈ 속에서 나올 때 니 엄마가 받는거고ㅋ\n",
            "32                  SEXUAL                               어제 얘 따먹음 ㅋㅋ 물 콸콸\n",
            "33            SEXUAL,CRIME                 ㅋㅋㅋㅋㅋㅋㅋㅋㅋㅋㅋㅋㅋ 영상 없음??? 담엔 찍어와라\n",
            "34            SEXUAL,CRIME                                    오케 무조건이지 ㅋㅋ\n",
            "38                  SEXUAL                       ㅈ물처럼 차버린 뇌내망상 배설하니까 시원하다\n",
            "...                    ...                                            ...\n",
            "12532               SEXUAL                  벌레 같은 것들이 다시 니들 엄마 자궁으로 들어가;;\n",
            "12534               SEXUAL  어디서 몸굴리던 개버릇 남 못준다고 지금도 더럽게 몸 섞으면서 돈 벌고 있을 수도\n",
            "12535               SEXUAL                             역시 한국 여자답게 잘 벌리는 듯\n",
            "12540               SEXUAL                           밋틴건가... 차라리 다 벗지 ㅋㅋㅋ\n",
            "12541               SEXUAL                                  ㄱㅊ도 걍 내놓고 다녀~\n",
            "\n",
            "[5474 rows x 2 columns]\n"
          ]
        }
      ],
      "source": [
        "import pandas as pd\n",
        "\n",
        "# 'SEXUAL' 포함된 데이터프레임 추출\n",
        "sexual_df = df[df[4].str.contains(\"SEXUAL\")]\n",
        "sexual_df2 = df2[df2[4].str.contains(\"SEXUAL\")]\n",
        "\n",
        "# 대화 유형과 텍스트 메세지만 추출\n",
        "selected_df1 = sexual_df.iloc[:, [4, 5]]\n",
        "selected_df2 = sexual_df2.iloc[:, [4, 5]]\n",
        "\n",
        "# 두 데이터프레임 병합\n",
        "merged_sexual_df = pd.concat([selected_df1, selected_df2])\n",
        "\n",
        "# CSV로 저장\n",
        "merged_sexual_df.to_csv(\"selected_data.csv\", index=False, header=None)\n",
        "\n",
        "# 결과 출력\n",
        "print(merged_sexual_df)\n"
      ]
    },
    {
      "cell_type": "markdown",
      "metadata": {
        "id": "54ugOGxpCg5S"
      },
      "source": [
        "일상 대화 데이터 csv (test 데이터)"
      ]
    },
    {
      "cell_type": "code",
      "execution_count": 9,
      "metadata": {
        "colab": {
          "base_uri": "https://localhost:8080/"
        },
        "id": "u1hP73vRCSvH",
        "outputId": "f98d975d-37b0-43d7-d5da-381fb29ceef8"
      },
      "outputs": [
        {
          "output_type": "stream",
          "name": "stdout",
          "text": [
            "                  4                                             5\n",
            "2165   IMMORAL_NONE                              저기 저 남자 성형한거 같지?\n",
            "14850  IMMORAL_NONE                                   내가 친구면 연 끊음\n",
            "40786  IMMORAL_NONE                            이번에 학폭 사건 가해자들 봤음?\n",
            "7414   IMMORAL_NONE  네 취향은 <더픽스>였을수 있지만 <씨네마>가 취향인 사람들이 더 많을수도 있지\n",
            "20133  IMMORAL_NONE                     그게 며느리 떄문인가 뭐 날씨가 안따라주는거지\n",
            "...             ...                                           ...\n",
            "17522  IMMORAL_NONE                    이번 시험 문제 완전 이상한것들 나오지 않았어?\n",
            "13081  IMMORAL_NONE                            난 아파서 맞는것도 싫고 무섭던데\n",
            "10555  IMMORAL_NONE           아이고 ㅠㅠ 외롭겠다 외로우니까 더더욱 우리가 친구가 되어줘야지\n",
            "21293  IMMORAL_NONE                          한 때 내 최애 선수였다. 지켜줘ㅜㅜ\n",
            "15409  IMMORAL_NONE                               나는 뭔가 근데 기적을 믿어\n",
            "\n",
            "[5500 rows x 2 columns]\n"
          ]
        }
      ],
      "source": [
        "import pandas as pd\n",
        "\n",
        "\n",
        "# 'IMMORAL_NONE' 포함된 데이터프레임 추출\n",
        "moral_df = df[df[4].str.contains(\"IMMORAL_NONE\")]\n",
        "\n",
        "# 대화 유형과 텍스트 메세지만 추출\n",
        "moral_selected_df = moral_df.iloc[:, [4, 5]]\n",
        "\n",
        "# 5천개 또는 가능한 최대 개수로 줄이기\n",
        "sample_size = min(5500, len(moral_selected_df))\n",
        "margerd_moral_df = moral_selected_df.sample(n=sample_size, random_state=1)\n",
        "\n",
        "# CSV로 저장\n",
        "margerd_moral_df.to_csv(\"selected_data.csv\", index=False, header=None)\n",
        "\n",
        "# 결과 출력\n",
        "print(margerd_moral_df)\n"
      ]
    },
    {
      "cell_type": "markdown",
      "metadata": {
        "id": "Oa7A05KYDVa0"
      },
      "source": [
        "섹슈얼 데이터 + 일상 대화 데이터 csv화 (test 데이터)"
      ]
    },
    {
      "cell_type": "code",
      "execution_count": 10,
      "metadata": {
        "colab": {
          "base_uri": "https://localhost:8080/"
        },
        "id": "UMqDqMm9C5QG",
        "outputId": "c5a97d53-ea66-48e1-e2fe-a23784a38b78"
      },
      "outputs": [
        {
          "output_type": "stream",
          "name": "stdout",
          "text": [
            "                         4                                    5\n",
            "22     CENSURE,HATE,SEXUAL       충격은 니가 ㅂㅈ 속에서 나올 때 니 엄마가 받는거고ㅋ\n",
            "32                  SEXUAL                     어제 얘 따먹음 ㅋㅋ 물 콸콸\n",
            "33            SEXUAL,CRIME       ㅋㅋㅋㅋㅋㅋㅋㅋㅋㅋㅋㅋㅋ 영상 없음??? 담엔 찍어와라\n",
            "34            SEXUAL,CRIME                          오케 무조건이지 ㅋㅋ\n",
            "38                  SEXUAL             ㅈ물처럼 차버린 뇌내망상 배설하니까 시원하다\n",
            "...                    ...                                  ...\n",
            "17522         IMMORAL_NONE           이번 시험 문제 완전 이상한것들 나오지 않았어?\n",
            "13081         IMMORAL_NONE                   난 아파서 맞는것도 싫고 무섭던데\n",
            "10555         IMMORAL_NONE  아이고 ㅠㅠ 외롭겠다 외로우니까 더더욱 우리가 친구가 되어줘야지\n",
            "21293         IMMORAL_NONE                 한 때 내 최애 선수였다. 지켜줘ㅜㅜ\n",
            "15409         IMMORAL_NONE                      나는 뭔가 근데 기적을 믿어\n",
            "\n",
            "[10974 rows x 2 columns]\n"
          ]
        }
      ],
      "source": [
        "test_merged_df = pd.concat([merged_sexual_df, margerd_moral_df])\n",
        "test_merged_df.to_csv(\"test_data.csv\", index=False, header=None)\n",
        "print(test_merged_df)"
      ]
    },
    {
      "cell_type": "markdown",
      "metadata": {
        "id": "3sDHAxyRDtOi"
      },
      "source": [
        " 섹슈얼 데이터 (train 데이터 = 모델 학습 데이터)"
      ]
    },
    {
      "cell_type": "code",
      "execution_count": 11,
      "metadata": {
        "id": "QfpoRDdCtJAU"
      },
      "outputs": [],
      "source": [
        "train_df = pd.read_csv(\"train1.csv\", sep='\\t', header=None)"
      ]
    },
    {
      "cell_type": "code",
      "execution_count": 12,
      "metadata": {
        "id": "BntvY2qBOpJ1"
      },
      "outputs": [],
      "source": [
        "train2_df = pd.read_csv(\"train2\", sep='\\t', header=None)"
      ]
    },
    {
      "cell_type": "code",
      "execution_count": 13,
      "metadata": {
        "id": "lpRKtyIhP1P-"
      },
      "outputs": [],
      "source": [
        "train3_df = pd.read_csv(\"train3\", sep='\\t', header=None)"
      ]
    },
    {
      "cell_type": "code",
      "execution_count": 14,
      "metadata": {
        "id": "gBQB8l0oQO2I"
      },
      "outputs": [],
      "source": [
        "train4_df = pd.read_csv(\"train4\", sep='\\t', header=None)"
      ]
    },
    {
      "cell_type": "code",
      "execution_count": 15,
      "metadata": {
        "colab": {
          "base_uri": "https://localhost:8080/"
        },
        "id": "K7GsGVKxb-p6",
        "outputId": "d57ca5b2-f6d7-4b59-c439-435e57659f0b"
      },
      "outputs": [
        {
          "output_type": "stream",
          "name": "stdout",
          "text": [
            "        0      1    2  3             4  \\\n",
            "0       1   True  2.0  1       CENSURE   \n",
            "1       2   True  2.0  2       CENSURE   \n",
            "2       3   True  2.0  1       CENSURE   \n",
            "3       4   True  2.0  2       CENSURE   \n",
            "4       1   True  1.0  1       CENSURE   \n",
            "...    ..    ...  ... ..           ...   \n",
            "348068  1  False  0.0  1  IMMORAL_NONE   \n",
            "348069  2  False  0.0  2  IMMORAL_NONE   \n",
            "348070  1  False  0.0  1  IMMORAL_NONE   \n",
            "348071  3  False  0.0  2  IMMORAL_NONE   \n",
            "348072  2  False  0.0  2  IMMORAL_NONE   \n",
            "\n",
            "                                              5  \n",
            "0                   부랴부랴 왔는데 아무도 안왔네. 시간개념들이 없네  \n",
            "1                             맞아. 사람들이 진짜 개념이없다  \n",
            "2                                  저렇게는 살지 말아야지  \n",
            "3                        그러게 게으르고 멍청한 사람들은 맞아야해  \n",
            "4                             인방 보는 남자는 거르는게 맞다  \n",
            "...                                         ...  \n",
            "348068                              나는 매일 죽고 싶어  \n",
            "348069                 시한부도 열심히 사는데 너가 그러면 안 되지  \n",
            "348070  애들이 똑똑해지긴 했는데 문제는 무식한 애들한테도 스마트폰이 생긴 거지  \n",
            "348071  밖에서는 꺼내지도 못할 말을 인터넷이라고 당당히 하는 게 우습긴 하더라  \n",
            "348072                     동네에서 판건데 뭔 대량생산 타령이야  \n",
            "\n",
            "[348073 rows x 6 columns]\n"
          ]
        }
      ],
      "source": [
        "print(train_df)"
      ]
    },
    {
      "cell_type": "code",
      "execution_count": 16,
      "metadata": {
        "colab": {
          "base_uri": "https://localhost:8080/"
        },
        "id": "w11JY2-fEW-h",
        "outputId": "495e21a2-d637-4f08-d112-845cd6efea09"
      },
      "outputs": [
        {
          "output_type": "stream",
          "name": "stdout",
          "text": [
            "                         4                                            5\n",
            "5      HATE,CENSURE,SEXUAL                       특히 벗방보는 애들은 진짜 거세 시켜야함\n",
            "6           CENSURE,SEXUAL                           볼 게 없어서 벗방을 보냐 ㅋㅋㅋ\n",
            "11          CENSURE,SEXUAL                         에로배우들을 데려다가 아이돌을 만드네\n",
            "12          CENSURE,SEXUAL                            쟤네들은 표정이 딱 야동인데..\n",
            "26            ABUSE,SEXUAL                               줫빠지게 힘들어서 잣같았다\n",
            "...                    ...                                          ...\n",
            "12651               SEXUAL                걔 맨날 브라도 안 하고 와서 진짜 싸구려 같아 보여\n",
            "12652               SEXUAL         그렇게 매번 브라 안 차는 건 자기 몸 보라고 광고하는 거 아님?\n",
            "12653               SEXUAL                      진짜 그게 성매매하는 여자랑 다를 게 뭐냐\n",
            "12663               SEXUAL          저정도면 놀아달라는 거 아닌가? 저 라인봐봐 만지면 으스러지겠어\n",
            "12664               SEXUAL  저 언덕 사이에 손을 넣고 주물러주면 그럴걸 ㅋㅋ 본인도 바라고 있지 않을까?\n",
            "\n",
            "[40907 rows x 2 columns]\n"
          ]
        }
      ],
      "source": [
        "import pandas as pd\n",
        "\n",
        "# 'SEXUAL' 포함된 데이터프레임 추출\n",
        "t_sexual_df = train_df[train_df[4].str.contains(\"SEXUAL\")]\n",
        "t_sexual_df2 = train2_df[train2_df[4].str.contains(\"SEXUAL\")]\n",
        "t_sexual_df3 = train3_df[train3_df[4].str.contains(\"SEXUAL\")]\n",
        "t_sexual_df4 = train4_df[train4_df[4].str.contains(\"SEXUAL\")]\n",
        "\n",
        "# 대화 유형과 텍스트 메세지만 추출\n",
        "t_selected_df1 = t_sexual_df.iloc[:, [4, 5]]\n",
        "t_selected_df2 = t_sexual_df2.iloc[:, [4, 5]]\n",
        "t_selected_df3 = t_sexual_df3.iloc[:, [4, 5]]\n",
        "t_selected_df4 = t_sexual_df4.iloc[:, [4, 5]]\n",
        "\n",
        "# 두 데이터프레임 병합\n",
        "merged_t_sexual_df = pd.concat([t_selected_df1, t_selected_df2, t_selected_df3, t_selected_df4])\n",
        "\n",
        "# CSV로 저장\n",
        "merged_t_sexual_df.to_csv(\"t_train_df_selected_data.csv\", index=False, header=None)\n",
        "\n",
        "# 결과 출력\n",
        "print(merged_t_sexual_df)\n"
      ]
    },
    {
      "cell_type": "code",
      "execution_count": 17,
      "metadata": {
        "colab": {
          "base_uri": "https://localhost:8080/"
        },
        "id": "P0iwyfAntTAu",
        "outputId": "ba68f0d8-4dd8-4bbf-a462-a0eb3d6e82c6"
      },
      "outputs": [
        {
          "output_type": "stream",
          "name": "stdout",
          "text": [
            "                   4                              5\n",
            "341723  IMMORAL_NONE                      안돼 무조건 안돼\n",
            "319792  IMMORAL_NONE                      진짜 놀랄 노짜다\n",
            "197153  IMMORAL_NONE  관심을 갖기 시작해야 나중에 정치관을 가질 수 있지요\n",
            "196809  IMMORAL_NONE                 우리 내전 이길 수 있을까\n",
            "192010  IMMORAL_NONE              그럴 거면 그냥 난 집에서 쉴래\n",
            "...              ...                            ...\n",
            "252960  IMMORAL_NONE                 미간은 수술할 방법이 없나\n",
            "263663  IMMORAL_NONE            걔네 커뮤니티에 좌표 찍혔나보다ㅋㅋ\n",
            "14337   IMMORAL_NONE       그러게. 난 저런 인품 좋은 사람이 좋던데.\n",
            "18204   IMMORAL_NONE              아... 그 생각을 못했네 ㅋㅋ\n",
            "184054  IMMORAL_NONE             나 피자 먹방 하는 거 잘 봤냐?\n",
            "\n",
            "[41000 rows x 2 columns]\n"
          ]
        }
      ],
      "source": [
        "import pandas as pd\n",
        "\n",
        "# 'IMMORAL_NONE' 포함된 데이터프레임 추출\n",
        "t_moral_df = train_df[train_df[4].str.contains(\"IMMORAL_NONE\")]\n",
        "t_moral_df2 = train2_df[train2_df[4].str.contains(\"IMMORAL_NONE\")]\n",
        "\n",
        "# 대화 유형과 텍스트 메세지만 추출\n",
        "t_moral_selected_df = t_moral_df.iloc[:, [4, 5]]\n",
        "t_moral_selected_df2 = t_moral_df2.iloc[:, [4, 5]]\n",
        "\n",
        "# 두 데이터프레임 병합\n",
        "merged_df = pd.concat([t_moral_selected_df, t_moral_selected_df2])\n",
        "\n",
        "# 40100개 또는 가능한 최대 개수로 줄이기\n",
        "sample_size = min(41000, len(merged_df))\n",
        "merged_t_moral_df = merged_df.sample(n=sample_size, random_state=1)\n",
        "\n",
        "# CSV로 저장\n",
        "merged_t_moral_df.to_csv(\"t_selected_data.csv\", index=False, header=None)\n",
        "\n",
        "# 결과 출력\n",
        "print(merged_t_moral_df)"
      ]
    },
    {
      "cell_type": "code",
      "execution_count": null,
      "metadata": {
        "id": "w-7HNNVjQQzo"
      },
      "outputs": [],
      "source": [
        "# 대화 유형이 \"ABUSE\", \"VIOLENCE\", \"CRIME\" 중 하나를 단독으로 포함하는 대화 추출\n",
        "t_violence_df = train_df[train_df[4].str.contains(\"VIOLENCE|CRIME|ABUSE\")]\n",
        "\n",
        "# 대화 유형과 텍스트 메세지만 추출\n",
        "t_violence_selected_df = t_violence_df.iloc[:, [4, 5]]\n",
        "\n",
        "# CSV로 저장\n",
        "t_violence_selected_df.to_csv(\"t_violence_selected_df.csv\", index=False, header=None)\n",
        "print(t_violence_selected_df)"
      ]
    },
    {
      "cell_type": "code",
      "execution_count": 19,
      "metadata": {
        "colab": {
          "base_uri": "https://localhost:8080/"
        },
        "id": "3-QB1WIQtjZc",
        "outputId": "51c22321-b7fa-43ec-f9f1-f86ca15a75c1"
      },
      "outputs": [
        {
          "output_type": "stream",
          "name": "stdout",
          "text": [
            "                          4                         5\n",
            "5       HATE,CENSURE,SEXUAL    특히 벗방보는 애들은 진짜 거세 시켜야함\n",
            "6            CENSURE,SEXUAL        볼 게 없어서 벗방을 보냐 ㅋㅋㅋ\n",
            "11           CENSURE,SEXUAL      에로배우들을 데려다가 아이돌을 만드네\n",
            "12           CENSURE,SEXUAL         쟤네들은 표정이 딱 야동인데..\n",
            "26             ABUSE,SEXUAL            줫빠지게 힘들어서 잣같았다\n",
            "...                     ...                       ...\n",
            "252960         IMMORAL_NONE            미간은 수술할 방법이 없나\n",
            "263663         IMMORAL_NONE       걔네 커뮤니티에 좌표 찍혔나보다ㅋㅋ\n",
            "14337          IMMORAL_NONE  그러게. 난 저런 인품 좋은 사람이 좋던데.\n",
            "18204          IMMORAL_NONE         아... 그 생각을 못했네 ㅋㅋ\n",
            "184054         IMMORAL_NONE        나 피자 먹방 하는 거 잘 봤냐?\n",
            "\n",
            "[81907 rows x 2 columns]\n"
          ]
        }
      ],
      "source": [
        "t_merged_df = pd.concat([merged_t_sexual_df, merged_t_moral_df])\n",
        "t_merged_df.to_csv(\"t_test_data.csv\", index=False, header=None)\n",
        "print(t_merged_df)"
      ]
    },
    {
      "cell_type": "code",
      "execution_count": 20,
      "metadata": {
        "colab": {
          "base_uri": "https://localhost:8080/"
        },
        "id": "zatBXyD61Uel",
        "outputId": "fde6900c-efbc-4bc5-a4a3-8eaa37495017"
      },
      "outputs": [
        {
          "output_type": "stream",
          "name": "stdout",
          "text": [
            "Collecting torchtext==0.6.0\n",
            "  Downloading torchtext-0.6.0-py3-none-any.whl (64 kB)\n",
            "\u001b[?25l     \u001b[90m━━━━━━━━━━━━━━━━━━━━━━━━━━━━━━━━━━━━━━━━\u001b[0m \u001b[32m0.0/64.2 kB\u001b[0m \u001b[31m?\u001b[0m eta \u001b[36m-:--:--\u001b[0m\r\u001b[2K     \u001b[90m━━━━━━━━━━━━━━━━━━━━━━━━━━━━━━━━━━━━━━━━\u001b[0m \u001b[32m64.2/64.2 kB\u001b[0m \u001b[31m2.8 MB/s\u001b[0m eta \u001b[36m0:00:00\u001b[0m\n",
            "\u001b[?25hRequirement already satisfied: tqdm in /usr/local/lib/python3.10/dist-packages (from torchtext==0.6.0) (4.66.4)\n",
            "Requirement already satisfied: requests in /usr/local/lib/python3.10/dist-packages (from torchtext==0.6.0) (2.31.0)\n",
            "Requirement already satisfied: torch in /usr/local/lib/python3.10/dist-packages (from torchtext==0.6.0) (2.3.0+cu121)\n",
            "Requirement already satisfied: numpy in /usr/local/lib/python3.10/dist-packages (from torchtext==0.6.0) (1.25.2)\n",
            "Requirement already satisfied: six in /usr/local/lib/python3.10/dist-packages (from torchtext==0.6.0) (1.16.0)\n",
            "Requirement already satisfied: sentencepiece in /usr/local/lib/python3.10/dist-packages (from torchtext==0.6.0) (0.1.99)\n",
            "Requirement already satisfied: charset-normalizer<4,>=2 in /usr/local/lib/python3.10/dist-packages (from requests->torchtext==0.6.0) (3.3.2)\n",
            "Requirement already satisfied: idna<4,>=2.5 in /usr/local/lib/python3.10/dist-packages (from requests->torchtext==0.6.0) (3.7)\n",
            "Requirement already satisfied: urllib3<3,>=1.21.1 in /usr/local/lib/python3.10/dist-packages (from requests->torchtext==0.6.0) (2.0.7)\n",
            "Requirement already satisfied: certifi>=2017.4.17 in /usr/local/lib/python3.10/dist-packages (from requests->torchtext==0.6.0) (2024.6.2)\n",
            "Requirement already satisfied: filelock in /usr/local/lib/python3.10/dist-packages (from torch->torchtext==0.6.0) (3.14.0)\n",
            "Requirement already satisfied: typing-extensions>=4.8.0 in /usr/local/lib/python3.10/dist-packages (from torch->torchtext==0.6.0) (4.12.2)\n",
            "Requirement already satisfied: sympy in /usr/local/lib/python3.10/dist-packages (from torch->torchtext==0.6.0) (1.12.1)\n",
            "Requirement already satisfied: networkx in /usr/local/lib/python3.10/dist-packages (from torch->torchtext==0.6.0) (3.3)\n",
            "Requirement already satisfied: jinja2 in /usr/local/lib/python3.10/dist-packages (from torch->torchtext==0.6.0) (3.1.4)\n",
            "Requirement already satisfied: fsspec in /usr/local/lib/python3.10/dist-packages (from torch->torchtext==0.6.0) (2023.6.0)\n",
            "Collecting nvidia-cuda-nvrtc-cu12==12.1.105 (from torch->torchtext==0.6.0)\n",
            "  Using cached nvidia_cuda_nvrtc_cu12-12.1.105-py3-none-manylinux1_x86_64.whl (23.7 MB)\n",
            "Collecting nvidia-cuda-runtime-cu12==12.1.105 (from torch->torchtext==0.6.0)\n",
            "  Using cached nvidia_cuda_runtime_cu12-12.1.105-py3-none-manylinux1_x86_64.whl (823 kB)\n",
            "Collecting nvidia-cuda-cupti-cu12==12.1.105 (from torch->torchtext==0.6.0)\n",
            "  Using cached nvidia_cuda_cupti_cu12-12.1.105-py3-none-manylinux1_x86_64.whl (14.1 MB)\n",
            "Collecting nvidia-cudnn-cu12==8.9.2.26 (from torch->torchtext==0.6.0)\n",
            "  Using cached nvidia_cudnn_cu12-8.9.2.26-py3-none-manylinux1_x86_64.whl (731.7 MB)\n",
            "Collecting nvidia-cublas-cu12==12.1.3.1 (from torch->torchtext==0.6.0)\n",
            "  Using cached nvidia_cublas_cu12-12.1.3.1-py3-none-manylinux1_x86_64.whl (410.6 MB)\n",
            "Collecting nvidia-cufft-cu12==11.0.2.54 (from torch->torchtext==0.6.0)\n",
            "  Using cached nvidia_cufft_cu12-11.0.2.54-py3-none-manylinux1_x86_64.whl (121.6 MB)\n",
            "Collecting nvidia-curand-cu12==10.3.2.106 (from torch->torchtext==0.6.0)\n",
            "  Using cached nvidia_curand_cu12-10.3.2.106-py3-none-manylinux1_x86_64.whl (56.5 MB)\n",
            "Collecting nvidia-cusolver-cu12==11.4.5.107 (from torch->torchtext==0.6.0)\n",
            "  Using cached nvidia_cusolver_cu12-11.4.5.107-py3-none-manylinux1_x86_64.whl (124.2 MB)\n",
            "Collecting nvidia-cusparse-cu12==12.1.0.106 (from torch->torchtext==0.6.0)\n",
            "  Using cached nvidia_cusparse_cu12-12.1.0.106-py3-none-manylinux1_x86_64.whl (196.0 MB)\n",
            "Collecting nvidia-nccl-cu12==2.20.5 (from torch->torchtext==0.6.0)\n",
            "  Using cached nvidia_nccl_cu12-2.20.5-py3-none-manylinux2014_x86_64.whl (176.2 MB)\n",
            "Collecting nvidia-nvtx-cu12==12.1.105 (from torch->torchtext==0.6.0)\n",
            "  Using cached nvidia_nvtx_cu12-12.1.105-py3-none-manylinux1_x86_64.whl (99 kB)\n",
            "Requirement already satisfied: triton==2.3.0 in /usr/local/lib/python3.10/dist-packages (from torch->torchtext==0.6.0) (2.3.0)\n",
            "Collecting nvidia-nvjitlink-cu12 (from nvidia-cusolver-cu12==11.4.5.107->torch->torchtext==0.6.0)\n",
            "  Downloading nvidia_nvjitlink_cu12-12.5.40-py3-none-manylinux2014_x86_64.whl (21.3 MB)\n",
            "\u001b[2K     \u001b[90m━━━━━━━━━━━━━━━━━━━━━━━━━━━━━━━━━━━━━━━━\u001b[0m \u001b[32m21.3/21.3 MB\u001b[0m \u001b[31m59.3 MB/s\u001b[0m eta \u001b[36m0:00:00\u001b[0m\n",
            "\u001b[?25hRequirement already satisfied: MarkupSafe>=2.0 in /usr/local/lib/python3.10/dist-packages (from jinja2->torch->torchtext==0.6.0) (2.1.5)\n",
            "Requirement already satisfied: mpmath<1.4.0,>=1.1.0 in /usr/local/lib/python3.10/dist-packages (from sympy->torch->torchtext==0.6.0) (1.3.0)\n",
            "Installing collected packages: nvidia-nvtx-cu12, nvidia-nvjitlink-cu12, nvidia-nccl-cu12, nvidia-curand-cu12, nvidia-cufft-cu12, nvidia-cuda-runtime-cu12, nvidia-cuda-nvrtc-cu12, nvidia-cuda-cupti-cu12, nvidia-cublas-cu12, nvidia-cusparse-cu12, nvidia-cudnn-cu12, nvidia-cusolver-cu12, torchtext\n",
            "  Attempting uninstall: torchtext\n",
            "    Found existing installation: torchtext 0.18.0\n",
            "    Uninstalling torchtext-0.18.0:\n",
            "      Successfully uninstalled torchtext-0.18.0\n",
            "Successfully installed nvidia-cublas-cu12-12.1.3.1 nvidia-cuda-cupti-cu12-12.1.105 nvidia-cuda-nvrtc-cu12-12.1.105 nvidia-cuda-runtime-cu12-12.1.105 nvidia-cudnn-cu12-8.9.2.26 nvidia-cufft-cu12-11.0.2.54 nvidia-curand-cu12-10.3.2.106 nvidia-cusolver-cu12-11.4.5.107 nvidia-cusparse-cu12-12.1.0.106 nvidia-nccl-cu12-2.20.5 nvidia-nvjitlink-cu12-12.5.40 nvidia-nvtx-cu12-12.1.105 torchtext-0.6.0\n"
          ]
        }
      ],
      "source": [
        "!pip install torchtext==0.6.0"
      ]
    },
    {
      "cell_type": "code",
      "execution_count": 21,
      "metadata": {
        "colab": {
          "base_uri": "https://localhost:8080/"
        },
        "id": "z79vV3Na7NoK",
        "outputId": "4e3cad7e-cf1c-44a7-a780-22ace289d3c0"
      },
      "outputs": [
        {
          "output_type": "stream",
          "name": "stdout",
          "text": [
            "10               쉴드가 아니라 국가가 면제해준거야.\n",
            "17                     짐승입장도 들어봐야지ㅋㅋ\n",
            "19                 <이름>이 이제 급하긴 한가보네\n",
            "20                    깐부라고 부르기까지 하다니\n",
            "22       어머니 간 이식 해 주기 싫어서 도망쳤다고...?\n",
            "                    ...             \n",
            "45929    기다려라. 이 언니가 먼저 경험하고 조언해줄테니.\n",
            "45930        피해자가 왜 2차 피해까지 당해야 하는거지\n",
            "45931                 법도 세상도 너무하다 정말\n",
            "45932           너희 가족이라도 그런소리 할수 있어?\n",
            "45933            피해자들을 두번 죽이는 발언이잖아.\n",
            "Name: 5, Length: 187671, dtype: object\n"
          ]
        }
      ],
      "source": [
        "# 섹슈얼 데이터에서 전처리할 텍스트\n",
        "text_column =merged_df.iloc[:, 1]\n",
        "print(text_column)"
      ]
    },
    {
      "cell_type": "code",
      "execution_count": 22,
      "metadata": {
        "colab": {
          "base_uri": "https://localhost:8080/"
        },
        "id": "ec9NOop4WKAQ",
        "outputId": "2087b9ce-605e-4eb4-f1aa-d5216cc60d98"
      },
      "outputs": [
        {
          "output_type": "stream",
          "name": "stdout",
          "text": [
            "                  4                            5\n",
            "10     IMMORAL_NONE          쉴드가 아니라 국가가 면제해준거야.\n",
            "17     IMMORAL_NONE                짐승입장도 들어봐야지ㅋㅋ\n",
            "19     IMMORAL_NONE            <이름>이 이제 급하긴 한가보네\n",
            "20     IMMORAL_NONE               깐부라고 부르기까지 하다니\n",
            "22     IMMORAL_NONE  어머니 간 이식 해 주기 싫어서 도망쳤다고...?\n",
            "...             ...                          ...\n",
            "45929  IMMORAL_NONE  기다려라. 이 언니가 먼저 경험하고 조언해줄테니.\n",
            "45930  IMMORAL_NONE      피해자가 왜 2차 피해까지 당해야 하는거지\n",
            "45931  IMMORAL_NONE               법도 세상도 너무하다 정말\n",
            "45932  IMMORAL_NONE         너희 가족이라도 그런소리 할수 있어?\n",
            "45933  IMMORAL_NONE          피해자들을 두번 죽이는 발언이잖아.\n",
            "\n",
            "[187671 rows x 2 columns]\n"
          ]
        }
      ],
      "source": [
        "print(merged_df)"
      ]
    },
    {
      "cell_type": "code",
      "execution_count": 23,
      "metadata": {
        "colab": {
          "base_uri": "https://localhost:8080/"
        },
        "id": "vGeSzJdB0Vvy",
        "outputId": "84931efe-7d82-4ac5-91bc-7dad61c2e594"
      },
      "outputs": [
        {
          "output_type": "stream",
          "name": "stdout",
          "text": [
            "                         4                                             5\n",
            "22     CENSURE,HATE,SEXUAL     [충격, 은, 니, ㅂㅈ, 속, 에서, 나올, 때, 니, 엄마, 받는거고]\n",
            "32                  SEXUAL                           [어제, 얘, 따먹음, 물, 콸콸]\n",
            "33            SEXUAL,CRIME                        [영상, 없음, 담, 엔, 찍어, 와라]\n",
            "34            SEXUAL,CRIME                                 [오케, 무조건, 이지]\n",
            "38                  SEXUAL  [ㅈ, 물, 처럼, 차, 버린, 뇌, 내, 망상, 배설, 하, 니까, 시원하다]\n",
            "...                    ...                                           ...\n",
            "17522         IMMORAL_NONE              [이번, 시험, 문제, 완전, 이상한것, 나오지, 않았어]\n",
            "13081         IMMORAL_NONE                      [난, 아파서, 맞는것도, 싫고, 무섭던데]\n",
            "10555         IMMORAL_NONE      [아이고, 외롭겠다, 외로우니까, 더, 더욱, 우리, 친구, 되어줘야지]\n",
            "21293         IMMORAL_NONE                     [때, 내, 최애, 선수였다, 지켜줘, ㅜㅜ]\n",
            "15409         IMMORAL_NONE                        [나, 뭔가, 근데, 기적, 을, 믿어]\n",
            "\n",
            "[10974 rows x 2 columns]\n"
          ]
        }
      ],
      "source": [
        "from konlpy.tag import Okt\n",
        "import re\n",
        "import pandas as pd\n",
        "\n",
        "# 섹슈얼 데이터만 추출한 데이터프레임인 sexual_df가 이미 생성되어 있다고 가정합니다.\n",
        "# 여기에 대해 전처리 작업을 수행하겠습니다.\n",
        "\n",
        "# 형태소 분석기 초기화\n",
        "tokenizer = Okt()\n",
        "\n",
        "# 텍스트 전처리 함수\n",
        "def preprocess_text(text):\n",
        "    # 특수문자 및 반복적인 문자 제거\n",
        "    text = re.sub(r'[^\\w\\s]', '', text)  # 특수문자 제거\n",
        "    # \"ㅋㅋ, ㅎㅎ\"와 같은 특정한 문자열 패턴 제거\n",
        "    text = re.sub(r'ㅋ+', '', text)\n",
        "    text = re.sub(r'ㅎ+', '', text)\n",
        "    text = re.sub(r'ㅠ+', '', text)\n",
        "    text = re.sub(r'ㅡㅡ', '', text)\n",
        "    text = re.sub(r'(.)\\1+', r'\\1\\1', text)  # 반복적인 문자 축약\n",
        "    # 형태소 분석 및 불용어 처리\n",
        "    morphs = tokenizer.morphs(text)\n",
        "    stopwords = ['의','가','에','들','는','잘','걍','과','도','를','으로','한','하다', '히', '힣', '흠', '!','?','<','>','(',')','[',']','|','#','.']\n",
        "    filtered_morphs = [word for word in morphs if not word in stopwords]\n",
        "    return filtered_morphs\n",
        "\n",
        "# 2번째 열 선택 (대화 텍스트)\n",
        "text_column = test_merged_df.iloc[:, 1]\n",
        "\n",
        "# 열을 문자열로 변환\n",
        "text_column_str = text_column.astype(str)\n",
        "\n",
        "# 텍스트 전처리 적용\n",
        "preprocessed_text_column = text_column_str.apply(preprocess_text)\n",
        "\n",
        "# 1번째 열 선택 (moral, sexual 라벨)\n",
        "id_column = test_merged_df.iloc[:, 0]\n",
        "\n",
        "# 1번째 열과 2번째 열 (라벨, 텍스트) 합쳐서 하나로 반환\n",
        "result_df = pd.concat([id_column, preprocessed_text_column], axis=1)\n",
        "\n",
        "# CSV로 저장\n",
        "result_df.to_csv(\"result_df.csv\", index=False, header=None)\n",
        "print(result_df)"
      ]
    },
    {
      "cell_type": "code",
      "execution_count": 25,
      "metadata": {
        "colab": {
          "base_uri": "https://localhost:8080/"
        },
        "id": "xZh_6a6cvfAA",
        "outputId": "342d3406-3c5d-4071-fb5d-edd1d58df9b3"
      },
      "outputs": [
        {
          "output_type": "stream",
          "name": "stdout",
          "text": [
            "                          4                                   5\n",
            "5       HATE,CENSURE,SEXUAL  [특히, 벗방, 보는, 애, 은, 진짜, 거세, 시켜, 야함]\n",
            "6            CENSURE,SEXUAL              [볼, 게, 없어서, 벗방, 을, 보냐]\n",
            "11           CENSURE,SEXUAL    [에로, 배우, 을, 데려다가, 아이돌, 을, 만드, 네]\n",
            "12           CENSURE,SEXUAL        [쟤, 네, 들은, 표정, 이, 딱, 야동, 인데]\n",
            "26             ABUSE,SEXUAL              [줫빠지, 게, 힘들어서, 잣, 같았다]\n",
            "...                     ...                                 ...\n",
            "252960         IMMORAL_NONE         [미, 간, 은, 수술, 할, 방법, 이, 없나]\n",
            "263663         IMMORAL_NONE               [걔네, 커뮤니티, 좌표, 찍혔나보다]\n",
            "14337          IMMORAL_NONE    [그러게, 난, 저런, 인품, 좋은, 사람, 이, 좋던데]\n",
            "18204          IMMORAL_NONE                [아, 그, 생각, 을, 못, 했네]\n",
            "184054         IMMORAL_NONE              [나, 피자, 먹방, 하는, 거, 봤냐]\n",
            "\n",
            "[81907 rows x 2 columns]\n"
          ]
        }
      ],
      "source": [
        "from konlpy.tag import Okt\n",
        "import re\n",
        "import pandas as pd\n",
        "\n",
        "# 섹슈얼 데이터만 추출한 데이터프레임인 sexual_df가 이미 생성되어 있다고 가정합니다.\n",
        "# 여기에 대해 전처리 작업을 수행하겠습니다.\n",
        "\n",
        "# 형태소 분석기 초기화\n",
        "tokenizer = Okt()\n",
        "\n",
        "# 텍스트 전처리 함수\n",
        "def preprocess_text(text):\n",
        "    # 특수문자 및 반복적인 문자 제거\n",
        "    text = re.sub(r'[^\\w\\s]', '', text)  # 특수문자 제거\n",
        "    # \"ㅋㅋ, ㅎㅎ\"와 같은 특정한 문자열 패턴 제거\n",
        "    text = re.sub(r'ㅋ+', '', text)\n",
        "    text = re.sub(r'ㅎ+', '', text)\n",
        "    text = re.sub(r'ㅠ+', '', text)\n",
        "    text = re.sub(r'ㅡㅡ', '', text)\n",
        "    text = re.sub(r'(.)\\1+', r'\\1\\1', text)  # 반복적인 문자 축약\n",
        "    # 형태소 분석 및 불용어 처리\n",
        "    morphs = tokenizer.morphs(text)\n",
        "    stopwords = ['의','가','에','들','는','잘','걍','과','도','를','으로','한','하다', '히', '힣', '흠', '!','?','<','>','(',')','[',']','|','#','.']\n",
        "    filtered_morphs = [word for word in morphs if not word in stopwords]\n",
        "    return filtered_morphs\n",
        "\n",
        "# 2번째 열 선택 (대화 텍스트)\n",
        "t_text_column = t_merged_df.iloc[:, 1]\n",
        "\n",
        "# 열을 문자열로 변환\n",
        "t_text_column_str = t_text_column.astype(str)\n",
        "\n",
        "# 텍스트 전처리 적용\n",
        "t_preprocessed_text_column = t_text_column_str.apply(preprocess_text)\n",
        "\n",
        "# 1번째 열 선택 (moral, sexual 라벨)\n",
        "t_id_column = t_merged_df.iloc[:, 0]\n",
        "\n",
        "# 1번째 열과 2번째 열 (라벨, 텍스트) 합쳐서 하나로 반환\n",
        "t_result_df = pd.concat([t_id_column, t_preprocessed_text_column], axis=1)\n",
        "\n",
        "# CSV로 저장\n",
        "t_result_df.to_csv(\"t_result_df.csv\", index=False, header=None)\n",
        "print(t_result_df)"
      ]
    },
    {
      "cell_type": "markdown",
      "metadata": {
        "id": "M0sVTPqFa9Mg"
      },
      "source": [
        "BERT 모델링\n"
      ]
    },
    {
      "cell_type": "code",
      "execution_count": 26,
      "metadata": {
        "id": "jbEqLnTxa7bZ"
      },
      "outputs": [],
      "source": [
        "import torch\n",
        "import pandas as pd\n",
        "from transformers import BertTokenizer, BertForSequenceClassification\n",
        "from torch.utils.data import DataLoader, Dataset\n",
        "from sklearn.model_selection import train_test_split"
      ]
    },
    {
      "cell_type": "code",
      "execution_count": 27,
      "metadata": {
        "id": "YPv8HcBAQCeL"
      },
      "outputs": [],
      "source": [
        "import pandas as pd\n",
        "from sklearn.model_selection import train_test_split\n",
        "\n",
        "# 트레인 데이터 로드 및 전처리\n",
        "train_data = pd.read_csv(\"t_result_df.csv\", header=None, names=['label', 'text'])\n",
        "train_data['label'] = train_data['label'].apply(lambda x: 0 if x == 'IMMORAL_NONE' else (1 if x == 'SEXUAL' else 2))\n",
        "\n",
        "# 테스트 데이터 로드 및 전처리\n",
        "test_data = pd.read_csv(\"result_df.csv\", header=None, names=['label', 'text'])\n",
        "test_data['label'] = test_data['label'].apply(lambda x: 0 if x == 'IMMORAL_NONE' else (1 if x == 'SEXUAL' else 2))\n",
        "\n",
        "# 트레인 데이터의 60%만 사용\n",
        "train_data, _ = train_test_split(train_data, train_size=0.6, random_state=42, stratify=train_data['label'])\n",
        "\n"
      ]
    },
    {
      "cell_type": "code",
      "execution_count": 28,
      "metadata": {
        "id": "o70UW0oNaji5"
      },
      "outputs": [],
      "source": [
        "import torch\n",
        "from torch.utils.data import Dataset\n",
        "from transformers import BertTokenizer\n",
        "\n",
        "class WeatherDataset(Dataset):\n",
        "    def __init__(self, dataframe, tokenizer, max_length):\n",
        "        self.dataframe = dataframe\n",
        "        self.tokenizer = tokenizer\n",
        "        self.max_length = max_length\n",
        "\n",
        "    def __len__(self):\n",
        "        return len(self.dataframe)\n",
        "\n",
        "    def __getitem__(self, idx):\n",
        "        text = self.dataframe.iloc[idx]['text']  # 전처리된 문장.\n",
        "        label = self.dataframe.iloc[idx]['label']  # 날씨 라벨.\n",
        "\n",
        "        # BERT 토크나이저를 사용하여 텍스트를 인코딩합니다.\n",
        "        encoding = self.tokenizer.encode_plus(\n",
        "            text,\n",
        "            add_special_tokens=True,\n",
        "            max_length=self.max_length,\n",
        "            padding='max_length',\n",
        "            truncation=True,\n",
        "            return_tensors='pt',\n",
        "            return_attention_mask=True,\n",
        "            return_token_type_ids=False,\n",
        "        )\n",
        "\n",
        "        return {\n",
        "            'input_ids': encoding['input_ids'].flatten(),\n",
        "            'attention_mask': encoding['attention_mask'].flatten(),\n",
        "            'label': torch.tensor(label, dtype=torch.long)  # 라벨을 torch tensor로 변환\n",
        "        }\n"
      ]
    },
    {
      "cell_type": "code",
      "execution_count": 29,
      "metadata": {
        "colab": {
          "base_uri": "https://localhost:8080/",
          "height": 376,
          "referenced_widgets": [
            "3a82e6dd96e0482b99bb6a120c4e6595",
            "797bc7c1b2a84d71a12f96af0e65a872",
            "d1e449739fa749149940041979c95423",
            "0f0aa8d3e8874ef09a4b89a3b0e595a8",
            "aa723d74e79a41fb866f31567e06c4a2",
            "f4bd6b364e9f491ba80476f385644e7f",
            "7893d1a8dfe44763a335965c34b1890b",
            "d780a74223e74c2ba1b3916314f92ff7",
            "529cd66fc9ae4cc6afe56ca28b272440",
            "db9a96ba77fb42839fd957a6b74d533a",
            "2ca36bc805a8428789d63f2b64942128",
            "c6560b06f77742b1b988151e6ed0729c",
            "d27ce9953a3a4defbf36b15d4c8175a1",
            "0d352d24a097446a8211783d9938a7e0",
            "63672969b2fc485282e172bce1129747",
            "8cf4bedf37b543ccbdfb401e772018eb",
            "23dcf2edda4846a8a05318c8554a2467",
            "c10abe7b6df841a0b39bed9fe9eb9038",
            "5a94a628491a4cc593edab72acc8e902",
            "d4bc8f638a594a7d88803519777884ce",
            "1435b4ae60b9473e9b33d184f2332983",
            "fa4ee8764de843b0aa13731221040ff6",
            "528bf23c88834f4ab71dcde5085dfb2e",
            "bd4aca779f6e463796db4f2b09497a2a",
            "6280431abfca4efebbe24aea25c6a44d",
            "c7b95c269beb4f40ac97f264bc770ad4",
            "269c58c4cc86442284b46c319607df3a",
            "1c32c3ff24a740b5a7f87496153c7054",
            "8f8d77f50fd34f3f98f486d746514f5a",
            "2e80263d1073447f9692b29a7af65572",
            "29f4acef81f741ff886c1d271c09a179",
            "447dd0ec2d494892af4c70434a7ffca6",
            "164f0af3b1ac485087f334fa207c50d6",
            "5d8f6f516be34bf8b4b6a8a8dd75bb17",
            "259d834adf5148d290f4adf384e0389a",
            "f952dc90e35740f587d32820265a33e5",
            "e9c34a1c45bc493f8816087b7f0e366e",
            "6dde54d9f41c49ae89a1abeea41ed911",
            "ad38ab1466a8419390f1b6a7e989c510",
            "d3e91d6eb94b401bbe636466f940dcee",
            "fd2c29ef4d9344278dc5c42185a4d4d3",
            "8bb4219b11f24c478cececac82a806fa",
            "ceb116b1fac045ebb49b4f056f7c65e4",
            "dafccb297946410a89743a51922a17ee",
            "1a1396b90c8249109cfa5a31611bef71",
            "e44f50cb6fd84a3787f6ffa768828ebc",
            "876e026f236c49299e1273fbfd1e7c11",
            "e43f12e83eef46d5b0b77a8ee20c5d94",
            "788af5f45ff24e0ebf776b74e29d0dca",
            "5515a1d437024945b4846976380fe801",
            "a9e194c805474071804eeb913d3c3246",
            "db9805e9d51745fbbf0bdc34b1b60874",
            "f9689f9ddacd470596c24d904db39bac",
            "5989ad0633fa469ea19f51cd8a80862c",
            "b69764159c6e4925a66d73b79d5f8b5c"
          ]
        },
        "id": "FmdGyFb7bHpC",
        "outputId": "bd315cc8-6328-424b-9e3c-9ed964941e73"
      },
      "outputs": [
        {
          "output_type": "stream",
          "name": "stderr",
          "text": [
            "/usr/local/lib/python3.10/dist-packages/huggingface_hub/utils/_token.py:89: UserWarning: \n",
            "The secret `HF_TOKEN` does not exist in your Colab secrets.\n",
            "To authenticate with the Hugging Face Hub, create a token in your settings tab (https://huggingface.co/settings/tokens), set it as secret in your Google Colab and restart your session.\n",
            "You will be able to reuse this secret in all of your notebooks.\n",
            "Please note that authentication is recommended but still optional to access public models or datasets.\n",
            "  warnings.warn(\n"
          ]
        },
        {
          "output_type": "display_data",
          "data": {
            "text/plain": [
              "tokenizer_config.json:   0%|          | 0.00/49.0 [00:00<?, ?B/s]"
            ],
            "application/vnd.jupyter.widget-view+json": {
              "version_major": 2,
              "version_minor": 0,
              "model_id": "3a82e6dd96e0482b99bb6a120c4e6595"
            }
          },
          "metadata": {}
        },
        {
          "output_type": "display_data",
          "data": {
            "text/plain": [
              "vocab.txt:   0%|          | 0.00/996k [00:00<?, ?B/s]"
            ],
            "application/vnd.jupyter.widget-view+json": {
              "version_major": 2,
              "version_minor": 0,
              "model_id": "c6560b06f77742b1b988151e6ed0729c"
            }
          },
          "metadata": {}
        },
        {
          "output_type": "display_data",
          "data": {
            "text/plain": [
              "tokenizer.json:   0%|          | 0.00/1.96M [00:00<?, ?B/s]"
            ],
            "application/vnd.jupyter.widget-view+json": {
              "version_major": 2,
              "version_minor": 0,
              "model_id": "528bf23c88834f4ab71dcde5085dfb2e"
            }
          },
          "metadata": {}
        },
        {
          "output_type": "stream",
          "name": "stderr",
          "text": [
            "/usr/local/lib/python3.10/dist-packages/huggingface_hub/file_download.py:1132: FutureWarning: `resume_download` is deprecated and will be removed in version 1.0.0. Downloads always resume when possible. If you want to force a new download, use `force_download=True`.\n",
            "  warnings.warn(\n"
          ]
        },
        {
          "output_type": "display_data",
          "data": {
            "text/plain": [
              "config.json:   0%|          | 0.00/625 [00:00<?, ?B/s]"
            ],
            "application/vnd.jupyter.widget-view+json": {
              "version_major": 2,
              "version_minor": 0,
              "model_id": "5d8f6f516be34bf8b4b6a8a8dd75bb17"
            }
          },
          "metadata": {}
        },
        {
          "output_type": "display_data",
          "data": {
            "text/plain": [
              "model.safetensors:   0%|          | 0.00/714M [00:00<?, ?B/s]"
            ],
            "application/vnd.jupyter.widget-view+json": {
              "version_major": 2,
              "version_minor": 0,
              "model_id": "1a1396b90c8249109cfa5a31611bef71"
            }
          },
          "metadata": {}
        },
        {
          "output_type": "stream",
          "name": "stderr",
          "text": [
            "Some weights of BertForSequenceClassification were not initialized from the model checkpoint at bert-base-multilingual-cased and are newly initialized: ['classifier.bias', 'classifier.weight']\n",
            "You should probably TRAIN this model on a down-stream task to be able to use it for predictions and inference.\n"
          ]
        }
      ],
      "source": [
        "from transformers import BertTokenizer, BertForSequenceClassification\n",
        "import torch\n",
        "from torch.utils.data import DataLoader\n",
        "from tqdm import tqdm\n",
        "\n",
        "tokenizer = BertTokenizer.from_pretrained('bert-base-multilingual-cased')\n",
        "max_length = 128\n",
        "\n",
        "# 데이터셋 및 데이터로더 생성\n",
        "train_dataset = WeatherDataset(train_data, tokenizer, max_length)\n",
        "test_dataset = WeatherDataset(test_data, tokenizer, max_length)\n",
        "train_loader = DataLoader(train_dataset, batch_size=8, shuffle=True)\n",
        "test_loader = DataLoader(test_dataset, batch_size=8, shuffle=False)\n",
        "\n",
        "# BERT 모델 로드\n",
        "model = BertForSequenceClassification.from_pretrained(\n",
        "    'bert-base-multilingual-cased',\n",
        "    num_labels=2,  # 총 2개로 분류\n",
        "    output_attentions=False,\n",
        "    output_hidden_states=False\n",
        ")\n",
        "\n",
        "device = torch.device('cuda' if torch.cuda.is_available() else 'cpu')\n",
        "model.to(device)\n",
        "\n",
        "optimizer = torch.optim.AdamW(model.parameters(), lr=2e-5)\n",
        "\n",
        "criterion = torch.nn.CrossEntropyLoss()"
      ]
    },
    {
      "cell_type": "code",
      "execution_count": 30,
      "metadata": {
        "id": "ekV-oNrxbPVT"
      },
      "outputs": [],
      "source": [
        "def train_epoch(model, data_loader, optimizer, criterion, device):\n",
        "    model.train()\n",
        "    epoch_loss = 0\n",
        "    correct_predictions = 0\n",
        "    total_predictions = 0\n",
        "    for batch in data_loader:\n",
        "        input_ids = batch['input_ids'].to(device)\n",
        "        attention_mask = batch['attention_mask'].to(device)\n",
        "        labels = batch['rain_intensity'].to(device)\n",
        "        optimizer.zero_grad()\n",
        "        outputs = model(input_ids, attention_mask=attention_mask)\n",
        "        predictions = torch.argmax(outputs.logits, dim=1)\n",
        "        correct_predictions += torch.sum(predictions == labels).item()\n",
        "        total_predictions += len(labels)\n",
        "        loss = criterion(outputs.logits, labels)\n",
        "        loss.backward()\n",
        "        optimizer.step()\n",
        "        epoch_loss += loss.item()\n",
        "    accuracy = correct_predictions / total_predictions\n",
        "    return epoch_loss / len(data_loader), accuracy\n",
        "\n",
        "def evaluate(model, data_loader, criterion, device):\n",
        "    model.eval()\n",
        "    epoch_loss = 0\n",
        "    correct_predictions = 0\n",
        "    total_predictions = 0\n",
        "    with torch.no_grad():\n",
        "        for batch in data_loader:\n",
        "            input_ids = batch['input_ids'].to(device)\n",
        "            attention_mask = batch['attention_mask'].to(device)\n",
        "            labels = batch['label'].to(device)\n",
        "            outputs = model(input_ids, attention_mask=attention_mask)\n",
        "            predictions = torch.argmax(outputs.logits, dim=1)\n",
        "            correct_predictions += torch.sum(predictions == labels).item()\n",
        "            total_predictions += len(labels)\n",
        "            loss = criterion(outputs.logits, labels)\n",
        "            epoch_loss += loss.item()\n",
        "    accuracy = correct_predictions / total_predictions\n",
        "    return epoch_loss / len(data_loader), accuracy\n"
      ]
    },
    {
      "cell_type": "code",
      "execution_count": 31,
      "metadata": {
        "colab": {
          "base_uri": "https://localhost:8080/"
        },
        "id": "0OuU2lmhTh2f",
        "outputId": "60ecce1f-83ea-4f42-a9d0-75114023afaf"
      },
      "outputs": [
        {
          "output_type": "stream",
          "name": "stdout",
          "text": [
            "Requirement already satisfied: tqdm in /usr/local/lib/python3.10/dist-packages (4.66.4)\n",
            "Requirement already satisfied: scikit-learn in /usr/local/lib/python3.10/dist-packages (1.2.2)\n",
            "Requirement already satisfied: numpy>=1.17.3 in /usr/local/lib/python3.10/dist-packages (from scikit-learn) (1.25.2)\n",
            "Requirement already satisfied: scipy>=1.3.2 in /usr/local/lib/python3.10/dist-packages (from scikit-learn) (1.11.4)\n",
            "Requirement already satisfied: joblib>=1.1.1 in /usr/local/lib/python3.10/dist-packages (from scikit-learn) (1.4.2)\n",
            "Requirement already satisfied: threadpoolctl>=2.0.0 in /usr/local/lib/python3.10/dist-packages (from scikit-learn) (3.5.0)\n"
          ]
        }
      ],
      "source": [
        "!pip install tqdm scikit-learn"
      ]
    },
    {
      "cell_type": "code",
      "source": [
        "import pandas as pd\n",
        "from sklearn.model_selection import train_test_split\n",
        "import torch\n",
        "from torch.utils.data import Dataset, DataLoader\n",
        "from transformers import BertTokenizer, BertForSequenceClassification, get_linear_schedule_with_warmup\n",
        "import torch.nn as nn\n",
        "import torch.optim as optim\n",
        "from tqdm import tqdm\n",
        "import matplotlib.pyplot as plt\n",
        "from sklearn.metrics import f1_score\n",
        "from torch.cuda.amp import GradScaler, autocast\n",
        "\n",
        "# 데이터 로드 및 전처리\n",
        "train_data = pd.read_csv(\"t_result_df.csv\", header=None, names=['label', 'text'])\n",
        "train_data['label'] = train_data['label'].apply(lambda x: 0 if x == 'IMMORAL_NONE' else 1)\n",
        "\n",
        "test_data = pd.read_csv(\"result_df.csv\", header=None, names=['label', 'text'])\n",
        "test_data['label'] = test_data['label'].apply(lambda x: 0 if x == 'IMMORAL_NONE' else 1)\n",
        "\n",
        "# 트레인 데이터의 60%만 사용\n",
        "train_data, _ = train_test_split(train_data, train_size=0.6, random_state=42, stratify=train_data['label'])\n",
        "\n",
        "# BERT용 데이터셋 정의\n",
        "class BertDataset(Dataset):\n",
        "    def __init__(self, texts, labels, tokenizer, max_length):\n",
        "        self.texts = texts\n",
        "        self.labels = labels\n",
        "        self.tokenizer = tokenizer\n",
        "        self.max_length = max_length\n",
        "\n",
        "    def __len__(self):\n",
        "        return len(self.texts)\n",
        "\n",
        "    def __getitem__(self, idx):\n",
        "        text = self.texts[idx]\n",
        "        label = self.labels[idx]\n",
        "\n",
        "        encoding = self.tokenizer.encode_plus(\n",
        "            text,\n",
        "            add_special_tokens=True,\n",
        "            max_length=self.max_length,\n",
        "            padding='max_length',\n",
        "            truncation=True,\n",
        "            return_tensors='pt'\n",
        "        )\n",
        "\n",
        "        return {\n",
        "            'input_ids': encoding['input_ids'].flatten(),\n",
        "            'attention_mask': encoding['attention_mask'].flatten(),\n",
        "            'label': torch.tensor(label, dtype=torch.long)\n",
        "        }\n",
        "\n",
        "# 데이터셋 및 데이터로더 생성\n",
        "tokenizer = BertTokenizer.from_pretrained('bert-base-multilingual-cased')\n",
        "max_length = 128\n",
        "\n",
        "train_dataset = BertDataset(train_data['text'].values, train_data['label'].values, tokenizer, max_length)\n",
        "test_dataset = BertDataset(test_data['text'].values, test_data['label'].values, tokenizer, max_length)\n",
        "\n",
        "train_loader = DataLoader(train_dataset, batch_size=32, shuffle=True, num_workers=2)\n",
        "test_loader = DataLoader(test_dataset, batch_size=32, shuffle=False, num_workers=2)\n",
        "\n",
        "# BERT 모델 로드\n",
        "model = BertForSequenceClassification.from_pretrained(\n",
        "    'bert-base-multilingual-cased',\n",
        "    num_labels=2,  # 이진 분류\n",
        "    output_attentions=False,\n",
        "    output_hidden_states=False\n",
        ")\n",
        "\n",
        "device = torch.device('cuda' if torch.cuda.is_available() else 'cpu')\n",
        "model.to(device)\n",
        "\n",
        "optimizer = optim.AdamW(model.parameters(), lr=2e-5)\n",
        "criterion = nn.CrossEntropyLoss()\n",
        "scaler = GradScaler()\n",
        "\n",
        "# 학습률 스케줄러 설정\n",
        "total_steps = len(train_loader) * 5  # num_epochs를 5로 가정\n",
        "scheduler = get_linear_schedule_with_warmup(optimizer, num_warmup_steps=0, num_training_steps=total_steps)\n",
        "\n",
        "# 학습 및 평가 과정\n",
        "train_losses = []\n",
        "test_losses = []\n",
        "train_accuracies = []\n",
        "test_accuracies = []\n",
        "f1_scores = []\n",
        "\n",
        "plt.ion()  # 인터랙티브 모드 켜기\n",
        "\n",
        "def train_epoch(model, data_loader, optimizer, criterion, device, scaler, scheduler):\n",
        "    model.train()\n",
        "    epoch_loss = 0\n",
        "    correct_predictions = 0\n",
        "    total_predictions = 0\n",
        "    progress_bar = tqdm(data_loader, desc=\"Training\", leave=False)\n",
        "    for batch in progress_bar:\n",
        "        input_ids = batch['input_ids'].to(device)\n",
        "        attention_mask = batch['attention_mask'].to(device)\n",
        "        labels = batch['label'].to(device)\n",
        "\n",
        "        optimizer.zero_grad()\n",
        "\n",
        "        with autocast():\n",
        "            outputs = model(input_ids, attention_mask=attention_mask)\n",
        "            loss = criterion(outputs.logits, labels)\n",
        "\n",
        "        scaler.scale(loss).backward()\n",
        "        scaler.step(optimizer)\n",
        "        scaler.update()\n",
        "        scheduler.step()\n",
        "\n",
        "        predictions = torch.argmax(outputs.logits, dim=1)\n",
        "        correct_predictions += torch.sum(predictions == labels).item()\n",
        "        total_predictions += len(labels)\n",
        "        epoch_loss += loss.item()\n",
        "\n",
        "        progress_bar.set_postfix(loss=loss.item(), accuracy=correct_predictions / total_predictions)\n",
        "\n",
        "    accuracy = correct_predictions / total_predictions\n",
        "    return epoch_loss / len(data_loader), accuracy\n",
        "\n",
        "def evaluate(model, data_loader, criterion, device):\n",
        "    model.eval()\n",
        "    epoch_loss = 0\n",
        "    correct_predictions = 0\n",
        "    total_predictions = 0\n",
        "    all_predictions = []\n",
        "    all_labels = []\n",
        "    progress_bar = tqdm(data_loader, desc=\"Evaluating\", leave=False)\n",
        "    with torch.no_grad():\n",
        "        for batch in progress_bar:\n",
        "            input_ids = batch['input_ids'].to(device)\n",
        "            attention_mask = batch['attention_mask'].to(device)\n",
        "            labels = batch['label'].to(device)\n",
        "\n",
        "            outputs = model(input_ids, attention_mask=attention_mask)\n",
        "            loss = criterion(outputs.logits, labels)\n",
        "            epoch_loss += loss.item()\n",
        "\n",
        "            predictions = torch.argmax(outputs.logits, dim=1)\n",
        "            correct_predictions += torch.sum(predictions == labels).item()\n",
        "            total_predictions += len(labels)\n",
        "            all_predictions.extend(predictions.cpu().numpy())\n",
        "            all_labels.extend(labels.cpu().numpy())\n",
        "\n",
        "            progress_bar.set_postfix(loss=loss.item(), accuracy=correct_predictions / total_predictions)\n",
        "\n",
        "    accuracy = correct_predictions / total_predictions\n",
        "    f1 = f1_score(all_labels, all_predictions, average='binary')\n",
        "    return epoch_loss / len(data_loader), accuracy, f1\n",
        "\n",
        "num_epochs = 5\n",
        "for epoch in range(num_epochs):\n",
        "    train_loss, train_accuracy = train_epoch(model, train_loader, optimizer, criterion, device, scaler, scheduler)\n",
        "    test_loss, test_accuracy, f1 = evaluate(model, test_loader, criterion, device)\n",
        "\n",
        "    train_losses.append(train_loss)\n",
        "    train_accuracies.append(train_accuracy)\n",
        "    test_losses.append(test_loss)\n",
        "    test_accuracies.append(test_accuracy)\n",
        "    f1_scores.append(f1)\n",
        "\n",
        "    tqdm.write(f'Epoch {epoch + 1}/{num_epochs}')\n",
        "    tqdm.write(f'Train Loss: {train_loss:.4f}, Train Accuracy: {train_accuracy:.4f}')\n",
        "    tqdm.write(f'Test Loss: {test_loss:.4f}, Test Accuracy: {test_accuracy:.4f}')\n",
        "    tqdm.write(f'F1 Score: {f1:.4f}')\n",
        "\n",
        "    # 그래프 업데이트\n",
        "    plt.figure(figsize=(12, 6))\n",
        "    plt.subplot(1, 2, 1)\n",
        "    plt.plot(train_losses, label='Train Loss')\n",
        "    plt.plot(test_losses, label='Test Loss')\n",
        "    plt.xlabel('Epoch')\n",
        "    plt.ylabel('Loss')\n",
        "    plt.legend()\n",
        "\n",
        "    plt.subplot(1, 2, 2)\n",
        "    plt.plot(train_accuracies, label='Train Accuracy')\n",
        "    plt.plot(test_accuracies, label='Test Accuracy')\n",
        "    plt.xlabel('Epoch')\n",
        "    plt.ylabel('Accuracy')\n",
        "    plt.legend()\n",
        "\n",
        "    plt.tight_layout()\n",
        "    plt.pause(0.1)\n",
        "\n",
        "# 최종 그래프 표시\n",
        "plt.ioff()\n",
        "plt.show()\n",
        "\n",
        "# F1 스코어 시각화\n",
        "plt.figure(figsize=(12, 6))\n",
        "plt.plot(f1_scores, label='F1 Score')\n",
        "plt.xlabel('Epoch')\n",
        "plt.ylabel('F1 Score')\n",
        "plt.legend()\n",
        "plt.show()\n",
        "\n",
        "# 최종 모델 저장\n",
        "save_model_path = \"model.pth\"\n",
        "torch.save(model.state_dict(), save_model_path)\n",
        "print(f\"Model saved to {save_model_path}\")\n"
      ],
      "metadata": {
        "colab": {
          "base_uri": "https://localhost:8080/",
          "height": 1000
        },
        "id": "nqTpU3Ph0Tkz",
        "outputId": "a6b5866d-376d-4639-b66f-b42786399cf1"
      },
      "execution_count": 2,
      "outputs": [
        {
          "output_type": "stream",
          "name": "stderr",
          "text": [
            "/usr/local/lib/python3.10/dist-packages/huggingface_hub/utils/_token.py:89: UserWarning: \n",
            "The secret `HF_TOKEN` does not exist in your Colab secrets.\n",
            "To authenticate with the Hugging Face Hub, create a token in your settings tab (https://huggingface.co/settings/tokens), set it as secret in your Google Colab and restart your session.\n",
            "You will be able to reuse this secret in all of your notebooks.\n",
            "Please note that authentication is recommended but still optional to access public models or datasets.\n",
            "  warnings.warn(\n",
            "Some weights of BertForSequenceClassification were not initialized from the model checkpoint at bert-base-multilingual-cased and are newly initialized: ['classifier.bias', 'classifier.weight']\n",
            "You should probably TRAIN this model on a down-stream task to be able to use it for predictions and inference.\n"
          ]
        },
        {
          "output_type": "stream",
          "name": "stdout",
          "text": [
            "Epoch 1/5\n",
            "Train Loss: 0.3725, Train Accuracy: 0.8334\n",
            "Test Loss: 0.2975, Test Accuracy: 0.8677\n",
            "F1 Score: 0.8560\n"
          ]
        },
        {
          "output_type": "display_data",
          "data": {
            "text/plain": [
              "<Figure size 1200x600 with 2 Axes>"
            ],
            "image/png": "[encoded data removed]"
          },
          "metadata": {}
        },
        {
          "output_type": "stream",
          "name": "stderr",
          "text": []
        },
        {
          "output_type": "stream",
          "name": "stdout",
          "text": [
            "Epoch 2/5\n",
            "Train Loss: 0.2449, Train Accuracy: 0.9017\n",
            "Test Loss: 0.2556, Test Accuracy: 0.8984\n",
            "F1 Score: 0.8969\n"
          ]
        },
        {
          "output_type": "display_data",
          "data": {
            "text/plain": [
              "<Figure size 1200x600 with 2 Axes>"
            ],
            "image/png": "[encoded data removed]"
          },
          "metadata": {}
        },
        {
          "output_type": "stream",
          "name": "stderr",
          "text": []
        },
        {
          "output_type": "stream",
          "name": "stdout",
          "text": [
            "Epoch 3/5\n",
            "Train Loss: 0.1749, Train Accuracy: 0.9328\n",
            "Test Loss: 0.2669, Test Accuracy: 0.8955\n",
            "F1 Score: 0.8909\n"
          ]
        },
        {
          "output_type": "display_data",
          "data": {
            "text/plain": [
              "<Figure size 1200x600 with 2 Axes>"
            ],
            "image/png": "[encoded data removed]"
          },
          "metadata": {}
        },
        {
          "output_type": "stream",
          "name": "stderr",
          "text": []
        },
        {
          "output_type": "stream",
          "name": "stdout",
          "text": [
            "Epoch 4/5\n",
            "Train Loss: 0.1216, Train Accuracy: 0.9561\n",
            "Test Loss: 0.3084, Test Accuracy: 0.8983\n",
            "F1 Score: 0.8947\n"
          ]
        },
        {
          "output_type": "display_data",
          "data": {
            "text/plain": [
              "<Figure size 1200x600 with 2 Axes>"
            ],
            "image/png": "[encoded data removed]"
          },
          "metadata": {}
        },
        {
          "output_type": "stream",
          "name": "stderr",
          "text": []
        },
        {
          "output_type": "stream",
          "name": "stdout",
          "text": [
            "Epoch 5/5\n",
            "Train Loss: 0.0851, Train Accuracy: 0.9712\n",
            "Test Loss: 0.3285, Test Accuracy: 0.9011\n",
            "F1 Score: 0.8982\n"
          ]
        },
        {
          "output_type": "display_data",
          "data": {
            "text/plain": [
              "<Figure size 1200x600 with 2 Axes>"
            ],
            "image/png": "[encoded data removed]"
          },
          "metadata": {}
        },
        {
          "output_type": "display_data",
          "data": {
            "text/plain": [
              "<Figure size 1200x600 with 1 Axes>"
            ],
            "image/png": "[encoded data removed]"
          },
          "metadata": {}
        },
        {
          "output_type": "stream",
          "name": "stdout",
          "text": [
            "Model saved to model.pth\n"
          ]
        }
      ]
    },
    {
      "cell_type": "markdown",
      "metadata": {
        "id": "1EoJ80Qro0_s"
      },
      "source": [
        "에폭 5까지 진행한 결과,\n",
        "\n",
        "훈련 손실: 0.0851, 훈련 정확도: 0.9712\n",
        "\n",
        "테스트 손실: 0.3285, 테스트 정확도: 0.9011\n",
        "\n",
        "F1 Score: 0.8982\n",
        "\n",
        "다음과 같이 나타났습니다.\n"
      ]
    },
    {
      "cell_type": "markdown",
      "source": [
        "다음으로 학습된 모델을 기반으로 예시 문장 예측을 진행했습니다."
      ],
      "metadata": {
        "id": "XlHFjfbRlHMA"
      }
    },
    {
      "cell_type": "code",
      "source": [
        "# 예측 함수 정의\n",
        "def predict_class(sentence, model, tokenizer, max_length, device):\n",
        "    # 입력 문장 전처리\n",
        "    model.eval()\n",
        "    inputs = tokenizer.encode_plus(\n",
        "        sentence,\n",
        "        add_special_tokens=True,\n",
        "        max_length=max_length,\n",
        "        padding='max_length',\n",
        "        truncation=True,\n",
        "        return_tensors='pt'\n",
        "    )\n",
        "\n",
        "    input_ids = inputs['input_ids'].to(device)\n",
        "    attention_mask = inputs['attention_mask'].to(device)\n",
        "\n",
        "    # 예측 수행\n",
        "    with torch.no_grad():\n",
        "        outputs = model(input_ids, attention_mask=attention_mask)\n",
        "        logits = outputs.logits\n",
        "        probabilities = torch.softmax(logits, dim=1)\n",
        "        predicted_class = torch.argmax(probabilities, dim=1).item()\n",
        "\n",
        "    return predicted_class, probabilities\n"
      ],
      "metadata": {
        "colab": {
          "base_uri": "https://localhost:8080/"
        },
        "id": "pioB1c8w5nnb",
        "outputId": "b22bf6ff-4637-420b-fe78-4e00eda90256"
      },
      "execution_count": 3,
      "outputs": [
        {
          "output_type": "stream",
          "name": "stdout",
          "text": [
            "입력 문장: 나 오늘 성매매 할 거야.\n",
            "예측된 클래스: 0\n",
            "클래스 확률: tensor([[0.5455, 0.4545]], device='cuda:0')\n"
          ]
        }
      ]
    },
    {
      "cell_type": "code",
      "execution_count": 4,
      "metadata": {
        "id": "BBn6QSkmnLmD",
        "colab": {
          "base_uri": "https://localhost:8080/"
        },
        "outputId": "160924d3-e71c-4ed5-cdb8-61c8a341c595"
      },
      "outputs": [
        {
          "output_type": "stream",
          "name": "stdout",
          "text": [
            "입력 문장: 속옷 사진 보내줄 수 있니?\n",
            "예측된 클래스: 1\n",
            "클래스 확률: tensor([[0.2689, 0.7311]], device='cuda:0')\n"
          ]
        }
      ],
      "source": [
        "\n",
        "# 예측\n",
        "test_sentence = \"속옷 사진 보내줄 수 있니?\"\n",
        "predicted_class, probabilities = predict_class(test_sentence, model, tokenizer, max_length, device)\n",
        "\n",
        "print(f\"입력 문장: {test_sentence}\")\n",
        "\n",
        "# 0번이면 'IMMORAL_NONE(일반 대화)'이며, 1번이면 'SEXUAL'에 대한 확률입니다.\n",
        "print(f\"예측된 클래스: {predicted_class}\")\n",
        "\n",
        "# 배열에서 0번째는 0번 클래스, 즉 'IMMORAL_NONE'에 대한 확률이며, 1번째는 'SEXUAL'에 대한 확률입니다.\n",
        "print(f\"클래스 확률: {probabilities}\")"
      ]
    },
    {
      "cell_type": "code",
      "source": [
        "# 예측\n",
        "test_sentence = \"오픈 소스 수업 가야지\"\n",
        "predicted_class, probabilities = predict_class(test_sentence, model, tokenizer, max_length, device)\n",
        "\n",
        "print(f\"입력 문장: {test_sentence}\")\n",
        "print(f\"예측된 클래스: {predicted_class}\")\n",
        "print(f\"클래스 확률: {probabilities}\")"
      ],
      "metadata": {
        "colab": {
          "base_uri": "https://localhost:8080/"
        },
        "id": "5riIZrcy9unh",
        "outputId": "1bf0a383-a1af-43c4-b951-a598270fee3b"
      },
      "execution_count": 5,
      "outputs": [
        {
          "output_type": "stream",
          "name": "stdout",
          "text": [
            "입력 문장: 오픈 소스 수업 가야지\n",
            "예측된 클래스: 0\n",
            "클래스 확률: tensor([[0.9975, 0.0025]], device='cuda:0')\n"
          ]
        }
      ]
    },
    {
      "cell_type": "code",
      "source": [
        "# 예측\n",
        "test_sentence = \"여자친구랑 코딩하는건 재밌어\"\n",
        "predicted_class, probabilities = predict_class(test_sentence, model, tokenizer, max_length, device)\n",
        "\n",
        "print(f\"입력 문장: {test_sentence}\")\n",
        "print(f\"예측된 클래스: {predicted_class}\")\n",
        "# 배열에서 0번째는 0번 클래스, 즉 'IMMORAL_NONE'에 대한 확률이며, 1번째는 'SEXUAL'에 대한 확률입니다.\n",
        "print(f\"클래스 확률: {probabilities}\")"
      ],
      "metadata": {
        "colab": {
          "base_uri": "https://localhost:8080/"
        },
        "id": "e0PlnaYv_YuX",
        "outputId": "0ff0a5d8-933e-4397-8b50-246bd2eb24cc"
      },
      "execution_count": 23,
      "outputs": [
        {
          "output_type": "stream",
          "name": "stdout",
          "text": [
            "입력 문장: 여자친구랑 코딩하는건 재밌어\n",
            "예측된 클래스: 0\n",
            "클래스 확률: tensor([[0.7319, 0.2681]], device='cuda:0')\n"
          ]
        }
      ]
    },
    {
      "cell_type": "code",
      "source": [
        "# 예측\n",
        "test_sentence = \"여자친구랑 찍은 사진 있어?\"\n",
        "predicted_class, probabilities = predict_class(test_sentence, model, tokenizer, max_length, device)\n",
        "\n",
        "print(f\"입력 문장: {test_sentence}\")\n",
        "print(f\"예측된 클래스: {predicted_class}\")\n",
        "print(f\"클래스 확률: {probabilities}\")"
      ],
      "metadata": {
        "colab": {
          "base_uri": "https://localhost:8080/"
        },
        "id": "Pk-Rigoh_bU8",
        "outputId": "627e58b7-0949-44c4-b0c1-33a0b5a1159b"
      },
      "execution_count": 24,
      "outputs": [
        {
          "output_type": "stream",
          "name": "stdout",
          "text": [
            "입력 문장: 여자친구랑 찍은 사진 있어?\n",
            "예측된 클래스: 0\n",
            "클래스 확률: tensor([[0.9900, 0.0100]], device='cuda:0')\n"
          ]
        }
      ]
    },
    {
      "cell_type": "code",
      "source": [
        "# 예측\n",
        "test_sentence = \"섹시한 영상 주면 돈 줄게\"\n",
        "predicted_class, probabilities = predict_class(test_sentence, model, tokenizer, max_length, device)\n",
        "\n",
        "print(f\"입력 문장: {test_sentence}\")\n",
        "print(f\"예측된 클래스: {predicted_class}\")\n",
        "print(f\"클래스 확률: {probabilities}\")"
      ],
      "metadata": {
        "colab": {
          "base_uri": "https://localhost:8080/"
        },
        "id": "zGNMkIcIBCxG",
        "outputId": "8b1dda01-b726-43b3-9c52-e3d389a1c84d"
      },
      "execution_count": 29,
      "outputs": [
        {
          "output_type": "stream",
          "name": "stdout",
          "text": [
            "입력 문장: 섹시한 영상 주면 돈 줄게\n",
            "예측된 클래스: 1\n",
            "클래스 확률: tensor([[0.0863, 0.9137]], device='cuda:0')\n"
          ]
        }
      ]
    },
    {
      "cell_type": "code",
      "source": [
        "# 예측\n",
        "test_sentence = \"여자 속옷 사진 있어?\"\n",
        "predicted_class, probabilities = predict_class(test_sentence, model, tokenizer, max_length, device)\n",
        "\n",
        "print(f\"입력 문장: {test_sentence}\")\n",
        "print(f\"예측된 클래스: {predicted_class}\")\n",
        "print(f\"클래스 확률: {probabilities}\")"
      ],
      "metadata": {
        "colab": {
          "base_uri": "https://localhost:8080/"
        },
        "id": "7wKun75S9xjM",
        "outputId": "5414cffc-98fb-46f6-8a63-ebfd5febb7d1"
      },
      "execution_count": 8,
      "outputs": [
        {
          "output_type": "stream",
          "name": "stdout",
          "text": [
            "입력 문장: 여자 속옷 사진 있어?\n",
            "예측된 클래스: 1\n",
            "클래스 확률: tensor([[0.3656, 0.6344]], device='cuda:0')\n"
          ]
        }
      ]
    },
    {
      "cell_type": "code",
      "source": [
        "# 예측\n",
        "test_sentence = \"오랜만에 친구들이랑 과제하니까 좋다\"\n",
        "predicted_class, probabilities = predict_class(test_sentence, model, tokenizer, max_length, device)\n",
        "\n",
        "print(f\"입력 문장: {test_sentence}\")\n",
        "print(f\"예측된 클래스: {predicted_class}\")\n",
        "print(f\"클래스 확률: {probabilities}\")"
      ],
      "metadata": {
        "colab": {
          "base_uri": "https://localhost:8080/"
        },
        "id": "YmwxqUj8BcRY",
        "outputId": "6d2efa42-a04c-4b18-bcd7-84f42f748de1"
      },
      "execution_count": 36,
      "outputs": [
        {
          "output_type": "stream",
          "name": "stdout",
          "text": [
            "입력 문장: 오랜만에 친구들이랑 과제하니까 좋다\n",
            "예측된 클래스: 0\n",
            "클래스 확률: tensor([[0.9986, 0.0014]], device='cuda:0')\n"
          ]
        }
      ]
    },
    {
      "cell_type": "code",
      "source": [
        "# 예측\n",
        "test_sentence = \"발육이 훌륭하다!\"\n",
        "predicted_class, probabilities = predict_class(test_sentence, model, tokenizer, max_length, device)\n",
        "\n",
        "print(f\"입력 문장: {test_sentence}\")\n",
        "print(f\"예측된 클래스: {predicted_class}\")\n",
        "print(f\"클래스 확률: {probabilities}\")"
      ],
      "metadata": {
        "colab": {
          "base_uri": "https://localhost:8080/"
        },
        "id": "fsbnpa4L-UJf",
        "outputId": "5019548c-fb97-4406-d97b-de99a2089b51"
      },
      "execution_count": 13,
      "outputs": [
        {
          "output_type": "stream",
          "name": "stdout",
          "text": [
            "입력 문장: 발육이 훌륭하다!\n",
            "예측된 클래스: 1\n",
            "클래스 확률: tensor([[0.0021, 0.9979]], device='cuda:0')\n"
          ]
        }
      ]
    },
    {
      "cell_type": "code",
      "source": [
        "# 예측\n",
        "test_sentence = \"재미없다\"\n",
        "predicted_class, probabilities = predict_class(test_sentence, model, tokenizer, max_length, device)\n",
        "\n",
        "print(f\"입력 문장: {test_sentence}\")\n",
        "print(f\"예측된 클래스: {predicted_class}\")\n",
        "print(f\"클래스 확률: {probabilities}\")"
      ],
      "metadata": {
        "colab": {
          "base_uri": "https://localhost:8080/"
        },
        "id": "nplyirkQ-YeK",
        "outputId": "a81acf6a-137d-4c1a-9fa2-01e4bf55175d"
      },
      "execution_count": 16,
      "outputs": [
        {
          "output_type": "stream",
          "name": "stdout",
          "text": [
            "입력 문장: 재미없다\n",
            "예측된 클래스: 0\n",
            "클래스 확률: tensor([[0.9974, 0.0026]], device='cuda:0')\n"
          ]
        }
      ]
    },
    {
      "cell_type": "code",
      "source": [
        "# 예측\n",
        "test_sentence = \"토할거 같아\"\n",
        "predicted_class, probabilities = predict_class(test_sentence, model, tokenizer, max_length, device)\n",
        "\n",
        "print(f\"입력 문장: {test_sentence}\")\n",
        "print(f\"예측된 클래스: {predicted_class}\")\n",
        "print(f\"클래스 확률: {probabilities}\")"
      ],
      "metadata": {
        "colab": {
          "base_uri": "https://localhost:8080/"
        },
        "id": "pQ4wyZAy-ekx",
        "outputId": "f52277d8-2f75-406f-88ea-14bc267f1fd8"
      },
      "execution_count": 17,
      "outputs": [
        {
          "output_type": "stream",
          "name": "stdout",
          "text": [
            "입력 문장: 토할거 같아\n",
            "예측된 클래스: 0\n",
            "클래스 확률: tensor([[0.9907, 0.0093]], device='cuda:0')\n"
          ]
        }
      ]
    },
    {
      "cell_type": "code",
      "source": [
        "# 예측\n",
        "test_sentence = \"ㅋㅋ 몸매가 죽이긴 하더라 ~\"\n",
        "predicted_class, probabilities = predict_class(test_sentence, model, tokenizer, max_length, device)\n",
        "\n",
        "print(f\"입력 문장: {test_sentence}\")\n",
        "print(f\"예측된 클래스: {predicted_class}\")\n",
        "print(f\"클래스 확률: {probabilities}\")"
      ],
      "metadata": {
        "colab": {
          "base_uri": "https://localhost:8080/"
        },
        "id": "8yV_FqnL-gpy",
        "outputId": "f49438c1-1a3c-46df-8633-6155edacbc25"
      },
      "execution_count": 19,
      "outputs": [
        {
          "output_type": "stream",
          "name": "stdout",
          "text": [
            "입력 문장: ㅋㅋ 몸매가 죽이긴 하더라 ~\n",
            "예측된 클래스: 1\n",
            "클래스 확률: tensor([[0.0861, 0.9139]], device='cuda:0')\n"
          ]
        }
      ]
    },
    {
      "cell_type": "code",
      "source": [
        "# 예측\n",
        "test_sentence = \"귀여워ㅋㅋ\"\n",
        "predicted_class, probabilities = predict_class(test_sentence, model, tokenizer, max_length, device)\n",
        "\n",
        "print(f\"입력 문장: {test_sentence}\")\n",
        "print(f\"예측된 클래스: {predicted_class}\")\n",
        "print(f\"클래스 확률: {probabilities}\")"
      ],
      "metadata": {
        "colab": {
          "base_uri": "https://localhost:8080/"
        },
        "id": "Pt6eOU40-0mU",
        "outputId": "a8f9d842-c53e-47e3-cd9b-06a05a050b5b"
      },
      "execution_count": 37,
      "outputs": [
        {
          "output_type": "stream",
          "name": "stdout",
          "text": [
            "입력 문장: 귀여워ㅋㅋ\n",
            "예측된 클래스: 0\n",
            "클래스 확률: tensor([[0.7938, 0.2062]], device='cuda:0')\n"
          ]
        }
      ]
    },
    {
      "cell_type": "markdown",
      "source": [
        "에폭 5까지 학습 시킨 모델을 다시 불러와서\n",
        "에폭 6 ~ 9까지 학습을 더 진행해보았습니다.\n",
        "\n",
        "기존 (에폭 5)\n",
        "\n",
        "Train Loss: 0.0851, Train Accuracy: 0.9712\n",
        "\n",
        "Test Loss: 0.3285, Test Accuracy: 0.9011\n",
        "\n",
        "F1 Score: 0.8982\n",
        "\n",
        "학습 진행 후 (에폭 8)\n",
        "\n",
        "Train Loss: 0.0688, Train Accuracy: 0.9755\n",
        "\n",
        "Test Loss: 0.4057, Test Accuracy: 0.8958\n",
        "\n",
        "F1 Score: 0.8922\n",
        "\n",
        "\n",
        "훈련 손실과, 정확도는 더 높아졌지만\n",
        "테스트 손실, 정확도, F1 Score 모두 에폭 5보다 좋지 않았습니다. 따라서 에폭 5에서 모델 학습을 중단 시키고 최종 모델로 저장했습니다.\n"
      ],
      "metadata": {
        "id": "ufmcNa2xDu-M"
      }
    },
    {
      "cell_type": "code",
      "source": [
        "import pandas as pd\n",
        "from sklearn.model_selection import train_test_split\n",
        "import torch\n",
        "from torch.utils.data import Dataset, DataLoader\n",
        "from transformers import BertTokenizer, BertForSequenceClassification, get_linear_schedule_with_warmup\n",
        "import torch.nn as nn\n",
        "import torch.optim as optim\n",
        "from tqdm import tqdm\n",
        "import matplotlib.pyplot as plt\n",
        "from sklearn.metrics import f1_score\n",
        "from torch.cuda.amp import GradScaler, autocast\n",
        "\n",
        "# 데이터 로드 및 전처리\n",
        "train_data = pd.read_csv(\"t_result_df.csv\", header=None, names=['label', 'text'])\n",
        "train_data['label'] = train_data['label'].apply(lambda x: 0 if x == 'IMMORAL_NONE' else 1)\n",
        "\n",
        "test_data = pd.read_csv(\"result_df.csv\", header=None, names=['label', 'text'])\n",
        "test_data['label'] = test_data['label'].apply(lambda x: 0 if x == 'IMMORAL_NONE' else 1)\n",
        "\n",
        "# 트레인 데이터의 60%만 사용\n",
        "train_data, _ = train_test_split(train_data, train_size=0.6, random_state=42, stratify=train_data['label'])\n",
        "\n",
        "# BERT용 데이터셋 정의\n",
        "class BertDataset(Dataset):\n",
        "    def __init__(self, texts, labels, tokenizer, max_length):\n",
        "        self.texts = texts\n",
        "        self.labels = labels\n",
        "        self.tokenizer = tokenizer\n",
        "        self.max_length = max_length\n",
        "\n",
        "    def __len__(self):\n",
        "        return len(self.texts)\n",
        "\n",
        "    def __getitem__(self, idx):\n",
        "        text = self.texts[idx]\n",
        "        label = self.labels[idx]\n",
        "\n",
        "        encoding = self.tokenizer.encode_plus(\n",
        "            text,\n",
        "            add_special_tokens=True,\n",
        "            max_length=self.max_length,\n",
        "            padding='max_length',\n",
        "            truncation=True,\n",
        "            return_tensors='pt'\n",
        "        )\n",
        "\n",
        "        return {\n",
        "            'input_ids': encoding['input_ids'].flatten(),\n",
        "            'attention_mask': encoding['attention_mask'].flatten(),\n",
        "            'label': torch.tensor(label, dtype=torch.long)\n",
        "        }\n",
        "\n",
        "# 데이터셋 및 데이터로더 생성\n",
        "tokenizer = BertTokenizer.from_pretrained('bert-base-multilingual-cased')\n",
        "max_length = 128\n",
        "\n",
        "train_dataset = BertDataset(train_data['text'].values, train_data['label'].values, tokenizer, max_length)\n",
        "test_dataset = BertDataset(test_data['text'].values, test_data['label'].values, tokenizer, max_length)\n",
        "\n",
        "train_loader = DataLoader(train_dataset, batch_size=32, shuffle=True, num_workers=2)\n",
        "test_loader = DataLoader(test_dataset, batch_size=32, shuffle=False, num_workers=2)\n",
        "\n",
        "# BERT 모델 로드\n",
        "model = BertForSequenceClassification.from_pretrained(\n",
        "    'bert-base-multilingual-cased',\n",
        "    num_labels=2,  # 이진 분류\n",
        "    output_attentions=False,\n",
        "    output_hidden_states=False\n",
        ")\n",
        "\n",
        "device = torch.device('cuda' if torch.cuda.is_available() else 'cpu')\n",
        "model.to(device)\n",
        "\n",
        "# 옵티마이저와 스케줄러 초기화\n",
        "optimizer = optim.AdamW(model.parameters(), lr=2e-5)\n",
        "criterion = nn.CrossEntropyLoss()\n",
        "scaler = GradScaler()\n",
        "\n",
        "# 총 에포크 수 계산\n",
        "total_steps = len(train_loader) * (5 + 3)  # 기존 5에 추가로 3 에포크 더 학습\n",
        "\n",
        "# 기존 모델 상태 로드\n",
        "model_path = \"model.pth\"\n",
        "checkpoint = torch.load(model_path)\n",
        "model.load_state_dict(checkpoint)\n",
        "model.to(device)\n",
        "\n",
        "# 학습률 스케줄러 설정 (총 학습 단계 고려)\n",
        "scheduler = get_linear_schedule_with_warmup(optimizer, num_warmup_steps=0, num_training_steps=total_steps)\n",
        "\n",
        "# 기존 학습 결과를 로드 (기존의 train_losses, test_losses, train_accuracies, test_accuracies, f1_scores 로드)\n",
        "train_losses = []  # 이전 학습 손실\n",
        "test_losses = []  # 이전 평가 손실\n",
        "train_accuracies = []  # 이전 학습 정확도\n",
        "test_accuracies = []  # 이전 평가 정확도\n",
        "f1_scores = []  # 이전 F1 스코어\n",
        "\n",
        "# 학습 및 평가 과정\n",
        "plt.ion()  # 인터랙티브 모드 켜기\n",
        "\n",
        "def train_epoch(model, data_loader, optimizer, criterion, device, scaler, scheduler):\n",
        "    model.train()\n",
        "    epoch_loss = 0\n",
        "    correct_predictions = 0\n",
        "    total_predictions = 0\n",
        "    progress_bar = tqdm(data_loader, desc=\"Training\", leave=False)\n",
        "    for batch in progress_bar:\n",
        "        input_ids = batch['input_ids'].to(device)\n",
        "        attention_mask = batch['attention_mask'].to(device)\n",
        "        labels = batch['label'].to(device)\n",
        "\n",
        "        optimizer.zero_grad()\n",
        "\n",
        "        with autocast():\n",
        "            outputs = model(input_ids, attention_mask=attention_mask)\n",
        "            loss = criterion(outputs.logits, labels)\n",
        "\n",
        "        scaler.scale(loss).backward()\n",
        "        scaler.step(optimizer)\n",
        "        scaler.update()\n",
        "        scheduler.step()\n",
        "\n",
        "        predictions = torch.argmax(outputs.logits, dim=1)\n",
        "        correct_predictions += torch.sum(predictions == labels).item()\n",
        "        total_predictions += len(labels)\n",
        "        epoch_loss += loss.item()\n",
        "\n",
        "        progress_bar.set_postfix(loss=loss.item(), accuracy=correct_predictions / total_predictions)\n",
        "\n",
        "    accuracy = correct_predictions / total_predictions\n",
        "    return epoch_loss / len(data_loader), accuracy\n",
        "\n",
        "def evaluate(model, data_loader, criterion, device):\n",
        "    model.eval()\n",
        "    epoch_loss = 0\n",
        "    correct_predictions = 0\n",
        "    total_predictions = 0\n",
        "    all_predictions = []\n",
        "    all_labels = []\n",
        "    progress_bar = tqdm(data_loader, desc=\"Evaluating\", leave=False)\n",
        "    with torch.no_grad():\n",
        "        for batch in progress_bar:\n",
        "            input_ids = batch['input_ids'].to(device)\n",
        "            attention_mask = batch['attention_mask'].to(device)\n",
        "            labels = batch['label'].to(device)\n",
        "\n",
        "            outputs = model(input_ids, attention_mask=attention_mask)\n",
        "            loss = criterion(outputs.logits, labels)\n",
        "            epoch_loss += loss.item()\n",
        "\n",
        "            predictions = torch.argmax(outputs.logits, dim=1)\n",
        "            correct_predictions += torch.sum(predictions == labels).item()\n",
        "            total_predictions += len(labels)\n",
        "            all_predictions.extend(predictions.cpu().numpy())\n",
        "            all_labels.extend(labels.cpu().numpy())\n",
        "\n",
        "            progress_bar.set_postfix(loss=loss.item(), accuracy=correct_predictions / total_predictions)\n",
        "\n",
        "    accuracy = correct_predictions / total_predictions\n",
        "    f1 = f1_score(all_labels, all_predictions, average='binary')\n",
        "    return epoch_loss / len(data_loader), accuracy, f1\n",
        "\n",
        "start_epoch = 6  # 기존 5 에포크 완료 후 6부터 시작\n",
        "additional_epochs = 3  # 추가로 학습할 에포크 수\n",
        "\n",
        "for epoch in range(start_epoch, start_epoch + additional_epochs):\n",
        "    train_loss, train_accuracy = train_epoch(model, train_loader, optimizer, criterion, device, scaler, scheduler)\n",
        "    test_loss, test_accuracy, f1 = evaluate(model, test_loader, criterion, device)\n",
        "\n",
        "    train_losses.append(train_loss)\n",
        "    train_accuracies.append(train_accuracy)\n",
        "    test_losses.append(test_loss)\n",
        "    test_accuracies.append(test_accuracy)\n",
        "    f1_scores.append(f1)\n",
        "\n",
        "    tqdm.write(f'Epoch {epoch}/{start_epoch + additional_epochs - 1}')\n",
        "    tqdm.write(f'Train Loss: {train_loss:.4f}, Train Accuracy: {train_accuracy:.4f}')\n",
        "    tqdm.write(f'Test Loss: {test_loss:.4f}, Test Accuracy: {test_accuracy:.4f}')\n",
        "    tqdm.write(f'F1 Score: {f1:.4f}')\n",
        "\n",
        "    # 그래프 업데이트\n",
        "    plt.figure(figsize=(12, 6))\n",
        "    plt.subplot(1, 2, 1)\n",
        "    plt.plot(train_losses, label='Train Loss')\n",
        "    plt.plot(test_losses, label='Test Loss')\n",
        "    plt.xlabel('Epoch')\n",
        "    plt.ylabel('Loss')\n",
        "    plt.legend()\n",
        "\n",
        "    plt.subplot(1, 2, 2)\n",
        "    plt.plot(train_accuracies, label='Train Accuracy')\n",
        "    plt.plot(test_accuracies, label='Test Accuracy')\n",
        "    plt.xlabel('Epoch')\n",
        "    plt.ylabel('Accuracy')\n",
        "    plt.legend()\n",
        "\n",
        "    plt.tight_layout()\n",
        "    plt.pause(0.1)\n",
        "\n",
        "# 최종 그래프 표시\n",
        "plt.ioff()\n",
        "plt.show()\n",
        "\n",
        "# F1 스코어 시각화\n",
        "plt.figure(figsize=(12, 6))\n",
        "plt.plot(f1_scores, label='F1 Score')\n",
        "plt.xlabel('Epoch')\n",
        "plt.ylabel('F1 Score')\n",
        "plt.legend()\n",
        "plt.show()\n",
        "\n",
        "# 최종 모델 저장\n",
        "save_model_path = \"model_final.pth\"\n",
        "torch.save(model.state_dict(), save_model_path)\n",
        "print(f\"Model saved to {save_model_path}\")\n"
      ],
      "metadata": {
        "colab": {
          "base_uri": "https://localhost:8080/",
          "height": 1000
        },
        "id": "Pk4Vj9bTDDw1",
        "outputId": "34e09d56-03f5-408a-8ead-fd89380dd232"
      },
      "execution_count": 48,
      "outputs": [
        {
          "output_type": "stream",
          "name": "stderr",
          "text": [
            "Some weights of BertForSequenceClassification were not initialized from the model checkpoint at bert-base-multilingual-cased and are newly initialized: ['classifier.bias', 'classifier.weight']\n",
            "You should probably TRAIN this model on a down-stream task to be able to use it for predictions and inference.\n"
          ]
        },
        {
          "output_type": "stream",
          "name": "stdout",
          "text": [
            "Epoch 6/8\n",
            "Train Loss: 0.1309, Train Accuracy: 0.9517\n",
            "Test Loss: 0.3396, Test Accuracy: 0.8860\n",
            "F1 Score: 0.8774\n"
          ]
        },
        {
          "output_type": "display_data",
          "data": {
            "text/plain": [
              "<Figure size 1200x600 with 2 Axes>"
            ],
            "image/png": "[encoded data removed]"
          },
          "metadata": {}
        },
        {
          "output_type": "stream",
          "name": "stderr",
          "text": []
        },
        {
          "output_type": "stream",
          "name": "stdout",
          "text": [
            "Epoch 7/8\n",
            "Train Loss: 0.0976, Train Accuracy: 0.9643\n",
            "Test Loss: 0.3200, Test Accuracy: 0.8967\n",
            "F1 Score: 0.8950\n"
          ]
        },
        {
          "output_type": "display_data",
          "data": {
            "text/plain": [
              "<Figure size 1200x600 with 2 Axes>"
            ],
            "image/png": "[encoded data removed]"
          },
          "metadata": {}
        },
        {
          "output_type": "stream",
          "name": "stderr",
          "text": []
        },
        {
          "output_type": "stream",
          "name": "stdout",
          "text": [
            "Epoch 8/8\n",
            "Train Loss: 0.0688, Train Accuracy: 0.9755\n",
            "Test Loss: 0.4057, Test Accuracy: 0.8958\n",
            "F1 Score: 0.8922\n"
          ]
        },
        {
          "output_type": "display_data",
          "data": {
            "text/plain": [
              "<Figure size 1200x600 with 2 Axes>"
            ],
            "image/png": "[encoded data removed]"
          },
          "metadata": {}
        },
        {
          "output_type": "display_data",
          "data": {
            "text/plain": [
              "<Figure size 1200x600 with 1 Axes>"
            ],
            "image/png": "[encoded data removed]"
          },
          "metadata": {}
        },
        {
          "output_type": "stream",
          "name": "stdout",
          "text": [
            "Model saved to model_final.pth\n"
          ]
        }
      ]
    }
  ],
  "metadata": {
    "colab": {
      "provenance": [],
      "gpuType": "T4"
    },
    "kernelspec": {
      "display_name": "Python 3",
      "name": "python3"
    },
    "language_info": {
      "name": "python"
    },
    "widgets": {
      "application/vnd.jupyter.widget-state+json": {
        "3a82e6dd96e0482b99bb6a120c4e6595": {
          "model_module": "@jupyter-widgets/controls",
          "model_name": "HBoxModel",
          "model_module_version": "1.5.0",
          "state": {
            "_dom_classes": [],
            "_model_module": "@jupyter-widgets/controls",
            "_model_module_version": "1.5.0",
            "_model_name": "HBoxModel",
            "_view_count": null,
            "_view_module": "@jupyter-widgets/controls",
            "_view_module_version": "1.5.0",
            "_view_name": "HBoxView",
            "box_style": "",
            "children": [
              "IPY_MODEL_797bc7c1b2a84d71a12f96af0e65a872",
              "IPY_MODEL_d1e449739fa749149940041979c95423",
              "IPY_MODEL_0f0aa8d3e8874ef09a4b89a3b0e595a8"
            ],
            "layout": "IPY_MODEL_aa723d74e79a41fb866f31567e06c4a2"
          }
        },
        "797bc7c1b2a84d71a12f96af0e65a872": {
          "model_module": "@jupyter-widgets/controls",
          "model_name": "HTMLModel",
          "model_module_version": "1.5.0",
          "state": {
            "_dom_classes": [],
            "_model_module": "@jupyter-widgets/controls",
            "_model_module_version": "1.5.0",
            "_model_name": "HTMLModel",
            "_view_count": null,
            "_view_module": "@jupyter-widgets/controls",
            "_view_module_version": "1.5.0",
            "_view_name": "HTMLView",
            "description": "",
            "description_tooltip": null,
            "layout": "IPY_MODEL_f4bd6b364e9f491ba80476f385644e7f",
            "placeholder": "​",
            "style": "IPY_MODEL_7893d1a8dfe44763a335965c34b1890b",
            "value": "tokenizer_config.json: 100%"
          }
        },
        "d1e449739fa749149940041979c95423": {
          "model_module": "@jupyter-widgets/controls",
          "model_name": "FloatProgressModel",
          "model_module_version": "1.5.0",
          "state": {
            "_dom_classes": [],
            "_model_module": "@jupyter-widgets/controls",
            "_model_module_version": "1.5.0",
            "_model_name": "FloatProgressModel",
            "_view_count": null,
            "_view_module": "@jupyter-widgets/controls",
            "_view_module_version": "1.5.0",
            "_view_name": "ProgressView",
            "bar_style": "success",
            "description": "",
            "description_tooltip": null,
            "layout": "IPY_MODEL_d780a74223e74c2ba1b3916314f92ff7",
            "max": 49,
            "min": 0,
            "orientation": "horizontal",
            "style": "IPY_MODEL_529cd66fc9ae4cc6afe56ca28b272440",
            "value": 49
          }
        },
        "0f0aa8d3e8874ef09a4b89a3b0e595a8": {
          "model_module": "@jupyter-widgets/controls",
          "model_name": "HTMLModel",
          "model_module_version": "1.5.0",
          "state": {
            "_dom_classes": [],
            "_model_module": "@jupyter-widgets/controls",
            "_model_module_version": "1.5.0",
            "_model_name": "HTMLModel",
            "_view_count": null,
            "_view_module": "@jupyter-widgets/controls",
            "_view_module_version": "1.5.0",
            "_view_name": "HTMLView",
            "description": "",
            "description_tooltip": null,
            "layout": "IPY_MODEL_db9a96ba77fb42839fd957a6b74d533a",
            "placeholder": "​",
            "style": "IPY_MODEL_2ca36bc805a8428789d63f2b64942128",
            "value": " 49.0/49.0 [00:00&lt;00:00, 3.22kB/s]"
          }
        },
        "aa723d74e79a41fb866f31567e06c4a2": {
          "model_module": "@jupyter-widgets/base",
          "model_name": "LayoutModel",
          "model_module_version": "1.2.0",
          "state": {
            "_model_module": "@jupyter-widgets/base",
            "_model_module_version": "1.2.0",
            "_model_name": "LayoutModel",
            "_view_count": null,
            "_view_module": "@jupyter-widgets/base",
            "_view_module_version": "1.2.0",
            "_view_name": "LayoutView",
            "align_content": null,
            "align_items": null,
            "align_self": null,
            "border": null,
            "bottom": null,
            "display": null,
            "flex": null,
            "flex_flow": null,
            "grid_area": null,
            "grid_auto_columns": null,
            "grid_auto_flow": null,
            "grid_auto_rows": null,
            "grid_column": null,
            "grid_gap": null,
            "grid_row": null,
            "grid_template_areas": null,
            "grid_template_columns": null,
            "grid_template_rows": null,
            "height": null,
            "justify_content": null,
            "justify_items": null,
            "left": null,
            "margin": null,
            "max_height": null,
            "max_width": null,
            "min_height": null,
            "min_width": null,
            "object_fit": null,
            "object_position": null,
            "order": null,
            "overflow": null,
            "overflow_x": null,
            "overflow_y": null,
            "padding": null,
            "right": null,
            "top": null,
            "visibility": null,
            "width": null
          }
        },
        "f4bd6b364e9f491ba80476f385644e7f": {
          "model_module": "@jupyter-widgets/base",
          "model_name": "LayoutModel",
          "model_module_version": "1.2.0",
          "state": {
            "_model_module": "@jupyter-widgets/base",
            "_model_module_version": "1.2.0",
            "_model_name": "LayoutModel",
            "_view_count": null,
            "_view_module": "@jupyter-widgets/base",
            "_view_module_version": "1.2.0",
            "_view_name": "LayoutView",
            "align_content": null,
            "align_items": null,
            "align_self": null,
            "border": null,
            "bottom": null,
            "display": null,
            "flex": null,
            "flex_flow": null,
            "grid_area": null,
            "grid_auto_columns": null,
            "grid_auto_flow": null,
            "grid_auto_rows": null,
            "grid_column": null,
            "grid_gap": null,
            "grid_row": null,
            "grid_template_areas": null,
            "grid_template_columns": null,
            "grid_template_rows": null,
            "height": null,
            "justify_content": null,
            "justify_items": null,
            "left": null,
            "margin": null,
            "max_height": null,
            "max_width": null,
            "min_height": null,
            "min_width": null,
            "object_fit": null,
            "object_position": null,
            "order": null,
            "overflow": null,
            "overflow_x": null,
            "overflow_y": null,
            "padding": null,
            "right": null,
            "top": null,
            "visibility": null,
            "width": null
          }
        },
        "7893d1a8dfe44763a335965c34b1890b": {
          "model_module": "@jupyter-widgets/controls",
          "model_name": "DescriptionStyleModel",
          "model_module_version": "1.5.0",
          "state": {
            "_model_module": "@jupyter-widgets/controls",
            "_model_module_version": "1.5.0",
            "_model_name": "DescriptionStyleModel",
            "_view_count": null,
            "_view_module": "@jupyter-widgets/base",
            "_view_module_version": "1.2.0",
            "_view_name": "StyleView",
            "description_width": ""
          }
        },
        "d780a74223e74c2ba1b3916314f92ff7": {
          "model_module": "@jupyter-widgets/base",
          "model_name": "LayoutModel",
          "model_module_version": "1.2.0",
          "state": {
            "_model_module": "@jupyter-widgets/base",
            "_model_module_version": "1.2.0",
            "_model_name": "LayoutModel",
            "_view_count": null,
            "_view_module": "@jupyter-widgets/base",
            "_view_module_version": "1.2.0",
            "_view_name": "LayoutView",
            "align_content": null,
            "align_items": null,
            "align_self": null,
            "border": null,
            "bottom": null,
            "display": null,
            "flex": null,
            "flex_flow": null,
            "grid_area": null,
            "grid_auto_columns": null,
            "grid_auto_flow": null,
            "grid_auto_rows": null,
            "grid_column": null,
            "grid_gap": null,
            "grid_row": null,
            "grid_template_areas": null,
            "grid_template_columns": null,
            "grid_template_rows": null,
            "height": null,
            "justify_content": null,
            "justify_items": null,
            "left": null,
            "margin": null,
            "max_height": null,
            "max_width": null,
            "min_height": null,
            "min_width": null,
            "object_fit": null,
            "object_position": null,
            "order": null,
            "overflow": null,
            "overflow_x": null,
            "overflow_y": null,
            "padding": null,
            "right": null,
            "top": null,
            "visibility": null,
            "width": null
          }
        },
        "529cd66fc9ae4cc6afe56ca28b272440": {
          "model_module": "@jupyter-widgets/controls",
          "model_name": "ProgressStyleModel",
          "model_module_version": "1.5.0",
          "state": {
            "_model_module": "@jupyter-widgets/controls",
            "_model_module_version": "1.5.0",
            "_model_name": "ProgressStyleModel",
            "_view_count": null,
            "_view_module": "@jupyter-widgets/base",
            "_view_module_version": "1.2.0",
            "_view_name": "StyleView",
            "bar_color": null,
            "description_width": ""
          }
        },
        "db9a96ba77fb42839fd957a6b74d533a": {
          "model_module": "@jupyter-widgets/base",
          "model_name": "LayoutModel",
          "model_module_version": "1.2.0",
          "state": {
            "_model_module": "@jupyter-widgets/base",
            "_model_module_version": "1.2.0",
            "_model_name": "LayoutModel",
            "_view_count": null,
            "_view_module": "@jupyter-widgets/base",
            "_view_module_version": "1.2.0",
            "_view_name": "LayoutView",
            "align_content": null,
            "align_items": null,
            "align_self": null,
            "border": null,
            "bottom": null,
            "display": null,
            "flex": null,
            "flex_flow": null,
            "grid_area": null,
            "grid_auto_columns": null,
            "grid_auto_flow": null,
            "grid_auto_rows": null,
            "grid_column": null,
            "grid_gap": null,
            "grid_row": null,
            "grid_template_areas": null,
            "grid_template_columns": null,
            "grid_template_rows": null,
            "height": null,
            "justify_content": null,
            "justify_items": null,
            "left": null,
            "margin": null,
            "max_height": null,
            "max_width": null,
            "min_height": null,
            "min_width": null,
            "object_fit": null,
            "object_position": null,
            "order": null,
            "overflow": null,
            "overflow_x": null,
            "overflow_y": null,
            "padding": null,
            "right": null,
            "top": null,
            "visibility": null,
            "width": null
          }
        },
        "2ca36bc805a8428789d63f2b64942128": {
          "model_module": "@jupyter-widgets/controls",
          "model_name": "DescriptionStyleModel",
          "model_module_version": "1.5.0",
          "state": {
            "_model_module": "@jupyter-widgets/controls",
            "_model_module_version": "1.5.0",
            "_model_name": "DescriptionStyleModel",
            "_view_count": null,
            "_view_module": "@jupyter-widgets/base",
            "_view_module_version": "1.2.0",
            "_view_name": "StyleView",
            "description_width": ""
          }
        },
        "c6560b06f77742b1b988151e6ed0729c": {
          "model_module": "@jupyter-widgets/controls",
          "model_name": "HBoxModel",
          "model_module_version": "1.5.0",
          "state": {
            "_dom_classes": [],
            "_model_module": "@jupyter-widgets/controls",
            "_model_module_version": "1.5.0",
            "_model_name": "HBoxModel",
            "_view_count": null,
            "_view_module": "@jupyter-widgets/controls",
            "_view_module_version": "1.5.0",
            "_view_name": "HBoxView",
            "box_style": "",
            "children": [
              "IPY_MODEL_d27ce9953a3a4defbf36b15d4c8175a1",
              "IPY_MODEL_0d352d24a097446a8211783d9938a7e0",
              "IPY_MODEL_63672969b2fc485282e172bce1129747"
            ],
            "layout": "IPY_MODEL_8cf4bedf37b543ccbdfb401e772018eb"
          }
        },
        "d27ce9953a3a4defbf36b15d4c8175a1": {
          "model_module": "@jupyter-widgets/controls",
          "model_name": "HTMLModel",
          "model_module_version": "1.5.0",
          "state": {
            "_dom_classes": [],
            "_model_module": "@jupyter-widgets/controls",
            "_model_module_version": "1.5.0",
            "_model_name": "HTMLModel",
            "_view_count": null,
            "_view_module": "@jupyter-widgets/controls",
            "_view_module_version": "1.5.0",
            "_view_name": "HTMLView",
            "description": "",
            "description_tooltip": null,
            "layout": "IPY_MODEL_23dcf2edda4846a8a05318c8554a2467",
            "placeholder": "​",
            "style": "IPY_MODEL_c10abe7b6df841a0b39bed9fe9eb9038",
            "value": "vocab.txt: 100%"
          }
        },
        "0d352d24a097446a8211783d9938a7e0": {
          "model_module": "@jupyter-widgets/controls",
          "model_name": "FloatProgressModel",
          "model_module_version": "1.5.0",
          "state": {
            "_dom_classes": [],
            "_model_module": "@jupyter-widgets/controls",
            "_model_module_version": "1.5.0",
            "_model_name": "FloatProgressModel",
            "_view_count": null,
            "_view_module": "@jupyter-widgets/controls",
            "_view_module_version": "1.5.0",
            "_view_name": "ProgressView",
            "bar_style": "success",
            "description": "",
            "description_tooltip": null,
            "layout": "IPY_MODEL_5a94a628491a4cc593edab72acc8e902",
            "max": 995526,
            "min": 0,
            "orientation": "horizontal",
            "style": "IPY_MODEL_d4bc8f638a594a7d88803519777884ce",
            "value": 995526
          }
        },
        "63672969b2fc485282e172bce1129747": {
          "model_module": "@jupyter-widgets/controls",
          "model_name": "HTMLModel",
          "model_module_version": "1.5.0",
          "state": {
            "_dom_classes": [],
            "_model_module": "@jupyter-widgets/controls",
            "_model_module_version": "1.5.0",
            "_model_name": "HTMLModel",
            "_view_count": null,
            "_view_module": "@jupyter-widgets/controls",
            "_view_module_version": "1.5.0",
            "_view_name": "HTMLView",
            "description": "",
            "description_tooltip": null,
            "layout": "IPY_MODEL_1435b4ae60b9473e9b33d184f2332983",
            "placeholder": "​",
            "style": "IPY_MODEL_fa4ee8764de843b0aa13731221040ff6",
            "value": " 996k/996k [00:00&lt;00:00, 6.06MB/s]"
          }
        },
        "8cf4bedf37b543ccbdfb401e772018eb": {
          "model_module": "@jupyter-widgets/base",
          "model_name": "LayoutModel",
          "model_module_version": "1.2.0",
          "state": {
            "_model_module": "@jupyter-widgets/base",
            "_model_module_version": "1.2.0",
            "_model_name": "LayoutModel",
            "_view_count": null,
            "_view_module": "@jupyter-widgets/base",
            "_view_module_version": "1.2.0",
            "_view_name": "LayoutView",
            "align_content": null,
            "align_items": null,
            "align_self": null,
            "border": null,
            "bottom": null,
            "display": null,
            "flex": null,
            "flex_flow": null,
            "grid_area": null,
            "grid_auto_columns": null,
            "grid_auto_flow": null,
            "grid_auto_rows": null,
            "grid_column": null,
            "grid_gap": null,
            "grid_row": null,
            "grid_template_areas": null,
            "grid_template_columns": null,
            "grid_template_rows": null,
            "height": null,
            "justify_content": null,
            "justify_items": null,
            "left": null,
            "margin": null,
            "max_height": null,
            "max_width": null,
            "min_height": null,
            "min_width": null,
            "object_fit": null,
            "object_position": null,
            "order": null,
            "overflow": null,
            "overflow_x": null,
            "overflow_y": null,
            "padding": null,
            "right": null,
            "top": null,
            "visibility": null,
            "width": null
          }
        },
        "23dcf2edda4846a8a05318c8554a2467": {
          "model_module": "@jupyter-widgets/base",
          "model_name": "LayoutModel",
          "model_module_version": "1.2.0",
          "state": {
            "_model_module": "@jupyter-widgets/base",
            "_model_module_version": "1.2.0",
            "_model_name": "LayoutModel",
            "_view_count": null,
            "_view_module": "@jupyter-widgets/base",
            "_view_module_version": "1.2.0",
            "_view_name": "LayoutView",
            "align_content": null,
            "align_items": null,
            "align_self": null,
            "border": null,
            "bottom": null,
            "display": null,
            "flex": null,
            "flex_flow": null,
            "grid_area": null,
            "grid_auto_columns": null,
            "grid_auto_flow": null,
            "grid_auto_rows": null,
            "grid_column": null,
            "grid_gap": null,
            "grid_row": null,
            "grid_template_areas": null,
            "grid_template_columns": null,
            "grid_template_rows": null,
            "height": null,
            "justify_content": null,
            "justify_items": null,
            "left": null,
            "margin": null,
            "max_height": null,
            "max_width": null,
            "min_height": null,
            "min_width": null,
            "object_fit": null,
            "object_position": null,
            "order": null,
            "overflow": null,
            "overflow_x": null,
            "overflow_y": null,
            "padding": null,
            "right": null,
            "top": null,
            "visibility": null,
            "width": null
          }
        },
        "c10abe7b6df841a0b39bed9fe9eb9038": {
          "model_module": "@jupyter-widgets/controls",
          "model_name": "DescriptionStyleModel",
          "model_module_version": "1.5.0",
          "state": {
            "_model_module": "@jupyter-widgets/controls",
            "_model_module_version": "1.5.0",
            "_model_name": "DescriptionStyleModel",
            "_view_count": null,
            "_view_module": "@jupyter-widgets/base",
            "_view_module_version": "1.2.0",
            "_view_name": "StyleView",
            "description_width": ""
          }
        },
        "5a94a628491a4cc593edab72acc8e902": {
          "model_module": "@jupyter-widgets/base",
          "model_name": "LayoutModel",
          "model_module_version": "1.2.0",
          "state": {
            "_model_module": "@jupyter-widgets/base",
            "_model_module_version": "1.2.0",
            "_model_name": "LayoutModel",
            "_view_count": null,
            "_view_module": "@jupyter-widgets/base",
            "_view_module_version": "1.2.0",
            "_view_name": "LayoutView",
            "align_content": null,
            "align_items": null,
            "align_self": null,
            "border": null,
            "bottom": null,
            "display": null,
            "flex": null,
            "flex_flow": null,
            "grid_area": null,
            "grid_auto_columns": null,
            "grid_auto_flow": null,
            "grid_auto_rows": null,
            "grid_column": null,
            "grid_gap": null,
            "grid_row": null,
            "grid_template_areas": null,
            "grid_template_columns": null,
            "grid_template_rows": null,
            "height": null,
            "justify_content": null,
            "justify_items": null,
            "left": null,
            "margin": null,
            "max_height": null,
            "max_width": null,
            "min_height": null,
            "min_width": null,
            "object_fit": null,
            "object_position": null,
            "order": null,
            "overflow": null,
            "overflow_x": null,
            "overflow_y": null,
            "padding": null,
            "right": null,
            "top": null,
            "visibility": null,
            "width": null
          }
        },
        "d4bc8f638a594a7d88803519777884ce": {
          "model_module": "@jupyter-widgets/controls",
          "model_name": "ProgressStyleModel",
          "model_module_version": "1.5.0",
          "state": {
            "_model_module": "@jupyter-widgets/controls",
            "_model_module_version": "1.5.0",
            "_model_name": "ProgressStyleModel",
            "_view_count": null,
            "_view_module": "@jupyter-widgets/base",
            "_view_module_version": "1.2.0",
            "_view_name": "StyleView",
            "bar_color": null,
            "description_width": ""
          }
        },
        "1435b4ae60b9473e9b33d184f2332983": {
          "model_module": "@jupyter-widgets/base",
          "model_name": "LayoutModel",
          "model_module_version": "1.2.0",
          "state": {
            "_model_module": "@jupyter-widgets/base",
            "_model_module_version": "1.2.0",
            "_model_name": "LayoutModel",
            "_view_count": null,
            "_view_module": "@jupyter-widgets/base",
            "_view_module_version": "1.2.0",
            "_view_name": "LayoutView",
            "align_content": null,
            "align_items": null,
            "align_self": null,
            "border": null,
            "bottom": null,
            "display": null,
            "flex": null,
            "flex_flow": null,
            "grid_area": null,
            "grid_auto_columns": null,
            "grid_auto_flow": null,
            "grid_auto_rows": null,
            "grid_column": null,
            "grid_gap": null,
            "grid_row": null,
            "grid_template_areas": null,
            "grid_template_columns": null,
            "grid_template_rows": null,
            "height": null,
            "justify_content": null,
            "justify_items": null,
            "left": null,
            "margin": null,
            "max_height": null,
            "max_width": null,
            "min_height": null,
            "min_width": null,
            "object_fit": null,
            "object_position": null,
            "order": null,
            "overflow": null,
            "overflow_x": null,
            "overflow_y": null,
            "padding": null,
            "right": null,
            "top": null,
            "visibility": null,
            "width": null
          }
        },
        "fa4ee8764de843b0aa13731221040ff6": {
          "model_module": "@jupyter-widgets/controls",
          "model_name": "DescriptionStyleModel",
          "model_module_version": "1.5.0",
          "state": {
            "_model_module": "@jupyter-widgets/controls",
            "_model_module_version": "1.5.0",
            "_model_name": "DescriptionStyleModel",
            "_view_count": null,
            "_view_module": "@jupyter-widgets/base",
            "_view_module_version": "1.2.0",
            "_view_name": "StyleView",
            "description_width": ""
          }
        },
        "528bf23c88834f4ab71dcde5085dfb2e": {
          "model_module": "@jupyter-widgets/controls",
          "model_name": "HBoxModel",
          "model_module_version": "1.5.0",
          "state": {
            "_dom_classes": [],
            "_model_module": "@jupyter-widgets/controls",
            "_model_module_version": "1.5.0",
            "_model_name": "HBoxModel",
            "_view_count": null,
            "_view_module": "@jupyter-widgets/controls",
            "_view_module_version": "1.5.0",
            "_view_name": "HBoxView",
            "box_style": "",
            "children": [
              "IPY_MODEL_bd4aca779f6e463796db4f2b09497a2a",
              "IPY_MODEL_6280431abfca4efebbe24aea25c6a44d",
              "IPY_MODEL_c7b95c269beb4f40ac97f264bc770ad4"
            ],
            "layout": "IPY_MODEL_269c58c4cc86442284b46c319607df3a"
          }
        },
        "bd4aca779f6e463796db4f2b09497a2a": {
          "model_module": "@jupyter-widgets/controls",
          "model_name": "HTMLModel",
          "model_module_version": "1.5.0",
          "state": {
            "_dom_classes": [],
            "_model_module": "@jupyter-widgets/controls",
            "_model_module_version": "1.5.0",
            "_model_name": "HTMLModel",
            "_view_count": null,
            "_view_module": "@jupyter-widgets/controls",
            "_view_module_version": "1.5.0",
            "_view_name": "HTMLView",
            "description": "",
            "description_tooltip": null,
            "layout": "IPY_MODEL_1c32c3ff24a740b5a7f87496153c7054",
            "placeholder": "​",
            "style": "IPY_MODEL_8f8d77f50fd34f3f98f486d746514f5a",
            "value": "tokenizer.json: 100%"
          }
        },
        "6280431abfca4efebbe24aea25c6a44d": {
          "model_module": "@jupyter-widgets/controls",
          "model_name": "FloatProgressModel",
          "model_module_version": "1.5.0",
          "state": {
            "_dom_classes": [],
            "_model_module": "@jupyter-widgets/controls",
            "_model_module_version": "1.5.0",
            "_model_name": "FloatProgressModel",
            "_view_count": null,
            "_view_module": "@jupyter-widgets/controls",
            "_view_module_version": "1.5.0",
            "_view_name": "ProgressView",
            "bar_style": "success",
            "description": "",
            "description_tooltip": null,
            "layout": "IPY_MODEL_2e80263d1073447f9692b29a7af65572",
            "max": 1961828,
            "min": 0,
            "orientation": "horizontal",
            "style": "IPY_MODEL_29f4acef81f741ff886c1d271c09a179",
            "value": 1961828
          }
        },
        "c7b95c269beb4f40ac97f264bc770ad4": {
          "model_module": "@jupyter-widgets/controls",
          "model_name": "HTMLModel",
          "model_module_version": "1.5.0",
          "state": {
            "_dom_classes": [],
            "_model_module": "@jupyter-widgets/controls",
            "_model_module_version": "1.5.0",
            "_model_name": "HTMLModel",
            "_view_count": null,
            "_view_module": "@jupyter-widgets/controls",
            "_view_module_version": "1.5.0",
            "_view_name": "HTMLView",
            "description": "",
            "description_tooltip": null,
            "layout": "IPY_MODEL_447dd0ec2d494892af4c70434a7ffca6",
            "placeholder": "​",
            "style": "IPY_MODEL_164f0af3b1ac485087f334fa207c50d6",
            "value": " 1.96M/1.96M [00:00&lt;00:00, 6.29MB/s]"
          }
        },
        "269c58c4cc86442284b46c319607df3a": {
          "model_module": "@jupyter-widgets/base",
          "model_name": "LayoutModel",
          "model_module_version": "1.2.0",
          "state": {
            "_model_module": "@jupyter-widgets/base",
            "_model_module_version": "1.2.0",
            "_model_name": "LayoutModel",
            "_view_count": null,
            "_view_module": "@jupyter-widgets/base",
            "_view_module_version": "1.2.0",
            "_view_name": "LayoutView",
            "align_content": null,
            "align_items": null,
            "align_self": null,
            "border": null,
            "bottom": null,
            "display": null,
            "flex": null,
            "flex_flow": null,
            "grid_area": null,
            "grid_auto_columns": null,
            "grid_auto_flow": null,
            "grid_auto_rows": null,
            "grid_column": null,
            "grid_gap": null,
            "grid_row": null,
            "grid_template_areas": null,
            "grid_template_columns": null,
            "grid_template_rows": null,
            "height": null,
            "justify_content": null,
            "justify_items": null,
            "left": null,
            "margin": null,
            "max_height": null,
            "max_width": null,
            "min_height": null,
            "min_width": null,
            "object_fit": null,
            "object_position": null,
            "order": null,
            "overflow": null,
            "overflow_x": null,
            "overflow_y": null,
            "padding": null,
            "right": null,
            "top": null,
            "visibility": null,
            "width": null
          }
        },
        "1c32c3ff24a740b5a7f87496153c7054": {
          "model_module": "@jupyter-widgets/base",
          "model_name": "LayoutModel",
          "model_module_version": "1.2.0",
          "state": {
            "_model_module": "@jupyter-widgets/base",
            "_model_module_version": "1.2.0",
            "_model_name": "LayoutModel",
            "_view_count": null,
            "_view_module": "@jupyter-widgets/base",
            "_view_module_version": "1.2.0",
            "_view_name": "LayoutView",
            "align_content": null,
            "align_items": null,
            "align_self": null,
            "border": null,
            "bottom": null,
            "display": null,
            "flex": null,
            "flex_flow": null,
            "grid_area": null,
            "grid_auto_columns": null,
            "grid_auto_flow": null,
            "grid_auto_rows": null,
            "grid_column": null,
            "grid_gap": null,
            "grid_row": null,
            "grid_template_areas": null,
            "grid_template_columns": null,
            "grid_template_rows": null,
            "height": null,
            "justify_content": null,
            "justify_items": null,
            "left": null,
            "margin": null,
            "max_height": null,
            "max_width": null,
            "min_height": null,
            "min_width": null,
            "object_fit": null,
            "object_position": null,
            "order": null,
            "overflow": null,
            "overflow_x": null,
            "overflow_y": null,
            "padding": null,
            "right": null,
            "top": null,
            "visibility": null,
            "width": null
          }
        },
        "8f8d77f50fd34f3f98f486d746514f5a": {
          "model_module": "@jupyter-widgets/controls",
          "model_name": "DescriptionStyleModel",
          "model_module_version": "1.5.0",
          "state": {
            "_model_module": "@jupyter-widgets/controls",
            "_model_module_version": "1.5.0",
            "_model_name": "DescriptionStyleModel",
            "_view_count": null,
            "_view_module": "@jupyter-widgets/base",
            "_view_module_version": "1.2.0",
            "_view_name": "StyleView",
            "description_width": ""
          }
        },
        "2e80263d1073447f9692b29a7af65572": {
          "model_module": "@jupyter-widgets/base",
          "model_name": "LayoutModel",
          "model_module_version": "1.2.0",
          "state": {
            "_model_module": "@jupyter-widgets/base",
            "_model_module_version": "1.2.0",
            "_model_name": "LayoutModel",
            "_view_count": null,
            "_view_module": "@jupyter-widgets/base",
            "_view_module_version": "1.2.0",
            "_view_name": "LayoutView",
            "align_content": null,
            "align_items": null,
            "align_self": null,
            "border": null,
            "bottom": null,
            "display": null,
            "flex": null,
            "flex_flow": null,
            "grid_area": null,
            "grid_auto_columns": null,
            "grid_auto_flow": null,
            "grid_auto_rows": null,
            "grid_column": null,
            "grid_gap": null,
            "grid_row": null,
            "grid_template_areas": null,
            "grid_template_columns": null,
            "grid_template_rows": null,
            "height": null,
            "justify_content": null,
            "justify_items": null,
            "left": null,
            "margin": null,
            "max_height": null,
            "max_width": null,
            "min_height": null,
            "min_width": null,
            "object_fit": null,
            "object_position": null,
            "order": null,
            "overflow": null,
            "overflow_x": null,
            "overflow_y": null,
            "padding": null,
            "right": null,
            "top": null,
            "visibility": null,
            "width": null
          }
        },
        "29f4acef81f741ff886c1d271c09a179": {
          "model_module": "@jupyter-widgets/controls",
          "model_name": "ProgressStyleModel",
          "model_module_version": "1.5.0",
          "state": {
            "_model_module": "@jupyter-widgets/controls",
            "_model_module_version": "1.5.0",
            "_model_name": "ProgressStyleModel",
            "_view_count": null,
            "_view_module": "@jupyter-widgets/base",
            "_view_module_version": "1.2.0",
            "_view_name": "StyleView",
            "bar_color": null,
            "description_width": ""
          }
        },
        "447dd0ec2d494892af4c70434a7ffca6": {
          "model_module": "@jupyter-widgets/base",
          "model_name": "LayoutModel",
          "model_module_version": "1.2.0",
          "state": {
            "_model_module": "@jupyter-widgets/base",
            "_model_module_version": "1.2.0",
            "_model_name": "LayoutModel",
            "_view_count": null,
            "_view_module": "@jupyter-widgets/base",
            "_view_module_version": "1.2.0",
            "_view_name": "LayoutView",
            "align_content": null,
            "align_items": null,
            "align_self": null,
            "border": null,
            "bottom": null,
            "display": null,
            "flex": null,
            "flex_flow": null,
            "grid_area": null,
            "grid_auto_columns": null,
            "grid_auto_flow": null,
            "grid_auto_rows": null,
            "grid_column": null,
            "grid_gap": null,
            "grid_row": null,
            "grid_template_areas": null,
            "grid_template_columns": null,
            "grid_template_rows": null,
            "height": null,
            "justify_content": null,
            "justify_items": null,
            "left": null,
            "margin": null,
            "max_height": null,
            "max_width": null,
            "min_height": null,
            "min_width": null,
            "object_fit": null,
            "object_position": null,
            "order": null,
            "overflow": null,
            "overflow_x": null,
            "overflow_y": null,
            "padding": null,
            "right": null,
            "top": null,
            "visibility": null,
            "width": null
          }
        },
        "164f0af3b1ac485087f334fa207c50d6": {
          "model_module": "@jupyter-widgets/controls",
          "model_name": "DescriptionStyleModel",
          "model_module_version": "1.5.0",
          "state": {
            "_model_module": "@jupyter-widgets/controls",
            "_model_module_version": "1.5.0",
            "_model_name": "DescriptionStyleModel",
            "_view_count": null,
            "_view_module": "@jupyter-widgets/base",
            "_view_module_version": "1.2.0",
            "_view_name": "StyleView",
            "description_width": ""
          }
        },
        "5d8f6f516be34bf8b4b6a8a8dd75bb17": {
          "model_module": "@jupyter-widgets/controls",
          "model_name": "HBoxModel",
          "model_module_version": "1.5.0",
          "state": {
            "_dom_classes": [],
            "_model_module": "@jupyter-widgets/controls",
            "_model_module_version": "1.5.0",
            "_model_name": "HBoxModel",
            "_view_count": null,
            "_view_module": "@jupyter-widgets/controls",
            "_view_module_version": "1.5.0",
            "_view_name": "HBoxView",
            "box_style": "",
            "children": [
              "IPY_MODEL_259d834adf5148d290f4adf384e0389a",
              "IPY_MODEL_f952dc90e35740f587d32820265a33e5",
              "IPY_MODEL_e9c34a1c45bc493f8816087b7f0e366e"
            ],
            "layout": "IPY_MODEL_6dde54d9f41c49ae89a1abeea41ed911"
          }
        },
        "259d834adf5148d290f4adf384e0389a": {
          "model_module": "@jupyter-widgets/controls",
          "model_name": "HTMLModel",
          "model_module_version": "1.5.0",
          "state": {
            "_dom_classes": [],
            "_model_module": "@jupyter-widgets/controls",
            "_model_module_version": "1.5.0",
            "_model_name": "HTMLModel",
            "_view_count": null,
            "_view_module": "@jupyter-widgets/controls",
            "_view_module_version": "1.5.0",
            "_view_name": "HTMLView",
            "description": "",
            "description_tooltip": null,
            "layout": "IPY_MODEL_ad38ab1466a8419390f1b6a7e989c510",
            "placeholder": "​",
            "style": "IPY_MODEL_d3e91d6eb94b401bbe636466f940dcee",
            "value": "config.json: 100%"
          }
        },
        "f952dc90e35740f587d32820265a33e5": {
          "model_module": "@jupyter-widgets/controls",
          "model_name": "FloatProgressModel",
          "model_module_version": "1.5.0",
          "state": {
            "_dom_classes": [],
            "_model_module": "@jupyter-widgets/controls",
            "_model_module_version": "1.5.0",
            "_model_name": "FloatProgressModel",
            "_view_count": null,
            "_view_module": "@jupyter-widgets/controls",
            "_view_module_version": "1.5.0",
            "_view_name": "ProgressView",
            "bar_style": "success",
            "description": "",
            "description_tooltip": null,
            "layout": "IPY_MODEL_fd2c29ef4d9344278dc5c42185a4d4d3",
            "max": 625,
            "min": 0,
            "orientation": "horizontal",
            "style": "IPY_MODEL_8bb4219b11f24c478cececac82a806fa",
            "value": 625
          }
        },
        "e9c34a1c45bc493f8816087b7f0e366e": {
          "model_module": "@jupyter-widgets/controls",
          "model_name": "HTMLModel",
          "model_module_version": "1.5.0",
          "state": {
            "_dom_classes": [],
            "_model_module": "@jupyter-widgets/controls",
            "_model_module_version": "1.5.0",
            "_model_name": "HTMLModel",
            "_view_count": null,
            "_view_module": "@jupyter-widgets/controls",
            "_view_module_version": "1.5.0",
            "_view_name": "HTMLView",
            "description": "",
            "description_tooltip": null,
            "layout": "IPY_MODEL_ceb116b1fac045ebb49b4f056f7c65e4",
            "placeholder": "​",
            "style": "IPY_MODEL_dafccb297946410a89743a51922a17ee",
            "value": " 625/625 [00:00&lt;00:00, 49.0kB/s]"
          }
        },
        "6dde54d9f41c49ae89a1abeea41ed911": {
          "model_module": "@jupyter-widgets/base",
          "model_name": "LayoutModel",
          "model_module_version": "1.2.0",
          "state": {
            "_model_module": "@jupyter-widgets/base",
            "_model_module_version": "1.2.0",
            "_model_name": "LayoutModel",
            "_view_count": null,
            "_view_module": "@jupyter-widgets/base",
            "_view_module_version": "1.2.0",
            "_view_name": "LayoutView",
            "align_content": null,
            "align_items": null,
            "align_self": null,
            "border": null,
            "bottom": null,
            "display": null,
            "flex": null,
            "flex_flow": null,
            "grid_area": null,
            "grid_auto_columns": null,
            "grid_auto_flow": null,
            "grid_auto_rows": null,
            "grid_column": null,
            "grid_gap": null,
            "grid_row": null,
            "grid_template_areas": null,
            "grid_template_columns": null,
            "grid_template_rows": null,
            "height": null,
            "justify_content": null,
            "justify_items": null,
            "left": null,
            "margin": null,
            "max_height": null,
            "max_width": null,
            "min_height": null,
            "min_width": null,
            "object_fit": null,
            "object_position": null,
            "order": null,
            "overflow": null,
            "overflow_x": null,
            "overflow_y": null,
            "padding": null,
            "right": null,
            "top": null,
            "visibility": null,
            "width": null
          }
        },
        "ad38ab1466a8419390f1b6a7e989c510": {
          "model_module": "@jupyter-widgets/base",
          "model_name": "LayoutModel",
          "model_module_version": "1.2.0",
          "state": {
            "_model_module": "@jupyter-widgets/base",
            "_model_module_version": "1.2.0",
            "_model_name": "LayoutModel",
            "_view_count": null,
            "_view_module": "@jupyter-widgets/base",
            "_view_module_version": "1.2.0",
            "_view_name": "LayoutView",
            "align_content": null,
            "align_items": null,
            "align_self": null,
            "border": null,
            "bottom": null,
            "display": null,
            "flex": null,
            "flex_flow": null,
            "grid_area": null,
            "grid_auto_columns": null,
            "grid_auto_flow": null,
            "grid_auto_rows": null,
            "grid_column": null,
            "grid_gap": null,
            "grid_row": null,
            "grid_template_areas": null,
            "grid_template_columns": null,
            "grid_template_rows": null,
            "height": null,
            "justify_content": null,
            "justify_items": null,
            "left": null,
            "margin": null,
            "max_height": null,
            "max_width": null,
            "min_height": null,
            "min_width": null,
            "object_fit": null,
            "object_position": null,
            "order": null,
            "overflow": null,
            "overflow_x": null,
            "overflow_y": null,
            "padding": null,
            "right": null,
            "top": null,
            "visibility": null,
            "width": null
          }
        },
        "d3e91d6eb94b401bbe636466f940dcee": {
          "model_module": "@jupyter-widgets/controls",
          "model_name": "DescriptionStyleModel",
          "model_module_version": "1.5.0",
          "state": {
            "_model_module": "@jupyter-widgets/controls",
            "_model_module_version": "1.5.0",
            "_model_name": "DescriptionStyleModel",
            "_view_count": null,
            "_view_module": "@jupyter-widgets/base",
            "_view_module_version": "1.2.0",
            "_view_name": "StyleView",
            "description_width": ""
          }
        },
        "fd2c29ef4d9344278dc5c42185a4d4d3": {
          "model_module": "@jupyter-widgets/base",
          "model_name": "LayoutModel",
          "model_module_version": "1.2.0",
          "state": {
            "_model_module": "@jupyter-widgets/base",
            "_model_module_version": "1.2.0",
            "_model_name": "LayoutModel",
            "_view_count": null,
            "_view_module": "@jupyter-widgets/base",
            "_view_module_version": "1.2.0",
            "_view_name": "LayoutView",
            "align_content": null,
            "align_items": null,
            "align_self": null,
            "border": null,
            "bottom": null,
            "display": null,
            "flex": null,
            "flex_flow": null,
            "grid_area": null,
            "grid_auto_columns": null,
            "grid_auto_flow": null,
            "grid_auto_rows": null,
            "grid_column": null,
            "grid_gap": null,
            "grid_row": null,
            "grid_template_areas": null,
            "grid_template_columns": null,
            "grid_template_rows": null,
            "height": null,
            "justify_content": null,
            "justify_items": null,
            "left": null,
            "margin": null,
            "max_height": null,
            "max_width": null,
            "min_height": null,
            "min_width": null,
            "object_fit": null,
            "object_position": null,
            "order": null,
            "overflow": null,
            "overflow_x": null,
            "overflow_y": null,
            "padding": null,
            "right": null,
            "top": null,
            "visibility": null,
            "width": null
          }
        },
        "8bb4219b11f24c478cececac82a806fa": {
          "model_module": "@jupyter-widgets/controls",
          "model_name": "ProgressStyleModel",
          "model_module_version": "1.5.0",
          "state": {
            "_model_module": "@jupyter-widgets/controls",
            "_model_module_version": "1.5.0",
            "_model_name": "ProgressStyleModel",
            "_view_count": null,
            "_view_module": "@jupyter-widgets/base",
            "_view_module_version": "1.2.0",
            "_view_name": "StyleView",
            "bar_color": null,
            "description_width": ""
          }
        },
        "ceb116b1fac045ebb49b4f056f7c65e4": {
          "model_module": "@jupyter-widgets/base",
          "model_name": "LayoutModel",
          "model_module_version": "1.2.0",
          "state": {
            "_model_module": "@jupyter-widgets/base",
            "_model_module_version": "1.2.0",
            "_model_name": "LayoutModel",
            "_view_count": null,
            "_view_module": "@jupyter-widgets/base",
            "_view_module_version": "1.2.0",
            "_view_name": "LayoutView",
            "align_content": null,
            "align_items": null,
            "align_self": null,
            "border": null,
            "bottom": null,
            "display": null,
            "flex": null,
            "flex_flow": null,
            "grid_area": null,
            "grid_auto_columns": null,
            "grid_auto_flow": null,
            "grid_auto_rows": null,
            "grid_column": null,
            "grid_gap": null,
            "grid_row": null,
            "grid_template_areas": null,
            "grid_template_columns": null,
            "grid_template_rows": null,
            "height": null,
            "justify_content": null,
            "justify_items": null,
            "left": null,
            "margin": null,
            "max_height": null,
            "max_width": null,
            "min_height": null,
            "min_width": null,
            "object_fit": null,
            "object_position": null,
            "order": null,
            "overflow": null,
            "overflow_x": null,
            "overflow_y": null,
            "padding": null,
            "right": null,
            "top": null,
            "visibility": null,
            "width": null
          }
        },
        "dafccb297946410a89743a51922a17ee": {
          "model_module": "@jupyter-widgets/controls",
          "model_name": "DescriptionStyleModel",
          "model_module_version": "1.5.0",
          "state": {
            "_model_module": "@jupyter-widgets/controls",
            "_model_module_version": "1.5.0",
            "_model_name": "DescriptionStyleModel",
            "_view_count": null,
            "_view_module": "@jupyter-widgets/base",
            "_view_module_version": "1.2.0",
            "_view_name": "StyleView",
            "description_width": ""
          }
        },
        "1a1396b90c8249109cfa5a31611bef71": {
          "model_module": "@jupyter-widgets/controls",
          "model_name": "HBoxModel",
          "model_module_version": "1.5.0",
          "state": {
            "_dom_classes": [],
            "_model_module": "@jupyter-widgets/controls",
            "_model_module_version": "1.5.0",
            "_model_name": "HBoxModel",
            "_view_count": null,
            "_view_module": "@jupyter-widgets/controls",
            "_view_module_version": "1.5.0",
            "_view_name": "HBoxView",
            "box_style": "",
            "children": [
              "IPY_MODEL_e44f50cb6fd84a3787f6ffa768828ebc",
              "IPY_MODEL_876e026f236c49299e1273fbfd1e7c11",
              "IPY_MODEL_e43f12e83eef46d5b0b77a8ee20c5d94"
            ],
            "layout": "IPY_MODEL_788af5f45ff24e0ebf776b74e29d0dca"
          }
        },
        "e44f50cb6fd84a3787f6ffa768828ebc": {
          "model_module": "@jupyter-widgets/controls",
          "model_name": "HTMLModel",
          "model_module_version": "1.5.0",
          "state": {
            "_dom_classes": [],
            "_model_module": "@jupyter-widgets/controls",
            "_model_module_version": "1.5.0",
            "_model_name": "HTMLModel",
            "_view_count": null,
            "_view_module": "@jupyter-widgets/controls",
            "_view_module_version": "1.5.0",
            "_view_name": "HTMLView",
            "description": "",
            "description_tooltip": null,
            "layout": "IPY_MODEL_5515a1d437024945b4846976380fe801",
            "placeholder": "​",
            "style": "IPY_MODEL_a9e194c805474071804eeb913d3c3246",
            "value": "model.safetensors: 100%"
          }
        },
        "876e026f236c49299e1273fbfd1e7c11": {
          "model_module": "@jupyter-widgets/controls",
          "model_name": "FloatProgressModel",
          "model_module_version": "1.5.0",
          "state": {
            "_dom_classes": [],
            "_model_module": "@jupyter-widgets/controls",
            "_model_module_version": "1.5.0",
            "_model_name": "FloatProgressModel",
            "_view_count": null,
            "_view_module": "@jupyter-widgets/controls",
            "_view_module_version": "1.5.0",
            "_view_name": "ProgressView",
            "bar_style": "success",
            "description": "",
            "description_tooltip": null,
            "layout": "IPY_MODEL_db9805e9d51745fbbf0bdc34b1b60874",
            "max": 714290682,
            "min": 0,
            "orientation": "horizontal",
            "style": "IPY_MODEL_f9689f9ddacd470596c24d904db39bac",
            "value": 714290682
          }
        },
        "e43f12e83eef46d5b0b77a8ee20c5d94": {
          "model_module": "@jupyter-widgets/controls",
          "model_name": "HTMLModel",
          "model_module_version": "1.5.0",
          "state": {
            "_dom_classes": [],
            "_model_module": "@jupyter-widgets/controls",
            "_model_module_version": "1.5.0",
            "_model_name": "HTMLModel",
            "_view_count": null,
            "_view_module": "@jupyter-widgets/controls",
            "_view_module_version": "1.5.0",
            "_view_name": "HTMLView",
            "description": "",
            "description_tooltip": null,
            "layout": "IPY_MODEL_5989ad0633fa469ea19f51cd8a80862c",
            "placeholder": "​",
            "style": "IPY_MODEL_b69764159c6e4925a66d73b79d5f8b5c",
            "value": " 714M/714M [00:03&lt;00:00, 227MB/s]"
          }
        },
        "788af5f45ff24e0ebf776b74e29d0dca": {
          "model_module": "@jupyter-widgets/base",
          "model_name": "LayoutModel",
          "model_module_version": "1.2.0",
          "state": {
            "_model_module": "@jupyter-widgets/base",
            "_model_module_version": "1.2.0",
            "_model_name": "LayoutModel",
            "_view_count": null,
            "_view_module": "@jupyter-widgets/base",
            "_view_module_version": "1.2.0",
            "_view_name": "LayoutView",
            "align_content": null,
            "align_items": null,
            "align_self": null,
            "border": null,
            "bottom": null,
            "display": null,
            "flex": null,
            "flex_flow": null,
            "grid_area": null,
            "grid_auto_columns": null,
            "grid_auto_flow": null,
            "grid_auto_rows": null,
            "grid_column": null,
            "grid_gap": null,
            "grid_row": null,
            "grid_template_areas": null,
            "grid_template_columns": null,
            "grid_template_rows": null,
            "height": null,
            "justify_content": null,
            "justify_items": null,
            "left": null,
            "margin": null,
            "max_height": null,
            "max_width": null,
            "min_height": null,
            "min_width": null,
            "object_fit": null,
            "object_position": null,
            "order": null,
            "overflow": null,
            "overflow_x": null,
            "overflow_y": null,
            "padding": null,
            "right": null,
            "top": null,
            "visibility": null,
            "width": null
          }
        },
        "5515a1d437024945b4846976380fe801": {
          "model_module": "@jupyter-widgets/base",
          "model_name": "LayoutModel",
          "model_module_version": "1.2.0",
          "state": {
            "_model_module": "@jupyter-widgets/base",
            "_model_module_version": "1.2.0",
            "_model_name": "LayoutModel",
            "_view_count": null,
            "_view_module": "@jupyter-widgets/base",
            "_view_module_version": "1.2.0",
            "_view_name": "LayoutView",
            "align_content": null,
            "align_items": null,
            "align_self": null,
            "border": null,
            "bottom": null,
            "display": null,
            "flex": null,
            "flex_flow": null,
            "grid_area": null,
            "grid_auto_columns": null,
            "grid_auto_flow": null,
            "grid_auto_rows": null,
            "grid_column": null,
            "grid_gap": null,
            "grid_row": null,
            "grid_template_areas": null,
            "grid_template_columns": null,
            "grid_template_rows": null,
            "height": null,
            "justify_content": null,
            "justify_items": null,
            "left": null,
            "margin": null,
            "max_height": null,
            "max_width": null,
            "min_height": null,
            "min_width": null,
            "object_fit": null,
            "object_position": null,
            "order": null,
            "overflow": null,
            "overflow_x": null,
            "overflow_y": null,
            "padding": null,
            "right": null,
            "top": null,
            "visibility": null,
            "width": null
          }
        },
        "a9e194c805474071804eeb913d3c3246": {
          "model_module": "@jupyter-widgets/controls",
          "model_name": "DescriptionStyleModel",
          "model_module_version": "1.5.0",
          "state": {
            "_model_module": "@jupyter-widgets/controls",
            "_model_module_version": "1.5.0",
            "_model_name": "DescriptionStyleModel",
            "_view_count": null,
            "_view_module": "@jupyter-widgets/base",
            "_view_module_version": "1.2.0",
            "_view_name": "StyleView",
            "description_width": ""
          }
        },
        "db9805e9d51745fbbf0bdc34b1b60874": {
          "model_module": "@jupyter-widgets/base",
          "model_name": "LayoutModel",
          "model_module_version": "1.2.0",
          "state": {
            "_model_module": "@jupyter-widgets/base",
            "_model_module_version": "1.2.0",
            "_model_name": "LayoutModel",
            "_view_count": null,
            "_view_module": "@jupyter-widgets/base",
            "_view_module_version": "1.2.0",
            "_view_name": "LayoutView",
            "align_content": null,
            "align_items": null,
            "align_self": null,
            "border": null,
            "bottom": null,
            "display": null,
            "flex": null,
            "flex_flow": null,
            "grid_area": null,
            "grid_auto_columns": null,
            "grid_auto_flow": null,
            "grid_auto_rows": null,
            "grid_column": null,
            "grid_gap": null,
            "grid_row": null,
            "grid_template_areas": null,
            "grid_template_columns": null,
            "grid_template_rows": null,
            "height": null,
            "justify_content": null,
            "justify_items": null,
            "left": null,
            "margin": null,
            "max_height": null,
            "max_width": null,
            "min_height": null,
            "min_width": null,
            "object_fit": null,
            "object_position": null,
            "order": null,
            "overflow": null,
            "overflow_x": null,
            "overflow_y": null,
            "padding": null,
            "right": null,
            "top": null,
            "visibility": null,
            "width": null
          }
        },
        "f9689f9ddacd470596c24d904db39bac": {
          "model_module": "@jupyter-widgets/controls",
          "model_name": "ProgressStyleModel",
          "model_module_version": "1.5.0",
          "state": {
            "_model_module": "@jupyter-widgets/controls",
            "_model_module_version": "1.5.0",
            "_model_name": "ProgressStyleModel",
            "_view_count": null,
            "_view_module": "@jupyter-widgets/base",
            "_view_module_version": "1.2.0",
            "_view_name": "StyleView",
            "bar_color": null,
            "description_width": ""
          }
        },
        "5989ad0633fa469ea19f51cd8a80862c": {
          "model_module": "@jupyter-widgets/base",
          "model_name": "LayoutModel",
          "model_module_version": "1.2.0",
          "state": {
            "_model_module": "@jupyter-widgets/base",
            "_model_module_version": "1.2.0",
            "_model_name": "LayoutModel",
            "_view_count": null,
            "_view_module": "@jupyter-widgets/base",
            "_view_module_version": "1.2.0",
            "_view_name": "LayoutView",
            "align_content": null,
            "align_items": null,
            "align_self": null,
            "border": null,
            "bottom": null,
            "display": null,
            "flex": null,
            "flex_flow": null,
            "grid_area": null,
            "grid_auto_columns": null,
            "grid_auto_flow": null,
            "grid_auto_rows": null,
            "grid_column": null,
            "grid_gap": null,
            "grid_row": null,
            "grid_template_areas": null,
            "grid_template_columns": null,
            "grid_template_rows": null,
            "height": null,
            "justify_content": null,
            "justify_items": null,
            "left": null,
            "margin": null,
            "max_height": null,
            "max_width": null,
            "min_height": null,
            "min_width": null,
            "object_fit": null,
            "object_position": null,
            "order": null,
            "overflow": null,
            "overflow_x": null,
            "overflow_y": null,
            "padding": null,
            "right": null,
            "top": null,
            "visibility": null,
            "width": null
          }
        },
        "b69764159c6e4925a66d73b79d5f8b5c": {
          "model_module": "@jupyter-widgets/controls",
          "model_name": "DescriptionStyleModel",
          "model_module_version": "1.5.0",
          "state": {
            "_model_module": "@jupyter-widgets/controls",
            "_model_module_version": "1.5.0",
            "_model_name": "DescriptionStyleModel",
            "_view_count": null,
            "_view_module": "@jupyter-widgets/base",
            "_view_module_version": "1.2.0",
            "_view_name": "StyleView",
            "description_width": ""
          }
        }
      }
    },
    "accelerator": "GPU"
  },
  "nbformat": 4,
  "nbformat_minor": 0
}