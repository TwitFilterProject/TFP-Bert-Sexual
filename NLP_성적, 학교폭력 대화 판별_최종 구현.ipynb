{
  "cells": [
    {
      "cell_type": "markdown",
      "metadata": {
        "id": "hoZajiV-6YEh"
      },
      "source": [
        "#**오픈소스 팀 과제 - BERT를 활용한 대화 다중 분류 - 전유정**\n",
        "\n",
        "허깅페이스(Hugging Face)에서 제공하는 transformer 라이브러리를 활용하여 한국어 BERT로 텍스트 대화 중에서 일반 텍스트, 성적 텍스트, 학교 폭력 텍스트를를 분류해보도록 하겠습니다.\n",
        "\n",
        "1.1. 사용한 데이터\n",
        "- 텍스트 윤리 검정 데이터\n",
        "https://www.aihub.or.kr/aihubdata/data/view.do?currMenu=115&topMenu=100&dataSetSn=558\n",
        "\n",
        "1.2. 데이터셋 구조\n",
        "테스트 데이터, 44,998개 훈련 데이터 348,073개로 총 5개의 라벨로 이루어져 있습니다. 성적인 대화의 수가 적어 정확성이 높지 않은 경우를 고려하여, 성적인 데이터셋을 직접 수집하여 학습 데이터로 추가시켰습니다.\n",
        "\n",
        " - 일반 대화와 성적 대화, 학교 폭력 대화를 추출\n",
        " - 데이터 결측치 제거\n",
        " - Okt 라이브러리를 활용한 토큰화\n",
        "다음과 같은 과정을 통해 데이터 전처리를 진행하였으며, 테스트 데이터 약 1만개, 훈련 데이터 약 8만개로 단축시켰으며, 간소화 하였으며, 라벨도 2개로 단축시켰습니다.\n",
        "\n",
        "2. 모델 학습\n",
        "\n",
        " 2.1. 훈련-테스트 데이터 분할\n",
        "BERT 모델같이 사전 학습된 모델의 경우, 적은 데이터로도 좋은 성능을 낼 수 있습니다. 따라서, 테스트 데이터는 5만개를 전부 사용하였으며, 훈련 데이터의 경우 80%를 사용했습니다.\n",
        "\n",
        " 2.2. BERT 토크나이저 불러오기\n",
        "\n",
        " 2.3. DataLoader 구성\n",
        "\n",
        " 2.4. BERT 모델 불러오기\n",
        "\n",
        " 2.5. 모델 훈련\n",
        "\n",
        "\n",
        "\n",
        "+ 초기에는 이진 판별로 모델을 학습 시키고자 했으나, 이진 판별만 하기에 데이터 셋의 크기가 컸기 때문에 성적 대화 뿐만 아니라 학교 폭력 대화까지 총 3가지의 대화를 클래스 별로 판별하고자 합니다.\n",
        "\n",
        "1. VIOLENCE, CRIME, ABUSE 총 3가지의 데이터셋 라벨을 '학교 폭력 데이터'로 추출하였으며, 이를 각각 훈련과 테스트 데이터에 결합시켰습니다.\n",
        "\n",
        "2. 하나의 모델에서 3개의 클래스를 학습 시키는 다중 클래스 분류 학습을 진행했었지만, 성능이 좋지 않았습니다. 따라서 첫 번째로 성적 대화인지 아닌지 판별하는 학습과 두 번째로 성적 대화를 제외한 데이터에서 학교 폭력 대화인지 아닌지 판별하는 학습 총 2회를 진행시켰습니다.\n",
        "\n",
        "3. 2회 진행한 학습을 최종적으로 하나의 모델로 결합시켜, 총 3가지 클래스의 대화 판별이 가능하도록 했습니다.\n",
        "\n",
        "-> train과 test 모두 loss는 우하향, accuracy와 f1-score는 우상향하는 모습이 보였으나, 성적 대화 판별을 하는 첫 번째 학습에서의 f1-score가 낮았습니다. 그 이유는 성적 대화와 일반, 학교 폭력 대화를 판별하는 과정에서, 성적 대화의 데이터 개수가 현저하게 적어 데이터 불균형이 있음을 확인할 수 있었습니다. 2차 수정에는 이러한 점을 보완할 예정입니다.\n",
        "\n",
        "\n",
        "-> 2차 수정에서는 성적 데이터의 불균형 문제를 해결하기 위해 성적 대화 테스트 데이터를 약 8천 개 증량하였습니다. 훈련 데이터의 경우 데이터를 증량하지 않고 클래스 가중치를 조절하여 불균형을 최소화하였습니다. 그 결과, 초기 구현에서 f1-score가 0.65였던 것이 수정을 거치며 0.84로 상승하였습니다.\n",
        "\n"
      ]
    },
    {
      "cell_type": "markdown",
      "source": [
        "Apache License 2.0"
      ],
      "metadata": {
        "id": "NXwzTqrd7Yul"
      }
    },
    {
      "cell_type": "code",
      "source": [
        "# Licensed under the Apache License, Version 2.0 (the \"License\");\n",
        "# you may not use this file except in compliance with the License.\n",
        "# You may obtain a copy of the License at\n",
        "#\n",
        "#     http://www.apache.org/licenses/LICENSE-2.0\n",
        "#\n",
        "# Unless required by applicable law or agreed to in writing, software\n",
        "# distributed under the License is distributed on an \"AS IS\" BASIS,\n",
        "# WITHOUT WARRANTIES OR CONDITIONS OF ANY KIND, either express or implied.\n",
        "# See the License for the specific language governing permissions and\n",
        "# limitations under the License.\n"
      ],
      "metadata": {
        "id": "VGu80xG07Ou9"
      },
      "execution_count": null,
      "outputs": []
    },
    {
      "cell_type": "markdown",
      "source": [
        "GNU General Public License (GPLv3)"
      ],
      "metadata": {
        "id": "9lk-pRCc7fG2"
      }
    },
    {
      "cell_type": "code",
      "source": [
        "# This program is free software: you can redistribute it and/or modify\n",
        "# it under the terms of the GNU General Public License as published by\n",
        "# the Free Software Foundation, either version 3 of the License, or\n",
        "# (at your option) any later version.\n",
        "#\n",
        "# This program is distributed in the hope that it will be useful,\n",
        "# but WITHOUT ANY WARRANTY; without even the implied warranty of\n",
        "# MERCHANTABILITY or FITNESS FOR A PARTICULAR PURPOSE. See the\n",
        "# GNU General Public License for more details.\n",
        "#\n",
        "# You should have received a copy of the GNU General Public License\n",
        "# along with this program. If not, see <http://www.gnu.org/licenses/>.\n"
      ],
      "metadata": {
        "id": "JVEC9dwQ7hFy"
      },
      "execution_count": null,
      "outputs": []
    },
    {
      "cell_type": "code",
      "execution_count": null,
      "metadata": {
        "colab": {
          "base_uri": "https://localhost:8080/"
        },
        "id": "XyncOKy2JI_G",
        "outputId": "dee05c78-063e-4072-ae63-c30b58af76d3"
      },
      "outputs": [
        {
          "output_type": "stream",
          "name": "stdout",
          "text": [
            "Requirement already satisfied: pandas in /usr/local/lib/python3.10/dist-packages (2.0.3)\n",
            "Requirement already satisfied: python-dateutil>=2.8.2 in /usr/local/lib/python3.10/dist-packages (from pandas) (2.8.2)\n",
            "Requirement already satisfied: pytz>=2020.1 in /usr/local/lib/python3.10/dist-packages (from pandas) (2023.4)\n",
            "Requirement already satisfied: tzdata>=2022.1 in /usr/local/lib/python3.10/dist-packages (from pandas) (2024.1)\n",
            "Requirement already satisfied: numpy>=1.21.0 in /usr/local/lib/python3.10/dist-packages (from pandas) (1.25.2)\n",
            "Requirement already satisfied: six>=1.5 in /usr/local/lib/python3.10/dist-packages (from python-dateutil>=2.8.2->pandas) (1.16.0)\n",
            "Requirement already satisfied: numpy in /usr/local/lib/python3.10/dist-packages (1.25.2)\n",
            "Requirement already satisfied: pillow in /usr/local/lib/python3.10/dist-packages (9.4.0)\n",
            "Collecting konlpy\n",
            "  Downloading konlpy-0.6.0-py2.py3-none-any.whl (19.4 MB)\n",
            "\u001b[2K     \u001b[90m━━━━━━━━━━━━━━━━━━━━━━━━━━━━━━━━━━━━━━━━\u001b[0m \u001b[32m19.4/19.4 MB\u001b[0m \u001b[31m57.5 MB/s\u001b[0m eta \u001b[36m0:00:00\u001b[0m\n",
            "\u001b[?25hCollecting JPype1>=0.7.0 (from konlpy)\n",
            "  Downloading JPype1-1.5.0-cp310-cp310-manylinux_2_17_x86_64.manylinux2014_x86_64.whl (488 kB)\n",
            "\u001b[2K     \u001b[90m━━━━━━━━━━━━━━━━━━━━━━━━━━━━━━━━━━━━━━━━\u001b[0m \u001b[32m488.6/488.6 kB\u001b[0m \u001b[31m45.2 MB/s\u001b[0m eta \u001b[36m0:00:00\u001b[0m\n",
            "\u001b[?25hRequirement already satisfied: lxml>=4.1.0 in /usr/local/lib/python3.10/dist-packages (from konlpy) (4.9.4)\n",
            "Requirement already satisfied: numpy>=1.6 in /usr/local/lib/python3.10/dist-packages (from konlpy) (1.25.2)\n",
            "Requirement already satisfied: packaging in /usr/local/lib/python3.10/dist-packages (from JPype1>=0.7.0->konlpy) (24.1)\n",
            "Installing collected packages: JPype1, konlpy\n",
            "Successfully installed JPype1-1.5.0 konlpy-0.6.0\n",
            "Requirement already satisfied: wordcloud in /usr/local/lib/python3.10/dist-packages (1.9.3)\n",
            "Requirement already satisfied: numpy>=1.6.1 in /usr/local/lib/python3.10/dist-packages (from wordcloud) (1.25.2)\n",
            "Requirement already satisfied: pillow in /usr/local/lib/python3.10/dist-packages (from wordcloud) (9.4.0)\n",
            "Requirement already satisfied: matplotlib in /usr/local/lib/python3.10/dist-packages (from wordcloud) (3.7.1)\n",
            "Requirement already satisfied: contourpy>=1.0.1 in /usr/local/lib/python3.10/dist-packages (from matplotlib->wordcloud) (1.2.1)\n",
            "Requirement already satisfied: cycler>=0.10 in /usr/local/lib/python3.10/dist-packages (from matplotlib->wordcloud) (0.12.1)\n",
            "Requirement already satisfied: fonttools>=4.22.0 in /usr/local/lib/python3.10/dist-packages (from matplotlib->wordcloud) (4.53.0)\n",
            "Requirement already satisfied: kiwisolver>=1.0.1 in /usr/local/lib/python3.10/dist-packages (from matplotlib->wordcloud) (1.4.5)\n",
            "Requirement already satisfied: packaging>=20.0 in /usr/local/lib/python3.10/dist-packages (from matplotlib->wordcloud) (24.1)\n",
            "Requirement already satisfied: pyparsing>=2.3.1 in /usr/local/lib/python3.10/dist-packages (from matplotlib->wordcloud) (3.1.2)\n",
            "Requirement already satisfied: python-dateutil>=2.7 in /usr/local/lib/python3.10/dist-packages (from matplotlib->wordcloud) (2.8.2)\n",
            "Requirement already satisfied: six>=1.5 in /usr/local/lib/python3.10/dist-packages (from python-dateutil>=2.7->matplotlib->wordcloud) (1.16.0)\n"
          ]
        }
      ],
      "source": [
        "!pip install pandas\n",
        "!pip install numpy\n",
        "!pip install pillow\n",
        "!pip install konlpy\n",
        "!pip install wordcloud"
      ]
    },
    {
      "cell_type": "code",
      "execution_count": 6,
      "metadata": {
        "id": "WpcfOADA748A",
        "colab": {
          "base_uri": "https://localhost:8080/"
        },
        "outputId": "961d4e63-b809-4a7c-ca00-da801a88bd6d"
      },
      "outputs": [
        {
          "output_type": "stream",
          "name": "stdout",
          "text": [
            "Collecting konlpy\n",
            "  Downloading konlpy-0.6.0-py2.py3-none-any.whl (19.4 MB)\n",
            "\u001b[2K     \u001b[90m━━━━━━━━━━━━━━━━━━━━━━━━━━━━━━━━━━━━━━━━\u001b[0m \u001b[32m19.4/19.4 MB\u001b[0m \u001b[31m56.4 MB/s\u001b[0m eta \u001b[36m0:00:00\u001b[0m\n",
            "\u001b[?25hCollecting JPype1>=0.7.0 (from konlpy)\n",
            "  Downloading JPype1-1.5.0-cp310-cp310-manylinux_2_17_x86_64.manylinux2014_x86_64.whl (488 kB)\n",
            "\u001b[2K     \u001b[90m━━━━━━━━━━━━━━━━━━━━━━━━━━━━━━━━━━━━━━━━\u001b[0m \u001b[32m488.6/488.6 kB\u001b[0m \u001b[31m48.8 MB/s\u001b[0m eta \u001b[36m0:00:00\u001b[0m\n",
            "\u001b[?25hRequirement already satisfied: lxml>=4.1.0 in /usr/local/lib/python3.10/dist-packages (from konlpy) (4.9.4)\n",
            "Requirement already satisfied: numpy>=1.6 in /usr/local/lib/python3.10/dist-packages (from konlpy) (1.25.2)\n",
            "Requirement already satisfied: packaging in /usr/local/lib/python3.10/dist-packages (from JPype1>=0.7.0->konlpy) (24.1)\n",
            "Installing collected packages: JPype1, konlpy\n",
            "Successfully installed JPype1-1.5.0 konlpy-0.6.0\n"
          ]
        }
      ],
      "source": [
        "!pip install konlpy"
      ]
    },
    {
      "cell_type": "code",
      "execution_count": 7,
      "metadata": {
        "id": "_tQuc0d7JVmn"
      },
      "outputs": [],
      "source": [
        "import pandas as pd\n",
        "\n",
        "from wordcloud import WordCloud\n",
        "import matplotlib.pyplot as plt\n",
        "from collections import Counter\n",
        "from konlpy.tag import Hannanum\n",
        "from PIL import Image\n",
        "import numpy as np"
      ]
    },
    {
      "cell_type": "markdown",
      "source": [
        "# TEST 데이터"
      ],
      "metadata": {
        "id": "Z0xdPbhbSVJ1"
      }
    },
    {
      "cell_type": "code",
      "execution_count": null,
      "metadata": {
        "id": "USzfMwI2JlQv",
        "colab": {
          "base_uri": "https://localhost:8080/"
        },
        "outputId": "43fa1157-e02b-42eb-9779-1bef57f3264e"
      },
      "outputs": [
        {
          "output_type": "stream",
          "name": "stdout",
          "text": [
            "Successfully read the file.\n",
            "First row removed.\n",
            "   0     1    2  3       4                              5\n",
            "0  1  True  2.6  1  SEXUAL  아 저 ^^ㅣ발련 개 먹고 싶네 밤에 강/간 쳐 뿔라\n",
            "1  1  True  1.8  1  SEXUAL        2차 안 나가고 화장실에서 해서 빡친거지.\n",
            "2  1  True  2.0  1  SEXUAL       우리 병동 간호사 허벅지 죽이는데 따먹고싶다\n",
            "3  1  True  1.4  1  SEXUAL                  너 몸매 좋다고 소문났어\n",
            "4  1  True  1.8  1  SEXUAL      그래서 한남들은 성매매가 취미라는 거 아니야?\n",
            "Number of rows: 65556\n"
          ]
        }
      ],
      "source": [
        "import pandas as pd\n",
        "\n",
        "try:\n",
        "    # 엑셀 파일 읽기\n",
        "    df = pd.read_excel(\"test_data.xlsx\", header=None)\n",
        "    print(\"Successfully read the file.\")\n",
        "\n",
        "    # 첫 번째 행 제거\n",
        "    df = df.iloc[1:].reset_index(drop=True)\n",
        "    print(\"First row removed.\")\n",
        "\n",
        "    # 데이터프레임의 첫 몇 줄과 행 개수 출력\n",
        "    print(df.head())\n",
        "    num_rows = df.shape[0]\n",
        "    print(f\"Number of rows: {num_rows}\")\n",
        "except Exception as e:\n",
        "    print(f\"Failed to read the file. Error: {e}\")"
      ]
    },
    {
      "cell_type": "markdown",
      "metadata": {
        "id": "iNPjy3dYCeQf"
      },
      "source": [
        "섹슈얼 데이터 (이전보다 8,600개 증량)\n"
      ]
    },
    {
      "cell_type": "code",
      "execution_count": null,
      "metadata": {
        "id": "O1ceAy23dZcs",
        "colab": {
          "base_uri": "https://localhost:8080/"
        },
        "outputId": "08dc4946-86f3-4b01-e754-f2488738135a"
      },
      "outputs": [
        {
          "output_type": "stream",
          "name": "stdout",
          "text": [
            "SEXUAL 데이터 행 개수: 13489\n"
          ]
        }
      ],
      "source": [
        "import pandas as pd\n",
        "\n",
        "# 'SEXUAL' 포함된 데이터프레임 추출\n",
        "sexual_df = df[df[4].str.contains(\"SEXUAL\", na=False)]\n",
        "\n",
        "# 대화 유형과 텍스트 메세지만 추출\n",
        "selected_sexual_df = sexual_df.iloc[:, [4, 5]]\n",
        "\n",
        "# 데이터 행 개수 추출\n",
        "num_rows = selected_sexual_df.shape[0]\n",
        "print(f\"SEXUAL 데이터 행 개수: {num_rows}\")"
      ]
    },
    {
      "cell_type": "markdown",
      "metadata": {
        "id": "54ugOGxpCg5S"
      },
      "source": [
        "일상 대화 데이터"
      ]
    },
    {
      "cell_type": "code",
      "execution_count": null,
      "metadata": {
        "id": "u1hP73vRCSvH",
        "colab": {
          "base_uri": "https://localhost:8080/"
        },
        "outputId": "9b2a016f-9edd-484d-9d7b-c1bbd8bb2897"
      },
      "outputs": [
        {
          "output_type": "stream",
          "name": "stdout",
          "text": [
            "                  4                         5\n",
            "8815   IMMORAL_NONE                   그게 맞긴 해\n",
            "17950  IMMORAL_NONE              정말 세금 아깝다...\n",
            "15779  IMMORAL_NONE       그 사람 게임을 발로 하는거 맞지?\n",
            "39647  IMMORAL_NONE                 잘 놀다가 왔나?\n",
            "37248  IMMORAL_NONE               도저히 납득이 안가네\n",
            "...             ...                       ...\n",
            "28756  IMMORAL_NONE             그냥 둘이 잘 살게 냅둬\n",
            "53116  IMMORAL_NONE  목숨에 지장은 없는데 한달은 입원해야한다더라\n",
            "55820  IMMORAL_NONE  힘들어서 하소연 한건데 말이 너무 심하네;;\n",
            "8854   IMMORAL_NONE     쟤는 평소에 진짜 욕 한마디를 안하더라\n",
            "35378  IMMORAL_NONE           민주당 또 셀프서민살이 하네\n",
            "\n",
            "[6700 rows x 2 columns]\n"
          ]
        }
      ],
      "source": [
        "import pandas as pd\n",
        "\n",
        "\n",
        "# 'IMMORAL_NONE' 포함된 데이터프레임 추출\n",
        "moral_df = df[df[4].str.contains(\"IMMORAL_NONE\", na=False)]\n",
        "\n",
        "# 대화 유형과 텍스트 메세지만 추출\n",
        "moral_selected_df = moral_df.iloc[:, [4, 5]]\n",
        "\n",
        "# 5천개 또는 가능한 최대 개수로 줄이기\n",
        "sample_size = min(6700, len(moral_selected_df))\n",
        "selected_moral_df = moral_selected_df.sample(n=sample_size, random_state=1)\n",
        "\n",
        "# 결과 출력\n",
        "print(selected_moral_df)\n"
      ]
    },
    {
      "cell_type": "markdown",
      "source": [
        "학교 폭력 데이터\n"
      ],
      "metadata": {
        "id": "c0R0CK07SdGq"
      }
    },
    {
      "cell_type": "code",
      "source": [
        "import pandas as pd\n",
        "\n",
        "\n",
        "# 'VIOLENCE|CRIME|ABUSE' 포함된 데이터프레임 추출\n",
        "violence_df = df[df[4].str.contains(\"VIOLENCE|CRIME|ABUSE\", na=False)]\n",
        "\n",
        "# 'SEXUAL'이 포함된 행을 제외\n",
        "violence_df = violence_df[~violence_df[4].str.contains(\"SEXUAL\", na=False)]\n",
        "\n",
        "# 대화 유형과 텍스트 메세지만 추출\n",
        "violence_selected_df = violence_df.iloc[:, [4, 5]]\n",
        "\n",
        "# 5천개 또는 가능한 최대 개수로 줄이기\n",
        "sample_size = min(6700, len(violence_selected_df))\n",
        "violence_selected_df = violence_selected_df.sample(n=sample_size, random_state=1)\n",
        "\n",
        "# 결과 출력\n",
        "print(violence_selected_df)\n"
      ],
      "metadata": {
        "id": "Qe09ZFpwSbeq",
        "colab": {
          "base_uri": "https://localhost:8080/"
        },
        "outputId": "6b4f025a-54bc-4514-cc08-9e0bc80be0c0"
      },
      "execution_count": null,
      "outputs": [
        {
          "output_type": "stream",
          "name": "stdout",
          "text": [
            "                           4                                            5\n",
            "65312               VIOLENCE              원래 바퀴벌레는 생명령 ㅅㅌㅊ라 죽여도 죽여도 끝이 없음\n",
            "64727                  ABUSE                                          앰뒤?\n",
            "64559                  ABUSE                                         조옷까셈\n",
            "59701                  ABUSE                 왜  봊  못 잡스런아먹어서 안달이니  갓나냔 들아\n",
            "58989               VIOLENCE                               <이름> 강제로 하고 싶다\n",
            "...                      ...                                          ...\n",
            "35180  CENSURE,VIOLENCE,HATE                    한남들아 머리 아프게 살지 말고 재기하자!!!\n",
            "37093             HATE,ABUSE                        누가 부른거야 어딜가나 있네 바퀴같은놈\n",
            "46636                  CRIME                        아 나도 한탕 하고 싶다. 대단함 넘들\n",
            "9298        VIOLENCE,CENSURE  너 간 쎈거 좋아하는거 아니면 갔다가 <먹적>부모 찢어발길 확률 매우 높음ㅋㅋ\n",
            "31766               VIOLENCE                                    진짜 개쳐맞을래?\n",
            "\n",
            "[6700 rows x 2 columns]\n"
          ]
        }
      ]
    },
    {
      "cell_type": "markdown",
      "metadata": {
        "id": "Oa7A05KYDVa0"
      },
      "source": [
        "섹슈얼 데이터 + 일상 대화 데이터 + 학교 폭력 데이터"
      ]
    },
    {
      "cell_type": "code",
      "execution_count": null,
      "metadata": {
        "id": "UMqDqMm9C5QG",
        "colab": {
          "base_uri": "https://localhost:8080/"
        },
        "outputId": "89d81b80-9054-4ee1-bb13-7b805ab777ca"
      },
      "outputs": [
        {
          "output_type": "stream",
          "name": "stdout",
          "text": [
            "SEXUAL + IMMORAL_NONE + VIOLENCE 데이터 행 개수: 26889\n"
          ]
        }
      ],
      "source": [
        "test_merged_df = pd.concat([selected_sexual_df, selected_moral_df, violence_selected_df])\n",
        "\n",
        "num_rows = test_merged_df.shape[0]\n",
        "print(f\"SEXUAL + IMMORAL_NONE + VIOLENCE 데이터 행 개수: {num_rows}\")"
      ]
    },
    {
      "cell_type": "markdown",
      "source": [
        "# Train 데이터"
      ],
      "metadata": {
        "id": "6AkQW71GSocE"
      }
    },
    {
      "cell_type": "code",
      "execution_count": 4,
      "metadata": {
        "id": "QfpoRDdCtJAU",
        "colab": {
          "base_uri": "https://localhost:8080/"
        },
        "outputId": "2dc7a26b-7d63-4a43-a965-41056f49dd5a"
      },
      "outputs": [
        {
          "output_type": "stream",
          "name": "stdout",
          "text": [
            "       0     1    2  3         4                                            5\n",
            "0      1  True  2.0  1   CENSURE                  부랴부랴 왔는데 아무도 안왔네. 시간개념들이 없네\n",
            "1      2  True  2.0  2   CENSURE                            맞아. 사람들이 진짜 개념이없다\n",
            "2      3  True  2.0  1   CENSURE                                 저렇게는 살지 말아야지\n",
            "3      4  True  2.0  2   CENSURE                       그러게 게으르고 멍청한 사람들은 맞아야해\n",
            "4      1  True  1.0  1   CENSURE                            인방 보는 남자는 거르는게 맞다\n",
            "...   ..   ...  ... ..       ...                                          ...\n",
            "12660  3  True  2.4  1  VIOLENCE               그니까; 진짜 잡아서 날개 뜯고 머가리 뽑아버리고싶어.\n",
            "12661  3  True  2.4  1     ABUSE               그니까; 진짜 잡아서 날개 뜯고 머가리 뽑아버리고싶어.\n",
            "12662  2  True  1.8  1  VIOLENCE                         남자 아래에 깔려서 당하고 싶은건가?\n",
            "12663  4  True  1.8  2    SEXUAL          저정도면 놀아달라는 거 아닌가? 저 라인봐봐 만지면 으스러지겠어\n",
            "12664  5  True  2.6  1    SEXUAL  저 언덕 사이에 손을 넣고 주물러주면 그럴걸 ㅋㅋ 본인도 바라고 있지 않을까?\n",
            "\n",
            "[515298 rows x 6 columns]\n"
          ]
        }
      ],
      "source": [
        "train_df = pd.read_csv(\"train\", sep='\\t', header=None)\n",
        "train2_df = pd.read_csv(\"train5\", sep='\\t', header=None)\n",
        "train3_df = pd.read_csv(\"val\", sep='\\t', header=None)\n",
        "train4_df = pd.read_csv(\"val5\", sep='\\t', header=None)\n",
        "# 두 데이터프레임 병합\n",
        "merged_train_df = pd.concat([train_df, train2_df, train3_df, train4_df])\n",
        "print(merged_train_df)"
      ]
    },
    {
      "cell_type": "code",
      "execution_count": null,
      "metadata": {
        "id": "w11JY2-fEW-h",
        "colab": {
          "base_uri": "https://localhost:8080/"
        },
        "outputId": "bd818d25-5c01-4a32-c34d-307e8bf082b5"
      },
      "outputs": [
        {
          "output_type": "stream",
          "name": "stdout",
          "text": [
            "SEXUAL 데이터 행 개수: 40907\n"
          ]
        }
      ],
      "source": [
        "import pandas as pd\n",
        "\n",
        "# 'SEXUAL' 포함된 데이터프레임 추출\n",
        "train_sexual_df = merged_train_df[merged_train_df[4].str.contains(\"SEXUAL\", na=False)]\n",
        "\n",
        "# 대화 유형과 텍스트 메세지만 추출\n",
        "train_selected_sexual_df = train_sexual_df.iloc[:, [4, 5]]\n",
        "\n",
        "# 결과 출력\n",
        "# 데이터 행 개수 추출\n",
        "num_rows = train_selected_sexual_df.shape[0]\n",
        "print(f\"SEXUAL 데이터 행 개수: {num_rows}\")"
      ]
    },
    {
      "cell_type": "code",
      "source": [
        "import pandas as pd\n",
        "\n",
        "# 'IMMORAL_NONE' 포함된 데이터프레임 추출\n",
        "train_moral_df =  merged_train_df[merged_train_df[4].str.contains(\"IMMORAL_NONE\", na=False)]\n",
        "\n",
        "# 대화 유형과 텍스트 메세지만 추출\n",
        "train_selected_moral_df = train_moral_df.iloc[:, [4, 5]]\n",
        "\n",
        "# 40100개 또는 가능한 최대 개수로 줄이기\n",
        "sample_size = min(41000, len(train_selected_moral_df))\n",
        "train_selected_moral_df = train_selected_moral_df.sample(n=sample_size, random_state=1)\n",
        "\n",
        "# 결과 출력\n",
        "print(train_selected_moral_df)"
      ],
      "metadata": {
        "id": "8_Hz0bkISrlW",
        "colab": {
          "base_uri": "https://localhost:8080/"
        },
        "outputId": "794d68af-b5e1-4663-c542-ce12b0422e00"
      },
      "execution_count": null,
      "outputs": [
        {
          "output_type": "stream",
          "name": "stdout",
          "text": [
            "                   4                                5\n",
            "70704   IMMORAL_NONE                    전생에 나라를 구한 듯.\n",
            "22341   IMMORAL_NONE                 이 예쁜 유튜버 사진 좀 봐바\n",
            "120712  IMMORAL_NONE                       <조권> 얘 뭐냐?\n",
            "12628   IMMORAL_NONE               그러면 대부분 고등학생 정도 될듯\n",
            "95124   IMMORAL_NONE               코로나 확진자는 계속해서 늘어나네\n",
            "...              ...                              ...\n",
            "107143  IMMORAL_NONE                   <미주> 너무 예쁘지 않냐\n",
            "16069   IMMORAL_NONE            여기 애들은 같은 성별이면 용서되나보네\n",
            "292454  IMMORAL_NONE         ㅋㅋㅋ 속도위반으로 임신해서 결혼하는 거잖아\n",
            "115     IMMORAL_NONE                  어 그 덩치 좀 있는 애 ?\n",
            "15524   IMMORAL_NONE  남자한테 사랑받고 연애하면 페미 그만두게 된다던 그 분?\n",
            "\n",
            "[41000 rows x 2 columns]\n"
          ]
        }
      ]
    },
    {
      "cell_type": "code",
      "execution_count": null,
      "metadata": {
        "id": "P0iwyfAntTAu",
        "colab": {
          "base_uri": "https://localhost:8080/"
        },
        "outputId": "67e9312c-8858-4fd5-ffc5-32a1da9ff8dd"
      },
      "outputs": [
        {
          "output_type": "stream",
          "name": "stdout",
          "text": [
            "                    4                                           5\n",
            "52560        VIOLENCE         아 진짜 이래서 위에것들이 입만 나불거리는데 진짜 패고 싶은거야\n",
            "97395   CENSURE,ABUSE                 진짜 빡치니까 빨리 쳐 뛰어오라고 굼뱅이 색기야.\n",
            "292374  CENSURE,ABUSE                  ㄹㅇ 거긴 볍신 전용 지하철 맞는 듯 줄라 웃겨\n",
            "261064  CENSURE,ABUSE                  어휴 그걸 이제알았냐 너 십돼지련이라 살빼야했음\n",
            "64900        VIOLENCE                                 진짜 쳐 죽이고 싶다\n",
            "...               ...                                         ...\n",
            "255114       VIOLENCE                      쪼개는 것만 봐도 뺨따귀 후려치고 싶더라\n",
            "96539           ABUSE  배나온 한남충들 진짜 꼰떄이기까지하면 저 심연속에서 역겨움이 스멀스멀 올라옴\n",
            "208641  CENSURE,ABUSE                      이댓글 추천하는 새히들은 최소한 개바보다\n",
            "117885  CENSURE,ABUSE    이게 팩트야 이 멍청한 샛기야 ㅋㅋ 취업난인거 알면 이과로 전향해 뵹시나\n",
            "81877           ABUSE         니 몸에 붙어 있는 지방들이 더 말 안 통할 것 같은데 돼지년아\n",
            "\n",
            "[41000 rows x 2 columns]\n"
          ]
        }
      ],
      "source": [
        "# 대화 유형이 \"ABUSE\", \"VIOLENCE\", \"CRIME\" 중 하나를 단독으로 포함하는 대화 추출\n",
        "train_violence_df = merged_train_df[merged_train_df[4].str.contains(\"VIOLENCE|CRIME|ABUSE\", na=False)]\n",
        "\n",
        "# 대화 유형과 텍스트 메세지만 추출\n",
        "train_selected_violence_df = train_violence_df.iloc[:, [4, 5]]\n",
        "\n",
        "# 'SEXUAL'이 포함된 행을 제외\n",
        "train_violence_df = train_violence_df[~train_violence_df[4].str.contains(\"SEXUAL\", na=False)]\n",
        "\n",
        "# 40100개 또는 가능한 최대 개수로 줄이기\n",
        "sample_size = min(41000, len(train_selected_violence_df))\n",
        "train_selected_violence_df = train_selected_violence_df .sample(n=sample_size, random_state=1)\n",
        "\n",
        "print(train_selected_violence_df)"
      ]
    },
    {
      "cell_type": "code",
      "execution_count": null,
      "metadata": {
        "id": "3-QB1WIQtjZc",
        "colab": {
          "base_uri": "https://localhost:8080/"
        },
        "outputId": "3280c74d-e401-4262-f31c-82c15b902fc1"
      },
      "outputs": [
        {
          "output_type": "stream",
          "name": "stdout",
          "text": [
            "                          4                                           5\n",
            "5       HATE,CENSURE,SEXUAL                      특히 벗방보는 애들은 진짜 거세 시켜야함\n",
            "6            CENSURE,SEXUAL                          볼 게 없어서 벗방을 보냐 ㅋㅋㅋ\n",
            "11           CENSURE,SEXUAL                        에로배우들을 데려다가 아이돌을 만드네\n",
            "12           CENSURE,SEXUAL                           쟤네들은 표정이 딱 야동인데..\n",
            "26             ABUSE,SEXUAL                              줫빠지게 힘들어서 잣같았다\n",
            "...                     ...                                         ...\n",
            "255114             VIOLENCE                      쪼개는 것만 봐도 뺨따귀 후려치고 싶더라\n",
            "96539                 ABUSE  배나온 한남충들 진짜 꼰떄이기까지하면 저 심연속에서 역겨움이 스멀스멀 올라옴\n",
            "208641        CENSURE,ABUSE                      이댓글 추천하는 새히들은 최소한 개바보다\n",
            "117885        CENSURE,ABUSE    이게 팩트야 이 멍청한 샛기야 ㅋㅋ 취업난인거 알면 이과로 전향해 뵹시나\n",
            "81877                 ABUSE         니 몸에 붙어 있는 지방들이 더 말 안 통할 것 같은데 돼지년아\n",
            "\n",
            "[122907 rows x 2 columns]\n"
          ]
        }
      ],
      "source": [
        "train_merged_df = pd.concat([train_selected_sexual_df, train_selected_moral_df, train_selected_violence_df])\n",
        "print(train_merged_df)"
      ]
    },
    {
      "cell_type": "code",
      "execution_count": null,
      "metadata": {
        "id": "zatBXyD61Uel",
        "colab": {
          "base_uri": "https://localhost:8080/"
        },
        "outputId": "bdba53a2-afbd-4feb-d376-2fd566ea1107"
      },
      "outputs": [
        {
          "output_type": "stream",
          "name": "stdout",
          "text": [
            "Collecting torchtext==0.6.0\n",
            "  Downloading torchtext-0.6.0-py3-none-any.whl (64 kB)\n",
            "\u001b[2K     \u001b[90m━━━━━━━━━━━━━━━━━━━━━━━━━━━━━━━━━━━━━━━━\u001b[0m \u001b[32m64.2/64.2 kB\u001b[0m \u001b[31m1.5 MB/s\u001b[0m eta \u001b[36m0:00:00\u001b[0m\n",
            "\u001b[?25hRequirement already satisfied: tqdm in /usr/local/lib/python3.10/dist-packages (from torchtext==0.6.0) (4.66.4)\n",
            "Requirement already satisfied: requests in /usr/local/lib/python3.10/dist-packages (from torchtext==0.6.0) (2.31.0)\n",
            "Requirement already satisfied: torch in /usr/local/lib/python3.10/dist-packages (from torchtext==0.6.0) (2.3.0+cu121)\n",
            "Requirement already satisfied: numpy in /usr/local/lib/python3.10/dist-packages (from torchtext==0.6.0) (1.25.2)\n",
            "Requirement already satisfied: six in /usr/local/lib/python3.10/dist-packages (from torchtext==0.6.0) (1.16.0)\n",
            "Requirement already satisfied: sentencepiece in /usr/local/lib/python3.10/dist-packages (from torchtext==0.6.0) (0.1.99)\n",
            "Requirement already satisfied: charset-normalizer<4,>=2 in /usr/local/lib/python3.10/dist-packages (from requests->torchtext==0.6.0) (3.3.2)\n",
            "Requirement already satisfied: idna<4,>=2.5 in /usr/local/lib/python3.10/dist-packages (from requests->torchtext==0.6.0) (3.7)\n",
            "Requirement already satisfied: urllib3<3,>=1.21.1 in /usr/local/lib/python3.10/dist-packages (from requests->torchtext==0.6.0) (2.0.7)\n",
            "Requirement already satisfied: certifi>=2017.4.17 in /usr/local/lib/python3.10/dist-packages (from requests->torchtext==0.6.0) (2024.6.2)\n",
            "Requirement already satisfied: filelock in /usr/local/lib/python3.10/dist-packages (from torch->torchtext==0.6.0) (3.14.0)\n",
            "Requirement already satisfied: typing-extensions>=4.8.0 in /usr/local/lib/python3.10/dist-packages (from torch->torchtext==0.6.0) (4.12.2)\n",
            "Requirement already satisfied: sympy in /usr/local/lib/python3.10/dist-packages (from torch->torchtext==0.6.0) (1.12.1)\n",
            "Requirement already satisfied: networkx in /usr/local/lib/python3.10/dist-packages (from torch->torchtext==0.6.0) (3.3)\n",
            "Requirement already satisfied: jinja2 in /usr/local/lib/python3.10/dist-packages (from torch->torchtext==0.6.0) (3.1.4)\n",
            "Requirement already satisfied: fsspec in /usr/local/lib/python3.10/dist-packages (from torch->torchtext==0.6.0) (2023.6.0)\n",
            "Collecting nvidia-cuda-nvrtc-cu12==12.1.105 (from torch->torchtext==0.6.0)\n",
            "  Using cached nvidia_cuda_nvrtc_cu12-12.1.105-py3-none-manylinux1_x86_64.whl (23.7 MB)\n",
            "Collecting nvidia-cuda-runtime-cu12==12.1.105 (from torch->torchtext==0.6.0)\n",
            "  Using cached nvidia_cuda_runtime_cu12-12.1.105-py3-none-manylinux1_x86_64.whl (823 kB)\n",
            "Collecting nvidia-cuda-cupti-cu12==12.1.105 (from torch->torchtext==0.6.0)\n",
            "  Using cached nvidia_cuda_cupti_cu12-12.1.105-py3-none-manylinux1_x86_64.whl (14.1 MB)\n",
            "Collecting nvidia-cudnn-cu12==8.9.2.26 (from torch->torchtext==0.6.0)\n",
            "  Using cached nvidia_cudnn_cu12-8.9.2.26-py3-none-manylinux1_x86_64.whl (731.7 MB)\n",
            "Collecting nvidia-cublas-cu12==12.1.3.1 (from torch->torchtext==0.6.0)\n",
            "  Using cached nvidia_cublas_cu12-12.1.3.1-py3-none-manylinux1_x86_64.whl (410.6 MB)\n",
            "Collecting nvidia-cufft-cu12==11.0.2.54 (from torch->torchtext==0.6.0)\n",
            "  Using cached nvidia_cufft_cu12-11.0.2.54-py3-none-manylinux1_x86_64.whl (121.6 MB)\n",
            "Collecting nvidia-curand-cu12==10.3.2.106 (from torch->torchtext==0.6.0)\n",
            "  Using cached nvidia_curand_cu12-10.3.2.106-py3-none-manylinux1_x86_64.whl (56.5 MB)\n",
            "Collecting nvidia-cusolver-cu12==11.4.5.107 (from torch->torchtext==0.6.0)\n",
            "  Using cached nvidia_cusolver_cu12-11.4.5.107-py3-none-manylinux1_x86_64.whl (124.2 MB)\n",
            "Collecting nvidia-cusparse-cu12==12.1.0.106 (from torch->torchtext==0.6.0)\n",
            "  Using cached nvidia_cusparse_cu12-12.1.0.106-py3-none-manylinux1_x86_64.whl (196.0 MB)\n",
            "Collecting nvidia-nccl-cu12==2.20.5 (from torch->torchtext==0.6.0)\n",
            "  Using cached nvidia_nccl_cu12-2.20.5-py3-none-manylinux2014_x86_64.whl (176.2 MB)\n",
            "Collecting nvidia-nvtx-cu12==12.1.105 (from torch->torchtext==0.6.0)\n",
            "  Using cached nvidia_nvtx_cu12-12.1.105-py3-none-manylinux1_x86_64.whl (99 kB)\n",
            "Requirement already satisfied: triton==2.3.0 in /usr/local/lib/python3.10/dist-packages (from torch->torchtext==0.6.0) (2.3.0)\n",
            "Collecting nvidia-nvjitlink-cu12 (from nvidia-cusolver-cu12==11.4.5.107->torch->torchtext==0.6.0)\n",
            "  Downloading nvidia_nvjitlink_cu12-12.5.40-py3-none-manylinux2014_x86_64.whl (21.3 MB)\n",
            "\u001b[2K     \u001b[90m━━━━━━━━━━━━━━━━━━━━━━━━━━━━━━━━━━━━━━━━\u001b[0m \u001b[32m21.3/21.3 MB\u001b[0m \u001b[31m58.8 MB/s\u001b[0m eta \u001b[36m0:00:00\u001b[0m\n",
            "\u001b[?25hRequirement already satisfied: MarkupSafe>=2.0 in /usr/local/lib/python3.10/dist-packages (from jinja2->torch->torchtext==0.6.0) (2.1.5)\n",
            "Requirement already satisfied: mpmath<1.4.0,>=1.1.0 in /usr/local/lib/python3.10/dist-packages (from sympy->torch->torchtext==0.6.0) (1.3.0)\n",
            "Installing collected packages: nvidia-nvtx-cu12, nvidia-nvjitlink-cu12, nvidia-nccl-cu12, nvidia-curand-cu12, nvidia-cufft-cu12, nvidia-cuda-runtime-cu12, nvidia-cuda-nvrtc-cu12, nvidia-cuda-cupti-cu12, nvidia-cublas-cu12, nvidia-cusparse-cu12, nvidia-cudnn-cu12, nvidia-cusolver-cu12, torchtext\n",
            "  Attempting uninstall: torchtext\n",
            "    Found existing installation: torchtext 0.18.0\n",
            "    Uninstalling torchtext-0.18.0:\n",
            "      Successfully uninstalled torchtext-0.18.0\n",
            "Successfully installed nvidia-cublas-cu12-12.1.3.1 nvidia-cuda-cupti-cu12-12.1.105 nvidia-cuda-nvrtc-cu12-12.1.105 nvidia-cuda-runtime-cu12-12.1.105 nvidia-cudnn-cu12-8.9.2.26 nvidia-cufft-cu12-11.0.2.54 nvidia-curand-cu12-10.3.2.106 nvidia-cusolver-cu12-11.4.5.107 nvidia-cusparse-cu12-12.1.0.106 nvidia-nccl-cu12-2.20.5 nvidia-nvjitlink-cu12-12.5.40 nvidia-nvtx-cu12-12.1.105 torchtext-0.6.0\n"
          ]
        }
      ],
      "source": [
        "!pip install torchtext==0.6.0"
      ]
    },
    {
      "cell_type": "markdown",
      "source": [
        "# 텍스트 토큰화 (okt 모델 사용)"
      ],
      "metadata": {
        "id": "Y5e-ZE_K0NHd"
      }
    },
    {
      "cell_type": "code",
      "execution_count": null,
      "metadata": {
        "id": "vGeSzJdB0Vvy",
        "colab": {
          "base_uri": "https://localhost:8080/"
        },
        "outputId": "0f5d8944-2e4c-4c99-b8ff-fec28277cadd"
      },
      "outputs": [
        {
          "output_type": "stream",
          "name": "stdout",
          "text": [
            "                           4  \\\n",
            "0                     SEXUAL   \n",
            "1                     SEXUAL   \n",
            "2                     SEXUAL   \n",
            "3                     SEXUAL   \n",
            "4                     SEXUAL   \n",
            "...                      ...   \n",
            "35180  CENSURE,VIOLENCE,HATE   \n",
            "37093             HATE,ABUSE   \n",
            "46636                  CRIME   \n",
            "9298        VIOLENCE,CENSURE   \n",
            "31766               VIOLENCE   \n",
            "\n",
            "                                                       5  \n",
            "0               [아, 저, ㅣ, 발련, 개, 먹고, 싶네, 밤, 강간, 쳐, 뿔, 라]  \n",
            "1                      [2, 차, 안, 나가고, 화장실, 에서, 해서, 빡친거지]  \n",
            "2                        [우리, 병동, 간호사, 허벅지, 죽이는데, 따먹고싶다]  \n",
            "3                                     [너, 몸매, 좋다고, 소문났어]  \n",
            "4                      [그래서, 한남, 은, 성매매, 취미, 라는, 거, 아니야]  \n",
            "...                                                  ...  \n",
            "35180                 [한남, 아, 머리, 아프게, 살, 지, 말고, 재기, 하자]  \n",
            "37093                  [누가, 부른거야, 어딜, 가나, 있네, 바퀴, 같은, 놈]  \n",
            "46636                         [아, 나도, 탕, 하고, 싶다, 대단함, 넘]  \n",
            "9298   [너, 간, 쎈거, 좋아하는거, 아니면, 갔다가, 먹, 적, 부모, 찢어, 발길, ...  \n",
            "31766                                    [진짜, 개, 쳐, 맞을래]  \n",
            "\n",
            "[26889 rows x 2 columns]\n"
          ]
        }
      ],
      "source": [
        "from konlpy.tag import Okt\n",
        "import re\n",
        "import pandas as pd\n",
        "\n",
        "# 섹슈얼 데이터만 추출한 데이터프레임인 sexual_df가 이미 생성되어 있다고 가정합니다.\n",
        "# 여기에 대해 전처리 작업을 수행하겠습니다.\n",
        "\n",
        "# 형태소 분석기 초기화\n",
        "tokenizer = Okt()\n",
        "\n",
        "# 텍스트 전처리 함수\n",
        "def preprocess_text(text):\n",
        "    # 특수문자 및 반복적인 문자 제거\n",
        "    text = re.sub(r'[^\\w\\s]', '', text)  # 특수문자 제거\n",
        "    # \"ㅋㅋ, ㅎㅎ\"와 같은 특정한 문자열 패턴 제거\n",
        "    text = re.sub(r'ㅋ+', '', text)\n",
        "    text = re.sub(r'ㅎ+', '', text)\n",
        "    text = re.sub(r'ㅠ+', '', text)\n",
        "    text = re.sub(r'ㅡㅡ', '', text)\n",
        "    text = re.sub(r'(.)\\1+', r'\\1\\1', text)  # 반복적인 문자 축약\n",
        "    # 형태소 분석 및 불용어 처리\n",
        "    morphs = tokenizer.morphs(text)\n",
        "    stopwords = ['의','가','에','들','는','잘','걍','과','도','를','으로','한','하다', '히', '힣', '흠', '!','?','<','>','(',')','[',']','|','#','.']\n",
        "    filtered_morphs = [word for word in morphs if not word in stopwords]\n",
        "    return filtered_morphs\n",
        "\n",
        "# 2번째 열 선택 (대화 텍스트)\n",
        "text_column = test_merged_df.iloc[:, 1]\n",
        "\n",
        "# 열을 문자열로 변환\n",
        "text_column_str = text_column.astype(str)\n",
        "\n",
        "# 텍스트 전처리 적용\n",
        "preprocessed_text_column = text_column_str.apply(preprocess_text)\n",
        "\n",
        "# 1번째 열 선택 (moral, sexual 라벨)\n",
        "id_column = test_merged_df.iloc[:, 0]\n",
        "\n",
        "# 1번째 열과 2번째 열 (라벨, 텍스트) 합쳐서 하나로 반환\n",
        "result_df = pd.concat([id_column, preprocessed_text_column], axis=1)\n",
        "\n",
        "# CSV로 저장\n",
        "result_df.to_csv(\"result_df.csv\", index=False, header=None)\n",
        "print(result_df)"
      ]
    },
    {
      "cell_type": "code",
      "execution_count": null,
      "metadata": {
        "id": "xZh_6a6cvfAA",
        "colab": {
          "base_uri": "https://localhost:8080/"
        },
        "outputId": "42aef1ea-4f74-48db-f60b-29d1a1098338"
      },
      "outputs": [
        {
          "output_type": "stream",
          "name": "stdout",
          "text": [
            "                          4                                                  5\n",
            "5       HATE,CENSURE,SEXUAL                 [특히, 벗방, 보는, 애, 은, 진짜, 거세, 시켜, 야함]\n",
            "6            CENSURE,SEXUAL                             [볼, 게, 없어서, 벗방, 을, 보냐]\n",
            "11           CENSURE,SEXUAL                   [에로, 배우, 을, 데려다가, 아이돌, 을, 만드, 네]\n",
            "12           CENSURE,SEXUAL                       [쟤, 네, 들은, 표정, 이, 딱, 야동, 인데]\n",
            "26             ABUSE,SEXUAL                             [줫빠지, 게, 힘들어서, 잣, 같았다]\n",
            "...                     ...                                                ...\n",
            "255114             VIOLENCE                  [쪼개는, 것, 만, 봐도, 뺨따귀, 후려, 치고, 싶더라]\n",
            "96539                 ABUSE  [배, 나온, 남충, 진짜, 꼰떄, 이기, 까지, 하면, 저, 심, 연속, 에서, ...\n",
            "208641        CENSURE,ABUSE             [이, 댓글, 추천, 하는, 새히, 들은, 최소한, 개, 바보, 다]\n",
            "117885        CENSURE,ABUSE  [이, 게, 팩트, 야, 이, 멍청한, 샛기, 야, 취업, 난, 인거, 알, 면, ...\n",
            "81877                 ABUSE  [니, 몸, 붙어, 있는, 지방, 이, 더, 말, 안, 통, 할, 것, 같은데, 돼...\n",
            "\n",
            "[122907 rows x 2 columns]\n"
          ]
        }
      ],
      "source": [
        "from konlpy.tag import Okt\n",
        "import re\n",
        "import pandas as pd\n",
        "\n",
        "# 섹슈얼 데이터만 추출한 데이터프레임인 sexual_df가 이미 생성되어 있다고 가정합니다.\n",
        "# 여기에 대해 전처리 작업을 수행하겠습니다.\n",
        "\n",
        "# 형태소 분석기 초기화\n",
        "tokenizer = Okt()\n",
        "\n",
        "# 텍스트 전처리 함수\n",
        "def preprocess_text(text):\n",
        "    # 특수문자 및 반복적인 문자 제거\n",
        "    text = re.sub(r'[^\\w\\s]', '', text)  # 특수문자 제거\n",
        "    # \"ㅋㅋ, ㅎㅎ\"와 같은 특정한 문자열 패턴 제거\n",
        "    text = re.sub(r'ㅋ+', '', text)\n",
        "    text = re.sub(r'ㅎ+', '', text)\n",
        "    text = re.sub(r'ㅠ+', '', text)\n",
        "    text = re.sub(r'ㅡㅡ', '', text)\n",
        "    text = re.sub(r'(.)\\1+', r'\\1\\1', text)  # 반복적인 문자 축약\n",
        "    # 형태소 분석 및 불용어 처리\n",
        "    morphs = tokenizer.morphs(text)\n",
        "    stopwords = ['의','가','에','들','는','잘','걍','과','도','를','으로','한','하다', '히', '힣', '흠', '!','?','<','>','(',')','[',']','|','#','.']\n",
        "    filtered_morphs = [word for word in morphs if not word in stopwords]\n",
        "    return filtered_morphs\n",
        "\n",
        "# 2번째 열 선택 (대화 텍스트)\n",
        "t_text_column = train_merged_df.iloc[:, 1]\n",
        "\n",
        "# 열을 문자열로 변환\n",
        "t_text_column_str = t_text_column.astype(str)\n",
        "\n",
        "# 텍스트 전처리 적용\n",
        "t_preprocessed_text_column = t_text_column_str.apply(preprocess_text)\n",
        "\n",
        "# 1번째 열 선택 (moral, sexual 라벨)\n",
        "t_id_column = train_merged_df.iloc[:, 0]\n",
        "\n",
        "# 1번째 열과 2번째 열 (라벨, 텍스트) 합쳐서 하나로 반환\n",
        "t_result_df = pd.concat([t_id_column, t_preprocessed_text_column], axis=1)\n",
        "\n",
        "# CSV로 저장\n",
        "t_result_df.to_csv(\"t_result_df.csv\", index=False, header=None)\n",
        "print(t_result_df)"
      ]
    },
    {
      "cell_type": "markdown",
      "source": [
        "# 모델 학습"
      ],
      "metadata": {
        "id": "JLGpOXeM6fSG"
      }
    },
    {
      "cell_type": "code",
      "source": [
        "!pip install torch\n"
      ],
      "metadata": {
        "id": "vJb70oeiGJwi",
        "colab": {
          "base_uri": "https://localhost:8080/"
        },
        "outputId": "aa051f8f-63a5-41c6-dd51-3fb73755f11d"
      },
      "execution_count": null,
      "outputs": [
        {
          "output_type": "stream",
          "name": "stdout",
          "text": [
            "Requirement already satisfied: torch in /usr/local/lib/python3.10/dist-packages (2.3.0+cu121)\n",
            "Requirement already satisfied: filelock in /usr/local/lib/python3.10/dist-packages (from torch) (3.14.0)\n",
            "Requirement already satisfied: typing-extensions>=4.8.0 in /usr/local/lib/python3.10/dist-packages (from torch) (4.12.2)\n",
            "Requirement already satisfied: sympy in /usr/local/lib/python3.10/dist-packages (from torch) (1.12.1)\n",
            "Requirement already satisfied: networkx in /usr/local/lib/python3.10/dist-packages (from torch) (3.3)\n",
            "Requirement already satisfied: jinja2 in /usr/local/lib/python3.10/dist-packages (from torch) (3.1.4)\n",
            "Requirement already satisfied: fsspec in /usr/local/lib/python3.10/dist-packages (from torch) (2023.6.0)\n",
            "Requirement already satisfied: nvidia-cuda-nvrtc-cu12==12.1.105 in /usr/local/lib/python3.10/dist-packages (from torch) (12.1.105)\n",
            "Requirement already satisfied: nvidia-cuda-runtime-cu12==12.1.105 in /usr/local/lib/python3.10/dist-packages (from torch) (12.1.105)\n",
            "Requirement already satisfied: nvidia-cuda-cupti-cu12==12.1.105 in /usr/local/lib/python3.10/dist-packages (from torch) (12.1.105)\n",
            "Requirement already satisfied: nvidia-cudnn-cu12==8.9.2.26 in /usr/local/lib/python3.10/dist-packages (from torch) (8.9.2.26)\n",
            "Requirement already satisfied: nvidia-cublas-cu12==12.1.3.1 in /usr/local/lib/python3.10/dist-packages (from torch) (12.1.3.1)\n",
            "Requirement already satisfied: nvidia-cufft-cu12==11.0.2.54 in /usr/local/lib/python3.10/dist-packages (from torch) (11.0.2.54)\n",
            "Requirement already satisfied: nvidia-curand-cu12==10.3.2.106 in /usr/local/lib/python3.10/dist-packages (from torch) (10.3.2.106)\n",
            "Requirement already satisfied: nvidia-cusolver-cu12==11.4.5.107 in /usr/local/lib/python3.10/dist-packages (from torch) (11.4.5.107)\n",
            "Requirement already satisfied: nvidia-cusparse-cu12==12.1.0.106 in /usr/local/lib/python3.10/dist-packages (from torch) (12.1.0.106)\n",
            "Requirement already satisfied: nvidia-nccl-cu12==2.20.5 in /usr/local/lib/python3.10/dist-packages (from torch) (2.20.5)\n",
            "Requirement already satisfied: nvidia-nvtx-cu12==12.1.105 in /usr/local/lib/python3.10/dist-packages (from torch) (12.1.105)\n",
            "Requirement already satisfied: triton==2.3.0 in /usr/local/lib/python3.10/dist-packages (from torch) (2.3.0)\n",
            "Requirement already satisfied: nvidia-nvjitlink-cu12 in /usr/local/lib/python3.10/dist-packages (from nvidia-cusolver-cu12==11.4.5.107->torch) (12.5.40)\n",
            "Requirement already satisfied: MarkupSafe>=2.0 in /usr/local/lib/python3.10/dist-packages (from jinja2->torch) (2.1.5)\n",
            "Requirement already satisfied: mpmath<1.4.0,>=1.1.0 in /usr/local/lib/python3.10/dist-packages (from sympy->torch) (1.3.0)\n"
          ]
        }
      ]
    },
    {
      "cell_type": "markdown",
      "source": [
        "# *데이터 전처리 (훈련 데이터 80%만 사용)*"
      ],
      "metadata": {
        "id": "PUx-cQjY0Wys"
      }
    },
    {
      "cell_type": "code",
      "source": [
        "import pandas as pd\n",
        "from sklearn.model_selection import train_test_split\n",
        "import torch\n",
        "from torch.utils.data import Dataset, DataLoader\n",
        "from transformers import BertTokenizer, BertForSequenceClassification, get_linear_schedule_with_warmup\n",
        "import torch.nn as nn\n",
        "import torch.optim as optim\n",
        "from tqdm import tqdm\n",
        "import matplotlib.pyplot as plt\n",
        "from sklearn.metrics import f1_score\n",
        "from torch.cuda.amp import GradScaler, autocast\n",
        "\n",
        "# Data Loading and Preprocessing\n",
        "def label_mapping_stage1(label):\n",
        "    if label == 'SEXUAL':\n",
        "        return 1\n",
        "    else:\n",
        "        return 0\n",
        "\n",
        "def label_mapping_stage2(label):\n",
        "    if label == 'IMMORAL_NONE':\n",
        "        return 0\n",
        "    else:\n",
        "        return 1\n",
        "\n",
        "# Load data\n",
        "train_data = pd.read_csv(\"t_result_df.csv\", header=None, names=['label', 'text'])\n",
        "train_data['label_stage1'] = train_data['label'].apply(label_mapping_stage1)\n",
        "train_data['label_stage2'] = train_data['label'].apply(label_mapping_stage2)\n",
        "\n",
        "test_data = pd.read_csv(\"result_df.csv\", header=None, names=['label', 'text'])\n",
        "test_data['label_stage1'] = test_data['label'].apply(label_mapping_stage1)\n",
        "test_data['label_stage2'] = test_data['label'].apply(label_mapping_stage2)\n",
        "\n",
        "# Use only 80% of the training data\n",
        "train_data, _ = train_test_split(train_data, train_size=0.8, random_state=42, stratify=train_data['label_stage1'])\n"
      ],
      "metadata": {
        "id": "oBQD5bOzDoNX"
      },
      "execution_count": null,
      "outputs": []
    },
    {
      "cell_type": "markdown",
      "source": [
        "# 클래스 별 가중치 조절"
      ],
      "metadata": {
        "id": "lziTV1000eGq"
      }
    },
    {
      "cell_type": "code",
      "source": [
        "print(train_data['label_stage1'].value_counts())\n",
        "print(test_data['label_stage1'].value_counts())\n"
      ],
      "metadata": {
        "id": "cRWE3idXWRB_",
        "colab": {
          "base_uri": "https://localhost:8080/"
        },
        "outputId": "8b503285-c982-4891-d5a8-4d1e0baba054"
      },
      "execution_count": null,
      "outputs": [
        {
          "output_type": "stream",
          "name": "stdout",
          "text": [
            "label_stage1\n",
            "0    76067\n",
            "1    22258\n",
            "Name: count, dtype: int64\n",
            "label_stage1\n",
            "0    14961\n",
            "1    11928\n",
            "Name: count, dtype: int64\n"
          ]
        }
      ]
    },
    {
      "cell_type": "code",
      "source": [
        "# 클래스 가중치 계산 (학습 데이터)\n",
        "class_counts_train = train_data['label_stage1'].value_counts()\n",
        "class_weights_train = [class_counts_train[0] / len(train_data), class_counts_train[1] / len(train_data)]\n",
        "class_weights_train = torch.tensor(class_weights_train, dtype=torch.float).to(device)\n",
        "\n",
        "# 클래스 가중치 출력 (학습 데이터)\n",
        "print(f\"Train Class counts: {class_counts_train}\")\n",
        "print(f\"Train Class weights: {class_weights_train}\")\n",
        "\n",
        "# 클래스 가중치 계산 (테스트 데이터)\n",
        "class_counts_test = test_data['label_stage1'].value_counts()\n",
        "class_weights_test = [class_counts_test[0] / len(test_data), class_counts_test[1] / len(test_data)]\n",
        "class_weights_test = torch.tensor(class_weights_test, dtype=torch.float).to(device)\n",
        "\n",
        "# 클래스 가중치 출력 (테스트 데이터)\n",
        "print(f\"Test Class counts: {class_counts_test}\")\n",
        "print(f\"Test Class weights: {class_weights_test}\")"
      ],
      "metadata": {
        "colab": {
          "base_uri": "https://localhost:8080/"
        },
        "id": "fGTtFtFKYblu",
        "outputId": "672513b8-9304-4ceb-cc2f-56b94e32aa99"
      },
      "execution_count": null,
      "outputs": [
        {
          "output_type": "stream",
          "name": "stdout",
          "text": [
            "Train Class counts: label_stage1\n",
            "0    76067\n",
            "1    22258\n",
            "Name: count, dtype: int64\n",
            "Train Class weights: tensor([0.7736, 0.2264], device='cuda:0')\n",
            "Test Class counts: label_stage1\n",
            "0    14961\n",
            "1    11928\n",
            "Name: count, dtype: int64\n",
            "Test Class weights: tensor([0.5564, 0.4436], device='cuda:0')\n"
          ]
        }
      ]
    },
    {
      "cell_type": "code",
      "source": [
        "# BERT용 데이터셋 정의\n",
        "class BertDataset(Dataset):\n",
        "    def __init__(self, texts, labels, tokenizer, max_length):\n",
        "        self.texts = texts\n",
        "        self.labels = labels\n",
        "        self.tokenizer = tokenizer\n",
        "        self.max_length = max_length\n",
        "\n",
        "    def __len__(self):\n",
        "        return len(self.texts)\n",
        "\n",
        "    def __getitem__(self, idx):\n",
        "        text = self.texts[idx]\n",
        "        label = self.labels[idx]\n",
        "\n",
        "        encoding = self.tokenizer.encode_plus(\n",
        "            text,\n",
        "            add_special_tokens=True,\n",
        "            max_length=self.max_length,\n",
        "            padding='max_length',\n",
        "            truncation=True,\n",
        "            return_tensors='pt'\n",
        "        )\n",
        "\n",
        "        return {\n",
        "            'input_ids': encoding['input_ids'].flatten(),\n",
        "            'attention_mask': encoding['attention_mask'].flatten(),\n",
        "            'label': torch.tensor(label, dtype=torch.long)\n",
        "        }"
      ],
      "metadata": {
        "id": "kG_4daA6DqgI"
      },
      "execution_count": null,
      "outputs": []
    },
    {
      "cell_type": "code",
      "source": [
        "# 데이터셋 및 데이터로더 생성\n",
        "tokenizer = BertTokenizer.from_pretrained('bert-base-multilingual-cased')\n",
        "max_length = 128\n",
        "\n",
        "# Stage 1 데이터셋\n",
        "train_dataset_stage1 = BertDataset(train_data['text'].values, train_data['label_stage1'].values, tokenizer, max_length)\n",
        "test_dataset_stage1 = BertDataset(test_data['text'].values, test_data['label_stage1'].values, tokenizer, max_length)\n",
        "\n",
        "train_loader_stage1 = DataLoader(train_dataset_stage1, batch_size=32, shuffle=True, num_workers=2)\n",
        "test_loader_stage1 = DataLoader(test_dataset_stage1, batch_size=32, shuffle=False, num_workers=2)\n",
        "\n",
        "# Stage 2 데이터셋\n",
        "non_sexual_train_data = train_data[train_data['label_stage1'] == 0]\n",
        "non_sexual_test_data = test_data[test_data['label_stage1'] == 0]\n",
        "\n",
        "train_dataset_stage2 = BertDataset(non_sexual_train_data['text'].values, non_sexual_train_data['label_stage2'].values, tokenizer, max_length)\n",
        "test_dataset_stage2 = BertDataset(non_sexual_test_data['text'].values, non_sexual_test_data['label_stage2'].values, tokenizer, max_length)\n",
        "\n",
        "train_loader_stage2 = DataLoader(train_dataset_stage2, batch_size=32, shuffle=True, num_workers=2)\n",
        "test_loader_stage2 = DataLoader(test_dataset_stage2, batch_size=32, shuffle=False, num_workers=2)\n",
        "\n",
        "# BERT 모델 로드\n",
        "model_stage1 = BertForSequenceClassification.from_pretrained(\n",
        "    'bert-base-multilingual-cased',\n",
        "    num_labels=2,  # 이진 분류\n",
        "    output_attentions=False,\n",
        "    output_hidden_states=False,\n",
        "    hidden_dropout_prob=0.3\n",
        ")\n",
        "\n",
        "model_stage2 = BertForSequenceClassification.from_pretrained(\n",
        "    'bert-base-multilingual-cased',\n",
        "    num_labels=2,  # 이진 분류\n",
        "    output_attentions=False,\n",
        "    output_hidden_states=False,\n",
        "    hidden_dropout_prob=0.3\n",
        ")\n",
        "\n",
        "device = torch.device('cuda' if torch.cuda.is_available() else 'cpu')\n",
        "model_stage1.to(device)\n",
        "model_stage2.to(device)\n",
        "\n",
        "optimizer_stage1 = optim.AdamW(model_stage1.parameters(), lr=1e-5)\n",
        "optimizer_stage2 = optim.AdamW(model_stage2.parameters(), lr=1e-5)\n",
        "\n",
        "# 클래스 가중치가 적용된 손실 함수\n",
        "criterion = nn.CrossEntropyLoss(weight=class_weights_train).to(device)\n",
        "scaler = GradScaler()\n",
        "\n",
        "# 학습률 스케줄러 설정\n",
        "total_steps_stage1 = len(train_loader_stage1) * 5  # num_epochs를 5로 가정\n",
        "scheduler_stage1 = get_linear_schedule_with_warmup(optimizer_stage1, num_warmup_steps=0, num_training_steps=total_steps_stage1)\n",
        "\n",
        "total_steps_stage2 = len(train_loader_stage2) * 5  # num_epochs를 5로 가정\n",
        "scheduler_stage2 = get_linear_schedule_with_warmup(optimizer_stage2, num_warmup_steps=0, num_training_steps=total_steps_stage2)"
      ],
      "metadata": {
        "id": "iriW-ORVDrak",
        "colab": {
          "base_uri": "https://localhost:8080/"
        },
        "outputId": "d81cced3-d477-4275-f4a4-2267831b77a2"
      },
      "execution_count": null,
      "outputs": [
        {
          "output_type": "stream",
          "name": "stderr",
          "text": [
            "Some weights of BertForSequenceClassification were not initialized from the model checkpoint at bert-base-multilingual-cased and are newly initialized: ['classifier.bias', 'classifier.weight']\n",
            "You should probably TRAIN this model on a down-stream task to be able to use it for predictions and inference.\n",
            "Some weights of BertForSequenceClassification were not initialized from the model checkpoint at bert-base-multilingual-cased and are newly initialized: ['classifier.bias', 'classifier.weight']\n",
            "You should probably TRAIN this model on a down-stream task to be able to use it for predictions and inference.\n"
          ]
        }
      ]
    },
    {
      "cell_type": "markdown",
      "source": [
        "# BERT 모델 로드 및 모델 학습"
      ],
      "metadata": {
        "id": "he8TurSU0qpG"
      }
    },
    {
      "cell_type": "code",
      "source": [
        "# BERT 모델 로드\n",
        "model_stage1 = BertForSequenceClassification.from_pretrained(\n",
        "    'bert-base-multilingual-cased',\n",
        "    num_labels=2,  # 이진 분류\n",
        "    output_attentions=False,\n",
        "    output_hidden_states=False,\n",
        "    hidden_dropout_prob=0.3\n",
        ")\n",
        "\n",
        "model_stage2 = BertForSequenceClassification.from_pretrained(\n",
        "    'bert-base-multilingual-cased',\n",
        "    num_labels=2,  # 이진 분류\n",
        "    output_attentions=False,\n",
        "    output_hidden_states=False,\n",
        "    hidden_dropout_prob=0.3\n",
        ")\n",
        "\n",
        "device = torch.device('cuda' if torch.cuda.is_available() else 'cpu')\n",
        "model_stage1.to(device)\n",
        "model_stage2.to(device)\n",
        "\n",
        "optimizer_stage1 = optim.AdamW(model_stage1.parameters(), lr=1e-5)\n",
        "optimizer_stage2 = optim.AdamW(model_stage2.parameters(), lr=1e-5)\n",
        "\n",
        "criterion = nn.CrossEntropyLoss()\n",
        "scaler = GradScaler()\n",
        "\n",
        "# 학습률 스케줄러 설정\n",
        "total_steps_stage1 = len(train_loader_stage1) * 5  # num_epochs를 5로 가정\n",
        "scheduler_stage1 = get_linear_schedule_with_warmup(optimizer_stage1, num_warmup_steps=0, num_training_steps=total_steps_stage1)\n",
        "\n",
        "total_steps_stage2 = len(train_loader_stage2) * 5  # num_epochs를 5로 가정\n",
        "scheduler_stage2 = get_linear_schedule_with_warmup(optimizer_stage2, num_warmup_steps=0, num_training_steps=total_steps_stage2)\n",
        "\n",
        "# 학습 및 평가 함수 정의\n",
        "def train_epoch(model, data_loader, optimizer, criterion, device, scaler, scheduler):\n",
        "    model.train()\n",
        "    epoch_loss = 0\n",
        "    correct_predictions = 0\n",
        "    total_predictions = 0\n",
        "    progress_bar = tqdm(data_loader, desc=\"Training\", leave=False)\n",
        "    for batch in progress_bar:\n",
        "        input_ids = batch['input_ids'].to(device)\n",
        "        attention_mask = batch['attention_mask'].to(device)\n",
        "        labels = batch['label'].to(device)\n",
        "\n",
        "        optimizer.zero_grad()\n",
        "\n",
        "        with autocast():\n",
        "            outputs = model(input_ids, attention_mask=attention_mask)\n",
        "            loss = criterion(outputs.logits, labels)\n",
        "\n",
        "        scaler.scale(loss).backward()\n",
        "        scaler.step(optimizer)\n",
        "        scaler.update()\n",
        "        scheduler.step()\n",
        "\n",
        "        predictions = torch.argmax(outputs.logits, dim=1)\n",
        "        correct_predictions += torch.sum(predictions == labels).item()\n",
        "        total_predictions += len(labels)\n",
        "        epoch_loss += loss.item()\n",
        "\n",
        "        progress_bar.set_postfix(loss=loss.item(), accuracy=correct_predictions / total_predictions)\n",
        "\n",
        "    accuracy = correct_predictions / total_predictions\n",
        "    return epoch_loss / len(data_loader), accuracy\n",
        "\n",
        "def evaluate(model, data_loader, criterion, device):\n",
        "    model.eval()\n",
        "    epoch_loss = 0\n",
        "    correct_predictions = 0\n",
        "    total_predictions = 0\n",
        "    all_predictions = []\n",
        "    all_labels = []\n",
        "    progress_bar = tqdm(data_loader, desc=\"Evaluating\", leave=False)\n",
        "    with torch.no_grad():\n",
        "        for batch in progress_bar:\n",
        "            input_ids = batch['input_ids'].to(device)\n",
        "            attention_mask = batch['attention_mask'].to(device)\n",
        "            labels = batch['label'].to(device)\n",
        "\n",
        "            outputs = model(input_ids, attention_mask=attention_mask)\n",
        "            loss = criterion(outputs.logits, labels)\n",
        "            epoch_loss += loss.item()\n",
        "\n",
        "            predictions = torch.argmax(outputs.logits, dim=1)\n",
        "            correct_predictions += torch.sum(predictions == labels).item()\n",
        "            total_predictions += len(labels)\n",
        "            all_predictions.extend(predictions.cpu().numpy())\n",
        "            all_labels.extend(labels.cpu().numpy())\n",
        "\n",
        "            progress_bar.set_postfix(loss=loss.item(), accuracy=correct_predictions / total_predictions)\n",
        "\n",
        "    accuracy = correct_predictions / total_predictions\n",
        "    f1 = f1_score(all_labels, all_predictions, average='binary')\n",
        "    return epoch_loss / len(data_loader), accuracy, f1"
      ],
      "metadata": {
        "id": "pioB1c8w5nnb",
        "colab": {
          "base_uri": "https://localhost:8080/"
        },
        "outputId": "dfb81cf0-4307-408d-f076-57264ef67d02"
      },
      "execution_count": null,
      "outputs": [
        {
          "output_type": "stream",
          "name": "stderr",
          "text": [
            "Some weights of BertForSequenceClassification were not initialized from the model checkpoint at bert-base-multilingual-cased and are newly initialized: ['classifier.bias', 'classifier.weight']\n",
            "You should probably TRAIN this model on a down-stream task to be able to use it for predictions and inference.\n",
            "Some weights of BertForSequenceClassification were not initialized from the model checkpoint at bert-base-multilingual-cased and are newly initialized: ['classifier.bias', 'classifier.weight']\n",
            "You should probably TRAIN this model on a down-stream task to be able to use it for predictions and inference.\n"
          ]
        }
      ]
    },
    {
      "cell_type": "markdown",
      "source": [
        "# 모델 저장 및 평가"
      ],
      "metadata": {
        "id": "nc1rati70x3q"
      }
    },
    {
      "cell_type": "code",
      "source": [
        "# Stage 1 Training and Evaluation\n",
        "num_epochs = 5\n",
        "\n",
        "train_losses_stage1 = []\n",
        "test_losses_stage1 = []\n",
        "train_accuracies_stage1 = []\n",
        "test_accuracies_stage1 = []\n",
        "f1_scores_stage1 = []\n",
        "\n",
        "for epoch in range(num_epochs):\n",
        "    train_loss, train_accuracy = train_epoch(model_stage1, train_loader_stage1, optimizer_stage1, criterion, device, scaler, scheduler_stage1)\n",
        "    test_loss, test_accuracy, f1 = evaluate(model_stage1, test_loader_stage1, criterion, device)\n",
        "\n",
        "    train_losses_stage1.append(train_loss)\n",
        "    train_accuracies_stage1.append(train_accuracy)\n",
        "    test_losses_stage1.append(test_loss)\n",
        "    test_accuracies_stage1.append(test_accuracy)\n",
        "    f1_scores_stage1.append(f1)\n",
        "\n",
        "    tqdm.write(f'Epoch {epoch + 1}/{num_epochs} (Stage 1)')\n",
        "    tqdm.write(f'Train Loss: {train_loss:.4f}, Train Accuracy: {train_accuracy:.4f}')\n",
        "    tqdm.write(f'Test Loss: {test_loss:.4f}, Test Accuracy: {test_accuracy:.4f}')\n",
        "    tqdm.write(f'F1 Score: {f1:.4f}')\n",
        "\n",
        "    # Stage 1 모델 저장\n",
        "    torch.save(model_stage1.state_dict(), \"stage1_model.pth\")\n",
        "\n",
        "# Stage 2 Training and Evaluation\n",
        "train_losses_stage2 = []\n",
        "test_losses_stage2 = []\n",
        "train_accuracies_stage2 = []\n",
        "test_accuracies_stage2 = []\n",
        "f1_scores_stage2 = []\n",
        "\n",
        "for epoch in range(num_epochs):\n",
        "    train_loss, train_accuracy = train_epoch(model_stage2, train_loader_stage2, optimizer_stage2, criterion, device, scaler, scheduler_stage2)\n",
        "    test_loss, test_accuracy, f1 = evaluate(model_stage2, test_loader_stage2, criterion, device)\n",
        "\n",
        "    train_losses_stage2.append(train_loss)\n",
        "    train_accuracies_stage2.append(train_accuracy)\n",
        "    test_losses_stage2.append(test_loss)\n",
        "    test_accuracies_stage2.append(test_accuracy)\n",
        "    f1_scores_stage2.append(f1)\n",
        "\n",
        "    tqdm.write(f'Epoch {epoch + 1}/{num_epochs} (Stage 2)')\n",
        "    tqdm.write(f'Train Loss: {train_loss:.4f}, Train Accuracy: {train_accuracy:.4f}')\n",
        "    tqdm.write(f'Test Loss: {test_loss:.4f}, Test Accuracy: {test_accuracy:.4f}')\n",
        "    tqdm.write(f'F1 Score: {f1:.4f}')\n",
        "\n",
        "    # Stage 2 모델 저장\n",
        "    torch.save(model_stage2.state_dict(), \"stage2_model.pth\")\n",
        "\n",
        "# 최종 모델 저장\n",
        "torch.save(model_stage1.state_dict(), \"final_stage1_model.pth\")\n",
        "torch.save(model_stage2.state_dict(), \"final_stage2_model.pth\")\n",
        "print(\"Final models saved to final_stage1_model.pth and final_stage2_model.pth\")\n",
        "\n",
        "# 학습 과정 시각화\n",
        "plt.figure(figsize=(12, 6))\n",
        "plt.subplot(1, 2, 1)\n",
        "plt.plot(train_losses_stage1, label='Train Loss Stage 1')\n",
        "plt.plot(test_losses_stage1, label='Test Loss Stage 1')\n",
        "plt.plot(train_losses_stage2, label='Train Loss Stage 2')\n",
        "plt.plot(test_losses_stage2, label='Test Loss Stage 2')\n",
        "plt.xlabel('Epoch')\n",
        "plt.ylabel('Loss')\n",
        "plt.legend()\n",
        "\n",
        "plt.subplot(1, 2, 2)\n",
        "plt.plot(train_accuracies_stage1, label='Train Accuracy Stage 1')\n",
        "plt.plot(test_accuracies_stage1, label='Test Accuracy Stage 1')\n",
        "plt.plot(train_accuracies_stage2, label='Train Accuracy Stage 2')\n",
        "plt.plot(test_accuracies_stage2, label='Test Accuracy Stage 2')\n",
        "plt.xlabel('Epoch')\n",
        "plt.ylabel('Accuracy')\n",
        "plt.legend()\n",
        "\n",
        "plt.tight_layout()\n",
        "plt.show()\n",
        "\n",
        "# F1 스코어 시각화\n",
        "plt.figure(figsize=(12, 6))\n",
        "plt.plot(f1_scores_stage1, label='F1 Score Stage 1')\n",
        "plt.plot(f1_scores_stage2, label='F1 Score Stage 2')\n",
        "plt.xlabel('Epoch')\n",
        "plt.ylabel('F1 Score')\n",
        "plt.legend()\n",
        "plt.show()\n"
      ],
      "metadata": {
        "id": "yNlrIC2gD-LP",
        "colab": {
          "base_uri": "https://localhost:8080/",
          "height": 1000
        },
        "outputId": "886d95c8-4185-4c6a-e713-3f5f91e9cdb6"
      },
      "execution_count": null,
      "outputs": [
        {
          "output_type": "stream",
          "name": "stderr",
          "text": []
        },
        {
          "output_type": "stream",
          "name": "stdout",
          "text": [
            "Epoch 1/5 (Stage 1)\n",
            "Train Loss: 0.4558, Train Accuracy: 0.7907\n",
            "Test Loss: 0.5482, Test Accuracy: 0.7648\n",
            "F1 Score: 0.7013\n"
          ]
        },
        {
          "output_type": "stream",
          "name": "stderr",
          "text": []
        },
        {
          "output_type": "stream",
          "name": "stdout",
          "text": [
            "Epoch 2/5 (Stage 1)\n",
            "Train Loss: 0.4016, Train Accuracy: 0.8100\n",
            "Test Loss: 0.5617, Test Accuracy: 0.7641\n",
            "F1 Score: 0.6849\n"
          ]
        },
        {
          "output_type": "stream",
          "name": "stderr",
          "text": []
        },
        {
          "output_type": "stream",
          "name": "stdout",
          "text": [
            "Epoch 3/5 (Stage 1)\n",
            "Train Loss: 0.3821, Train Accuracy: 0.8169\n",
            "Test Loss: 0.5397, Test Accuracy: 0.7823\n",
            "F1 Score: 0.7179\n"
          ]
        },
        {
          "output_type": "stream",
          "name": "stderr",
          "text": []
        },
        {
          "output_type": "stream",
          "name": "stdout",
          "text": [
            "Epoch 4/5 (Stage 1)\n",
            "Train Loss: 0.3683, Train Accuracy: 0.8230\n",
            "Test Loss: 0.5098, Test Accuracy: 0.7841\n",
            "F1 Score: 0.7215\n"
          ]
        },
        {
          "output_type": "stream",
          "name": "stderr",
          "text": []
        },
        {
          "output_type": "stream",
          "name": "stdout",
          "text": [
            "Epoch 5/5 (Stage 1)\n",
            "Train Loss: 0.3612, Train Accuracy: 0.8264\n",
            "Test Loss: 0.5158, Test Accuracy: 0.7929\n",
            "F1 Score: 0.7376\n"
          ]
        },
        {
          "output_type": "stream",
          "name": "stderr",
          "text": []
        },
        {
          "output_type": "stream",
          "name": "stdout",
          "text": [
            "Epoch 1/5 (Stage 2)\n",
            "Train Loss: 0.4269, Train Accuracy: 0.8016\n",
            "Test Loss: 0.3102, Test Accuracy: 0.8659\n",
            "F1 Score: 0.8731\n"
          ]
        },
        {
          "output_type": "stream",
          "name": "stderr",
          "text": []
        },
        {
          "output_type": "stream",
          "name": "stdout",
          "text": [
            "Epoch 2/5 (Stage 2)\n",
            "Train Loss: 0.3503, Train Accuracy: 0.8470\n",
            "Test Loss: 0.2950, Test Accuracy: 0.8772\n",
            "F1 Score: 0.8856\n"
          ]
        },
        {
          "output_type": "stream",
          "name": "stderr",
          "text": []
        },
        {
          "output_type": "stream",
          "name": "stdout",
          "text": [
            "Epoch 3/5 (Stage 2)\n",
            "Train Loss: 0.3208, Train Accuracy: 0.8620\n",
            "Test Loss: 0.2877, Test Accuracy: 0.8854\n",
            "F1 Score: 0.8947\n"
          ]
        },
        {
          "output_type": "stream",
          "name": "stderr",
          "text": []
        },
        {
          "output_type": "stream",
          "name": "stdout",
          "text": [
            "Epoch 4/5 (Stage 2)\n",
            "Train Loss: 0.3013, Train Accuracy: 0.8704\n",
            "Test Loss: 0.2863, Test Accuracy: 0.8875\n",
            "F1 Score: 0.8978\n"
          ]
        },
        {
          "output_type": "stream",
          "name": "stderr",
          "text": []
        },
        {
          "output_type": "stream",
          "name": "stdout",
          "text": [
            "Epoch 5/5 (Stage 2)\n",
            "Train Loss: 0.2867, Train Accuracy: 0.8778\n",
            "Test Loss: 0.2933, Test Accuracy: 0.8856\n",
            "F1 Score: 0.8942\n",
            "Final models saved to final_stage1_model.pth and final_stage2_model.pth\n"
          ]
        },
        {
          "output_type": "display_data",
          "data": {
            "text/plain": [
              "<Figure size 1200x600 with 2 Axes>"
            ],
            "image/png": "[encoded data removed]"
          },
          "metadata": {}
        },
        {
          "output_type": "display_data",
          "data": {
            "text/plain": [
              "<Figure size 1200x600 with 1 Axes>"
            ],
            "image/png": "[encoded data removed]"
          },
          "metadata": {}
        }
      ]
    },
    {
      "cell_type": "markdown",
      "source": [
        "loss, accuracy, f1 Score 모두 에폭을 진행하면서 각각 우하향, 우상향, 우상향 한 모습을 살펴볼 수 있었다."
      ],
      "metadata": {
        "id": "0A9GPM_a96v_"
      }
    },
    {
      "cell_type": "code",
      "source": [
        "import torch.nn as nn\n",
        "from transformers import BertModel\n",
        "\n",
        "class MultiTaskBertModel(nn.Module):\n",
        "    def __init__(self, model_name, num_labels_stage1, num_labels_stage2):\n",
        "        super(MultiTaskBertModel, self).__init__()\n",
        "        self.bert = BertModel.from_pretrained(model_name)\n",
        "        self.dropout = nn.Dropout(0.3)\n",
        "        self.classifier_stage1 = nn.Linear(self.bert.config.hidden_size, num_labels_stage1)\n",
        "        self.classifier_stage2 = nn.Linear(self.bert.config.hidden_size, num_labels_stage2)\n",
        "\n",
        "    def forward(self, input_ids, attention_mask):\n",
        "        outputs = self.bert(input_ids=input_ids, attention_mask=attention_mask)\n",
        "        pooled_output = self.dropout(outputs[1])\n",
        "        logits_stage1 = self.classifier_stage1(pooled_output)\n",
        "        logits_stage2 = self.classifier_stage2(pooled_output)\n",
        "        return logits_stage1, logits_stage2\n",
        "\n",
        "# 모델 초기화\n",
        "model = MultiTaskBertModel('bert-base-multilingual-cased', num_labels_stage1=2, num_labels_stage2=2)\n",
        "device = torch.device('cuda' if torch.cuda.is_available() else 'cpu')\n",
        "model.to(device)\n"
      ],
      "metadata": {
        "id": "pZwJqi57xaqX",
        "colab": {
          "base_uri": "https://localhost:8080/"
        },
        "outputId": "1d0f22ac-2594-42b5-831c-02745b5da33d"
      },
      "execution_count": null,
      "outputs": [
        {
          "output_type": "execute_result",
          "data": {
            "text/plain": [
              "MultiTaskBertModel(\n",
              "  (bert): BertModel(\n",
              "    (embeddings): BertEmbeddings(\n",
              "      (word_embeddings): Embedding(119547, 768, padding_idx=0)\n",
              "      (position_embeddings): Embedding(512, 768)\n",
              "      (token_type_embeddings): Embedding(2, 768)\n",
              "      (LayerNorm): LayerNorm((768,), eps=1e-12, elementwise_affine=True)\n",
              "      (dropout): Dropout(p=0.1, inplace=False)\n",
              "    )\n",
              "    (encoder): BertEncoder(\n",
              "      (layer): ModuleList(\n",
              "        (0-11): 12 x BertLayer(\n",
              "          (attention): BertAttention(\n",
              "            (self): BertSdpaSelfAttention(\n",
              "              (query): Linear(in_features=768, out_features=768, bias=True)\n",
              "              (key): Linear(in_features=768, out_features=768, bias=True)\n",
              "              (value): Linear(in_features=768, out_features=768, bias=True)\n",
              "              (dropout): Dropout(p=0.1, inplace=False)\n",
              "            )\n",
              "            (output): BertSelfOutput(\n",
              "              (dense): Linear(in_features=768, out_features=768, bias=True)\n",
              "              (LayerNorm): LayerNorm((768,), eps=1e-12, elementwise_affine=True)\n",
              "              (dropout): Dropout(p=0.1, inplace=False)\n",
              "            )\n",
              "          )\n",
              "          (intermediate): BertIntermediate(\n",
              "            (dense): Linear(in_features=768, out_features=3072, bias=True)\n",
              "            (intermediate_act_fn): GELUActivation()\n",
              "          )\n",
              "          (output): BertOutput(\n",
              "            (dense): Linear(in_features=3072, out_features=768, bias=True)\n",
              "            (LayerNorm): LayerNorm((768,), eps=1e-12, elementwise_affine=True)\n",
              "            (dropout): Dropout(p=0.1, inplace=False)\n",
              "          )\n",
              "        )\n",
              "      )\n",
              "    )\n",
              "    (pooler): BertPooler(\n",
              "      (dense): Linear(in_features=768, out_features=768, bias=True)\n",
              "      (activation): Tanh()\n",
              "    )\n",
              "  )\n",
              "  (dropout): Dropout(p=0.3, inplace=False)\n",
              "  (classifier_stage1): Linear(in_features=768, out_features=2, bias=True)\n",
              "  (classifier_stage2): Linear(in_features=768, out_features=2, bias=True)\n",
              ")"
            ]
          },
          "metadata": {},
          "execution_count": 36
        }
      ]
    },
    {
      "cell_type": "code",
      "source": [
        "import torch\n",
        "\n",
        "# 모델 저장 함수 정의\n",
        "def save_model(model, model_path):\n",
        "    torch.save(model.state_dict(), model_path)\n",
        "    print(f\"Model saved to {model_path}\")\n",
        "\n",
        "# 최종 모델 저장\n",
        "save_model(model, \"final_multitask_model.pth\")\n"
      ],
      "metadata": {
        "id": "BiBwvqE4xdaq",
        "colab": {
          "base_uri": "https://localhost:8080/"
        },
        "outputId": "1d6dc53d-a056-4981-b215-1b5993437fbf"
      },
      "execution_count": null,
      "outputs": [
        {
          "output_type": "stream",
          "name": "stdout",
          "text": [
            "Model saved to final_multitask_model.pth\n"
          ]
        }
      ]
    },
    {
      "cell_type": "markdown",
      "source": [
        "# 모델 성능 지표"
      ],
      "metadata": {
        "id": "KVEKKX8m1EDu"
      }
    },
    {
      "cell_type": "code",
      "source": [
        "import torch\n",
        "from sklearn.metrics import classification_report\n",
        "from transformers import BertTokenizer\n",
        "\n",
        "# 모델 평가 및 성능 지표 출력 함수 정의\n",
        "def evaluate_and_report(final_model, test_loader_stage1, test_loader_stage2, device):\n",
        "    final_model.eval()\n",
        "\n",
        "    all_predictions_stage1 = []\n",
        "    all_labels_stage1 = []\n",
        "    all_predictions_stage2 = []\n",
        "    all_labels_stage2 = []\n",
        "\n",
        "    with torch.no_grad():\n",
        "        # Stage 1 예측\n",
        "        for batch in test_loader_stage1:\n",
        "            input_ids = batch['input_ids'].to(device)\n",
        "            attention_mask = batch['attention_mask'].to(device)\n",
        "            labels = batch['label'].to(device)\n",
        "\n",
        "            outputs = final_model(input_ids, attention_mask=attention_mask, stage=1)\n",
        "            predictions = torch.argmax(outputs, dim=1)\n",
        "\n",
        "            all_predictions_stage1.extend(predictions.cpu().numpy())\n",
        "            all_labels_stage1.extend(labels.cpu().numpy())\n",
        "\n",
        "        # Stage 2 예측 (Non-sexual 데이터)\n",
        "        for batch in test_loader_stage2:\n",
        "            input_ids = batch['input_ids'].to(device)\n",
        "            attention_mask = batch['attention_mask'].to(device)\n",
        "            labels = batch['label'].to(device)\n",
        "\n",
        "            outputs = final_model(input_ids, attention_mask=attention_mask, stage=2)\n",
        "            predictions = torch.argmax(outputs, dim=1)\n",
        "\n",
        "            all_predictions_stage2.extend(predictions.cpu().numpy())\n",
        "            all_labels_stage2.extend(labels.cpu().numpy())\n",
        "\n",
        "    # Stage 1 성능 지표 출력\n",
        "    print(\"Stage 1 Classification Report (SEXUAL (성적 문장) vs NON-SEXUAL (일반적 문장, 학교 폭력 문장)):\")\n",
        "    print(classification_report(all_labels_stage1, all_predictions_stage1, target_names=['NON-SEXUAL', 'SEXUAL']))\n",
        "\n",
        "    # Stage 2 성능 지표 출력\n",
        "    print(\"Stage 2 Classification Report (IMMORAL_NONE (일반적 문장) vs VIOLENCE (학교 폭력 문장)):\")\n",
        "    print(classification_report(all_labels_stage2, all_predictions_stage2, target_names=['IMMORAL_NONE', 'VIOLENCE']))\n",
        "\n",
        "# 최종 모델 클래스 정의\n",
        "class FinalModel(nn.Module):\n",
        "    def __init__(self, model_stage1, model_stage2):\n",
        "        super(FinalModel, self).__init__()\n",
        "        self.model_stage1 = model_stage1\n",
        "        self.model_stage2 = model_stage2\n",
        "\n",
        "    def forward(self, input_ids, attention_mask, stage):\n",
        "        if stage == 1:\n",
        "            return self.model_stage1(input_ids, attention_mask=attention_mask).logits\n",
        "        else:\n",
        "            return self.model_stage2(input_ids, attention_mask=attention_mask).logits\n",
        "\n",
        "# 최종 모델 인스턴스 생성 및 평가\n",
        "final_model = FinalModel(model_stage1, model_stage2).to(device)\n",
        "evaluate_and_report(final_model, test_loader_stage1, test_loader_stage2, device)\n"
      ],
      "metadata": {
        "id": "-KkCf2gKyQ6V",
        "colab": {
          "base_uri": "https://localhost:8080/"
        },
        "outputId": "87ed849a-bed8-46cf-c221-e1feeb87df09"
      },
      "execution_count": null,
      "outputs": [
        {
          "output_type": "stream",
          "name": "stdout",
          "text": [
            "Stage 1 Classification Report (SEXUAL (성적 문장) vs NON-SEXUAL (일반적 문장, 학교 폭력 문장)):\n",
            "              precision    recall  f1-score   support\n",
            "\n",
            "  NON-SEXUAL       0.77      0.90      0.83     14961\n",
            "      SEXUAL       0.84      0.66      0.74     11928\n",
            "\n",
            "    accuracy                           0.79     26889\n",
            "   macro avg       0.80      0.78      0.78     26889\n",
            "weighted avg       0.80      0.79      0.79     26889\n",
            "\n",
            "Stage 2 Classification Report (IMMORAL_NONE (일반적 문장) vs VIOLENCE (학교 폭력 문장)):\n",
            "              precision    recall  f1-score   support\n",
            "\n",
            "IMMORAL_NONE       0.85      0.90      0.88      6700\n",
            "    VIOLENCE       0.91      0.88      0.89      8261\n",
            "\n",
            "    accuracy                           0.89     14961\n",
            "   macro avg       0.88      0.89      0.88     14961\n",
            "weighted avg       0.89      0.89      0.89     14961\n",
            "\n"
          ]
        }
      ]
    },
    {
      "cell_type": "markdown",
      "source": [
        "# 예측"
      ],
      "metadata": {
        "id": "J4Q-ZuM_Nwvx"
      }
    },
    {
      "cell_type": "markdown",
      "source": [
        "초기 구현에서의 성적 대화 판별 성능 지표는 아래와 같았다.\n",
        "\n",
        "      SEXUAL       0.65      0.64      0.64      3929\n",
        "\n",
        "2차 수정에선 초기 구현 때보다 SEXUAL의 데이터 개수를 8,600개이상 증강했다. 또한 훈련 데이터에서도 불균형을 줄이기 위해 클래스 가중치를 조절했다. 그 결과 그 결과 precision, recall, f1-score값이 모두 개선되었다."
      ],
      "metadata": {
        "id": "m_YJPYVx9Nib"
      }
    },
    {
      "cell_type": "code",
      "execution_count": null,
      "metadata": {
        "id": "BBn6QSkmnLmD",
        "colab": {
          "base_uri": "https://localhost:8080/"
        },
        "outputId": "ddacb87c-4464-49c6-91d4-8a7b60930582"
      },
      "outputs": [
        {
          "output_type": "stream",
          "name": "stdout",
          "text": [
            "입력 문장: 몰카 영상 보니까 짜릿하다\n",
            "예측된 클래스: SEXUAL\n",
            "클래스 확률: [[0.31941855 0.68058145]]\n"
          ]
        }
      ],
      "source": [
        "import torch\n",
        "from transformers import BertTokenizer\n",
        "import numpy as np\n",
        "\n",
        "# 예측 함수 정의\n",
        "def predict_class(sentence, model_stage1, model_stage2, tokenizer, max_length, device):\n",
        "    model_stage1.eval()\n",
        "    model_stage2.eval()\n",
        "\n",
        "    encoding = tokenizer.encode_plus(\n",
        "        sentence,\n",
        "        add_special_tokens=True,\n",
        "        max_length=max_length,\n",
        "        padding='max_length',\n",
        "        truncation=True,\n",
        "        return_tensors='pt'\n",
        "    )\n",
        "\n",
        "    input_ids = encoding['input_ids'].to(device)\n",
        "    attention_mask = encoding['attention_mask'].to(device)\n",
        "\n",
        "    # Stage 1 예측 (SEXUAL 여부)\n",
        "    with torch.no_grad():\n",
        "        outputs_stage1 = model_stage1(input_ids, attention_mask=attention_mask)\n",
        "        probabilities_stage1 = torch.nn.functional.softmax(outputs_stage1.logits, dim=-1)\n",
        "        predicted_class_stage1 = torch.argmax(probabilities_stage1, dim=1).item()\n",
        "\n",
        "    if predicted_class_stage1 == 1:\n",
        "        return \"SEXUAL\", probabilities_stage1.cpu().numpy()\n",
        "\n",
        "    # Stage 2 예측 (Non-sexual 데이터)\n",
        "    with torch.no_grad():\n",
        "        outputs_stage2 = model_stage2(input_ids, attention_mask=attention_mask)\n",
        "        probabilities_stage2 = torch.nn.functional.softmax(outputs_stage2.logits, dim=-1)\n",
        "        predicted_class_stage2 = torch.argmax(probabilities_stage2, dim=1).item()\n",
        "\n",
        "    if predicted_class_stage2 == 0:\n",
        "        return \"IMMORAL_NONE\", probabilities_stage2.cpu().numpy()\n",
        "    else:\n",
        "        return \"SCHOOL VIOLENCE\", probabilities_stage2.cpu().numpy()\n",
        "\n",
        "# 토크나이저 및 디바이스 설정\n",
        "tokenizer = BertTokenizer.from_pretrained('bert-base-multilingual-cased')\n",
        "device = torch.device('cuda' if torch.cuda.is_available() else 'cpu')\n",
        "\n",
        "# 예측할 문장\n",
        "test_sentence = \"몰카 영상 보니까 짜릿하다\"\n",
        "\n",
        "# 예측\n",
        "predicted_class, probabilities = predict_class(test_sentence, model_stage1, model_stage2, tokenizer, max_length=128, device=device)\n",
        "\n",
        "\n",
        "print(f\"입력 문장: {test_sentence}\")\n",
        "print(f\"예측된 클래스: {predicted_class}\")\n",
        "print(f\"클래스 확률: {probabilities}\")\n"
      ]
    },
    {
      "cell_type": "code",
      "source": [
        "# 예측할 문장\n",
        "test_sentence = \"오픈 소스 수업 가야지?\"\n",
        "\n",
        "# 예측\n",
        "predicted_class, probabilities = predict_class(test_sentence, model_stage1, model_stage2, tokenizer, max_length=128, device=device)\n",
        "\n",
        "print(f\"입력 문장: {test_sentence}\")\n",
        "print(f\"예측된 클래스: {predicted_class}\")\n",
        "print(f\"클래스 확률: {probabilities}\")"
      ],
      "metadata": {
        "id": "5riIZrcy9unh",
        "colab": {
          "base_uri": "https://localhost:8080/"
        },
        "outputId": "3f672c2f-e2b3-4ed8-9ed6-fc584950759c"
      },
      "execution_count": null,
      "outputs": [
        {
          "output_type": "stream",
          "name": "stdout",
          "text": [
            "입력 문장: 오픈 소스 수업 가야지?\n",
            "예측된 클래스: IMMORAL_NONE\n",
            "클래스 확률: [[0.996452   0.00354799]]\n"
          ]
        }
      ]
    },
    {
      "cell_type": "code",
      "source": [
        "# 예측할 문장\n",
        "test_sentence = \"섹시한 영상 있으면 돈 줄게\"\n",
        "\n",
        "# 예측\n",
        "predicted_class, probabilities = predict_class(test_sentence, model_stage1, model_stage2, tokenizer, max_length=128, device=device)\n",
        "\n",
        "print(f\"입력 문장: {test_sentence}\")\n",
        "print(f\"예측된 클래스: {predicted_class}\")\n",
        "print(f\"클래스 확률: {probabilities}\")"
      ],
      "metadata": {
        "id": "e0PlnaYv_YuX",
        "colab": {
          "base_uri": "https://localhost:8080/"
        },
        "outputId": "5d1a03b7-f938-45af-f69e-4d8116af29d9"
      },
      "execution_count": null,
      "outputs": [
        {
          "output_type": "stream",
          "name": "stdout",
          "text": [
            "입력 문장: 섹시한 영상 있으면 돈 줄게\n",
            "예측된 클래스: SEXUAL\n",
            "클래스 확률: [[0.24044655 0.7595534 ]]\n"
          ]
        }
      ]
    },
    {
      "cell_type": "code",
      "source": [
        "# 예측할 문장\n",
        "test_sentence = \"너 담배 안 사오면 죽인다\"\n",
        "\n",
        "# 예측\n",
        "predicted_class, probabilities = predict_class(test_sentence, model_stage1, model_stage2, tokenizer, max_length=128, device=device)\n",
        "\n",
        "print(f\"입력 문장: {test_sentence}\")\n",
        "print(f\"예측된 클래스: {predicted_class}\")\n",
        "print(f\"클래스 확률: {probabilities}\")"
      ],
      "metadata": {
        "id": "Pk-Rigoh_bU8",
        "colab": {
          "base_uri": "https://localhost:8080/"
        },
        "outputId": "6172d33c-7b9b-433a-c927-270d875287c8"
      },
      "execution_count": null,
      "outputs": [
        {
          "output_type": "stream",
          "name": "stdout",
          "text": [
            "입력 문장: 너 담배 안 사오면 죽인다\n",
            "예측된 클래스: SCHOOL VIOLENCE\n",
            "클래스 확률: [[0.3994089  0.60059106]]\n"
          ]
        }
      ]
    },
    {
      "cell_type": "code",
      "source": [
        "# 예측할 문장\n",
        "test_sentence = \"같은 반 여자애 몸매 쩔더라\"\n",
        "\n",
        "# 예측\n",
        "predicted_class, probabilities = predict_class(test_sentence, model_stage1, model_stage2, tokenizer, max_length=128, device=device)\n",
        "\n",
        "print(f\"입력 문장: {test_sentence}\")\n",
        "print(f\"예측된 클래스: {predicted_class}\")\n",
        "print(f\"클래스 확률: {probabilities}\")"
      ],
      "metadata": {
        "id": "BP0Uh8qv33O7",
        "colab": {
          "base_uri": "https://localhost:8080/"
        },
        "outputId": "9afcc743-0f4b-4c82-a356-ff8df5b974a6"
      },
      "execution_count": null,
      "outputs": [
        {
          "output_type": "stream",
          "name": "stdout",
          "text": [
            "입력 문장: 같은 반 여자애 몸매 쩔더라\n",
            "예측된 클래스: SEXUAL\n",
            "클래스 확률: [[0.4644577 0.5355423]]\n"
          ]
        }
      ]
    },
    {
      "cell_type": "code",
      "source": [
        "# 예측할 문장\n",
        "test_sentence = \"와, 너 한 대 치고 싶게 생겼음\"\n",
        "\n",
        "# 예측\n",
        "predicted_class, probabilities = predict_class(test_sentence, model_stage1, model_stage2, tokenizer, max_length=128, device=device)\n",
        "\n",
        "print(f\"입력 문장: {test_sentence}\")\n",
        "print(f\"예측된 클래스: {predicted_class}\")\n",
        "print(f\"클래스 확률: {probabilities}\")"
      ],
      "metadata": {
        "id": "zGNMkIcIBCxG",
        "colab": {
          "base_uri": "https://localhost:8080/"
        },
        "outputId": "288b9b35-bd9f-4f6d-d344-18ef1dcfe567"
      },
      "execution_count": null,
      "outputs": [
        {
          "output_type": "stream",
          "name": "stdout",
          "text": [
            "입력 문장: 와, 너 한 대 치고 싶게 생겼음\n",
            "예측된 클래스: SCHOOL VIOLENCE\n",
            "클래스 확률: [[0.39656904 0.6034309 ]]\n"
          ]
        }
      ]
    },
    {
      "cell_type": "code",
      "source": [
        "# 예측할 문장\n",
        "test_sentence = \"골때리게 하면 빠다 때린다\"\n",
        "\n",
        "# 예측\n",
        "predicted_class, probabilities = predict_class(test_sentence, model_stage1, model_stage2, tokenizer, max_length=128, device=device)\n",
        "\n",
        "print(f\"입력 문장: {test_sentence}\")\n",
        "print(f\"예측된 클래스: {predicted_class}\")\n",
        "print(f\"클래스 확률: {probabilities}\")"
      ],
      "metadata": {
        "id": "7wKun75S9xjM",
        "colab": {
          "base_uri": "https://localhost:8080/"
        },
        "outputId": "3e92d96e-8069-40ad-9a14-3c1d6d019bed"
      },
      "execution_count": null,
      "outputs": [
        {
          "output_type": "stream",
          "name": "stdout",
          "text": [
            "입력 문장: 골때리게 하면 빠다 때린다\n",
            "예측된 클래스: SCHOOL VIOLENCE\n",
            "클래스 확률: [[0.4192717  0.58072823]]\n"
          ]
        }
      ]
    },
    {
      "cell_type": "code",
      "source": [
        "# 예측할 문장\n",
        "test_sentence = \"말을 왜이렇게 나쁘게 해\"\n",
        "\n",
        "# 예측\n",
        "predicted_class, probabilities = predict_class(test_sentence, model_stage1, model_stage2, tokenizer, max_length=128, device=device)\n",
        "\n",
        "print(f\"입력 문장: {test_sentence}\")\n",
        "print(f\"예측된 클래스: {predicted_class}\")\n",
        "print(f\"클래스 확률: {probabilities}\")"
      ],
      "metadata": {
        "id": "YmwxqUj8BcRY",
        "colab": {
          "base_uri": "https://localhost:8080/"
        },
        "outputId": "f99adaf6-8c9b-418d-8a8a-11034076b561"
      },
      "execution_count": null,
      "outputs": [
        {
          "output_type": "stream",
          "name": "stdout",
          "text": [
            "입력 문장: 말을 왜이렇게 나쁘게 해\n",
            "예측된 클래스: SCHOOL VIOLENCE\n",
            "클래스 확률: [[0.4032592  0.59674084]]\n"
          ]
        }
      ]
    },
    {
      "cell_type": "code",
      "source": [
        "# 예측할 문장\n",
        "test_sentence = \"내 여자친구 엄청 귀여워!\"\n",
        "\n",
        "# 예측\n",
        "predicted_class, probabilities = predict_class(test_sentence, model_stage1, model_stage2, tokenizer, max_length=128, device=device)\n",
        "\n",
        "print(f\"입력 문장: {test_sentence}\")\n",
        "print(f\"예측된 클래스: {predicted_class}\")\n",
        "print(f\"클래스 확률: {probabilities}\")"
      ],
      "metadata": {
        "id": "BUzowm3i4pxt",
        "colab": {
          "base_uri": "https://localhost:8080/"
        },
        "outputId": "5ce0e4a3-de04-4e7e-a20b-f4d161c78a36"
      },
      "execution_count": null,
      "outputs": [
        {
          "output_type": "stream",
          "name": "stdout",
          "text": [
            "입력 문장: 내 여자친구 엄청 귀여워!\n",
            "예측된 클래스: SEXUAL\n",
            "클래스 확률: [[0.47152922 0.52847075]]\n"
          ]
        }
      ]
    },
    {
      "cell_type": "markdown",
      "source": [
        "# 모델 파일 로드 후 예측 함수 실행"
      ],
      "metadata": {
        "id": "-o0NVKJRiKB_"
      }
    },
    {
      "cell_type": "code",
      "source": [
        "from google.colab import drive\n",
        "drive.mount('/content/gdrive')"
      ],
      "metadata": {
        "id": "__Lg8_9TLsx1",
        "colab": {
          "base_uri": "https://localhost:8080/"
        },
        "outputId": "fc2504cf-ccb2-4b1e-aac3-a2f136910d3b"
      },
      "execution_count": null,
      "outputs": [
        {
          "output_type": "stream",
          "name": "stdout",
          "text": [
            "Mounted at /content/gdrive\n"
          ]
        }
      ]
    },
    {
      "cell_type": "code",
      "source": [
        "import torch\n",
        "from transformers import BertTokenizer, BertForSequenceClassification, BertConfig"
      ],
      "metadata": {
        "id": "ywwpe-JiOUhC"
      },
      "execution_count": null,
      "outputs": []
    },
    {
      "cell_type": "code",
      "source": [
        "# 모델 불러오기 함수 정의\n",
        "def load_model(model_class, model_path, device):\n",
        "    config = BertConfig.from_pretrained('bert-base-multilingual-cased')\n",
        "    model = model_class(config)\n",
        "    model.load_state_dict(torch.load(model_path, map_location=device))\n",
        "    model.to(device)\n",
        "    return model"
      ],
      "metadata": {
        "id": "-m3l_gRwOdZd"
      },
      "execution_count": null,
      "outputs": []
    },
    {
      "cell_type": "code",
      "source": [
        "# 예측 함수 정의\n",
        "def predict_class(sentence, model_stage1, model_stage2, tokenizer, max_length, device):\n",
        "    model_stage1.eval()\n",
        "    model_stage2.eval()\n",
        "\n",
        "    encoding = tokenizer.encode_plus(\n",
        "        sentence,\n",
        "        add_special_tokens=True,\n",
        "        max_length=max_length,\n",
        "        padding='max_length',\n",
        "        truncation=True,\n",
        "        return_tensors='pt'\n",
        "    )\n",
        "\n",
        "    input_ids = encoding['input_ids'].to(device)\n",
        "    attention_mask = encoding['attention_mask'].to(device)\n",
        "\n",
        "    # Stage 1 예측 (SEXUAL 여부)\n",
        "    with torch.no_grad():\n",
        "        outputs_stage1 = model_stage1(input_ids, attention_mask=attention_mask)\n",
        "        probabilities_stage1 = torch.nn.functional.softmax(outputs_stage1.logits, dim=-1)\n",
        "        predicted_class_stage1 = torch.argmax(probabilities_stage1, dim=1).item()\n",
        "\n",
        "    if predicted_class_stage1 == 1:\n",
        "        return \"SEXUAL\", probabilities_stage1.cpu().numpy()\n",
        "\n",
        "    # Stage 2 예측 (Non-sexual 데이터)\n",
        "    with torch.no_grad():\n",
        "        outputs_stage2 = model_stage2(input_ids, attention_mask=attention_mask)\n",
        "        probabilities_stage2 = torch.nn.functional.softmax(outputs_stage2.logits, dim=-1)\n",
        "        predicted_class_stage2 = torch.argmax(probabilities_stage2, dim=1).item()\n",
        "\n",
        "    if predicted_class_stage2 == 0:\n",
        "        return \"IMMORAL_NONE\", probabilities_stage2.cpu().numpy()\n",
        "    else:\n",
        "        return \"SCHOOL VIOLENCE\", probabilities_stage2.cpu().numpy()\n"
      ],
      "metadata": {
        "id": "pjpqcA2TOi1D"
      },
      "execution_count": null,
      "outputs": []
    },
    {
      "cell_type": "code",
      "source": [
        "# 토크나이저 및 디바이스 설정\n",
        "tokenizer = BertTokenizer.from_pretrained('bert-base-multilingual-cased')\n",
        "device = torch.device('cuda' if torch.cuda.is_available() else 'cpu')"
      ],
      "metadata": {
        "id": "IwuvBZf9OoFN",
        "outputId": "14398a87-0fe0-4679-825a-20694d9ac22f",
        "colab": {
          "base_uri": "https://localhost:8080/",
          "height": 308,
          "referenced_widgets": [
            "1508cf2c02d345348e116d2263fa9c77",
            "f3be2450130744c4ac72f40c675f6656",
            "460831ad0d9949b9be3e4bd013b21070",
            "dad75b8708214749ad588df438c466fa",
            "91e720b90cd24ebcaec51f76ed8eee2d",
            "86cc870dcdcf4a7d90cadbdd01f30103",
            "7c2506bc936f4f3f85b725b0fe8f4b77",
            "175304fc3ed645c880025b8a6ce03b0b",
            "290ab7571a6d4e8abac71b07fb26d049",
            "4a9426fb8ea84b0e9271752d4a8a5345",
            "5ba336670e694d93a842dbae4959a1d6",
            "09d45e9a10504ec9ac2089da0dee6743",
            "dd78e982a3f34af1b50582fa1d65617c",
            "5c4fc8b6b16b4becbadd3f6d7ce65548",
            "f8d184421b8b4c0a97ef37906274ce49",
            "0f51d342afb54c1b9397503f3722f655",
            "16e0450ba6f3452baa5623afbf9e2d51",
            "7ed08e4b2f614211bac06f12b78808c9",
            "c4acdff901214f0fb112b2cb6012e2ad",
            "c9c1ff0a52204db8bc5c9df326e7ccb1",
            "c50083c433504f6ba4e6b7064ff4df68",
            "5938bdac2b12460ebc0aaea5fde63139",
            "d98699509dab4f349aa2006bab7a422b",
            "55b2db03a115468ab24947ef6832f44f",
            "447e903cea2b4027a00647f0bc39fa08",
            "42b075ca9e2b4d83a883172268624fdd",
            "8acc3e3f053d418e8285fafcb59baa31",
            "80554a801b944f19a415f26ca3f36416",
            "51a45639d866440db3832a6c41d7727b",
            "470ebc9133434f80903a4d2b17180f1b",
            "4c3bebf7a5804fb0941a313d305d5537",
            "f483de2aed32414baffd06d288580bb3",
            "57ddb93b39b44de996ba5c838d7f3e3a",
            "15887a82d85f4866a710aec76e80b7d3",
            "06acc49202cb494e937f1df9f8348ccf",
            "dc1cfa120f2b44c28a93c2064ba5ac96",
            "b85a14349cc146f5addaf4cacaffef66",
            "47fec9618e9c40d89f329703042b0cff",
            "9b485fd39ea848548eb59401e679a57b",
            "489923001100432daf9b046c3437e089",
            "80e617d981664d699450bb410f1b9bbb",
            "851740201a4442ff991d6ea457c5250f",
            "2c2178f84217486ea2f0442c1de6896f",
            "ed827bd28def4b35bccaf0a181632f35"
          ]
        }
      },
      "execution_count": null,
      "outputs": [
        {
          "output_type": "stream",
          "name": "stderr",
          "text": [
            "/usr/local/lib/python3.10/dist-packages/huggingface_hub/utils/_token.py:89: UserWarning: \n",
            "The secret `HF_TOKEN` does not exist in your Colab secrets.\n",
            "To authenticate with the Hugging Face Hub, create a token in your settings tab (https://huggingface.co/settings/tokens), set it as secret in your Google Colab and restart your session.\n",
            "You will be able to reuse this secret in all of your notebooks.\n",
            "Please note that authentication is recommended but still optional to access public models or datasets.\n",
            "  warnings.warn(\n"
          ]
        },
        {
          "output_type": "display_data",
          "data": {
            "text/plain": [
              "tokenizer_config.json:   0%|          | 0.00/49.0 [00:00<?, ?B/s]"
            ],
            "application/vnd.jupyter.widget-view+json": {
              "version_major": 2,
              "version_minor": 0,
              "model_id": "1508cf2c02d345348e116d2263fa9c77"
            }
          },
          "metadata": {}
        },
        {
          "output_type": "display_data",
          "data": {
            "text/plain": [
              "vocab.txt:   0%|          | 0.00/996k [00:00<?, ?B/s]"
            ],
            "application/vnd.jupyter.widget-view+json": {
              "version_major": 2,
              "version_minor": 0,
              "model_id": "09d45e9a10504ec9ac2089da0dee6743"
            }
          },
          "metadata": {}
        },
        {
          "output_type": "display_data",
          "data": {
            "text/plain": [
              "tokenizer.json:   0%|          | 0.00/1.96M [00:00<?, ?B/s]"
            ],
            "application/vnd.jupyter.widget-view+json": {
              "version_major": 2,
              "version_minor": 0,
              "model_id": "d98699509dab4f349aa2006bab7a422b"
            }
          },
          "metadata": {}
        },
        {
          "output_type": "stream",
          "name": "stderr",
          "text": [
            "/usr/local/lib/python3.10/dist-packages/huggingface_hub/file_download.py:1132: FutureWarning: `resume_download` is deprecated and will be removed in version 1.0.0. Downloads always resume when possible. If you want to force a new download, use `force_download=True`.\n",
            "  warnings.warn(\n"
          ]
        },
        {
          "output_type": "display_data",
          "data": {
            "text/plain": [
              "config.json:   0%|          | 0.00/625 [00:00<?, ?B/s]"
            ],
            "application/vnd.jupyter.widget-view+json": {
              "version_major": 2,
              "version_minor": 0,
              "model_id": "15887a82d85f4866a710aec76e80b7d3"
            }
          },
          "metadata": {}
        }
      ]
    },
    {
      "cell_type": "code",
      "source": [
        "# 모델 로드\n",
        "model_stage1_path = '/content/gdrive/MyDrive/final_stage1_model.pth'\n",
        "model_stage2_path = '/content/gdrive/MyDrive/final_stage2_model.pth'\n",
        "\n",
        "model_stage1 = load_model(BertForSequenceClassification, model_stage1_path, device)\n",
        "model_stage2 = load_model(BertForSequenceClassification, model_stage2_path, device)\n",
        "\n",
        "# 예측할 문장\n",
        "test_sentence = \"널 이해하기 힘들어\"\n",
        "\n",
        "# 예측\n",
        "predicted_class, probabilities = predict_class(test_sentence, model_stage1, model_stage2, tokenizer, max_length=128, device=device)\n",
        "\n",
        "print(f\"입력 문장: {test_sentence}\")\n",
        "print(f\"예측된 클래스: {predicted_class}\")\n",
        "print(f\"클래스 확률: {probabilities}\")\n"
      ],
      "metadata": {
        "colab": {
          "base_uri": "https://localhost:8080/"
        },
        "id": "hptOVHVCeq_C",
        "outputId": "a53b31fa-ffb3-42ed-9297-1ab1c86124f4"
      },
      "execution_count": null,
      "outputs": [
        {
          "output_type": "stream",
          "name": "stdout",
          "text": [
            "입력 문장: 널 이해하기 힘들어\n",
            "예측된 클래스: IMMORAL_NONE\n",
            "클래스 확률: [[0.9968334  0.00316667]]\n"
          ]
        }
      ]
    },
    {
      "cell_type": "code",
      "source": [
        "# 예측할 문장\n",
        "test_sentence = \"원하면 불러라. 같이 때려 드림ㅋㅋㅋ\"\n",
        "\n",
        "# 예측\n",
        "predicted_class, probabilities = predict_class(test_sentence, model_stage1, model_stage2, tokenizer, max_length=128, device=device)\n",
        "\n",
        "print(f\"입력 문장: {test_sentence}\")\n",
        "print(f\"예측된 클래스: {predicted_class}\")\n",
        "print(f\"클래스 확률: {probabilities}\")"
      ],
      "metadata": {
        "id": "r1EoFQPDOq0v",
        "colab": {
          "base_uri": "https://localhost:8080/"
        },
        "outputId": "91fb9351-2a3b-4789-c63c-309f71061089"
      },
      "execution_count": null,
      "outputs": [
        {
          "output_type": "stream",
          "name": "stdout",
          "text": [
            "입력 문장: 원하면 불러라. 같이 때려 드림ㅋㅋㅋ\n",
            "예측된 클래스: SCHOOL VIOLENCE\n",
            "클래스 확률: [[0.00702057 0.99297947]]\n"
          ]
        }
      ]
    },
    {
      "cell_type": "code",
      "source": [
        "# 예측할 문장\n",
        "test_sentence = \"너 몸매가 반전 매력이다\"\n",
        "\n",
        "# 예측\n",
        "predicted_class, probabilities = predict_class(test_sentence, model_stage1, model_stage2, tokenizer, max_length=128, device=device)\n",
        "\n",
        "print(f\"입력 문장: {test_sentence}\")\n",
        "print(f\"예측된 클래스: {predicted_class}\")\n",
        "print(f\"클래스 확률: {probabilities}\")"
      ],
      "metadata": {
        "colab": {
          "base_uri": "https://localhost:8080/"
        },
        "id": "ryEXlGb0e8fp",
        "outputId": "52b828d7-aa36-42f3-cbeb-ed9f07cb9583"
      },
      "execution_count": null,
      "outputs": [
        {
          "output_type": "stream",
          "name": "stdout",
          "text": [
            "입력 문장: 너 몸매가 반전 매력이다\n",
            "예측된 클래스: SEXUAL\n",
            "클래스 확률: [[0.48353812 0.5164619 ]]\n"
          ]
        }
      ]
    }
  ],
  "metadata": {
    "colab": {
      "provenance": [],
      "gpuType": "T4"
    },
    "kernelspec": {
      "display_name": "Python 3",
      "name": "python3"
    },
    "language_info": {
      "name": "python"
    },
    "accelerator": "GPU",
    "widgets": {
      "application/vnd.jupyter.widget-state+json": {
        "1508cf2c02d345348e116d2263fa9c77": {
          "model_module": "@jupyter-widgets/controls",
          "model_name": "HBoxModel",
          "model_module_version": "1.5.0",
          "state": {
            "_dom_classes": [],
            "_model_module": "@jupyter-widgets/controls",
            "_model_module_version": "1.5.0",
            "_model_name": "HBoxModel",
            "_view_count": null,
            "_view_module": "@jupyter-widgets/controls",
            "_view_module_version": "1.5.0",
            "_view_name": "HBoxView",
            "box_style": "",
            "children": [
              "IPY_MODEL_f3be2450130744c4ac72f40c675f6656",
              "IPY_MODEL_460831ad0d9949b9be3e4bd013b21070",
              "IPY_MODEL_dad75b8708214749ad588df438c466fa"
            ],
            "layout": "IPY_MODEL_91e720b90cd24ebcaec51f76ed8eee2d"
          }
        },
        "f3be2450130744c4ac72f40c675f6656": {
          "model_module": "@jupyter-widgets/controls",
          "model_name": "HTMLModel",
          "model_module_version": "1.5.0",
          "state": {
            "_dom_classes": [],
            "_model_module": "@jupyter-widgets/controls",
            "_model_module_version": "1.5.0",
            "_model_name": "HTMLModel",
            "_view_count": null,
            "_view_module": "@jupyter-widgets/controls",
            "_view_module_version": "1.5.0",
            "_view_name": "HTMLView",
            "description": "",
            "description_tooltip": null,
            "layout": "IPY_MODEL_86cc870dcdcf4a7d90cadbdd01f30103",
            "placeholder": "​",
            "style": "IPY_MODEL_7c2506bc936f4f3f85b725b0fe8f4b77",
            "value": "tokenizer_config.json: 100%"
          }
        },
        "460831ad0d9949b9be3e4bd013b21070": {
          "model_module": "@jupyter-widgets/controls",
          "model_name": "FloatProgressModel",
          "model_module_version": "1.5.0",
          "state": {
            "_dom_classes": [],
            "_model_module": "@jupyter-widgets/controls",
            "_model_module_version": "1.5.0",
            "_model_name": "FloatProgressModel",
            "_view_count": null,
            "_view_module": "@jupyter-widgets/controls",
            "_view_module_version": "1.5.0",
            "_view_name": "ProgressView",
            "bar_style": "success",
            "description": "",
            "description_tooltip": null,
            "layout": "IPY_MODEL_175304fc3ed645c880025b8a6ce03b0b",
            "max": 49,
            "min": 0,
            "orientation": "horizontal",
            "style": "IPY_MODEL_290ab7571a6d4e8abac71b07fb26d049",
            "value": 49
          }
        },
        "dad75b8708214749ad588df438c466fa": {
          "model_module": "@jupyter-widgets/controls",
          "model_name": "HTMLModel",
          "model_module_version": "1.5.0",
          "state": {
            "_dom_classes": [],
            "_model_module": "@jupyter-widgets/controls",
            "_model_module_version": "1.5.0",
            "_model_name": "HTMLModel",
            "_view_count": null,
            "_view_module": "@jupyter-widgets/controls",
            "_view_module_version": "1.5.0",
            "_view_name": "HTMLView",
            "description": "",
            "description_tooltip": null,
            "layout": "IPY_MODEL_4a9426fb8ea84b0e9271752d4a8a5345",
            "placeholder": "​",
            "style": "IPY_MODEL_5ba336670e694d93a842dbae4959a1d6",
            "value": " 49.0/49.0 [00:00&lt;00:00, 3.40kB/s]"
          }
        },
        "91e720b90cd24ebcaec51f76ed8eee2d": {
          "model_module": "@jupyter-widgets/base",
          "model_name": "LayoutModel",
          "model_module_version": "1.2.0",
          "state": {
            "_model_module": "@jupyter-widgets/base",
            "_model_module_version": "1.2.0",
            "_model_name": "LayoutModel",
            "_view_count": null,
            "_view_module": "@jupyter-widgets/base",
            "_view_module_version": "1.2.0",
            "_view_name": "LayoutView",
            "align_content": null,
            "align_items": null,
            "align_self": null,
            "border": null,
            "bottom": null,
            "display": null,
            "flex": null,
            "flex_flow": null,
            "grid_area": null,
            "grid_auto_columns": null,
            "grid_auto_flow": null,
            "grid_auto_rows": null,
            "grid_column": null,
            "grid_gap": null,
            "grid_row": null,
            "grid_template_areas": null,
            "grid_template_columns": null,
            "grid_template_rows": null,
            "height": null,
            "justify_content": null,
            "justify_items": null,
            "left": null,
            "margin": null,
            "max_height": null,
            "max_width": null,
            "min_height": null,
            "min_width": null,
            "object_fit": null,
            "object_position": null,
            "order": null,
            "overflow": null,
            "overflow_x": null,
            "overflow_y": null,
            "padding": null,
            "right": null,
            "top": null,
            "visibility": null,
            "width": null
          }
        },
        "86cc870dcdcf4a7d90cadbdd01f30103": {
          "model_module": "@jupyter-widgets/base",
          "model_name": "LayoutModel",
          "model_module_version": "1.2.0",
          "state": {
            "_model_module": "@jupyter-widgets/base",
            "_model_module_version": "1.2.0",
            "_model_name": "LayoutModel",
            "_view_count": null,
            "_view_module": "@jupyter-widgets/base",
            "_view_module_version": "1.2.0",
            "_view_name": "LayoutView",
            "align_content": null,
            "align_items": null,
            "align_self": null,
            "border": null,
            "bottom": null,
            "display": null,
            "flex": null,
            "flex_flow": null,
            "grid_area": null,
            "grid_auto_columns": null,
            "grid_auto_flow": null,
            "grid_auto_rows": null,
            "grid_column": null,
            "grid_gap": null,
            "grid_row": null,
            "grid_template_areas": null,
            "grid_template_columns": null,
            "grid_template_rows": null,
            "height": null,
            "justify_content": null,
            "justify_items": null,
            "left": null,
            "margin": null,
            "max_height": null,
            "max_width": null,
            "min_height": null,
            "min_width": null,
            "object_fit": null,
            "object_position": null,
            "order": null,
            "overflow": null,
            "overflow_x": null,
            "overflow_y": null,
            "padding": null,
            "right": null,
            "top": null,
            "visibility": null,
            "width": null
          }
        },
        "7c2506bc936f4f3f85b725b0fe8f4b77": {
          "model_module": "@jupyter-widgets/controls",
          "model_name": "DescriptionStyleModel",
          "model_module_version": "1.5.0",
          "state": {
            "_model_module": "@jupyter-widgets/controls",
            "_model_module_version": "1.5.0",
            "_model_name": "DescriptionStyleModel",
            "_view_count": null,
            "_view_module": "@jupyter-widgets/base",
            "_view_module_version": "1.2.0",
            "_view_name": "StyleView",
            "description_width": ""
          }
        },
        "175304fc3ed645c880025b8a6ce03b0b": {
          "model_module": "@jupyter-widgets/base",
          "model_name": "LayoutModel",
          "model_module_version": "1.2.0",
          "state": {
            "_model_module": "@jupyter-widgets/base",
            "_model_module_version": "1.2.0",
            "_model_name": "LayoutModel",
            "_view_count": null,
            "_view_module": "@jupyter-widgets/base",
            "_view_module_version": "1.2.0",
            "_view_name": "LayoutView",
            "align_content": null,
            "align_items": null,
            "align_self": null,
            "border": null,
            "bottom": null,
            "display": null,
            "flex": null,
            "flex_flow": null,
            "grid_area": null,
            "grid_auto_columns": null,
            "grid_auto_flow": null,
            "grid_auto_rows": null,
            "grid_column": null,
            "grid_gap": null,
            "grid_row": null,
            "grid_template_areas": null,
            "grid_template_columns": null,
            "grid_template_rows": null,
            "height": null,
            "justify_content": null,
            "justify_items": null,
            "left": null,
            "margin": null,
            "max_height": null,
            "max_width": null,
            "min_height": null,
            "min_width": null,
            "object_fit": null,
            "object_position": null,
            "order": null,
            "overflow": null,
            "overflow_x": null,
            "overflow_y": null,
            "padding": null,
            "right": null,
            "top": null,
            "visibility": null,
            "width": null
          }
        },
        "290ab7571a6d4e8abac71b07fb26d049": {
          "model_module": "@jupyter-widgets/controls",
          "model_name": "ProgressStyleModel",
          "model_module_version": "1.5.0",
          "state": {
            "_model_module": "@jupyter-widgets/controls",
            "_model_module_version": "1.5.0",
            "_model_name": "ProgressStyleModel",
            "_view_count": null,
            "_view_module": "@jupyter-widgets/base",
            "_view_module_version": "1.2.0",
            "_view_name": "StyleView",
            "bar_color": null,
            "description_width": ""
          }
        },
        "4a9426fb8ea84b0e9271752d4a8a5345": {
          "model_module": "@jupyter-widgets/base",
          "model_name": "LayoutModel",
          "model_module_version": "1.2.0",
          "state": {
            "_model_module": "@jupyter-widgets/base",
            "_model_module_version": "1.2.0",
            "_model_name": "LayoutModel",
            "_view_count": null,
            "_view_module": "@jupyter-widgets/base",
            "_view_module_version": "1.2.0",
            "_view_name": "LayoutView",
            "align_content": null,
            "align_items": null,
            "align_self": null,
            "border": null,
            "bottom": null,
            "display": null,
            "flex": null,
            "flex_flow": null,
            "grid_area": null,
            "grid_auto_columns": null,
            "grid_auto_flow": null,
            "grid_auto_rows": null,
            "grid_column": null,
            "grid_gap": null,
            "grid_row": null,
            "grid_template_areas": null,
            "grid_template_columns": null,
            "grid_template_rows": null,
            "height": null,
            "justify_content": null,
            "justify_items": null,
            "left": null,
            "margin": null,
            "max_height": null,
            "max_width": null,
            "min_height": null,
            "min_width": null,
            "object_fit": null,
            "object_position": null,
            "order": null,
            "overflow": null,
            "overflow_x": null,
            "overflow_y": null,
            "padding": null,
            "right": null,
            "top": null,
            "visibility": null,
            "width": null
          }
        },
        "5ba336670e694d93a842dbae4959a1d6": {
          "model_module": "@jupyter-widgets/controls",
          "model_name": "DescriptionStyleModel",
          "model_module_version": "1.5.0",
          "state": {
            "_model_module": "@jupyter-widgets/controls",
            "_model_module_version": "1.5.0",
            "_model_name": "DescriptionStyleModel",
            "_view_count": null,
            "_view_module": "@jupyter-widgets/base",
            "_view_module_version": "1.2.0",
            "_view_name": "StyleView",
            "description_width": ""
          }
        },
        "09d45e9a10504ec9ac2089da0dee6743": {
          "model_module": "@jupyter-widgets/controls",
          "model_name": "HBoxModel",
          "model_module_version": "1.5.0",
          "state": {
            "_dom_classes": [],
            "_model_module": "@jupyter-widgets/controls",
            "_model_module_version": "1.5.0",
            "_model_name": "HBoxModel",
            "_view_count": null,
            "_view_module": "@jupyter-widgets/controls",
            "_view_module_version": "1.5.0",
            "_view_name": "HBoxView",
            "box_style": "",
            "children": [
              "IPY_MODEL_dd78e982a3f34af1b50582fa1d65617c",
              "IPY_MODEL_5c4fc8b6b16b4becbadd3f6d7ce65548",
              "IPY_MODEL_f8d184421b8b4c0a97ef37906274ce49"
            ],
            "layout": "IPY_MODEL_0f51d342afb54c1b9397503f3722f655"
          }
        },
        "dd78e982a3f34af1b50582fa1d65617c": {
          "model_module": "@jupyter-widgets/controls",
          "model_name": "HTMLModel",
          "model_module_version": "1.5.0",
          "state": {
            "_dom_classes": [],
            "_model_module": "@jupyter-widgets/controls",
            "_model_module_version": "1.5.0",
            "_model_name": "HTMLModel",
            "_view_count": null,
            "_view_module": "@jupyter-widgets/controls",
            "_view_module_version": "1.5.0",
            "_view_name": "HTMLView",
            "description": "",
            "description_tooltip": null,
            "layout": "IPY_MODEL_16e0450ba6f3452baa5623afbf9e2d51",
            "placeholder": "​",
            "style": "IPY_MODEL_7ed08e4b2f614211bac06f12b78808c9",
            "value": "vocab.txt: 100%"
          }
        },
        "5c4fc8b6b16b4becbadd3f6d7ce65548": {
          "model_module": "@jupyter-widgets/controls",
          "model_name": "FloatProgressModel",
          "model_module_version": "1.5.0",
          "state": {
            "_dom_classes": [],
            "_model_module": "@jupyter-widgets/controls",
            "_model_module_version": "1.5.0",
            "_model_name": "FloatProgressModel",
            "_view_count": null,
            "_view_module": "@jupyter-widgets/controls",
            "_view_module_version": "1.5.0",
            "_view_name": "ProgressView",
            "bar_style": "success",
            "description": "",
            "description_tooltip": null,
            "layout": "IPY_MODEL_c4acdff901214f0fb112b2cb6012e2ad",
            "max": 995526,
            "min": 0,
            "orientation": "horizontal",
            "style": "IPY_MODEL_c9c1ff0a52204db8bc5c9df326e7ccb1",
            "value": 995526
          }
        },
        "f8d184421b8b4c0a97ef37906274ce49": {
          "model_module": "@jupyter-widgets/controls",
          "model_name": "HTMLModel",
          "model_module_version": "1.5.0",
          "state": {
            "_dom_classes": [],
            "_model_module": "@jupyter-widgets/controls",
            "_model_module_version": "1.5.0",
            "_model_name": "HTMLModel",
            "_view_count": null,
            "_view_module": "@jupyter-widgets/controls",
            "_view_module_version": "1.5.0",
            "_view_name": "HTMLView",
            "description": "",
            "description_tooltip": null,
            "layout": "IPY_MODEL_c50083c433504f6ba4e6b7064ff4df68",
            "placeholder": "​",
            "style": "IPY_MODEL_5938bdac2b12460ebc0aaea5fde63139",
            "value": " 996k/996k [00:00&lt;00:00, 2.62MB/s]"
          }
        },
        "0f51d342afb54c1b9397503f3722f655": {
          "model_module": "@jupyter-widgets/base",
          "model_name": "LayoutModel",
          "model_module_version": "1.2.0",
          "state": {
            "_model_module": "@jupyter-widgets/base",
            "_model_module_version": "1.2.0",
            "_model_name": "LayoutModel",
            "_view_count": null,
            "_view_module": "@jupyter-widgets/base",
            "_view_module_version": "1.2.0",
            "_view_name": "LayoutView",
            "align_content": null,
            "align_items": null,
            "align_self": null,
            "border": null,
            "bottom": null,
            "display": null,
            "flex": null,
            "flex_flow": null,
            "grid_area": null,
            "grid_auto_columns": null,
            "grid_auto_flow": null,
            "grid_auto_rows": null,
            "grid_column": null,
            "grid_gap": null,
            "grid_row": null,
            "grid_template_areas": null,
            "grid_template_columns": null,
            "grid_template_rows": null,
            "height": null,
            "justify_content": null,
            "justify_items": null,
            "left": null,
            "margin": null,
            "max_height": null,
            "max_width": null,
            "min_height": null,
            "min_width": null,
            "object_fit": null,
            "object_position": null,
            "order": null,
            "overflow": null,
            "overflow_x": null,
            "overflow_y": null,
            "padding": null,
            "right": null,
            "top": null,
            "visibility": null,
            "width": null
          }
        },
        "16e0450ba6f3452baa5623afbf9e2d51": {
          "model_module": "@jupyter-widgets/base",
          "model_name": "LayoutModel",
          "model_module_version": "1.2.0",
          "state": {
            "_model_module": "@jupyter-widgets/base",
            "_model_module_version": "1.2.0",
            "_model_name": "LayoutModel",
            "_view_count": null,
            "_view_module": "@jupyter-widgets/base",
            "_view_module_version": "1.2.0",
            "_view_name": "LayoutView",
            "align_content": null,
            "align_items": null,
            "align_self": null,
            "border": null,
            "bottom": null,
            "display": null,
            "flex": null,
            "flex_flow": null,
            "grid_area": null,
            "grid_auto_columns": null,
            "grid_auto_flow": null,
            "grid_auto_rows": null,
            "grid_column": null,
            "grid_gap": null,
            "grid_row": null,
            "grid_template_areas": null,
            "grid_template_columns": null,
            "grid_template_rows": null,
            "height": null,
            "justify_content": null,
            "justify_items": null,
            "left": null,
            "margin": null,
            "max_height": null,
            "max_width": null,
            "min_height": null,
            "min_width": null,
            "object_fit": null,
            "object_position": null,
            "order": null,
            "overflow": null,
            "overflow_x": null,
            "overflow_y": null,
            "padding": null,
            "right": null,
            "top": null,
            "visibility": null,
            "width": null
          }
        },
        "7ed08e4b2f614211bac06f12b78808c9": {
          "model_module": "@jupyter-widgets/controls",
          "model_name": "DescriptionStyleModel",
          "model_module_version": "1.5.0",
          "state": {
            "_model_module": "@jupyter-widgets/controls",
            "_model_module_version": "1.5.0",
            "_model_name": "DescriptionStyleModel",
            "_view_count": null,
            "_view_module": "@jupyter-widgets/base",
            "_view_module_version": "1.2.0",
            "_view_name": "StyleView",
            "description_width": ""
          }
        },
        "c4acdff901214f0fb112b2cb6012e2ad": {
          "model_module": "@jupyter-widgets/base",
          "model_name": "LayoutModel",
          "model_module_version": "1.2.0",
          "state": {
            "_model_module": "@jupyter-widgets/base",
            "_model_module_version": "1.2.0",
            "_model_name": "LayoutModel",
            "_view_count": null,
            "_view_module": "@jupyter-widgets/base",
            "_view_module_version": "1.2.0",
            "_view_name": "LayoutView",
            "align_content": null,
            "align_items": null,
            "align_self": null,
            "border": null,
            "bottom": null,
            "display": null,
            "flex": null,
            "flex_flow": null,
            "grid_area": null,
            "grid_auto_columns": null,
            "grid_auto_flow": null,
            "grid_auto_rows": null,
            "grid_column": null,
            "grid_gap": null,
            "grid_row": null,
            "grid_template_areas": null,
            "grid_template_columns": null,
            "grid_template_rows": null,
            "height": null,
            "justify_content": null,
            "justify_items": null,
            "left": null,
            "margin": null,
            "max_height": null,
            "max_width": null,
            "min_height": null,
            "min_width": null,
            "object_fit": null,
            "object_position": null,
            "order": null,
            "overflow": null,
            "overflow_x": null,
            "overflow_y": null,
            "padding": null,
            "right": null,
            "top": null,
            "visibility": null,
            "width": null
          }
        },
        "c9c1ff0a52204db8bc5c9df326e7ccb1": {
          "model_module": "@jupyter-widgets/controls",
          "model_name": "ProgressStyleModel",
          "model_module_version": "1.5.0",
          "state": {
            "_model_module": "@jupyter-widgets/controls",
            "_model_module_version": "1.5.0",
            "_model_name": "ProgressStyleModel",
            "_view_count": null,
            "_view_module": "@jupyter-widgets/base",
            "_view_module_version": "1.2.0",
            "_view_name": "StyleView",
            "bar_color": null,
            "description_width": ""
          }
        },
        "c50083c433504f6ba4e6b7064ff4df68": {
          "model_module": "@jupyter-widgets/base",
          "model_name": "LayoutModel",
          "model_module_version": "1.2.0",
          "state": {
            "_model_module": "@jupyter-widgets/base",
            "_model_module_version": "1.2.0",
            "_model_name": "LayoutModel",
            "_view_count": null,
            "_view_module": "@jupyter-widgets/base",
            "_view_module_version": "1.2.0",
            "_view_name": "LayoutView",
            "align_content": null,
            "align_items": null,
            "align_self": null,
            "border": null,
            "bottom": null,
            "display": null,
            "flex": null,
            "flex_flow": null,
            "grid_area": null,
            "grid_auto_columns": null,
            "grid_auto_flow": null,
            "grid_auto_rows": null,
            "grid_column": null,
            "grid_gap": null,
            "grid_row": null,
            "grid_template_areas": null,
            "grid_template_columns": null,
            "grid_template_rows": null,
            "height": null,
            "justify_content": null,
            "justify_items": null,
            "left": null,
            "margin": null,
            "max_height": null,
            "max_width": null,
            "min_height": null,
            "min_width": null,
            "object_fit": null,
            "object_position": null,
            "order": null,
            "overflow": null,
            "overflow_x": null,
            "overflow_y": null,
            "padding": null,
            "right": null,
            "top": null,
            "visibility": null,
            "width": null
          }
        },
        "5938bdac2b12460ebc0aaea5fde63139": {
          "model_module": "@jupyter-widgets/controls",
          "model_name": "DescriptionStyleModel",
          "model_module_version": "1.5.0",
          "state": {
            "_model_module": "@jupyter-widgets/controls",
            "_model_module_version": "1.5.0",
            "_model_name": "DescriptionStyleModel",
            "_view_count": null,
            "_view_module": "@jupyter-widgets/base",
            "_view_module_version": "1.2.0",
            "_view_name": "StyleView",
            "description_width": ""
          }
        },
        "d98699509dab4f349aa2006bab7a422b": {
          "model_module": "@jupyter-widgets/controls",
          "model_name": "HBoxModel",
          "model_module_version": "1.5.0",
          "state": {
            "_dom_classes": [],
            "_model_module": "@jupyter-widgets/controls",
            "_model_module_version": "1.5.0",
            "_model_name": "HBoxModel",
            "_view_count": null,
            "_view_module": "@jupyter-widgets/controls",
            "_view_module_version": "1.5.0",
            "_view_name": "HBoxView",
            "box_style": "",
            "children": [
              "IPY_MODEL_55b2db03a115468ab24947ef6832f44f",
              "IPY_MODEL_447e903cea2b4027a00647f0bc39fa08",
              "IPY_MODEL_42b075ca9e2b4d83a883172268624fdd"
            ],
            "layout": "IPY_MODEL_8acc3e3f053d418e8285fafcb59baa31"
          }
        },
        "55b2db03a115468ab24947ef6832f44f": {
          "model_module": "@jupyter-widgets/controls",
          "model_name": "HTMLModel",
          "model_module_version": "1.5.0",
          "state": {
            "_dom_classes": [],
            "_model_module": "@jupyter-widgets/controls",
            "_model_module_version": "1.5.0",
            "_model_name": "HTMLModel",
            "_view_count": null,
            "_view_module": "@jupyter-widgets/controls",
            "_view_module_version": "1.5.0",
            "_view_name": "HTMLView",
            "description": "",
            "description_tooltip": null,
            "layout": "IPY_MODEL_80554a801b944f19a415f26ca3f36416",
            "placeholder": "​",
            "style": "IPY_MODEL_51a45639d866440db3832a6c41d7727b",
            "value": "tokenizer.json: 100%"
          }
        },
        "447e903cea2b4027a00647f0bc39fa08": {
          "model_module": "@jupyter-widgets/controls",
          "model_name": "FloatProgressModel",
          "model_module_version": "1.5.0",
          "state": {
            "_dom_classes": [],
            "_model_module": "@jupyter-widgets/controls",
            "_model_module_version": "1.5.0",
            "_model_name": "FloatProgressModel",
            "_view_count": null,
            "_view_module": "@jupyter-widgets/controls",
            "_view_module_version": "1.5.0",
            "_view_name": "ProgressView",
            "bar_style": "success",
            "description": "",
            "description_tooltip": null,
            "layout": "IPY_MODEL_470ebc9133434f80903a4d2b17180f1b",
            "max": 1961828,
            "min": 0,
            "orientation": "horizontal",
            "style": "IPY_MODEL_4c3bebf7a5804fb0941a313d305d5537",
            "value": 1961828
          }
        },
        "42b075ca9e2b4d83a883172268624fdd": {
          "model_module": "@jupyter-widgets/controls",
          "model_name": "HTMLModel",
          "model_module_version": "1.5.0",
          "state": {
            "_dom_classes": [],
            "_model_module": "@jupyter-widgets/controls",
            "_model_module_version": "1.5.0",
            "_model_name": "HTMLModel",
            "_view_count": null,
            "_view_module": "@jupyter-widgets/controls",
            "_view_module_version": "1.5.0",
            "_view_name": "HTMLView",
            "description": "",
            "description_tooltip": null,
            "layout": "IPY_MODEL_f483de2aed32414baffd06d288580bb3",
            "placeholder": "​",
            "style": "IPY_MODEL_57ddb93b39b44de996ba5c838d7f3e3a",
            "value": " 1.96M/1.96M [00:00&lt;00:00, 4.13MB/s]"
          }
        },
        "8acc3e3f053d418e8285fafcb59baa31": {
          "model_module": "@jupyter-widgets/base",
          "model_name": "LayoutModel",
          "model_module_version": "1.2.0",
          "state": {
            "_model_module": "@jupyter-widgets/base",
            "_model_module_version": "1.2.0",
            "_model_name": "LayoutModel",
            "_view_count": null,
            "_view_module": "@jupyter-widgets/base",
            "_view_module_version": "1.2.0",
            "_view_name": "LayoutView",
            "align_content": null,
            "align_items": null,
            "align_self": null,
            "border": null,
            "bottom": null,
            "display": null,
            "flex": null,
            "flex_flow": null,
            "grid_area": null,
            "grid_auto_columns": null,
            "grid_auto_flow": null,
            "grid_auto_rows": null,
            "grid_column": null,
            "grid_gap": null,
            "grid_row": null,
            "grid_template_areas": null,
            "grid_template_columns": null,
            "grid_template_rows": null,
            "height": null,
            "justify_content": null,
            "justify_items": null,
            "left": null,
            "margin": null,
            "max_height": null,
            "max_width": null,
            "min_height": null,
            "min_width": null,
            "object_fit": null,
            "object_position": null,
            "order": null,
            "overflow": null,
            "overflow_x": null,
            "overflow_y": null,
            "padding": null,
            "right": null,
            "top": null,
            "visibility": null,
            "width": null
          }
        },
        "80554a801b944f19a415f26ca3f36416": {
          "model_module": "@jupyter-widgets/base",
          "model_name": "LayoutModel",
          "model_module_version": "1.2.0",
          "state": {
            "_model_module": "@jupyter-widgets/base",
            "_model_module_version": "1.2.0",
            "_model_name": "LayoutModel",
            "_view_count": null,
            "_view_module": "@jupyter-widgets/base",
            "_view_module_version": "1.2.0",
            "_view_name": "LayoutView",
            "align_content": null,
            "align_items": null,
            "align_self": null,
            "border": null,
            "bottom": null,
            "display": null,
            "flex": null,
            "flex_flow": null,
            "grid_area": null,
            "grid_auto_columns": null,
            "grid_auto_flow": null,
            "grid_auto_rows": null,
            "grid_column": null,
            "grid_gap": null,
            "grid_row": null,
            "grid_template_areas": null,
            "grid_template_columns": null,
            "grid_template_rows": null,
            "height": null,
            "justify_content": null,
            "justify_items": null,
            "left": null,
            "margin": null,
            "max_height": null,
            "max_width": null,
            "min_height": null,
            "min_width": null,
            "object_fit": null,
            "object_position": null,
            "order": null,
            "overflow": null,
            "overflow_x": null,
            "overflow_y": null,
            "padding": null,
            "right": null,
            "top": null,
            "visibility": null,
            "width": null
          }
        },
        "51a45639d866440db3832a6c41d7727b": {
          "model_module": "@jupyter-widgets/controls",
          "model_name": "DescriptionStyleModel",
          "model_module_version": "1.5.0",
          "state": {
            "_model_module": "@jupyter-widgets/controls",
            "_model_module_version": "1.5.0",
            "_model_name": "DescriptionStyleModel",
            "_view_count": null,
            "_view_module": "@jupyter-widgets/base",
            "_view_module_version": "1.2.0",
            "_view_name": "StyleView",
            "description_width": ""
          }
        },
        "470ebc9133434f80903a4d2b17180f1b": {
          "model_module": "@jupyter-widgets/base",
          "model_name": "LayoutModel",
          "model_module_version": "1.2.0",
          "state": {
            "_model_module": "@jupyter-widgets/base",
            "_model_module_version": "1.2.0",
            "_model_name": "LayoutModel",
            "_view_count": null,
            "_view_module": "@jupyter-widgets/base",
            "_view_module_version": "1.2.0",
            "_view_name": "LayoutView",
            "align_content": null,
            "align_items": null,
            "align_self": null,
            "border": null,
            "bottom": null,
            "display": null,
            "flex": null,
            "flex_flow": null,
            "grid_area": null,
            "grid_auto_columns": null,
            "grid_auto_flow": null,
            "grid_auto_rows": null,
            "grid_column": null,
            "grid_gap": null,
            "grid_row": null,
            "grid_template_areas": null,
            "grid_template_columns": null,
            "grid_template_rows": null,
            "height": null,
            "justify_content": null,
            "justify_items": null,
            "left": null,
            "margin": null,
            "max_height": null,
            "max_width": null,
            "min_height": null,
            "min_width": null,
            "object_fit": null,
            "object_position": null,
            "order": null,
            "overflow": null,
            "overflow_x": null,
            "overflow_y": null,
            "padding": null,
            "right": null,
            "top": null,
            "visibility": null,
            "width": null
          }
        },
        "4c3bebf7a5804fb0941a313d305d5537": {
          "model_module": "@jupyter-widgets/controls",
          "model_name": "ProgressStyleModel",
          "model_module_version": "1.5.0",
          "state": {
            "_model_module": "@jupyter-widgets/controls",
            "_model_module_version": "1.5.0",
            "_model_name": "ProgressStyleModel",
            "_view_count": null,
            "_view_module": "@jupyter-widgets/base",
            "_view_module_version": "1.2.0",
            "_view_name": "StyleView",
            "bar_color": null,
            "description_width": ""
          }
        },
        "f483de2aed32414baffd06d288580bb3": {
          "model_module": "@jupyter-widgets/base",
          "model_name": "LayoutModel",
          "model_module_version": "1.2.0",
          "state": {
            "_model_module": "@jupyter-widgets/base",
            "_model_module_version": "1.2.0",
            "_model_name": "LayoutModel",
            "_view_count": null,
            "_view_module": "@jupyter-widgets/base",
            "_view_module_version": "1.2.0",
            "_view_name": "LayoutView",
            "align_content": null,
            "align_items": null,
            "align_self": null,
            "border": null,
            "bottom": null,
            "display": null,
            "flex": null,
            "flex_flow": null,
            "grid_area": null,
            "grid_auto_columns": null,
            "grid_auto_flow": null,
            "grid_auto_rows": null,
            "grid_column": null,
            "grid_gap": null,
            "grid_row": null,
            "grid_template_areas": null,
            "grid_template_columns": null,
            "grid_template_rows": null,
            "height": null,
            "justify_content": null,
            "justify_items": null,
            "left": null,
            "margin": null,
            "max_height": null,
            "max_width": null,
            "min_height": null,
            "min_width": null,
            "object_fit": null,
            "object_position": null,
            "order": null,
            "overflow": null,
            "overflow_x": null,
            "overflow_y": null,
            "padding": null,
            "right": null,
            "top": null,
            "visibility": null,
            "width": null
          }
        },
        "57ddb93b39b44de996ba5c838d7f3e3a": {
          "model_module": "@jupyter-widgets/controls",
          "model_name": "DescriptionStyleModel",
          "model_module_version": "1.5.0",
          "state": {
            "_model_module": "@jupyter-widgets/controls",
            "_model_module_version": "1.5.0",
            "_model_name": "DescriptionStyleModel",
            "_view_count": null,
            "_view_module": "@jupyter-widgets/base",
            "_view_module_version": "1.2.0",
            "_view_name": "StyleView",
            "description_width": ""
          }
        },
        "15887a82d85f4866a710aec76e80b7d3": {
          "model_module": "@jupyter-widgets/controls",
          "model_name": "HBoxModel",
          "model_module_version": "1.5.0",
          "state": {
            "_dom_classes": [],
            "_model_module": "@jupyter-widgets/controls",
            "_model_module_version": "1.5.0",
            "_model_name": "HBoxModel",
            "_view_count": null,
            "_view_module": "@jupyter-widgets/controls",
            "_view_module_version": "1.5.0",
            "_view_name": "HBoxView",
            "box_style": "",
            "children": [
              "IPY_MODEL_06acc49202cb494e937f1df9f8348ccf",
              "IPY_MODEL_dc1cfa120f2b44c28a93c2064ba5ac96",
              "IPY_MODEL_b85a14349cc146f5addaf4cacaffef66"
            ],
            "layout": "IPY_MODEL_47fec9618e9c40d89f329703042b0cff"
          }
        },
        "06acc49202cb494e937f1df9f8348ccf": {
          "model_module": "@jupyter-widgets/controls",
          "model_name": "HTMLModel",
          "model_module_version": "1.5.0",
          "state": {
            "_dom_classes": [],
            "_model_module": "@jupyter-widgets/controls",
            "_model_module_version": "1.5.0",
            "_model_name": "HTMLModel",
            "_view_count": null,
            "_view_module": "@jupyter-widgets/controls",
            "_view_module_version": "1.5.0",
            "_view_name": "HTMLView",
            "description": "",
            "description_tooltip": null,
            "layout": "IPY_MODEL_9b485fd39ea848548eb59401e679a57b",
            "placeholder": "​",
            "style": "IPY_MODEL_489923001100432daf9b046c3437e089",
            "value": "config.json: 100%"
          }
        },
        "dc1cfa120f2b44c28a93c2064ba5ac96": {
          "model_module": "@jupyter-widgets/controls",
          "model_name": "FloatProgressModel",
          "model_module_version": "1.5.0",
          "state": {
            "_dom_classes": [],
            "_model_module": "@jupyter-widgets/controls",
            "_model_module_version": "1.5.0",
            "_model_name": "FloatProgressModel",
            "_view_count": null,
            "_view_module": "@jupyter-widgets/controls",
            "_view_module_version": "1.5.0",
            "_view_name": "ProgressView",
            "bar_style": "success",
            "description": "",
            "description_tooltip": null,
            "layout": "IPY_MODEL_80e617d981664d699450bb410f1b9bbb",
            "max": 625,
            "min": 0,
            "orientation": "horizontal",
            "style": "IPY_MODEL_851740201a4442ff991d6ea457c5250f",
            "value": 625
          }
        },
        "b85a14349cc146f5addaf4cacaffef66": {
          "model_module": "@jupyter-widgets/controls",
          "model_name": "HTMLModel",
          "model_module_version": "1.5.0",
          "state": {
            "_dom_classes": [],
            "_model_module": "@jupyter-widgets/controls",
            "_model_module_version": "1.5.0",
            "_model_name": "HTMLModel",
            "_view_count": null,
            "_view_module": "@jupyter-widgets/controls",
            "_view_module_version": "1.5.0",
            "_view_name": "HTMLView",
            "description": "",
            "description_tooltip": null,
            "layout": "IPY_MODEL_2c2178f84217486ea2f0442c1de6896f",
            "placeholder": "​",
            "style": "IPY_MODEL_ed827bd28def4b35bccaf0a181632f35",
            "value": " 625/625 [00:00&lt;00:00, 14.9kB/s]"
          }
        },
        "47fec9618e9c40d89f329703042b0cff": {
          "model_module": "@jupyter-widgets/base",
          "model_name": "LayoutModel",
          "model_module_version": "1.2.0",
          "state": {
            "_model_module": "@jupyter-widgets/base",
            "_model_module_version": "1.2.0",
            "_model_name": "LayoutModel",
            "_view_count": null,
            "_view_module": "@jupyter-widgets/base",
            "_view_module_version": "1.2.0",
            "_view_name": "LayoutView",
            "align_content": null,
            "align_items": null,
            "align_self": null,
            "border": null,
            "bottom": null,
            "display": null,
            "flex": null,
            "flex_flow": null,
            "grid_area": null,
            "grid_auto_columns": null,
            "grid_auto_flow": null,
            "grid_auto_rows": null,
            "grid_column": null,
            "grid_gap": null,
            "grid_row": null,
            "grid_template_areas": null,
            "grid_template_columns": null,
            "grid_template_rows": null,
            "height": null,
            "justify_content": null,
            "justify_items": null,
            "left": null,
            "margin": null,
            "max_height": null,
            "max_width": null,
            "min_height": null,
            "min_width": null,
            "object_fit": null,
            "object_position": null,
            "order": null,
            "overflow": null,
            "overflow_x": null,
            "overflow_y": null,
            "padding": null,
            "right": null,
            "top": null,
            "visibility": null,
            "width": null
          }
        },
        "9b485fd39ea848548eb59401e679a57b": {
          "model_module": "@jupyter-widgets/base",
          "model_name": "LayoutModel",
          "model_module_version": "1.2.0",
          "state": {
            "_model_module": "@jupyter-widgets/base",
            "_model_module_version": "1.2.0",
            "_model_name": "LayoutModel",
            "_view_count": null,
            "_view_module": "@jupyter-widgets/base",
            "_view_module_version": "1.2.0",
            "_view_name": "LayoutView",
            "align_content": null,
            "align_items": null,
            "align_self": null,
            "border": null,
            "bottom": null,
            "display": null,
            "flex": null,
            "flex_flow": null,
            "grid_area": null,
            "grid_auto_columns": null,
            "grid_auto_flow": null,
            "grid_auto_rows": null,
            "grid_column": null,
            "grid_gap": null,
            "grid_row": null,
            "grid_template_areas": null,
            "grid_template_columns": null,
            "grid_template_rows": null,
            "height": null,
            "justify_content": null,
            "justify_items": null,
            "left": null,
            "margin": null,
            "max_height": null,
            "max_width": null,
            "min_height": null,
            "min_width": null,
            "object_fit": null,
            "object_position": null,
            "order": null,
            "overflow": null,
            "overflow_x": null,
            "overflow_y": null,
            "padding": null,
            "right": null,
            "top": null,
            "visibility": null,
            "width": null
          }
        },
        "489923001100432daf9b046c3437e089": {
          "model_module": "@jupyter-widgets/controls",
          "model_name": "DescriptionStyleModel",
          "model_module_version": "1.5.0",
          "state": {
            "_model_module": "@jupyter-widgets/controls",
            "_model_module_version": "1.5.0",
            "_model_name": "DescriptionStyleModel",
            "_view_count": null,
            "_view_module": "@jupyter-widgets/base",
            "_view_module_version": "1.2.0",
            "_view_name": "StyleView",
            "description_width": ""
          }
        },
        "80e617d981664d699450bb410f1b9bbb": {
          "model_module": "@jupyter-widgets/base",
          "model_name": "LayoutModel",
          "model_module_version": "1.2.0",
          "state": {
            "_model_module": "@jupyter-widgets/base",
            "_model_module_version": "1.2.0",
            "_model_name": "LayoutModel",
            "_view_count": null,
            "_view_module": "@jupyter-widgets/base",
            "_view_module_version": "1.2.0",
            "_view_name": "LayoutView",
            "align_content": null,
            "align_items": null,
            "align_self": null,
            "border": null,
            "bottom": null,
            "display": null,
            "flex": null,
            "flex_flow": null,
            "grid_area": null,
            "grid_auto_columns": null,
            "grid_auto_flow": null,
            "grid_auto_rows": null,
            "grid_column": null,
            "grid_gap": null,
            "grid_row": null,
            "grid_template_areas": null,
            "grid_template_columns": null,
            "grid_template_rows": null,
            "height": null,
            "justify_content": null,
            "justify_items": null,
            "left": null,
            "margin": null,
            "max_height": null,
            "max_width": null,
            "min_height": null,
            "min_width": null,
            "object_fit": null,
            "object_position": null,
            "order": null,
            "overflow": null,
            "overflow_x": null,
            "overflow_y": null,
            "padding": null,
            "right": null,
            "top": null,
            "visibility": null,
            "width": null
          }
        },
        "851740201a4442ff991d6ea457c5250f": {
          "model_module": "@jupyter-widgets/controls",
          "model_name": "ProgressStyleModel",
          "model_module_version": "1.5.0",
          "state": {
            "_model_module": "@jupyter-widgets/controls",
            "_model_module_version": "1.5.0",
            "_model_name": "ProgressStyleModel",
            "_view_count": null,
            "_view_module": "@jupyter-widgets/base",
            "_view_module_version": "1.2.0",
            "_view_name": "StyleView",
            "bar_color": null,
            "description_width": ""
          }
        },
        "2c2178f84217486ea2f0442c1de6896f": {
          "model_module": "@jupyter-widgets/base",
          "model_name": "LayoutModel",
          "model_module_version": "1.2.0",
          "state": {
            "_model_module": "@jupyter-widgets/base",
            "_model_module_version": "1.2.0",
            "_model_name": "LayoutModel",
            "_view_count": null,
            "_view_module": "@jupyter-widgets/base",
            "_view_module_version": "1.2.0",
            "_view_name": "LayoutView",
            "align_content": null,
            "align_items": null,
            "align_self": null,
            "border": null,
            "bottom": null,
            "display": null,
            "flex": null,
            "flex_flow": null,
            "grid_area": null,
            "grid_auto_columns": null,
            "grid_auto_flow": null,
            "grid_auto_rows": null,
            "grid_column": null,
            "grid_gap": null,
            "grid_row": null,
            "grid_template_areas": null,
            "grid_template_columns": null,
            "grid_template_rows": null,
            "height": null,
            "justify_content": null,
            "justify_items": null,
            "left": null,
            "margin": null,
            "max_height": null,
            "max_width": null,
            "min_height": null,
            "min_width": null,
            "object_fit": null,
            "object_position": null,
            "order": null,
            "overflow": null,
            "overflow_x": null,
            "overflow_y": null,
            "padding": null,
            "right": null,
            "top": null,
            "visibility": null,
            "width": null
          }
        },
        "ed827bd28def4b35bccaf0a181632f35": {
          "model_module": "@jupyter-widgets/controls",
          "model_name": "DescriptionStyleModel",
          "model_module_version": "1.5.0",
          "state": {
            "_model_module": "@jupyter-widgets/controls",
            "_model_module_version": "1.5.0",
            "_model_name": "DescriptionStyleModel",
            "_view_count": null,
            "_view_module": "@jupyter-widgets/base",
            "_view_module_version": "1.2.0",
            "_view_name": "StyleView",
            "description_width": ""
          }
        }
      }
    }
  },
  "nbformat": 4,
  "nbformat_minor": 0
}