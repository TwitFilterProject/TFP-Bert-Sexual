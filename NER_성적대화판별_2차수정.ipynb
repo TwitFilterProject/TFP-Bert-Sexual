{
  "cells": [
    {
      "cell_type": "markdown",
      "metadata": {
        "id": "hoZajiV-6YEh"
      },
      "source": [
        "#**오픈소스 팀 과제 - BERT를 활용한 대화 이진 분류 - 전유정**\n",
        "\n",
        "허깅페이스(Hugging Face)에서 제공하는 transformer 라이브러리를 활용하여 한국어 BERT로 텍스트 대화 중에서 성적인 텍스트를 분류해보도록 하겠습니다.\n",
        "\n",
        "1.1. 사용한 데이터\n",
        "- 텍스트 윤리 검정 데이터\n",
        "https://www.aihub.or.kr/aihubdata/data/view.do?currMenu=115&topMenu=100&dataSetSn=558\n",
        "\n",
        "1.2. 데이터셋 구조\n",
        "총 44,998개의 데이터로 총 5개의 라벨로 이루어져 있습니다.\n",
        " - 일반 대화와 성적 대화만 추출\n",
        " - 데이터 결측치 제거\n",
        " - Okt 라이브러리를 활용한 토큰화\n",
        "다음과 같은 과정을 통해 데이터 전처리를 진행하였으며, 최종 21,740개의 데이터로 간소화 하였으며, 라벨도 2개로 단축시켰습니다. + 성적인 대화의 수가 적어 정확성이 높지 않은 경우를 고려하여, 성적인 데이터셋을 학습 데이터로 추가시켰습니다.\n",
        "\n",
        "2. 모델 학습\n",
        "\n",
        " 2.1. 훈련-테스트 데이터 분할\n",
        "2만 개의 데이터도 적은 수는 아니나 더 다양한 케이스를 학습하기 위해 20%를 test 데이터로 구분했습니다.\n",
        "\n",
        " 2.2. BERT 토크나이저 불러오기\n",
        "\n",
        " 2.3. DataLoader 구성\n",
        "\n",
        " 2.4. BERT 모델 불러오기\n",
        "\n",
        " 2.5. 모델 훈련"
      ]
    },
    {
      "cell_type": "code",
      "execution_count": null,
      "metadata": {
        "colab": {
          "base_uri": "https://localhost:8080/"
        },
        "id": "XyncOKy2JI_G",
        "outputId": "0ddef3dc-c1c5-4b15-e954-6cff1f8dd3fc"
      },
      "outputs": [
        {
          "name": "stdout",
          "output_type": "stream",
          "text": [
            "Requirement already satisfied: pandas in /usr/local/lib/python3.10/dist-packages (2.0.3)\n",
            "Requirement already satisfied: python-dateutil>=2.8.2 in /usr/local/lib/python3.10/dist-packages (from pandas) (2.8.2)\n",
            "Requirement already satisfied: pytz>=2020.1 in /usr/local/lib/python3.10/dist-packages (from pandas) (2023.4)\n",
            "Requirement already satisfied: tzdata>=2022.1 in /usr/local/lib/python3.10/dist-packages (from pandas) (2024.1)\n",
            "Requirement already satisfied: numpy>=1.21.0 in /usr/local/lib/python3.10/dist-packages (from pandas) (1.25.2)\n",
            "Requirement already satisfied: six>=1.5 in /usr/local/lib/python3.10/dist-packages (from python-dateutil>=2.8.2->pandas) (1.16.0)\n",
            "Requirement already satisfied: numpy in /usr/local/lib/python3.10/dist-packages (1.25.2)\n",
            "Requirement already satisfied: pillow in /usr/local/lib/python3.10/dist-packages (9.4.0)\n",
            "Collecting konlpy\n",
            "  Downloading konlpy-0.6.0-py2.py3-none-any.whl (19.4 MB)\n",
            "\u001b[2K     \u001b[90m━━━━━━━━━━━━━━━━━━━━━━━━━━━━━━━━━━━━━━━━\u001b[0m \u001b[32m19.4/19.4 MB\u001b[0m \u001b[31m44.4 MB/s\u001b[0m eta \u001b[36m0:00:00\u001b[0m\n",
            "\u001b[?25hCollecting JPype1>=0.7.0 (from konlpy)\n",
            "  Downloading JPype1-1.5.0-cp310-cp310-manylinux_2_17_x86_64.manylinux2014_x86_64.whl (488 kB)\n",
            "\u001b[2K     \u001b[90m━━━━━━━━━━━━━━━━━━━━━━━━━━━━━━━━━━━━━━━━\u001b[0m \u001b[32m488.6/488.6 kB\u001b[0m \u001b[31m2.9 MB/s\u001b[0m eta \u001b[36m0:00:00\u001b[0m\n",
            "\u001b[?25hRequirement already satisfied: lxml>=4.1.0 in /usr/local/lib/python3.10/dist-packages (from konlpy) (4.9.4)\n",
            "Requirement already satisfied: numpy>=1.6 in /usr/local/lib/python3.10/dist-packages (from konlpy) (1.25.2)\n",
            "Requirement already satisfied: packaging in /usr/local/lib/python3.10/dist-packages (from JPype1>=0.7.0->konlpy) (24.1)\n",
            "Installing collected packages: JPype1, konlpy\n",
            "Successfully installed JPype1-1.5.0 konlpy-0.6.0\n",
            "Requirement already satisfied: wordcloud in /usr/local/lib/python3.10/dist-packages (1.9.3)\n",
            "Requirement already satisfied: numpy>=1.6.1 in /usr/local/lib/python3.10/dist-packages (from wordcloud) (1.25.2)\n",
            "Requirement already satisfied: pillow in /usr/local/lib/python3.10/dist-packages (from wordcloud) (9.4.0)\n",
            "Requirement already satisfied: matplotlib in /usr/local/lib/python3.10/dist-packages (from wordcloud) (3.7.1)\n",
            "Requirement already satisfied: contourpy>=1.0.1 in /usr/local/lib/python3.10/dist-packages (from matplotlib->wordcloud) (1.2.1)\n",
            "Requirement already satisfied: cycler>=0.10 in /usr/local/lib/python3.10/dist-packages (from matplotlib->wordcloud) (0.12.1)\n",
            "Requirement already satisfied: fonttools>=4.22.0 in /usr/local/lib/python3.10/dist-packages (from matplotlib->wordcloud) (4.53.0)\n",
            "Requirement already satisfied: kiwisolver>=1.0.1 in /usr/local/lib/python3.10/dist-packages (from matplotlib->wordcloud) (1.4.5)\n",
            "Requirement already satisfied: packaging>=20.0 in /usr/local/lib/python3.10/dist-packages (from matplotlib->wordcloud) (24.1)\n",
            "Requirement already satisfied: pyparsing>=2.3.1 in /usr/local/lib/python3.10/dist-packages (from matplotlib->wordcloud) (3.1.2)\n",
            "Requirement already satisfied: python-dateutil>=2.7 in /usr/local/lib/python3.10/dist-packages (from matplotlib->wordcloud) (2.8.2)\n",
            "Requirement already satisfied: six>=1.5 in /usr/local/lib/python3.10/dist-packages (from python-dateutil>=2.7->matplotlib->wordcloud) (1.16.0)\n"
          ]
        }
      ],
      "source": [
        "!pip install pandas\n",
        "!pip install numpy\n",
        "!pip install pillow\n",
        "!pip install konlpy\n",
        "!pip install wordcloud"
      ]
    },
    {
      "cell_type": "code",
      "execution_count": null,
      "metadata": {
        "colab": {
          "base_uri": "https://localhost:8080/"
        },
        "id": "WpcfOADA748A",
        "outputId": "9698bb36-c0d9-48db-cd66-7206b572eb3b"
      },
      "outputs": [
        {
          "name": "stdout",
          "output_type": "stream",
          "text": [
            "Requirement already satisfied: konlpy in /usr/local/lib/python3.10/dist-packages (0.6.0)\n",
            "Requirement already satisfied: JPype1>=0.7.0 in /usr/local/lib/python3.10/dist-packages (from konlpy) (1.5.0)\n",
            "Requirement already satisfied: lxml>=4.1.0 in /usr/local/lib/python3.10/dist-packages (from konlpy) (4.9.4)\n",
            "Requirement already satisfied: numpy>=1.6 in /usr/local/lib/python3.10/dist-packages (from konlpy) (1.25.2)\n",
            "Requirement already satisfied: packaging in /usr/local/lib/python3.10/dist-packages (from JPype1>=0.7.0->konlpy) (24.1)\n"
          ]
        }
      ],
      "source": [
        "\n",
        "\n",
        "!pip install konlpy"
      ]
    },
    {
      "cell_type": "code",
      "execution_count": null,
      "metadata": {
        "id": "_tQuc0d7JVmn"
      },
      "outputs": [],
      "source": [
        "import pandas as pd\n",
        "\n",
        "from wordcloud import WordCloud\n",
        "import matplotlib.pyplot as plt\n",
        "from collections import Counter\n",
        "from konlpy.tag import Hannanum\n",
        "from PIL import Image\n",
        "import numpy as np"
      ]
    },
    {
      "cell_type": "code",
      "execution_count": null,
      "metadata": {
        "id": "USzfMwI2JlQv"
      },
      "outputs": [],
      "source": [
        "df = pd.read_csv(\"test\", sep='\\t', header=None)"
      ]
    },
    {
      "cell_type": "code",
      "execution_count": null,
      "metadata": {
        "id": "e4G4er5tTXNL"
      },
      "outputs": [],
      "source": [
        "df2 = pd.read_csv(\"test2\", sep='\\t', header=None)"
      ]
    },
    {
      "cell_type": "code",
      "execution_count": null,
      "metadata": {
        "colab": {
          "base_uri": "https://localhost:8080/"
        },
        "id": "Gp9uKDEiJuDC",
        "outputId": "a12f5a55-5a03-4300-b09d-b1f9f47bb560"
      },
      "outputs": [
        {
          "name": "stdout",
          "output_type": "stream",
          "text": [
            "       0      1    2  3               4                                      5\n",
            "0      1  False  0.0  1    IMMORAL_NONE               <마미손> 이번에 해명 영상 올렸던데 봤어?\n",
            "1      2  False  0.0  2    IMMORAL_NONE                   어 <염따> 제대로 큰일 난거 같던데\n",
            "2      3   True  1.0  3   CENSURE,ABUSE             <염따> 뭐됐지 ㅋㅋ 그럴줄 알았다 티팔이 샛기\n",
            "3      1  False  0.0  1    IMMORAL_NONE                     요즘 같은 시대에 모솔이 가능해?\n",
            "4      2  False  0.0  2    IMMORAL_NONE                   흐음 글쎄.. 그럴 수도 있지, 뭐.\n",
            "...   ..    ...  ... ..             ...                                    ...\n",
            "44993  3   True  1.8  2  SEXUAL,CENSURE                         상의 탈의한 사진 보내줘 \n",
            "44994  4   True  2.4  2    HATE,CENSURE                              틀딱 소리 하지마\n",
            "44995  1  False  0.0  1    IMMORAL_NONE                             쟤 또 티비 나오네\n",
            "44996  2   True  1.4  2         CENSURE  별로 이쁜지도 모르겠고 오히려 촌스럽게 생긴 것 같은데 계속 나오네\n",
            "44997  3   True  1.8  2         CENSURE                        혹시 쟤도 빵구 장사 하나?\n",
            "\n",
            "[44998 rows x 6 columns]\n"
          ]
        }
      ],
      "source": [
        "print(df)"
      ]
    },
    {
      "cell_type": "markdown",
      "metadata": {
        "id": "iNPjy3dYCeQf"
      },
      "source": [
        "섹슈얼 데이터 csv (test 데이터)\n",
        "\n"
      ]
    },
    {
      "cell_type": "code",
      "execution_count": null,
      "metadata": {
        "colab": {
          "base_uri": "https://localhost:8080/"
        },
        "id": "O1ceAy23dZcs",
        "outputId": "a8352354-7ea7-4419-b575-ee3a3b5e9bf1"
      },
      "outputs": [
        {
          "name": "stdout",
          "output_type": "stream",
          "text": [
            "                         4                                              5\n",
            "22     CENSURE,HATE,SEXUAL                 충격은 니가 ㅂㅈ 속에서 나올 때 니 엄마가 받는거고ㅋ\n",
            "32                  SEXUAL                               어제 얘 따먹음 ㅋㅋ 물 콸콸\n",
            "33            SEXUAL,CRIME                 ㅋㅋㅋㅋㅋㅋㅋㅋㅋㅋㅋㅋㅋ 영상 없음??? 담엔 찍어와라\n",
            "34            SEXUAL,CRIME                                    오케 무조건이지 ㅋㅋ\n",
            "38                  SEXUAL                       ㅈ물처럼 차버린 뇌내망상 배설하니까 시원하다\n",
            "...                    ...                                            ...\n",
            "12532               SEXUAL                  벌레 같은 것들이 다시 니들 엄마 자궁으로 들어가;;\n",
            "12534               SEXUAL  어디서 몸굴리던 개버릇 남 못준다고 지금도 더럽게 몸 섞으면서 돈 벌고 있을 수도\n",
            "12535               SEXUAL                             역시 한국 여자답게 잘 벌리는 듯\n",
            "12540               SEXUAL                           밋틴건가... 차라리 다 벗지 ㅋㅋㅋ\n",
            "12541               SEXUAL                                  ㄱㅊ도 걍 내놓고 다녀~\n",
            "\n",
            "[5474 rows x 2 columns]\n"
          ]
        }
      ],
      "source": [
        "import pandas as pd\n",
        "\n",
        "# 'SEXUAL' 포함된 데이터프레임 추출\n",
        "sexual_df = df[df[4].str.contains(\"SEXUAL\")]\n",
        "sexual_df2 = df2[df2[4].str.contains(\"SEXUAL\")]\n",
        "\n",
        "# 대화 유형과 텍스트 메세지만 추출\n",
        "selected_df1 = sexual_df.iloc[:, [4, 5]]\n",
        "selected_df2 = sexual_df2.iloc[:, [4, 5]]\n",
        "\n",
        "# 두 데이터프레임 병합\n",
        "merged_sexual_df = pd.concat([selected_df1, selected_df2])\n",
        "\n",
        "# CSV로 저장\n",
        "merged_sexual_df.to_csv(\"selected_data.csv\", index=False, header=None)\n",
        "\n",
        "# 결과 출력\n",
        "print(merged_sexual_df)\n"
      ]
    },
    {
      "cell_type": "markdown",
      "metadata": {
        "id": "54ugOGxpCg5S"
      },
      "source": [
        "일상 대화 데이터 csv (test 데이터)"
      ]
    },
    {
      "cell_type": "code",
      "execution_count": null,
      "metadata": {
        "colab": {
          "base_uri": "https://localhost:8080/"
        },
        "id": "u1hP73vRCSvH",
        "outputId": "e51df2b4-b389-49bf-9617-6775619b3ad7"
      },
      "outputs": [
        {
          "name": "stdout",
          "output_type": "stream",
          "text": [
            "                  4                                             5\n",
            "2165   IMMORAL_NONE                              저기 저 남자 성형한거 같지?\n",
            "14850  IMMORAL_NONE                                   내가 친구면 연 끊음\n",
            "40786  IMMORAL_NONE                            이번에 학폭 사건 가해자들 봤음?\n",
            "7414   IMMORAL_NONE  네 취향은 <더픽스>였을수 있지만 <씨네마>가 취향인 사람들이 더 많을수도 있지\n",
            "20133  IMMORAL_NONE                     그게 며느리 떄문인가 뭐 날씨가 안따라주는거지\n",
            "...             ...                                           ...\n",
            "17522  IMMORAL_NONE                    이번 시험 문제 완전 이상한것들 나오지 않았어?\n",
            "13081  IMMORAL_NONE                            난 아파서 맞는것도 싫고 무섭던데\n",
            "10555  IMMORAL_NONE           아이고 ㅠㅠ 외롭겠다 외로우니까 더더욱 우리가 친구가 되어줘야지\n",
            "21293  IMMORAL_NONE                          한 때 내 최애 선수였다. 지켜줘ㅜㅜ\n",
            "15409  IMMORAL_NONE                               나는 뭔가 근데 기적을 믿어\n",
            "\n",
            "[5500 rows x 2 columns]\n"
          ]
        }
      ],
      "source": [
        "import pandas as pd\n",
        "\n",
        "\n",
        "# 'IMMORAL_NONE' 포함된 데이터프레임 추출\n",
        "moral_df = df[df[4].str.contains(\"IMMORAL_NONE\")]\n",
        "\n",
        "# 대화 유형과 텍스트 메세지만 추출\n",
        "moral_selected_df = moral_df.iloc[:, [4, 5]]\n",
        "\n",
        "# 5천개 또는 가능한 최대 개수로 줄이기\n",
        "sample_size = min(5500, len(moral_selected_df))\n",
        "margerd_moral_df = moral_selected_df.sample(n=sample_size, random_state=1)\n",
        "\n",
        "# CSV로 저장\n",
        "margerd_moral_df.to_csv(\"selected_data.csv\", index=False, header=None)\n",
        "\n",
        "# 결과 출력\n",
        "print(margerd_moral_df)\n"
      ]
    },
    {
      "cell_type": "markdown",
      "metadata": {
        "id": "Oa7A05KYDVa0"
      },
      "source": [
        "섹슈얼 데이터 + 일상 대화 데이터 csv화 (test 데이터)"
      ]
    },
    {
      "cell_type": "code",
      "execution_count": null,
      "metadata": {
        "colab": {
          "base_uri": "https://localhost:8080/"
        },
        "id": "UMqDqMm9C5QG",
        "outputId": "04ce7a05-8590-4321-bd26-60d15a41d469"
      },
      "outputs": [
        {
          "name": "stdout",
          "output_type": "stream",
          "text": [
            "                         4                                    5\n",
            "22     CENSURE,HATE,SEXUAL       충격은 니가 ㅂㅈ 속에서 나올 때 니 엄마가 받는거고ㅋ\n",
            "32                  SEXUAL                     어제 얘 따먹음 ㅋㅋ 물 콸콸\n",
            "33            SEXUAL,CRIME       ㅋㅋㅋㅋㅋㅋㅋㅋㅋㅋㅋㅋㅋ 영상 없음??? 담엔 찍어와라\n",
            "34            SEXUAL,CRIME                          오케 무조건이지 ㅋㅋ\n",
            "38                  SEXUAL             ㅈ물처럼 차버린 뇌내망상 배설하니까 시원하다\n",
            "...                    ...                                  ...\n",
            "17522         IMMORAL_NONE           이번 시험 문제 완전 이상한것들 나오지 않았어?\n",
            "13081         IMMORAL_NONE                   난 아파서 맞는것도 싫고 무섭던데\n",
            "10555         IMMORAL_NONE  아이고 ㅠㅠ 외롭겠다 외로우니까 더더욱 우리가 친구가 되어줘야지\n",
            "21293         IMMORAL_NONE                 한 때 내 최애 선수였다. 지켜줘ㅜㅜ\n",
            "15409         IMMORAL_NONE                      나는 뭔가 근데 기적을 믿어\n",
            "\n",
            "[10974 rows x 2 columns]\n"
          ]
        }
      ],
      "source": [
        "test_merged_df = pd.concat([merged_sexual_df, margerd_moral_df])\n",
        "test_merged_df.to_csv(\"test_data.csv\", index=False, header=None)\n",
        "print(test_merged_df)"
      ]
    },
    {
      "cell_type": "markdown",
      "metadata": {
        "id": "3sDHAxyRDtOi"
      },
      "source": [
        " 섹슈얼 데이터 (train 데이터 = 모델 학습 데이터)"
      ]
    },
    {
      "cell_type": "code",
      "execution_count": null,
      "metadata": {
        "id": "QfpoRDdCtJAU"
      },
      "outputs": [],
      "source": [
        "train_df = pd.read_csv(\"train1.csv\", sep='\\t', header=None)"
      ]
    },
    {
      "cell_type": "code",
      "execution_count": null,
      "metadata": {
        "id": "BntvY2qBOpJ1"
      },
      "outputs": [],
      "source": [
        "train2_df = pd.read_csv(\"train2\", sep='\\t', header=None)"
      ]
    },
    {
      "cell_type": "code",
      "execution_count": null,
      "metadata": {
        "id": "lpRKtyIhP1P-"
      },
      "outputs": [],
      "source": [
        "train3_df = pd.read_csv(\"train3\", sep='\\t', header=None)"
      ]
    },
    {
      "cell_type": "code",
      "execution_count": null,
      "metadata": {
        "id": "gBQB8l0oQO2I"
      },
      "outputs": [],
      "source": [
        "train4_df = pd.read_csv(\"train4\", sep='\\t', header=None)"
      ]
    },
    {
      "cell_type": "code",
      "execution_count": null,
      "metadata": {
        "colab": {
          "base_uri": "https://localhost:8080/"
        },
        "id": "K7GsGVKxb-p6",
        "outputId": "cc0ce85c-5e5c-4a56-999d-f3e0e487a383"
      },
      "outputs": [
        {
          "name": "stdout",
          "output_type": "stream",
          "text": [
            "        0      1    2  3             4  \\\n",
            "0       1   True  2.0  1       CENSURE   \n",
            "1       2   True  2.0  2       CENSURE   \n",
            "2       3   True  2.0  1       CENSURE   \n",
            "3       4   True  2.0  2       CENSURE   \n",
            "4       1   True  1.0  1       CENSURE   \n",
            "...    ..    ...  ... ..           ...   \n",
            "348068  1  False  0.0  1  IMMORAL_NONE   \n",
            "348069  2  False  0.0  2  IMMORAL_NONE   \n",
            "348070  1  False  0.0  1  IMMORAL_NONE   \n",
            "348071  3  False  0.0  2  IMMORAL_NONE   \n",
            "348072  2  False  0.0  2  IMMORAL_NONE   \n",
            "\n",
            "                                              5  \n",
            "0                   부랴부랴 왔는데 아무도 안왔네. 시간개념들이 없네  \n",
            "1                             맞아. 사람들이 진짜 개념이없다  \n",
            "2                                  저렇게는 살지 말아야지  \n",
            "3                        그러게 게으르고 멍청한 사람들은 맞아야해  \n",
            "4                             인방 보는 남자는 거르는게 맞다  \n",
            "...                                         ...  \n",
            "348068                              나는 매일 죽고 싶어  \n",
            "348069                 시한부도 열심히 사는데 너가 그러면 안 되지  \n",
            "348070  애들이 똑똑해지긴 했는데 문제는 무식한 애들한테도 스마트폰이 생긴 거지  \n",
            "348071  밖에서는 꺼내지도 못할 말을 인터넷이라고 당당히 하는 게 우습긴 하더라  \n",
            "348072                     동네에서 판건데 뭔 대량생산 타령이야  \n",
            "\n",
            "[348073 rows x 6 columns]\n"
          ]
        }
      ],
      "source": [
        "print(train_df)"
      ]
    },
    {
      "cell_type": "code",
      "execution_count": null,
      "metadata": {
        "colab": {
          "base_uri": "https://localhost:8080/"
        },
        "id": "w11JY2-fEW-h",
        "outputId": "9ca5ecf6-5630-4047-8650-4ee478ebe513"
      },
      "outputs": [
        {
          "name": "stdout",
          "output_type": "stream",
          "text": [
            "                         4                                            5\n",
            "5      HATE,CENSURE,SEXUAL                       특히 벗방보는 애들은 진짜 거세 시켜야함\n",
            "6           CENSURE,SEXUAL                           볼 게 없어서 벗방을 보냐 ㅋㅋㅋ\n",
            "11          CENSURE,SEXUAL                         에로배우들을 데려다가 아이돌을 만드네\n",
            "12          CENSURE,SEXUAL                            쟤네들은 표정이 딱 야동인데..\n",
            "26            ABUSE,SEXUAL                               줫빠지게 힘들어서 잣같았다\n",
            "...                    ...                                          ...\n",
            "12651               SEXUAL                걔 맨날 브라도 안 하고 와서 진짜 싸구려 같아 보여\n",
            "12652               SEXUAL         그렇게 매번 브라 안 차는 건 자기 몸 보라고 광고하는 거 아님?\n",
            "12653               SEXUAL                      진짜 그게 성매매하는 여자랑 다를 게 뭐냐\n",
            "12663               SEXUAL          저정도면 놀아달라는 거 아닌가? 저 라인봐봐 만지면 으스러지겠어\n",
            "12664               SEXUAL  저 언덕 사이에 손을 넣고 주물러주면 그럴걸 ㅋㅋ 본인도 바라고 있지 않을까?\n",
            "\n",
            "[40907 rows x 2 columns]\n"
          ]
        }
      ],
      "source": [
        "import pandas as pd\n",
        "\n",
        "# 'SEXUAL' 포함된 데이터프레임 추출\n",
        "t_sexual_df = train_df[train_df[4].str.contains(\"SEXUAL\")]\n",
        "t_sexual_df2 = train2_df[train2_df[4].str.contains(\"SEXUAL\")]\n",
        "t_sexual_df3 = train3_df[train3_df[4].str.contains(\"SEXUAL\")]\n",
        "t_sexual_df4 = train4_df[train4_df[4].str.contains(\"SEXUAL\")]\n",
        "\n",
        "# 대화 유형과 텍스트 메세지만 추출\n",
        "t_selected_df1 = t_sexual_df.iloc[:, [4, 5]]\n",
        "t_selected_df2 = t_sexual_df2.iloc[:, [4, 5]]\n",
        "t_selected_df3 = t_sexual_df3.iloc[:, [4, 5]]\n",
        "t_selected_df4 = t_sexual_df4.iloc[:, [4, 5]]\n",
        "\n",
        "# 두 데이터프레임 병합\n",
        "merged_t_sexual_df = pd.concat([t_selected_df1, t_selected_df2, t_selected_df3, t_selected_df4])\n",
        "\n",
        "# CSV로 저장\n",
        "merged_t_sexual_df.to_csv(\"t_train_df_selected_data.csv\", index=False, header=None)\n",
        "\n",
        "# 결과 출력\n",
        "print(merged_t_sexual_df)\n"
      ]
    },
    {
      "cell_type": "code",
      "execution_count": null,
      "metadata": {
        "colab": {
          "base_uri": "https://localhost:8080/"
        },
        "id": "P0iwyfAntTAu",
        "outputId": "81e8229a-472b-40e1-8c4e-879de807bbdd"
      },
      "outputs": [
        {
          "name": "stdout",
          "output_type": "stream",
          "text": [
            "                   4                              5\n",
            "341723  IMMORAL_NONE                      안돼 무조건 안돼\n",
            "319792  IMMORAL_NONE                      진짜 놀랄 노짜다\n",
            "197153  IMMORAL_NONE  관심을 갖기 시작해야 나중에 정치관을 가질 수 있지요\n",
            "196809  IMMORAL_NONE                 우리 내전 이길 수 있을까\n",
            "192010  IMMORAL_NONE              그럴 거면 그냥 난 집에서 쉴래\n",
            "...              ...                            ...\n",
            "252960  IMMORAL_NONE                 미간은 수술할 방법이 없나\n",
            "263663  IMMORAL_NONE            걔네 커뮤니티에 좌표 찍혔나보다ㅋㅋ\n",
            "14337   IMMORAL_NONE       그러게. 난 저런 인품 좋은 사람이 좋던데.\n",
            "18204   IMMORAL_NONE              아... 그 생각을 못했네 ㅋㅋ\n",
            "184054  IMMORAL_NONE             나 피자 먹방 하는 거 잘 봤냐?\n",
            "\n",
            "[41000 rows x 2 columns]\n"
          ]
        }
      ],
      "source": [
        "import pandas as pd\n",
        "\n",
        "# 'IMMORAL_NONE' 포함된 데이터프레임 추출\n",
        "t_moral_df = train_df[train_df[4].str.contains(\"IMMORAL_NONE\")]\n",
        "t_moral_df2 = train2_df[train2_df[4].str.contains(\"IMMORAL_NONE\")]\n",
        "\n",
        "# 대화 유형과 텍스트 메세지만 추출\n",
        "t_moral_selected_df = t_moral_df.iloc[:, [4, 5]]\n",
        "t_moral_selected_df2 = t_moral_df2.iloc[:, [4, 5]]\n",
        "\n",
        "# 두 데이터프레임 병합\n",
        "merged_df = pd.concat([t_moral_selected_df, t_moral_selected_df2])\n",
        "\n",
        "# 40100개 또는 가능한 최대 개수로 줄이기\n",
        "sample_size = min(41000, len(merged_df))\n",
        "merged_t_moral_df = merged_df.sample(n=sample_size, random_state=1)\n",
        "\n",
        "# CSV로 저장\n",
        "merged_t_moral_df.to_csv(\"t_selected_data.csv\", index=False, header=None)\n",
        "\n",
        "# 결과 출력\n",
        "print(merged_t_moral_df)"
      ]
    },
    {
      "cell_type": "code",
      "execution_count": null,
      "metadata": {
        "colab": {
          "base_uri": "https://localhost:8080/"
        },
        "id": "w-7HNNVjQQzo",
        "outputId": "4ef92c5f-a30a-4b43-91e7-77b2adaebb07"
      },
      "outputs": [
        {
          "name": "stdout",
          "output_type": "stream",
          "text": [
            "                             4                                           5\n",
            "33      CENSURE,VIOLENCE,CRIME           정신병에 걸렸다고 생각되는데, 가장 확실한 치료는 사형이다.\n",
            "48            CENSURE,VIOLENCE                        이 지긋지긋한 정부 작살을 내고 싶다\n",
            "87       HATE,CENSURE,VIOLENCE                         짜증나게 하지말고 나가서 죽어버려라\n",
            "101              HATE,VIOLENCE            하 이런 애들은 총으로 머리 깨서 뭐 들어있나 좀 보고싶다\n",
            "133      HATE,VIOLENCE,CENSURE  너같은 것들이 딸배하면 배달음식 받기 전에 배때기에 칼 쑤실 준비해야 된다.\n",
            "...                        ...                                         ...\n",
            "347862          VIOLENCE,CRIME                  목사들 교회에 몰아놓고 불태워 죽이고싶네 ㅋㅋㅋ\n",
            "347980                   CRIME                                그냥 마시고 튈 거야.\n",
            "348019                VIOLENCE                               너나 파. 난 정상이야.\n",
            "348032   HATE,CENSURE,VIOLENCE                            일베충들은 사회악이다 자살해라\n",
            "348033   VIOLENCE,HATE,CENSURE                         믹서기에 갈아죽여도 시원치않을 것들\n",
            "\n",
            "[18384 rows x 2 columns]\n"
          ]
        }
      ],
      "source": [
        "# 대화 유형이 \"ABUSE\", \"VIOLENCE\", \"CRIME\" 중 하나를 단독으로 포함하는 대화 추출\n",
        "t_violence_df = train_df[train_df[4].str.contains(\"VIOLENCE|CRIME\")]\n",
        "\n",
        "# 대화 유형과 텍스트 메세지만 추출\n",
        "t_violence_selected_df = t_violence_df.iloc[:, [4, 5]]\n",
        "\n",
        "# CSV로 저장\n",
        "t_violence_selected_df.to_csv(\"t_violence_selected_df.csv\", index=False, header=None)\n",
        "print(t_violence_selected_df)"
      ]
    },
    {
      "cell_type": "code",
      "execution_count": null,
      "metadata": {
        "colab": {
          "base_uri": "https://localhost:8080/"
        },
        "id": "3-QB1WIQtjZc",
        "outputId": "10c58928-8c77-4fd5-c541-ff015417289b"
      },
      "outputs": [
        {
          "name": "stdout",
          "output_type": "stream",
          "text": [
            "                          4                         5\n",
            "5       HATE,CENSURE,SEXUAL    특히 벗방보는 애들은 진짜 거세 시켜야함\n",
            "6            CENSURE,SEXUAL        볼 게 없어서 벗방을 보냐 ㅋㅋㅋ\n",
            "11           CENSURE,SEXUAL      에로배우들을 데려다가 아이돌을 만드네\n",
            "12           CENSURE,SEXUAL         쟤네들은 표정이 딱 야동인데..\n",
            "26             ABUSE,SEXUAL            줫빠지게 힘들어서 잣같았다\n",
            "...                     ...                       ...\n",
            "252960         IMMORAL_NONE            미간은 수술할 방법이 없나\n",
            "263663         IMMORAL_NONE       걔네 커뮤니티에 좌표 찍혔나보다ㅋㅋ\n",
            "14337          IMMORAL_NONE  그러게. 난 저런 인품 좋은 사람이 좋던데.\n",
            "18204          IMMORAL_NONE         아... 그 생각을 못했네 ㅋㅋ\n",
            "184054         IMMORAL_NONE        나 피자 먹방 하는 거 잘 봤냐?\n",
            "\n",
            "[81907 rows x 2 columns]\n"
          ]
        }
      ],
      "source": [
        "t_merged_df = pd.concat([merged_t_sexual_df, merged_t_moral_df])\n",
        "t_merged_df.to_csv(\"t_test_data.csv\", index=False, header=None)\n",
        "print(t_merged_df)"
      ]
    },
    {
      "cell_type": "code",
      "execution_count": null,
      "metadata": {
        "colab": {
          "base_uri": "https://localhost:8080/"
        },
        "id": "zatBXyD61Uel",
        "outputId": "5f6a210e-5f19-4c87-bf7a-fcd08fceae98"
      },
      "outputs": [
        {
          "name": "stdout",
          "output_type": "stream",
          "text": [
            "Collecting torchtext==0.6.0\n",
            "  Downloading torchtext-0.6.0-py3-none-any.whl (64 kB)\n",
            "\u001b[2K     \u001b[90m━━━━━━━━━━━━━━━━━━━━━━━━━━━━━━━━━━━━━━━━\u001b[0m \u001b[32m64.2/64.2 kB\u001b[0m \u001b[31m2.5 MB/s\u001b[0m eta \u001b[36m0:00:00\u001b[0m\n",
            "\u001b[?25hRequirement already satisfied: tqdm in /usr/local/lib/python3.10/dist-packages (from torchtext==0.6.0) (4.66.4)\n",
            "Requirement already satisfied: requests in /usr/local/lib/python3.10/dist-packages (from torchtext==0.6.0) (2.31.0)\n",
            "Requirement already satisfied: torch in /usr/local/lib/python3.10/dist-packages (from torchtext==0.6.0) (2.3.0+cu121)\n",
            "Requirement already satisfied: numpy in /usr/local/lib/python3.10/dist-packages (from torchtext==0.6.0) (1.25.2)\n",
            "Requirement already satisfied: six in /usr/local/lib/python3.10/dist-packages (from torchtext==0.6.0) (1.16.0)\n",
            "Requirement already satisfied: sentencepiece in /usr/local/lib/python3.10/dist-packages (from torchtext==0.6.0) (0.1.99)\n",
            "Requirement already satisfied: charset-normalizer<4,>=2 in /usr/local/lib/python3.10/dist-packages (from requests->torchtext==0.6.0) (3.3.2)\n",
            "Requirement already satisfied: idna<4,>=2.5 in /usr/local/lib/python3.10/dist-packages (from requests->torchtext==0.6.0) (3.7)\n",
            "Requirement already satisfied: urllib3<3,>=1.21.1 in /usr/local/lib/python3.10/dist-packages (from requests->torchtext==0.6.0) (2.0.7)\n",
            "Requirement already satisfied: certifi>=2017.4.17 in /usr/local/lib/python3.10/dist-packages (from requests->torchtext==0.6.0) (2024.6.2)\n",
            "Requirement already satisfied: filelock in /usr/local/lib/python3.10/dist-packages (from torch->torchtext==0.6.0) (3.14.0)\n",
            "Requirement already satisfied: typing-extensions>=4.8.0 in /usr/local/lib/python3.10/dist-packages (from torch->torchtext==0.6.0) (4.12.2)\n",
            "Requirement already satisfied: sympy in /usr/local/lib/python3.10/dist-packages (from torch->torchtext==0.6.0) (1.12.1)\n",
            "Requirement already satisfied: networkx in /usr/local/lib/python3.10/dist-packages (from torch->torchtext==0.6.0) (3.3)\n",
            "Requirement already satisfied: jinja2 in /usr/local/lib/python3.10/dist-packages (from torch->torchtext==0.6.0) (3.1.4)\n",
            "Requirement already satisfied: fsspec in /usr/local/lib/python3.10/dist-packages (from torch->torchtext==0.6.0) (2023.6.0)\n",
            "Collecting nvidia-cuda-nvrtc-cu12==12.1.105 (from torch->torchtext==0.6.0)\n",
            "  Using cached nvidia_cuda_nvrtc_cu12-12.1.105-py3-none-manylinux1_x86_64.whl (23.7 MB)\n",
            "Collecting nvidia-cuda-runtime-cu12==12.1.105 (from torch->torchtext==0.6.0)\n",
            "  Using cached nvidia_cuda_runtime_cu12-12.1.105-py3-none-manylinux1_x86_64.whl (823 kB)\n",
            "Collecting nvidia-cuda-cupti-cu12==12.1.105 (from torch->torchtext==0.6.0)\n",
            "  Using cached nvidia_cuda_cupti_cu12-12.1.105-py3-none-manylinux1_x86_64.whl (14.1 MB)\n",
            "Collecting nvidia-cudnn-cu12==8.9.2.26 (from torch->torchtext==0.6.0)\n",
            "  Using cached nvidia_cudnn_cu12-8.9.2.26-py3-none-manylinux1_x86_64.whl (731.7 MB)\n",
            "Collecting nvidia-cublas-cu12==12.1.3.1 (from torch->torchtext==0.6.0)\n",
            "  Using cached nvidia_cublas_cu12-12.1.3.1-py3-none-manylinux1_x86_64.whl (410.6 MB)\n",
            "Collecting nvidia-cufft-cu12==11.0.2.54 (from torch->torchtext==0.6.0)\n",
            "  Using cached nvidia_cufft_cu12-11.0.2.54-py3-none-manylinux1_x86_64.whl (121.6 MB)\n",
            "Collecting nvidia-curand-cu12==10.3.2.106 (from torch->torchtext==0.6.0)\n",
            "  Using cached nvidia_curand_cu12-10.3.2.106-py3-none-manylinux1_x86_64.whl (56.5 MB)\n",
            "Collecting nvidia-cusolver-cu12==11.4.5.107 (from torch->torchtext==0.6.0)\n",
            "  Using cached nvidia_cusolver_cu12-11.4.5.107-py3-none-manylinux1_x86_64.whl (124.2 MB)\n",
            "Collecting nvidia-cusparse-cu12==12.1.0.106 (from torch->torchtext==0.6.0)\n",
            "  Using cached nvidia_cusparse_cu12-12.1.0.106-py3-none-manylinux1_x86_64.whl (196.0 MB)\n",
            "Collecting nvidia-nccl-cu12==2.20.5 (from torch->torchtext==0.6.0)\n",
            "  Using cached nvidia_nccl_cu12-2.20.5-py3-none-manylinux2014_x86_64.whl (176.2 MB)\n",
            "Collecting nvidia-nvtx-cu12==12.1.105 (from torch->torchtext==0.6.0)\n",
            "  Using cached nvidia_nvtx_cu12-12.1.105-py3-none-manylinux1_x86_64.whl (99 kB)\n",
            "Requirement already satisfied: triton==2.3.0 in /usr/local/lib/python3.10/dist-packages (from torch->torchtext==0.6.0) (2.3.0)\n",
            "Collecting nvidia-nvjitlink-cu12 (from nvidia-cusolver-cu12==11.4.5.107->torch->torchtext==0.6.0)\n",
            "  Downloading nvidia_nvjitlink_cu12-12.5.40-py3-none-manylinux2014_x86_64.whl (21.3 MB)\n",
            "\u001b[2K     \u001b[90m━━━━━━━━━━━━━━━━━━━━━━━━━━━━━━━━━━━━━━━━\u001b[0m \u001b[32m21.3/21.3 MB\u001b[0m \u001b[31m54.0 MB/s\u001b[0m eta \u001b[36m0:00:00\u001b[0m\n",
            "\u001b[?25hRequirement already satisfied: MarkupSafe>=2.0 in /usr/local/lib/python3.10/dist-packages (from jinja2->torch->torchtext==0.6.0) (2.1.5)\n",
            "Requirement already satisfied: mpmath<1.4.0,>=1.1.0 in /usr/local/lib/python3.10/dist-packages (from sympy->torch->torchtext==0.6.0) (1.3.0)\n",
            "Installing collected packages: nvidia-nvtx-cu12, nvidia-nvjitlink-cu12, nvidia-nccl-cu12, nvidia-curand-cu12, nvidia-cufft-cu12, nvidia-cuda-runtime-cu12, nvidia-cuda-nvrtc-cu12, nvidia-cuda-cupti-cu12, nvidia-cublas-cu12, nvidia-cusparse-cu12, nvidia-cudnn-cu12, nvidia-cusolver-cu12, torchtext\n",
            "  Attempting uninstall: torchtext\n",
            "    Found existing installation: torchtext 0.18.0\n",
            "    Uninstalling torchtext-0.18.0:\n",
            "      Successfully uninstalled torchtext-0.18.0\n",
            "Successfully installed nvidia-cublas-cu12-12.1.3.1 nvidia-cuda-cupti-cu12-12.1.105 nvidia-cuda-nvrtc-cu12-12.1.105 nvidia-cuda-runtime-cu12-12.1.105 nvidia-cudnn-cu12-8.9.2.26 nvidia-cufft-cu12-11.0.2.54 nvidia-curand-cu12-10.3.2.106 nvidia-cusolver-cu12-11.4.5.107 nvidia-cusparse-cu12-12.1.0.106 nvidia-nccl-cu12-2.20.5 nvidia-nvjitlink-cu12-12.5.40 nvidia-nvtx-cu12-12.1.105 torchtext-0.6.0\n"
          ]
        }
      ],
      "source": [
        "!pip install torchtext==0.6.0"
      ]
    },
    {
      "cell_type": "code",
      "execution_count": null,
      "metadata": {
        "colab": {
          "base_uri": "https://localhost:8080/"
        },
        "id": "z79vV3Na7NoK",
        "outputId": "ce9694f1-3376-4768-f17f-224f87474c48"
      },
      "outputs": [
        {
          "name": "stdout",
          "output_type": "stream",
          "text": [
            "10               쉴드가 아니라 국가가 면제해준거야.\n",
            "17                     짐승입장도 들어봐야지ㅋㅋ\n",
            "19                 <이름>이 이제 급하긴 한가보네\n",
            "20                    깐부라고 부르기까지 하다니\n",
            "22       어머니 간 이식 해 주기 싫어서 도망쳤다고...?\n",
            "                    ...             \n",
            "45929    기다려라. 이 언니가 먼저 경험하고 조언해줄테니.\n",
            "45930        피해자가 왜 2차 피해까지 당해야 하는거지\n",
            "45931                 법도 세상도 너무하다 정말\n",
            "45932           너희 가족이라도 그런소리 할수 있어?\n",
            "45933            피해자들을 두번 죽이는 발언이잖아.\n",
            "Name: 5, Length: 187671, dtype: object\n"
          ]
        }
      ],
      "source": [
        "# 섹슈얼 데이터에서 전처리할 텍스트\n",
        "text_column =merged_df.iloc[:, 1]\n",
        "print(text_column)"
      ]
    },
    {
      "cell_type": "code",
      "execution_count": null,
      "metadata": {
        "colab": {
          "base_uri": "https://localhost:8080/"
        },
        "id": "ec9NOop4WKAQ",
        "outputId": "d8ff2c3b-f836-433e-d572-8fab78072079"
      },
      "outputs": [
        {
          "name": "stdout",
          "output_type": "stream",
          "text": [
            "                  4                            5\n",
            "10     IMMORAL_NONE          쉴드가 아니라 국가가 면제해준거야.\n",
            "17     IMMORAL_NONE                짐승입장도 들어봐야지ㅋㅋ\n",
            "19     IMMORAL_NONE            <이름>이 이제 급하긴 한가보네\n",
            "20     IMMORAL_NONE               깐부라고 부르기까지 하다니\n",
            "22     IMMORAL_NONE  어머니 간 이식 해 주기 싫어서 도망쳤다고...?\n",
            "...             ...                          ...\n",
            "45929  IMMORAL_NONE  기다려라. 이 언니가 먼저 경험하고 조언해줄테니.\n",
            "45930  IMMORAL_NONE      피해자가 왜 2차 피해까지 당해야 하는거지\n",
            "45931  IMMORAL_NONE               법도 세상도 너무하다 정말\n",
            "45932  IMMORAL_NONE         너희 가족이라도 그런소리 할수 있어?\n",
            "45933  IMMORAL_NONE          피해자들을 두번 죽이는 발언이잖아.\n",
            "\n",
            "[187671 rows x 2 columns]\n"
          ]
        }
      ],
      "source": [
        "print(merged_df)"
      ]
    },
    {
      "cell_type": "code",
      "execution_count": null,
      "metadata": {
        "colab": {
          "base_uri": "https://localhost:8080/"
        },
        "id": "vGeSzJdB0Vvy",
        "outputId": "502beb1c-ad14-4d0a-90eb-98425912eb0a"
      },
      "outputs": [
        {
          "name": "stdout",
          "output_type": "stream",
          "text": [
            "                         4                                             5\n",
            "22     CENSURE,HATE,SEXUAL     [충격, 은, 니, ㅂㅈ, 속, 에서, 나올, 때, 니, 엄마, 받는거고]\n",
            "32                  SEXUAL                           [어제, 얘, 따먹음, 물, 콸콸]\n",
            "33            SEXUAL,CRIME                        [영상, 없음, 담, 엔, 찍어, 와라]\n",
            "34            SEXUAL,CRIME                                 [오케, 무조건, 이지]\n",
            "38                  SEXUAL  [ㅈ, 물, 처럼, 차, 버린, 뇌, 내, 망상, 배설, 하, 니까, 시원하다]\n",
            "...                    ...                                           ...\n",
            "17522         IMMORAL_NONE              [이번, 시험, 문제, 완전, 이상한것, 나오지, 않았어]\n",
            "13081         IMMORAL_NONE                      [난, 아파서, 맞는것도, 싫고, 무섭던데]\n",
            "10555         IMMORAL_NONE      [아이고, 외롭겠다, 외로우니까, 더, 더욱, 우리, 친구, 되어줘야지]\n",
            "21293         IMMORAL_NONE                     [때, 내, 최애, 선수였다, 지켜줘, ㅜㅜ]\n",
            "15409         IMMORAL_NONE                        [나, 뭔가, 근데, 기적, 을, 믿어]\n",
            "\n",
            "[10974 rows x 2 columns]\n"
          ]
        }
      ],
      "source": [
        "from konlpy.tag import Okt\n",
        "import re\n",
        "import pandas as pd\n",
        "\n",
        "# 섹슈얼 데이터만 추출한 데이터프레임인 sexual_df가 이미 생성되어 있다고 가정합니다.\n",
        "# 여기에 대해 전처리 작업을 수행하겠습니다.\n",
        "\n",
        "# 형태소 분석기 초기화\n",
        "tokenizer = Okt()\n",
        "\n",
        "# 텍스트 전처리 함수\n",
        "def preprocess_text(text):\n",
        "    # 특수문자 및 반복적인 문자 제거\n",
        "    text = re.sub(r'[^\\w\\s]', '', text)  # 특수문자 제거\n",
        "    # \"ㅋㅋ, ㅎㅎ\"와 같은 특정한 문자열 패턴 제거\n",
        "    text = re.sub(r'ㅋ+', '', text)\n",
        "    text = re.sub(r'ㅎ+', '', text)\n",
        "    text = re.sub(r'ㅠ+', '', text)\n",
        "    text = re.sub(r'ㅡㅡ', '', text)\n",
        "    text = re.sub(r'(.)\\1+', r'\\1\\1', text)  # 반복적인 문자 축약\n",
        "    # 형태소 분석 및 불용어 처리\n",
        "    morphs = tokenizer.morphs(text)\n",
        "    stopwords = ['의','가','에','들','는','잘','걍','과','도','를','으로','한','하다', '히', '힣', '흠', '!','?','<','>','(',')','[',']','|','#','.']\n",
        "    filtered_morphs = [word for word in morphs if not word in stopwords]\n",
        "    return filtered_morphs\n",
        "\n",
        "# 2번째 열 선택 (대화 텍스트)\n",
        "text_column = test_merged_df.iloc[:, 1]\n",
        "\n",
        "# 열을 문자열로 변환\n",
        "text_column_str = text_column.astype(str)\n",
        "\n",
        "# 텍스트 전처리 적용\n",
        "preprocessed_text_column = text_column_str.apply(preprocess_text)\n",
        "\n",
        "# 1번째 열 선택 (moral, sexual 라벨)\n",
        "id_column = test_merged_df.iloc[:, 0]\n",
        "\n",
        "# 1번째 열과 2번째 열 (라벨, 텍스트) 합쳐서 하나로 반환\n",
        "result_df = pd.concat([id_column, preprocessed_text_column], axis=1)\n",
        "\n",
        "# CSV로 저장\n",
        "result_df.to_csv(\"result_df.csv\", index=False, header=None)\n",
        "print(result_df)"
      ]
    },
    {
      "cell_type": "code",
      "execution_count": null,
      "metadata": {
        "colab": {
          "base_uri": "https://localhost:8080/"
        },
        "id": "xZh_6a6cvfAA",
        "outputId": "d506b9ee-0f5b-4440-8143-eeceffe5c27b"
      },
      "outputs": [
        {
          "name": "stdout",
          "output_type": "stream",
          "text": [
            "                          4                                   5\n",
            "5       HATE,CENSURE,SEXUAL  [특히, 벗방, 보는, 애, 은, 진짜, 거세, 시켜, 야함]\n",
            "6            CENSURE,SEXUAL              [볼, 게, 없어서, 벗방, 을, 보냐]\n",
            "11           CENSURE,SEXUAL    [에로, 배우, 을, 데려다가, 아이돌, 을, 만드, 네]\n",
            "12           CENSURE,SEXUAL        [쟤, 네, 들은, 표정, 이, 딱, 야동, 인데]\n",
            "26             ABUSE,SEXUAL              [줫빠지, 게, 힘들어서, 잣, 같았다]\n",
            "...                     ...                                 ...\n",
            "252960         IMMORAL_NONE         [미, 간, 은, 수술, 할, 방법, 이, 없나]\n",
            "263663         IMMORAL_NONE               [걔네, 커뮤니티, 좌표, 찍혔나보다]\n",
            "14337          IMMORAL_NONE    [그러게, 난, 저런, 인품, 좋은, 사람, 이, 좋던데]\n",
            "18204          IMMORAL_NONE                [아, 그, 생각, 을, 못, 했네]\n",
            "184054         IMMORAL_NONE              [나, 피자, 먹방, 하는, 거, 봤냐]\n",
            "\n",
            "[81907 rows x 2 columns]\n"
          ]
        }
      ],
      "source": [
        "from konlpy.tag import Okt\n",
        "import re\n",
        "import pandas as pd\n",
        "\n",
        "# 섹슈얼 데이터만 추출한 데이터프레임인 sexual_df가 이미 생성되어 있다고 가정합니다.\n",
        "# 여기에 대해 전처리 작업을 수행하겠습니다.\n",
        "\n",
        "# 형태소 분석기 초기화\n",
        "tokenizer = Okt()\n",
        "\n",
        "# 텍스트 전처리 함수\n",
        "def preprocess_text(text):\n",
        "    # 특수문자 및 반복적인 문자 제거\n",
        "    text = re.sub(r'[^\\w\\s]', '', text)  # 특수문자 제거\n",
        "    # \"ㅋㅋ, ㅎㅎ\"와 같은 특정한 문자열 패턴 제거\n",
        "    text = re.sub(r'ㅋ+', '', text)\n",
        "    text = re.sub(r'ㅎ+', '', text)\n",
        "    text = re.sub(r'ㅠ+', '', text)\n",
        "    text = re.sub(r'ㅡㅡ', '', text)\n",
        "    text = re.sub(r'(.)\\1+', r'\\1\\1', text)  # 반복적인 문자 축약\n",
        "    # 형태소 분석 및 불용어 처리\n",
        "    morphs = tokenizer.morphs(text)\n",
        "    stopwords = ['의','가','에','들','는','잘','걍','과','도','를','으로','한','하다', '히', '힣', '흠', '!','?','<','>','(',')','[',']','|','#','.']\n",
        "    filtered_morphs = [word for word in morphs if not word in stopwords]\n",
        "    return filtered_morphs\n",
        "\n",
        "# 2번째 열 선택 (대화 텍스트)\n",
        "t_text_column = t_merged_df.iloc[:, 1]\n",
        "\n",
        "# 열을 문자열로 변환\n",
        "t_text_column_str = t_text_column.astype(str)\n",
        "\n",
        "# 텍스트 전처리 적용\n",
        "t_preprocessed_text_column = t_text_column_str.apply(preprocess_text)\n",
        "\n",
        "# 1번째 열 선택 (moral, sexual 라벨)\n",
        "t_id_column = t_merged_df.iloc[:, 0]\n",
        "\n",
        "# 1번째 열과 2번째 열 (라벨, 텍스트) 합쳐서 하나로 반환\n",
        "t_result_df = pd.concat([t_id_column, t_preprocessed_text_column], axis=1)\n",
        "\n",
        "# CSV로 저장\n",
        "t_result_df.to_csv(\"t_result_df.csv\", index=False, header=None)\n",
        "print(t_result_df)"
      ]
    },
    {
      "cell_type": "markdown",
      "metadata": {
        "id": "M0sVTPqFa9Mg"
      },
      "source": [
        "BERT 모델링\n"
      ]
    },
    {
      "cell_type": "code",
      "execution_count": null,
      "metadata": {
        "id": "jbEqLnTxa7bZ"
      },
      "outputs": [],
      "source": [
        "import torch\n",
        "import pandas as pd\n",
        "from transformers import BertTokenizer, BertForSequenceClassification\n",
        "from torch.utils.data import DataLoader, Dataset\n",
        "from sklearn.model_selection import train_test_split"
      ]
    },
    {
      "cell_type": "code",
      "execution_count": null,
      "metadata": {
        "id": "YPv8HcBAQCeL"
      },
      "outputs": [],
      "source": [
        "# 트레인 데이터 로드 및 전처리\n",
        "train_data = pd.read_csv(\"t_result_df.csv\", header=None, names=['label', 'text'])\n",
        "train_data['label'] = train_data['label'].apply(lambda x: 0 if x == 'IMMORAL_NONE' else 1)\n",
        "\n",
        "\n",
        "# 테스트 데이터 로드 및 전처리\n",
        "test_data = pd.read_csv(\"result_df.csv\", header=None, names=['label', 'text'])\n",
        "test_data['label'] = test_data['label'].apply(lambda x: 0 if x == 'IMMORAL_NONE' else 1)\n"
      ]
    },
    {
      "cell_type": "code",
      "execution_count": null,
      "metadata": {
        "id": "o70UW0oNaji5"
      },
      "outputs": [],
      "source": [
        "import torch\n",
        "from torch.utils.data import Dataset\n",
        "from transformers import BertTokenizer\n",
        "\n",
        "class WeatherDataset(Dataset):\n",
        "    def __init__(self, dataframe, tokenizer, max_length):\n",
        "        self.dataframe = dataframe\n",
        "        self.tokenizer = tokenizer\n",
        "        self.max_length = max_length\n",
        "\n",
        "    def __len__(self):\n",
        "        return len(self.dataframe)\n",
        "\n",
        "    def __getitem__(self, idx):\n",
        "        text = self.dataframe.iloc[idx]['text']  # 전처리된 문장.\n",
        "        label = self.dataframe.iloc[idx]['label']  # 날씨 라벨.\n",
        "\n",
        "        # BERT 토크나이저를 사용하여 텍스트를 인코딩합니다.\n",
        "        encoding = self.tokenizer.encode_plus(\n",
        "            text,\n",
        "            add_special_tokens=True,\n",
        "            max_length=self.max_length,\n",
        "            padding='max_length',\n",
        "            truncation=True,\n",
        "            return_tensors='pt',\n",
        "            return_attention_mask=True,\n",
        "            return_token_type_ids=False,\n",
        "        )\n",
        "\n",
        "        return {\n",
        "            'input_ids': encoding['input_ids'].flatten(),\n",
        "            'attention_mask': encoding['attention_mask'].flatten(),\n",
        "            'label': torch.tensor(label, dtype=torch.long)  # 라벨을 torch tensor로 변환\n",
        "        }\n"
      ]
    },
    {
      "cell_type": "code",
      "execution_count": null,
      "metadata": {
        "colab": {
          "base_uri": "https://localhost:8080/",
          "height": 376,
          "referenced_widgets": [
            "3c920db201cb4d61882d41d95d392f5a",
            "df68d5dbf048417e8d0a03fbaefe4d99",
            "8d6300ef5b3948299444e6a4ba5537d6",
            "9ffdeec684d0496299f4a983703d8193",
            "129dca3dd3444e63b362a38692863b17",
            "a957636ce86d46c78de84fd4227830b6",
            "df7233c71f92425e91a4b4cb449a7551",
            "68d0bb6c24484a66a0ed1d0f0b3a715a",
            "e3ba5af8abba4e1593ec2b5042446637",
            "8cde43d3fbef49c4b454709f0e6389ab",
            "d501b5fa81fb40d98d7cd9cdb8cf4c02",
            "d1fb734e42fc4960bb2550f33e15cacf",
            "b3a388d4c5464c2d915f2c15f6232f34",
            "d77e2f40e0a14a8fafb122d0e8c967de",
            "01c63992791f401386cbd14381bdeedc",
            "4a7d3968731d436cb25ca1abbc293de3",
            "6f839afe565d4f43a38274f101005e44",
            "c71758c7f80846868e571d3b5c7d1fb7",
            "ef2aca5d0fb748dbb6e83ffa433776be",
            "15febb6e1a004859aae0ef03349dbbcf",
            "c36a338ba4264e509198e313c0b73cab",
            "af700bf6772c4c25b1ce844209645daa",
            "f09ef653d0344031a76575c72b9ff26d",
            "ca5103aa9f8d4cc7a44050b1e029221a",
            "9b5952389d434542a8e4a50c060c9db8",
            "2bb0e915ad4c426dab7d2028c587b010",
            "9e06e558d11e426d9c4e8b10c98ade3b",
            "1b779668627a40b9929db92d319a6f66",
            "7ed99df1ccb14675a2e151f531bdcf74",
            "a441ecefdbfe40a685f6d99ca544c9f3",
            "fb17ebe9d3694f429c26f0d009e07510",
            "6201e803481c4aedb639748cca3bcf6d",
            "f92f4147187149e7a90b1aec6df54292",
            "36903b41ba0441c8aa845cbafbc6d843",
            "7bf71ebc290c4f5c844144612a46f360",
            "238b6c93579c4db693a80e1beb4b1704",
            "939cda05335b434db484977912d1af98",
            "caec5069b44946c6b821fce8aaa30bd6",
            "e8ef61c459e54b5aacf09a28dd6e5142",
            "473fb4db3ba94720bf8db54c092d0943",
            "013e22c1a32447768ead0c40227c0d92",
            "38e99467c9e34b8eaa3a191b3d2544f1",
            "f9f2c01381ed494baf344ad317fc2bcc",
            "2a8c4f82c4284d5f9aa77865aece4b7e",
            "1b26aabf6c204535b2d05fb73ce5e78d",
            "12b15d9d48e943db8b4721100bba9e5a",
            "03b7d0e43ac64cbdbb40d0319ee51352",
            "987458f3b6ed442b8b0bc7f2ac7caf5b",
            "93651cd368f3407eaa5b4693ddafe479",
            "d1828d2108954e7a924bad47d363dfec",
            "d8b5882704a547eaa6d8e7ea5a082181",
            "95e2ec3016db44aa9d3ad876c38d5581",
            "7a3b053bbf6e4ae1874c7253ea9c5d63",
            "13c7f925503644b1b4c511b6da3b7334",
            "ea54f16602f44b0bb3449edc08c5c2c6"
          ]
        },
        "id": "FmdGyFb7bHpC",
        "outputId": "1f390182-18c7-4589-9901-6c33366dfe84"
      },
      "outputs": [
        {
          "name": "stderr",
          "output_type": "stream",
          "text": [
            "/usr/local/lib/python3.10/dist-packages/huggingface_hub/utils/_token.py:89: UserWarning: \n",
            "The secret `HF_TOKEN` does not exist in your Colab secrets.\n",
            "To authenticate with the Hugging Face Hub, create a token in your settings tab (https://huggingface.co/settings/tokens), set it as secret in your Google Colab and restart your session.\n",
            "You will be able to reuse this secret in all of your notebooks.\n",
            "Please note that authentication is recommended but still optional to access public models or datasets.\n",
            "  warnings.warn(\n"
          ]
        },
        {
          "data": {
            "application/vnd.jupyter.widget-view+json": {
              "model_id": "3c920db201cb4d61882d41d95d392f5a",
              "version_major": 2,
              "version_minor": 0
            },
            "text/plain": [
              "tokenizer_config.json:   0%|          | 0.00/49.0 [00:00<?, ?B/s]"
            ]
          },
          "metadata": {},
          "output_type": "display_data"
        },
        {
          "data": {
            "application/vnd.jupyter.widget-view+json": {
              "model_id": "d1fb734e42fc4960bb2550f33e15cacf",
              "version_major": 2,
              "version_minor": 0
            },
            "text/plain": [
              "vocab.txt:   0%|          | 0.00/996k [00:00<?, ?B/s]"
            ]
          },
          "metadata": {},
          "output_type": "display_data"
        },
        {
          "data": {
            "application/vnd.jupyter.widget-view+json": {
              "model_id": "f09ef653d0344031a76575c72b9ff26d",
              "version_major": 2,
              "version_minor": 0
            },
            "text/plain": [
              "tokenizer.json:   0%|          | 0.00/1.96M [00:00<?, ?B/s]"
            ]
          },
          "metadata": {},
          "output_type": "display_data"
        },
        {
          "name": "stderr",
          "output_type": "stream",
          "text": [
            "/usr/local/lib/python3.10/dist-packages/huggingface_hub/file_download.py:1132: FutureWarning: `resume_download` is deprecated and will be removed in version 1.0.0. Downloads always resume when possible. If you want to force a new download, use `force_download=True`.\n",
            "  warnings.warn(\n"
          ]
        },
        {
          "data": {
            "application/vnd.jupyter.widget-view+json": {
              "model_id": "36903b41ba0441c8aa845cbafbc6d843",
              "version_major": 2,
              "version_minor": 0
            },
            "text/plain": [
              "config.json:   0%|          | 0.00/625 [00:00<?, ?B/s]"
            ]
          },
          "metadata": {},
          "output_type": "display_data"
        },
        {
          "data": {
            "application/vnd.jupyter.widget-view+json": {
              "model_id": "1b26aabf6c204535b2d05fb73ce5e78d",
              "version_major": 2,
              "version_minor": 0
            },
            "text/plain": [
              "model.safetensors:   0%|          | 0.00/714M [00:00<?, ?B/s]"
            ]
          },
          "metadata": {},
          "output_type": "display_data"
        },
        {
          "name": "stderr",
          "output_type": "stream",
          "text": [
            "Some weights of BertForSequenceClassification were not initialized from the model checkpoint at bert-base-multilingual-cased and are newly initialized: ['classifier.bias', 'classifier.weight']\n",
            "You should probably TRAIN this model on a down-stream task to be able to use it for predictions and inference.\n"
          ]
        }
      ],
      "source": [
        "from transformers import BertTokenizer, BertForSequenceClassification\n",
        "import torch\n",
        "from torch.utils.data import DataLoader\n",
        "from tqdm import tqdm\n",
        "\n",
        "tokenizer = BertTokenizer.from_pretrained('bert-base-multilingual-cased')\n",
        "max_length = 128\n",
        "\n",
        "# 데이터셋 및 데이터로더 생성\n",
        "train_dataset = WeatherDataset(train_data, tokenizer, max_length)\n",
        "test_dataset = WeatherDataset(test_data, tokenizer, max_length)\n",
        "train_loader = DataLoader(train_dataset, batch_size=8, shuffle=True)\n",
        "test_loader = DataLoader(test_dataset, batch_size=8, shuffle=False)\n",
        "\n",
        "# BERT 모델 로드\n",
        "model = BertForSequenceClassification.from_pretrained(\n",
        "    'bert-base-multilingual-cased',\n",
        "    num_labels=2,  # 총 2개로 분류\n",
        "    output_attentions=False,\n",
        "    output_hidden_states=False\n",
        ")\n",
        "\n",
        "device = torch.device('cuda' if torch.cuda.is_available() else 'cpu')\n",
        "model.to(device)\n",
        "\n",
        "optimizer = torch.optim.AdamW(model.parameters(), lr=2e-5)\n",
        "\n",
        "criterion = torch.nn.CrossEntropyLoss()"
      ]
    },
    {
      "cell_type": "code",
      "execution_count": null,
      "metadata": {
        "id": "ekV-oNrxbPVT"
      },
      "outputs": [],
      "source": [
        "def train_epoch(model, data_loader, optimizer, criterion, device):\n",
        "    model.train()\n",
        "    epoch_loss = 0\n",
        "    correct_predictions = 0\n",
        "    total_predictions = 0\n",
        "    for batch in data_loader:\n",
        "        input_ids = batch['input_ids'].to(device)\n",
        "        attention_mask = batch['attention_mask'].to(device)\n",
        "        labels = batch['rain_intensity'].to(device)\n",
        "        optimizer.zero_grad()\n",
        "        outputs = model(input_ids, attention_mask=attention_mask)\n",
        "        predictions = torch.argmax(outputs.logits, dim=1)\n",
        "        correct_predictions += torch.sum(predictions == labels).item()\n",
        "        total_predictions += len(labels)\n",
        "        loss = criterion(outputs.logits, labels)\n",
        "        loss.backward()\n",
        "        optimizer.step()\n",
        "        epoch_loss += loss.item()\n",
        "    accuracy = correct_predictions / total_predictions\n",
        "    return epoch_loss / len(data_loader), accuracy\n",
        "\n",
        "def evaluate(model, data_loader, criterion, device):\n",
        "    model.eval()\n",
        "    epoch_loss = 0\n",
        "    correct_predictions = 0\n",
        "    total_predictions = 0\n",
        "    with torch.no_grad():\n",
        "        for batch in data_loader:\n",
        "            input_ids = batch['input_ids'].to(device)\n",
        "            attention_mask = batch['attention_mask'].to(device)\n",
        "            labels = batch['label'].to(device)\n",
        "            outputs = model(input_ids, attention_mask=attention_mask)\n",
        "            predictions = torch.argmax(outputs.logits, dim=1)\n",
        "            correct_predictions += torch.sum(predictions == labels).item()\n",
        "            total_predictions += len(labels)\n",
        "            loss = criterion(outputs.logits, labels)\n",
        "            epoch_loss += loss.item()\n",
        "    accuracy = correct_predictions / total_predictions\n",
        "    return epoch_loss / len(data_loader), accuracy\n"
      ]
    },
    {
      "cell_type": "code",
      "execution_count": null,
      "metadata": {
        "colab": {
          "base_uri": "https://localhost:8080/"
        },
        "id": "0OuU2lmhTh2f",
        "outputId": "f6b5b856-c7c2-4764-b39b-3e20a23783f8"
      },
      "outputs": [
        {
          "name": "stdout",
          "output_type": "stream",
          "text": [
            "Requirement already satisfied: tqdm in /usr/local/lib/python3.10/dist-packages (4.66.4)\n",
            "Requirement already satisfied: scikit-learn in /usr/local/lib/python3.10/dist-packages (1.2.2)\n",
            "Requirement already satisfied: numpy>=1.17.3 in /usr/local/lib/python3.10/dist-packages (from scikit-learn) (1.25.2)\n",
            "Requirement already satisfied: scipy>=1.3.2 in /usr/local/lib/python3.10/dist-packages (from scikit-learn) (1.11.4)\n",
            "Requirement already satisfied: joblib>=1.1.1 in /usr/local/lib/python3.10/dist-packages (from scikit-learn) (1.4.2)\n",
            "Requirement already satisfied: threadpoolctl>=2.0.0 in /usr/local/lib/python3.10/dist-packages (from scikit-learn) (3.5.0)\n"
          ]
        }
      ],
      "source": [
        "!pip install tqdm scikit-learn"
      ]
    },
    {
      "cell_type": "code",
      "execution_count": null,
      "metadata": {
        "colab": {
          "background_save": true,
          "base_uri": "https://localhost:8080/",
          "height": 881
        },
        "id": "nP6V0ImybSs9",
        "outputId": "81bba76b-5e11-4186-faa8-a00c6360625a"
      },
      "outputs": [
        {
          "name": "stderr",
          "output_type": "stream",
          "text": [
            ""
          ]
        },
        {
          "data": {
            "image/png": "[encoded data removed]",
            "text/plain": [
              "<Figure size 640x480 with 1 Axes>"
            ]
          },
          "metadata": {},
          "output_type": "display_data"
        },
        {
          "data": {
            "image/png": "[encoded data removed]",
            "text/plain": [
              "<Figure size 640x480 with 1 Axes>"
            ]
          },
          "metadata": {},
          "output_type": "display_data"
        }
      ],
      "source": [
        "from tqdm import tqdm\n",
        "\n",
        "train_losses = []  # 훈련 손실 값 저장 리스트\n",
        "test_losses = []   # 테스트 손실 값 저장 리스트\n",
        "train_accuracies = []  # 훈련 정확도 값 저장 리스트\n",
        "test_accuracies = []   # 테스트 정확도 값 저장 리스트\n",
        "\n",
        "num_epochs = 5\n",
        "for epoch in range(num_epochs):\n",
        "    train_loss = 0\n",
        "    test_loss = 0\n",
        "    train_correct = 0\n",
        "    test_correct = 0\n",
        "    train_total = 0\n",
        "    test_total = 0\n",
        "\n",
        "    # 훈련 데이터 학습\n",
        "    train_progress_bar = tqdm(train_loader, desc=f'Epoch {epoch + 1}/ {num_epochs}', leave=False)\n",
        "    for batch in train_progress_bar:\n",
        "        input_ids = batch['input_ids'].to(device)\n",
        "        attention_mask = batch['attention_mask'].to(device)\n",
        "        labels = batch['label'].to(device)\n",
        "\n",
        "        optimizer.zero_grad()\n",
        "        outputs = model(input_ids, attention_mask=attention_mask)\n",
        "        predictions = torch.argmax(outputs.logits, dim=1)\n",
        "        train_correct += torch.sum(predictions == labels).item()\n",
        "        train_total += len(labels)\n",
        "\n",
        "        loss = criterion(outputs.logits, labels)\n",
        "        loss.backward()\n",
        "        optimizer.step()\n",
        "\n",
        "        train_loss += loss.item()\n",
        "        train_progress_bar.set_postfix({'loss': loss.item()})\n",
        "\n",
        "    train_losses.append(train_loss / len(train_loader))\n",
        "    train_accuracy = train_correct / train_total\n",
        "    train_accuracies.append(train_accuracy)\n",
        "\n",
        "    # 평가 데이터 평가\n",
        "    test_progress_bar = tqdm(test_loader, desc='Test', leave=False)\n",
        "    with torch.no_grad():\n",
        "        for batch in test_progress_bar:\n",
        "            input_ids = batch['input_ids'].to(device)\n",
        "            attention_mask = batch['attention_mask'].to(device)\n",
        "            labels = batch['label'].to(device)\n",
        "\n",
        "            outputs = model(input_ids, attention_mask=attention_mask)\n",
        "            predictions = torch.argmax(outputs.logits, dim=1)\n",
        "            test_correct += torch.sum(predictions == labels).item()\n",
        "            test_total += len(labels)\n",
        "\n",
        "            loss = criterion(outputs.logits, labels)\n",
        "\n",
        "            test_loss += loss.item()\n",
        "            test_progress_bar.set_postfix({'loss': loss.item()})\n",
        "\n",
        "    test_losses.append(test_loss / len(test_loader))\n",
        "    test_accuracy = test_correct / test_total\n",
        "    test_accuracies.append(test_accuracy)\n",
        "\n",
        "# 손실 값 시각화\n",
        "import matplotlib.pyplot as plt\n",
        "\n",
        "plt.plot(train_losses, label='Train Loss')\n",
        "plt.plot(test_losses, label='Test Loss')\n",
        "plt.xlabel('Epoch')\n",
        "plt.ylabel('Loss')\n",
        "plt.legend()\n",
        "plt.show()\n",
        "\n",
        "# 정확도 값 시각화\n",
        "plt.plot(train_accuracies, label='Train Accuracy')\n",
        "plt.plot(test_accuracies, label='Test Accuracy')\n",
        "plt.xlabel('Epoch')\n",
        "plt.ylabel('Accuracy')\n",
        "plt.legend()\n",
        "plt.show()\n"
      ]
    },
    {
      "cell_type": "code",
      "execution_count": null,
      "metadata": {
        "id": "9rTQBLJ_omLv"
      },
      "outputs": [],
      "source": [
        "# 모델과 옵티마이저 상태 저장\n",
        "torch.save({\n",
        "    'model_state_dict': model.state_dict(),\n",
        "    'optimizer_state_dict': optimizer.state_dict(),\n",
        "}, 'model_and_optimizer.pth')"
      ]
    },
    {
      "cell_type": "markdown",
      "metadata": {
        "id": "1EoJ80Qro0_s"
      },
      "source": [
        "과적합...인 것 같아서 train 데이터를 새로 파서 해보겠습니다~!"
      ]
    },
    {
      "cell_type": "code",
      "execution_count": null,
      "metadata": {
        "colab": {
          "base_uri": "https://localhost:8080/"
        },
        "id": "BBn6QSkmnLmD",
        "outputId": "d3702c71-f981-4b54-b8b3-d94745fe10ea"
      },
      "outputs": [
        {
          "name": "stdout",
          "output_type": "stream",
          "text": [
            "Requirement already satisfied: konlpy in /usr/local/lib/python3.10/dist-packages (0.6.0)\n",
            "Requirement already satisfied: JPype1>=0.7.0 in /usr/local/lib/python3.10/dist-packages (from konlpy) (1.5.0)\n",
            "Requirement already satisfied: lxml>=4.1.0 in /usr/local/lib/python3.10/dist-packages (from konlpy) (4.9.4)\n",
            "Requirement already satisfied: numpy>=1.6 in /usr/local/lib/python3.10/dist-packages (from konlpy) (1.25.2)\n",
            "Requirement already satisfied: packaging in /usr/local/lib/python3.10/dist-packages (from JPype1>=0.7.0->konlpy) (24.1)\n"
          ]
        }
      ],
      "source": [
        "!pip install konlpy\n"
      ]
    },
    {
      "cell_type": "code",
      "execution_count": null,
      "metadata": {
        "id": "FD4NqPX9uDew"
      },
      "outputs": [],
      "source": [
        "from transformers import BertTokenizer, BertForSequenceClassification\n",
        "import torch\n",
        "\n",
        "# BERT 모델과 토크나이저 불러오기\n",
        "model = BertForSequenceClassification.from_pretrained('bert-base-multilingual-cased', num_labels=2)\n",
        "tokenizer = BertTokenizer.from_pretrained('bert-base-multilingual-cased')\n",
        "\n",
        "# GPU를 사용할 수 있다면 GPU로 모델을 이동\n",
        "device = torch.device('cuda' if torch.cuda.is_available() else 'cpu')\n",
        "model.to(device)\n",
        "\n",
        "# 새로운 텍스트를 분류하는 함수 정의\n",
        "def classify_text(text):\n",
        "    # 전처리: 텍스트를 BERT 모델의 입력 형식으로 변환\n",
        "    encoded_text = tokenizer(text, return_tensors='pt', padding=True, truncation=True)\n",
        "    input_ids = encoded_text['input_ids'].to(device)\n",
        "    attention_mask = encoded_text['attention_mask'].to(device)\n",
        "\n",
        "    # 모델 추론\n",
        "    with torch.no_grad():\n",
        "        outputs = model(input_ids, attention_mask=attention_mask)\n",
        "        probabilities = torch.softmax(outputs.logits, dim=1)\n",
        "        predicted_class = torch.argmax(probabilities).item()  # 가장 높은 확률을 가진 클래스 선택\n",
        "\n",
        "    return predicted_class\n",
        "\n",
        "# 새로운 텍스트 입력\n",
        "new_text = \"와 저 여자 앞뒤가 똑같아 ㅋㅋㅋㅋㅋ\"\n",
        "# 텍스트 분류 결과 출력\n",
        "classification_result = classify_text(new_text)\n",
        "if classification_result == 1:\n",
        "    print(\"이 문장은 성적인 내용을 담고 있습니다.\")\n",
        "else:\n",
        "    print(\"이 문장은 성적인 내용을 담고 있지 않습니다.\")"
      ]
    },
    {
      "cell_type": "code",
      "execution_count": null,
      "metadata": {
        "colab": {
          "background_save": true
        },
        "id": "KMJ24snByh8p",
        "outputId": "4e5639a4-b6a4-4aae-e2c7-ef6cecec2c61"
      },
      "outputs": [
        {
          "name": "stdout",
          "output_type": "stream",
          "text": [
            "이 문장은 성적인 내용을 담고 있지 않습니다.\n"
          ]
        }
      ],
      "source": [
        "# 새로운 텍스트 입력\n",
        "new_text = \"나 어제 성매매 하고 왔다\"\n",
        "# 텍스트 분류 결과 출력\n",
        "classification_result = classify_text(new_text)\n",
        "if classification_result == 1:\n",
        "    print(\"이 문장은 성적인 내용을 담고 있습니다.\")\n",
        "else:\n",
        "    print(\"이 문장은 성적인 내용을 담고 있지 않습니다.\")"
      ]
    },
    {
      "cell_type": "code",
      "execution_count": null,
      "metadata": {
        "id": "2-enKux13Q6J"
      },
      "outputs": [],
      "source": [
        "# 새로운 텍스트 입력\n",
        "new_text = \"여자친구 보고 싶다\"\n",
        "# 텍스트 분류 결과 출력\n",
        "classification_result = classify_text(new_text)\n",
        "if classification_result == 1:\n",
        "    print(\"이 문장은 성적인 내용을 담고 있습니다.\")\n",
        "else:\n",
        "    print(\"이 문장은 성적인 내용을 담고 있지 않습니다.\")"
      ]
    },
    {
      "cell_type": "code",
      "execution_count": null,
      "metadata": {
        "colab": {
          "base_uri": "https://localhost:8080/"
        },
        "id": "xrR4s5StyBih",
        "outputId": "9a5aaa45-b562-46c6-d46a-18ff109de556"
      },
      "outputs": [
        {
          "name": "stdout",
          "output_type": "stream",
          "text": [
            "이 문장은 성적인 내용을 담고 있습니다.\n"
          ]
        }
      ],
      "source": [
        "# 새로운 텍스트 입력\n",
        "new_text = \"오픈소스 프로그래밍 과제 해야 돼\"\n",
        "# 텍스트 분류 결과 출력\n",
        "classification_result = classify_text(new_text)\n",
        "if classification_result == 1:\n",
        "    print(\"이 문장은 성적인 내용을 담고 있습니다.\")\n",
        "else:\n",
        "    print(\"이 문장은 성적인 내용을 담고 있지 않습니다.\")"
      ]
    }
  ],
  "metadata": {
    "accelerator": "GPU",
    "colab": {
      "gpuType": "T4",
      "provenance": []
    },
    "kernelspec": {
      "display_name": "Python 3",
      "name": "python3"
    },
    "language_info": {
      "name": "python"
    },
    "widgets": {
      "application/vnd.jupyter.widget-state+json": {
        "013e22c1a32447768ead0c40227c0d92": {
          "model_module": "@jupyter-widgets/base",
          "model_module_version": "1.2.0",
          "model_name": "LayoutModel",
          "state": {
            "_model_module": "@jupyter-widgets/base",
            "_model_module_version": "1.2.0",
            "_model_name": "LayoutModel",
            "_view_count": null,
            "_view_module": "@jupyter-widgets/base",
            "_view_module_version": "1.2.0",
            "_view_name": "LayoutView",
            "align_content": null,
            "align_items": null,
            "align_self": null,
            "border": null,
            "bottom": null,
            "display": null,
            "flex": null,
            "flex_flow": null,
            "grid_area": null,
            "grid_auto_columns": null,
            "grid_auto_flow": null,
            "grid_auto_rows": null,
            "grid_column": null,
            "grid_gap": null,
            "grid_row": null,
            "grid_template_areas": null,
            "grid_template_columns": null,
            "grid_template_rows": null,
            "height": null,
            "justify_content": null,
            "justify_items": null,
            "left": null,
            "margin": null,
            "max_height": null,
            "max_width": null,
            "min_height": null,
            "min_width": null,
            "object_fit": null,
            "object_position": null,
            "order": null,
            "overflow": null,
            "overflow_x": null,
            "overflow_y": null,
            "padding": null,
            "right": null,
            "top": null,
            "visibility": null,
            "width": null
          }
        },
        "01c63992791f401386cbd14381bdeedc": {
          "model_module": "@jupyter-widgets/controls",
          "model_module_version": "1.5.0",
          "model_name": "HTMLModel",
          "state": {
            "_dom_classes": [],
            "_model_module": "@jupyter-widgets/controls",
            "_model_module_version": "1.5.0",
            "_model_name": "HTMLModel",
            "_view_count": null,
            "_view_module": "@jupyter-widgets/controls",
            "_view_module_version": "1.5.0",
            "_view_name": "HTMLView",
            "description": "",
            "description_tooltip": null,
            "layout": "IPY_MODEL_c36a338ba4264e509198e313c0b73cab",
            "placeholder": "​",
            "style": "IPY_MODEL_af700bf6772c4c25b1ce844209645daa",
            "value": " 996k/996k [00:00&lt;00:00, 5.13MB/s]"
          }
        },
        "03b7d0e43ac64cbdbb40d0319ee51352": {
          "model_module": "@jupyter-widgets/controls",
          "model_module_version": "1.5.0",
          "model_name": "FloatProgressModel",
          "state": {
            "_dom_classes": [],
            "_model_module": "@jupyter-widgets/controls",
            "_model_module_version": "1.5.0",
            "_model_name": "FloatProgressModel",
            "_view_count": null,
            "_view_module": "@jupyter-widgets/controls",
            "_view_module_version": "1.5.0",
            "_view_name": "ProgressView",
            "bar_style": "success",
            "description": "",
            "description_tooltip": null,
            "layout": "IPY_MODEL_95e2ec3016db44aa9d3ad876c38d5581",
            "max": 714290682,
            "min": 0,
            "orientation": "horizontal",
            "style": "IPY_MODEL_7a3b053bbf6e4ae1874c7253ea9c5d63",
            "value": 714290682
          }
        },
        "129dca3dd3444e63b362a38692863b17": {
          "model_module": "@jupyter-widgets/base",
          "model_module_version": "1.2.0",
          "model_name": "LayoutModel",
          "state": {
            "_model_module": "@jupyter-widgets/base",
            "_model_module_version": "1.2.0",
            "_model_name": "LayoutModel",
            "_view_count": null,
            "_view_module": "@jupyter-widgets/base",
            "_view_module_version": "1.2.0",
            "_view_name": "LayoutView",
            "align_content": null,
            "align_items": null,
            "align_self": null,
            "border": null,
            "bottom": null,
            "display": null,
            "flex": null,
            "flex_flow": null,
            "grid_area": null,
            "grid_auto_columns": null,
            "grid_auto_flow": null,
            "grid_auto_rows": null,
            "grid_column": null,
            "grid_gap": null,
            "grid_row": null,
            "grid_template_areas": null,
            "grid_template_columns": null,
            "grid_template_rows": null,
            "height": null,
            "justify_content": null,
            "justify_items": null,
            "left": null,
            "margin": null,
            "max_height": null,
            "max_width": null,
            "min_height": null,
            "min_width": null,
            "object_fit": null,
            "object_position": null,
            "order": null,
            "overflow": null,
            "overflow_x": null,
            "overflow_y": null,
            "padding": null,
            "right": null,
            "top": null,
            "visibility": null,
            "width": null
          }
        },
        "12b15d9d48e943db8b4721100bba9e5a": {
          "model_module": "@jupyter-widgets/controls",
          "model_module_version": "1.5.0",
          "model_name": "HTMLModel",
          "state": {
            "_dom_classes": [],
            "_model_module": "@jupyter-widgets/controls",
            "_model_module_version": "1.5.0",
            "_model_name": "HTMLModel",
            "_view_count": null,
            "_view_module": "@jupyter-widgets/controls",
            "_view_module_version": "1.5.0",
            "_view_name": "HTMLView",
            "description": "",
            "description_tooltip": null,
            "layout": "IPY_MODEL_d1828d2108954e7a924bad47d363dfec",
            "placeholder": "​",
            "style": "IPY_MODEL_d8b5882704a547eaa6d8e7ea5a082181",
            "value": "model.safetensors: 100%"
          }
        },
        "13c7f925503644b1b4c511b6da3b7334": {
          "model_module": "@jupyter-widgets/base",
          "model_module_version": "1.2.0",
          "model_name": "LayoutModel",
          "state": {
            "_model_module": "@jupyter-widgets/base",
            "_model_module_version": "1.2.0",
            "_model_name": "LayoutModel",
            "_view_count": null,
            "_view_module": "@jupyter-widgets/base",
            "_view_module_version": "1.2.0",
            "_view_name": "LayoutView",
            "align_content": null,
            "align_items": null,
            "align_self": null,
            "border": null,
            "bottom": null,
            "display": null,
            "flex": null,
            "flex_flow": null,
            "grid_area": null,
            "grid_auto_columns": null,
            "grid_auto_flow": null,
            "grid_auto_rows": null,
            "grid_column": null,
            "grid_gap": null,
            "grid_row": null,
            "grid_template_areas": null,
            "grid_template_columns": null,
            "grid_template_rows": null,
            "height": null,
            "justify_content": null,
            "justify_items": null,
            "left": null,
            "margin": null,
            "max_height": null,
            "max_width": null,
            "min_height": null,
            "min_width": null,
            "object_fit": null,
            "object_position": null,
            "order": null,
            "overflow": null,
            "overflow_x": null,
            "overflow_y": null,
            "padding": null,
            "right": null,
            "top": null,
            "visibility": null,
            "width": null
          }
        },
        "15febb6e1a004859aae0ef03349dbbcf": {
          "model_module": "@jupyter-widgets/controls",
          "model_module_version": "1.5.0",
          "model_name": "ProgressStyleModel",
          "state": {
            "_model_module": "@jupyter-widgets/controls",
            "_model_module_version": "1.5.0",
            "_model_name": "ProgressStyleModel",
            "_view_count": null,
            "_view_module": "@jupyter-widgets/base",
            "_view_module_version": "1.2.0",
            "_view_name": "StyleView",
            "bar_color": null,
            "description_width": ""
          }
        },
        "1b26aabf6c204535b2d05fb73ce5e78d": {
          "model_module": "@jupyter-widgets/controls",
          "model_module_version": "1.5.0",
          "model_name": "HBoxModel",
          "state": {
            "_dom_classes": [],
            "_model_module": "@jupyter-widgets/controls",
            "_model_module_version": "1.5.0",
            "_model_name": "HBoxModel",
            "_view_count": null,
            "_view_module": "@jupyter-widgets/controls",
            "_view_module_version": "1.5.0",
            "_view_name": "HBoxView",
            "box_style": "",
            "children": [
              "IPY_MODEL_12b15d9d48e943db8b4721100bba9e5a",
              "IPY_MODEL_03b7d0e43ac64cbdbb40d0319ee51352",
              "IPY_MODEL_987458f3b6ed442b8b0bc7f2ac7caf5b"
            ],
            "layout": "IPY_MODEL_93651cd368f3407eaa5b4693ddafe479"
          }
        },
        "1b779668627a40b9929db92d319a6f66": {
          "model_module": "@jupyter-widgets/base",
          "model_module_version": "1.2.0",
          "model_name": "LayoutModel",
          "state": {
            "_model_module": "@jupyter-widgets/base",
            "_model_module_version": "1.2.0",
            "_model_name": "LayoutModel",
            "_view_count": null,
            "_view_module": "@jupyter-widgets/base",
            "_view_module_version": "1.2.0",
            "_view_name": "LayoutView",
            "align_content": null,
            "align_items": null,
            "align_self": null,
            "border": null,
            "bottom": null,
            "display": null,
            "flex": null,
            "flex_flow": null,
            "grid_area": null,
            "grid_auto_columns": null,
            "grid_auto_flow": null,
            "grid_auto_rows": null,
            "grid_column": null,
            "grid_gap": null,
            "grid_row": null,
            "grid_template_areas": null,
            "grid_template_columns": null,
            "grid_template_rows": null,
            "height": null,
            "justify_content": null,
            "justify_items": null,
            "left": null,
            "margin": null,
            "max_height": null,
            "max_width": null,
            "min_height": null,
            "min_width": null,
            "object_fit": null,
            "object_position": null,
            "order": null,
            "overflow": null,
            "overflow_x": null,
            "overflow_y": null,
            "padding": null,
            "right": null,
            "top": null,
            "visibility": null,
            "width": null
          }
        },
        "238b6c93579c4db693a80e1beb4b1704": {
          "model_module": "@jupyter-widgets/controls",
          "model_module_version": "1.5.0",
          "model_name": "FloatProgressModel",
          "state": {
            "_dom_classes": [],
            "_model_module": "@jupyter-widgets/controls",
            "_model_module_version": "1.5.0",
            "_model_name": "FloatProgressModel",
            "_view_count": null,
            "_view_module": "@jupyter-widgets/controls",
            "_view_module_version": "1.5.0",
            "_view_name": "ProgressView",
            "bar_style": "success",
            "description": "",
            "description_tooltip": null,
            "layout": "IPY_MODEL_013e22c1a32447768ead0c40227c0d92",
            "max": 625,
            "min": 0,
            "orientation": "horizontal",
            "style": "IPY_MODEL_38e99467c9e34b8eaa3a191b3d2544f1",
            "value": 625
          }
        },
        "2a8c4f82c4284d5f9aa77865aece4b7e": {
          "model_module": "@jupyter-widgets/controls",
          "model_module_version": "1.5.0",
          "model_name": "DescriptionStyleModel",
          "state": {
            "_model_module": "@jupyter-widgets/controls",
            "_model_module_version": "1.5.0",
            "_model_name": "DescriptionStyleModel",
            "_view_count": null,
            "_view_module": "@jupyter-widgets/base",
            "_view_module_version": "1.2.0",
            "_view_name": "StyleView",
            "description_width": ""
          }
        },
        "2bb0e915ad4c426dab7d2028c587b010": {
          "model_module": "@jupyter-widgets/controls",
          "model_module_version": "1.5.0",
          "model_name": "HTMLModel",
          "state": {
            "_dom_classes": [],
            "_model_module": "@jupyter-widgets/controls",
            "_model_module_version": "1.5.0",
            "_model_name": "HTMLModel",
            "_view_count": null,
            "_view_module": "@jupyter-widgets/controls",
            "_view_module_version": "1.5.0",
            "_view_name": "HTMLView",
            "description": "",
            "description_tooltip": null,
            "layout": "IPY_MODEL_6201e803481c4aedb639748cca3bcf6d",
            "placeholder": "​",
            "style": "IPY_MODEL_f92f4147187149e7a90b1aec6df54292",
            "value": " 1.96M/1.96M [00:00&lt;00:00, 7.95MB/s]"
          }
        },
        "36903b41ba0441c8aa845cbafbc6d843": {
          "model_module": "@jupyter-widgets/controls",
          "model_module_version": "1.5.0",
          "model_name": "HBoxModel",
          "state": {
            "_dom_classes": [],
            "_model_module": "@jupyter-widgets/controls",
            "_model_module_version": "1.5.0",
            "_model_name": "HBoxModel",
            "_view_count": null,
            "_view_module": "@jupyter-widgets/controls",
            "_view_module_version": "1.5.0",
            "_view_name": "HBoxView",
            "box_style": "",
            "children": [
              "IPY_MODEL_7bf71ebc290c4f5c844144612a46f360",
              "IPY_MODEL_238b6c93579c4db693a80e1beb4b1704",
              "IPY_MODEL_939cda05335b434db484977912d1af98"
            ],
            "layout": "IPY_MODEL_caec5069b44946c6b821fce8aaa30bd6"
          }
        },
        "38e99467c9e34b8eaa3a191b3d2544f1": {
          "model_module": "@jupyter-widgets/controls",
          "model_module_version": "1.5.0",
          "model_name": "ProgressStyleModel",
          "state": {
            "_model_module": "@jupyter-widgets/controls",
            "_model_module_version": "1.5.0",
            "_model_name": "ProgressStyleModel",
            "_view_count": null,
            "_view_module": "@jupyter-widgets/base",
            "_view_module_version": "1.2.0",
            "_view_name": "StyleView",
            "bar_color": null,
            "description_width": ""
          }
        },
        "3c920db201cb4d61882d41d95d392f5a": {
          "model_module": "@jupyter-widgets/controls",
          "model_module_version": "1.5.0",
          "model_name": "HBoxModel",
          "state": {
            "_dom_classes": [],
            "_model_module": "@jupyter-widgets/controls",
            "_model_module_version": "1.5.0",
            "_model_name": "HBoxModel",
            "_view_count": null,
            "_view_module": "@jupyter-widgets/controls",
            "_view_module_version": "1.5.0",
            "_view_name": "HBoxView",
            "box_style": "",
            "children": [
              "IPY_MODEL_df68d5dbf048417e8d0a03fbaefe4d99",
              "IPY_MODEL_8d6300ef5b3948299444e6a4ba5537d6",
              "IPY_MODEL_9ffdeec684d0496299f4a983703d8193"
            ],
            "layout": "IPY_MODEL_129dca3dd3444e63b362a38692863b17"
          }
        },
        "473fb4db3ba94720bf8db54c092d0943": {
          "model_module": "@jupyter-widgets/controls",
          "model_module_version": "1.5.0",
          "model_name": "DescriptionStyleModel",
          "state": {
            "_model_module": "@jupyter-widgets/controls",
            "_model_module_version": "1.5.0",
            "_model_name": "DescriptionStyleModel",
            "_view_count": null,
            "_view_module": "@jupyter-widgets/base",
            "_view_module_version": "1.2.0",
            "_view_name": "StyleView",
            "description_width": ""
          }
        },
        "4a7d3968731d436cb25ca1abbc293de3": {
          "model_module": "@jupyter-widgets/base",
          "model_module_version": "1.2.0",
          "model_name": "LayoutModel",
          "state": {
            "_model_module": "@jupyter-widgets/base",
            "_model_module_version": "1.2.0",
            "_model_name": "LayoutModel",
            "_view_count": null,
            "_view_module": "@jupyter-widgets/base",
            "_view_module_version": "1.2.0",
            "_view_name": "LayoutView",
            "align_content": null,
            "align_items": null,
            "align_self": null,
            "border": null,
            "bottom": null,
            "display": null,
            "flex": null,
            "flex_flow": null,
            "grid_area": null,
            "grid_auto_columns": null,
            "grid_auto_flow": null,
            "grid_auto_rows": null,
            "grid_column": null,
            "grid_gap": null,
            "grid_row": null,
            "grid_template_areas": null,
            "grid_template_columns": null,
            "grid_template_rows": null,
            "height": null,
            "justify_content": null,
            "justify_items": null,
            "left": null,
            "margin": null,
            "max_height": null,
            "max_width": null,
            "min_height": null,
            "min_width": null,
            "object_fit": null,
            "object_position": null,
            "order": null,
            "overflow": null,
            "overflow_x": null,
            "overflow_y": null,
            "padding": null,
            "right": null,
            "top": null,
            "visibility": null,
            "width": null
          }
        },
        "6201e803481c4aedb639748cca3bcf6d": {
          "model_module": "@jupyter-widgets/base",
          "model_module_version": "1.2.0",
          "model_name": "LayoutModel",
          "state": {
            "_model_module": "@jupyter-widgets/base",
            "_model_module_version": "1.2.0",
            "_model_name": "LayoutModel",
            "_view_count": null,
            "_view_module": "@jupyter-widgets/base",
            "_view_module_version": "1.2.0",
            "_view_name": "LayoutView",
            "align_content": null,
            "align_items": null,
            "align_self": null,
            "border": null,
            "bottom": null,
            "display": null,
            "flex": null,
            "flex_flow": null,
            "grid_area": null,
            "grid_auto_columns": null,
            "grid_auto_flow": null,
            "grid_auto_rows": null,
            "grid_column": null,
            "grid_gap": null,
            "grid_row": null,
            "grid_template_areas": null,
            "grid_template_columns": null,
            "grid_template_rows": null,
            "height": null,
            "justify_content": null,
            "justify_items": null,
            "left": null,
            "margin": null,
            "max_height": null,
            "max_width": null,
            "min_height": null,
            "min_width": null,
            "object_fit": null,
            "object_position": null,
            "order": null,
            "overflow": null,
            "overflow_x": null,
            "overflow_y": null,
            "padding": null,
            "right": null,
            "top": null,
            "visibility": null,
            "width": null
          }
        },
        "68d0bb6c24484a66a0ed1d0f0b3a715a": {
          "model_module": "@jupyter-widgets/base",
          "model_module_version": "1.2.0",
          "model_name": "LayoutModel",
          "state": {
            "_model_module": "@jupyter-widgets/base",
            "_model_module_version": "1.2.0",
            "_model_name": "LayoutModel",
            "_view_count": null,
            "_view_module": "@jupyter-widgets/base",
            "_view_module_version": "1.2.0",
            "_view_name": "LayoutView",
            "align_content": null,
            "align_items": null,
            "align_self": null,
            "border": null,
            "bottom": null,
            "display": null,
            "flex": null,
            "flex_flow": null,
            "grid_area": null,
            "grid_auto_columns": null,
            "grid_auto_flow": null,
            "grid_auto_rows": null,
            "grid_column": null,
            "grid_gap": null,
            "grid_row": null,
            "grid_template_areas": null,
            "grid_template_columns": null,
            "grid_template_rows": null,
            "height": null,
            "justify_content": null,
            "justify_items": null,
            "left": null,
            "margin": null,
            "max_height": null,
            "max_width": null,
            "min_height": null,
            "min_width": null,
            "object_fit": null,
            "object_position": null,
            "order": null,
            "overflow": null,
            "overflow_x": null,
            "overflow_y": null,
            "padding": null,
            "right": null,
            "top": null,
            "visibility": null,
            "width": null
          }
        },
        "6f839afe565d4f43a38274f101005e44": {
          "model_module": "@jupyter-widgets/base",
          "model_module_version": "1.2.0",
          "model_name": "LayoutModel",
          "state": {
            "_model_module": "@jupyter-widgets/base",
            "_model_module_version": "1.2.0",
            "_model_name": "LayoutModel",
            "_view_count": null,
            "_view_module": "@jupyter-widgets/base",
            "_view_module_version": "1.2.0",
            "_view_name": "LayoutView",
            "align_content": null,
            "align_items": null,
            "align_self": null,
            "border": null,
            "bottom": null,
            "display": null,
            "flex": null,
            "flex_flow": null,
            "grid_area": null,
            "grid_auto_columns": null,
            "grid_auto_flow": null,
            "grid_auto_rows": null,
            "grid_column": null,
            "grid_gap": null,
            "grid_row": null,
            "grid_template_areas": null,
            "grid_template_columns": null,
            "grid_template_rows": null,
            "height": null,
            "justify_content": null,
            "justify_items": null,
            "left": null,
            "margin": null,
            "max_height": null,
            "max_width": null,
            "min_height": null,
            "min_width": null,
            "object_fit": null,
            "object_position": null,
            "order": null,
            "overflow": null,
            "overflow_x": null,
            "overflow_y": null,
            "padding": null,
            "right": null,
            "top": null,
            "visibility": null,
            "width": null
          }
        },
        "7a3b053bbf6e4ae1874c7253ea9c5d63": {
          "model_module": "@jupyter-widgets/controls",
          "model_module_version": "1.5.0",
          "model_name": "ProgressStyleModel",
          "state": {
            "_model_module": "@jupyter-widgets/controls",
            "_model_module_version": "1.5.0",
            "_model_name": "ProgressStyleModel",
            "_view_count": null,
            "_view_module": "@jupyter-widgets/base",
            "_view_module_version": "1.2.0",
            "_view_name": "StyleView",
            "bar_color": null,
            "description_width": ""
          }
        },
        "7bf71ebc290c4f5c844144612a46f360": {
          "model_module": "@jupyter-widgets/controls",
          "model_module_version": "1.5.0",
          "model_name": "HTMLModel",
          "state": {
            "_dom_classes": [],
            "_model_module": "@jupyter-widgets/controls",
            "_model_module_version": "1.5.0",
            "_model_name": "HTMLModel",
            "_view_count": null,
            "_view_module": "@jupyter-widgets/controls",
            "_view_module_version": "1.5.0",
            "_view_name": "HTMLView",
            "description": "",
            "description_tooltip": null,
            "layout": "IPY_MODEL_e8ef61c459e54b5aacf09a28dd6e5142",
            "placeholder": "​",
            "style": "IPY_MODEL_473fb4db3ba94720bf8db54c092d0943",
            "value": "config.json: 100%"
          }
        },
        "7ed99df1ccb14675a2e151f531bdcf74": {
          "model_module": "@jupyter-widgets/controls",
          "model_module_version": "1.5.0",
          "model_name": "DescriptionStyleModel",
          "state": {
            "_model_module": "@jupyter-widgets/controls",
            "_model_module_version": "1.5.0",
            "_model_name": "DescriptionStyleModel",
            "_view_count": null,
            "_view_module": "@jupyter-widgets/base",
            "_view_module_version": "1.2.0",
            "_view_name": "StyleView",
            "description_width": ""
          }
        },
        "8cde43d3fbef49c4b454709f0e6389ab": {
          "model_module": "@jupyter-widgets/base",
          "model_module_version": "1.2.0",
          "model_name": "LayoutModel",
          "state": {
            "_model_module": "@jupyter-widgets/base",
            "_model_module_version": "1.2.0",
            "_model_name": "LayoutModel",
            "_view_count": null,
            "_view_module": "@jupyter-widgets/base",
            "_view_module_version": "1.2.0",
            "_view_name": "LayoutView",
            "align_content": null,
            "align_items": null,
            "align_self": null,
            "border": null,
            "bottom": null,
            "display": null,
            "flex": null,
            "flex_flow": null,
            "grid_area": null,
            "grid_auto_columns": null,
            "grid_auto_flow": null,
            "grid_auto_rows": null,
            "grid_column": null,
            "grid_gap": null,
            "grid_row": null,
            "grid_template_areas": null,
            "grid_template_columns": null,
            "grid_template_rows": null,
            "height": null,
            "justify_content": null,
            "justify_items": null,
            "left": null,
            "margin": null,
            "max_height": null,
            "max_width": null,
            "min_height": null,
            "min_width": null,
            "object_fit": null,
            "object_position": null,
            "order": null,
            "overflow": null,
            "overflow_x": null,
            "overflow_y": null,
            "padding": null,
            "right": null,
            "top": null,
            "visibility": null,
            "width": null
          }
        },
        "8d6300ef5b3948299444e6a4ba5537d6": {
          "model_module": "@jupyter-widgets/controls",
          "model_module_version": "1.5.0",
          "model_name": "FloatProgressModel",
          "state": {
            "_dom_classes": [],
            "_model_module": "@jupyter-widgets/controls",
            "_model_module_version": "1.5.0",
            "_model_name": "FloatProgressModel",
            "_view_count": null,
            "_view_module": "@jupyter-widgets/controls",
            "_view_module_version": "1.5.0",
            "_view_name": "ProgressView",
            "bar_style": "success",
            "description": "",
            "description_tooltip": null,
            "layout": "IPY_MODEL_68d0bb6c24484a66a0ed1d0f0b3a715a",
            "max": 49,
            "min": 0,
            "orientation": "horizontal",
            "style": "IPY_MODEL_e3ba5af8abba4e1593ec2b5042446637",
            "value": 49
          }
        },
        "93651cd368f3407eaa5b4693ddafe479": {
          "model_module": "@jupyter-widgets/base",
          "model_module_version": "1.2.0",
          "model_name": "LayoutModel",
          "state": {
            "_model_module": "@jupyter-widgets/base",
            "_model_module_version": "1.2.0",
            "_model_name": "LayoutModel",
            "_view_count": null,
            "_view_module": "@jupyter-widgets/base",
            "_view_module_version": "1.2.0",
            "_view_name": "LayoutView",
            "align_content": null,
            "align_items": null,
            "align_self": null,
            "border": null,
            "bottom": null,
            "display": null,
            "flex": null,
            "flex_flow": null,
            "grid_area": null,
            "grid_auto_columns": null,
            "grid_auto_flow": null,
            "grid_auto_rows": null,
            "grid_column": null,
            "grid_gap": null,
            "grid_row": null,
            "grid_template_areas": null,
            "grid_template_columns": null,
            "grid_template_rows": null,
            "height": null,
            "justify_content": null,
            "justify_items": null,
            "left": null,
            "margin": null,
            "max_height": null,
            "max_width": null,
            "min_height": null,
            "min_width": null,
            "object_fit": null,
            "object_position": null,
            "order": null,
            "overflow": null,
            "overflow_x": null,
            "overflow_y": null,
            "padding": null,
            "right": null,
            "top": null,
            "visibility": null,
            "width": null
          }
        },
        "939cda05335b434db484977912d1af98": {
          "model_module": "@jupyter-widgets/controls",
          "model_module_version": "1.5.0",
          "model_name": "HTMLModel",
          "state": {
            "_dom_classes": [],
            "_model_module": "@jupyter-widgets/controls",
            "_model_module_version": "1.5.0",
            "_model_name": "HTMLModel",
            "_view_count": null,
            "_view_module": "@jupyter-widgets/controls",
            "_view_module_version": "1.5.0",
            "_view_name": "HTMLView",
            "description": "",
            "description_tooltip": null,
            "layout": "IPY_MODEL_f9f2c01381ed494baf344ad317fc2bcc",
            "placeholder": "​",
            "style": "IPY_MODEL_2a8c4f82c4284d5f9aa77865aece4b7e",
            "value": " 625/625 [00:00&lt;00:00, 34.6kB/s]"
          }
        },
        "95e2ec3016db44aa9d3ad876c38d5581": {
          "model_module": "@jupyter-widgets/base",
          "model_module_version": "1.2.0",
          "model_name": "LayoutModel",
          "state": {
            "_model_module": "@jupyter-widgets/base",
            "_model_module_version": "1.2.0",
            "_model_name": "LayoutModel",
            "_view_count": null,
            "_view_module": "@jupyter-widgets/base",
            "_view_module_version": "1.2.0",
            "_view_name": "LayoutView",
            "align_content": null,
            "align_items": null,
            "align_self": null,
            "border": null,
            "bottom": null,
            "display": null,
            "flex": null,
            "flex_flow": null,
            "grid_area": null,
            "grid_auto_columns": null,
            "grid_auto_flow": null,
            "grid_auto_rows": null,
            "grid_column": null,
            "grid_gap": null,
            "grid_row": null,
            "grid_template_areas": null,
            "grid_template_columns": null,
            "grid_template_rows": null,
            "height": null,
            "justify_content": null,
            "justify_items": null,
            "left": null,
            "margin": null,
            "max_height": null,
            "max_width": null,
            "min_height": null,
            "min_width": null,
            "object_fit": null,
            "object_position": null,
            "order": null,
            "overflow": null,
            "overflow_x": null,
            "overflow_y": null,
            "padding": null,
            "right": null,
            "top": null,
            "visibility": null,
            "width": null
          }
        },
        "987458f3b6ed442b8b0bc7f2ac7caf5b": {
          "model_module": "@jupyter-widgets/controls",
          "model_module_version": "1.5.0",
          "model_name": "HTMLModel",
          "state": {
            "_dom_classes": [],
            "_model_module": "@jupyter-widgets/controls",
            "_model_module_version": "1.5.0",
            "_model_name": "HTMLModel",
            "_view_count": null,
            "_view_module": "@jupyter-widgets/controls",
            "_view_module_version": "1.5.0",
            "_view_name": "HTMLView",
            "description": "",
            "description_tooltip": null,
            "layout": "IPY_MODEL_13c7f925503644b1b4c511b6da3b7334",
            "placeholder": "​",
            "style": "IPY_MODEL_ea54f16602f44b0bb3449edc08c5c2c6",
            "value": " 714M/714M [00:04&lt;00:00, 198MB/s]"
          }
        },
        "9b5952389d434542a8e4a50c060c9db8": {
          "model_module": "@jupyter-widgets/controls",
          "model_module_version": "1.5.0",
          "model_name": "FloatProgressModel",
          "state": {
            "_dom_classes": [],
            "_model_module": "@jupyter-widgets/controls",
            "_model_module_version": "1.5.0",
            "_model_name": "FloatProgressModel",
            "_view_count": null,
            "_view_module": "@jupyter-widgets/controls",
            "_view_module_version": "1.5.0",
            "_view_name": "ProgressView",
            "bar_style": "success",
            "description": "",
            "description_tooltip": null,
            "layout": "IPY_MODEL_a441ecefdbfe40a685f6d99ca544c9f3",
            "max": 1961828,
            "min": 0,
            "orientation": "horizontal",
            "style": "IPY_MODEL_fb17ebe9d3694f429c26f0d009e07510",
            "value": 1961828
          }
        },
        "9e06e558d11e426d9c4e8b10c98ade3b": {
          "model_module": "@jupyter-widgets/base",
          "model_module_version": "1.2.0",
          "model_name": "LayoutModel",
          "state": {
            "_model_module": "@jupyter-widgets/base",
            "_model_module_version": "1.2.0",
            "_model_name": "LayoutModel",
            "_view_count": null,
            "_view_module": "@jupyter-widgets/base",
            "_view_module_version": "1.2.0",
            "_view_name": "LayoutView",
            "align_content": null,
            "align_items": null,
            "align_self": null,
            "border": null,
            "bottom": null,
            "display": null,
            "flex": null,
            "flex_flow": null,
            "grid_area": null,
            "grid_auto_columns": null,
            "grid_auto_flow": null,
            "grid_auto_rows": null,
            "grid_column": null,
            "grid_gap": null,
            "grid_row": null,
            "grid_template_areas": null,
            "grid_template_columns": null,
            "grid_template_rows": null,
            "height": null,
            "justify_content": null,
            "justify_items": null,
            "left": null,
            "margin": null,
            "max_height": null,
            "max_width": null,
            "min_height": null,
            "min_width": null,
            "object_fit": null,
            "object_position": null,
            "order": null,
            "overflow": null,
            "overflow_x": null,
            "overflow_y": null,
            "padding": null,
            "right": null,
            "top": null,
            "visibility": null,
            "width": null
          }
        },
        "9ffdeec684d0496299f4a983703d8193": {
          "model_module": "@jupyter-widgets/controls",
          "model_module_version": "1.5.0",
          "model_name": "HTMLModel",
          "state": {
            "_dom_classes": [],
            "_model_module": "@jupyter-widgets/controls",
            "_model_module_version": "1.5.0",
            "_model_name": "HTMLModel",
            "_view_count": null,
            "_view_module": "@jupyter-widgets/controls",
            "_view_module_version": "1.5.0",
            "_view_name": "HTMLView",
            "description": "",
            "description_tooltip": null,
            "layout": "IPY_MODEL_8cde43d3fbef49c4b454709f0e6389ab",
            "placeholder": "​",
            "style": "IPY_MODEL_d501b5fa81fb40d98d7cd9cdb8cf4c02",
            "value": " 49.0/49.0 [00:00&lt;00:00, 3.04kB/s]"
          }
        },
        "a441ecefdbfe40a685f6d99ca544c9f3": {
          "model_module": "@jupyter-widgets/base",
          "model_module_version": "1.2.0",
          "model_name": "LayoutModel",
          "state": {
            "_model_module": "@jupyter-widgets/base",
            "_model_module_version": "1.2.0",
            "_model_name": "LayoutModel",
            "_view_count": null,
            "_view_module": "@jupyter-widgets/base",
            "_view_module_version": "1.2.0",
            "_view_name": "LayoutView",
            "align_content": null,
            "align_items": null,
            "align_self": null,
            "border": null,
            "bottom": null,
            "display": null,
            "flex": null,
            "flex_flow": null,
            "grid_area": null,
            "grid_auto_columns": null,
            "grid_auto_flow": null,
            "grid_auto_rows": null,
            "grid_column": null,
            "grid_gap": null,
            "grid_row": null,
            "grid_template_areas": null,
            "grid_template_columns": null,
            "grid_template_rows": null,
            "height": null,
            "justify_content": null,
            "justify_items": null,
            "left": null,
            "margin": null,
            "max_height": null,
            "max_width": null,
            "min_height": null,
            "min_width": null,
            "object_fit": null,
            "object_position": null,
            "order": null,
            "overflow": null,
            "overflow_x": null,
            "overflow_y": null,
            "padding": null,
            "right": null,
            "top": null,
            "visibility": null,
            "width": null
          }
        },
        "a957636ce86d46c78de84fd4227830b6": {
          "model_module": "@jupyter-widgets/base",
          "model_module_version": "1.2.0",
          "model_name": "LayoutModel",
          "state": {
            "_model_module": "@jupyter-widgets/base",
            "_model_module_version": "1.2.0",
            "_model_name": "LayoutModel",
            "_view_count": null,
            "_view_module": "@jupyter-widgets/base",
            "_view_module_version": "1.2.0",
            "_view_name": "LayoutView",
            "align_content": null,
            "align_items": null,
            "align_self": null,
            "border": null,
            "bottom": null,
            "display": null,
            "flex": null,
            "flex_flow": null,
            "grid_area": null,
            "grid_auto_columns": null,
            "grid_auto_flow": null,
            "grid_auto_rows": null,
            "grid_column": null,
            "grid_gap": null,
            "grid_row": null,
            "grid_template_areas": null,
            "grid_template_columns": null,
            "grid_template_rows": null,
            "height": null,
            "justify_content": null,
            "justify_items": null,
            "left": null,
            "margin": null,
            "max_height": null,
            "max_width": null,
            "min_height": null,
            "min_width": null,
            "object_fit": null,
            "object_position": null,
            "order": null,
            "overflow": null,
            "overflow_x": null,
            "overflow_y": null,
            "padding": null,
            "right": null,
            "top": null,
            "visibility": null,
            "width": null
          }
        },
        "af700bf6772c4c25b1ce844209645daa": {
          "model_module": "@jupyter-widgets/controls",
          "model_module_version": "1.5.0",
          "model_name": "DescriptionStyleModel",
          "state": {
            "_model_module": "@jupyter-widgets/controls",
            "_model_module_version": "1.5.0",
            "_model_name": "DescriptionStyleModel",
            "_view_count": null,
            "_view_module": "@jupyter-widgets/base",
            "_view_module_version": "1.2.0",
            "_view_name": "StyleView",
            "description_width": ""
          }
        },
        "b3a388d4c5464c2d915f2c15f6232f34": {
          "model_module": "@jupyter-widgets/controls",
          "model_module_version": "1.5.0",
          "model_name": "HTMLModel",
          "state": {
            "_dom_classes": [],
            "_model_module": "@jupyter-widgets/controls",
            "_model_module_version": "1.5.0",
            "_model_name": "HTMLModel",
            "_view_count": null,
            "_view_module": "@jupyter-widgets/controls",
            "_view_module_version": "1.5.0",
            "_view_name": "HTMLView",
            "description": "",
            "description_tooltip": null,
            "layout": "IPY_MODEL_6f839afe565d4f43a38274f101005e44",
            "placeholder": "​",
            "style": "IPY_MODEL_c71758c7f80846868e571d3b5c7d1fb7",
            "value": "vocab.txt: 100%"
          }
        },
        "c36a338ba4264e509198e313c0b73cab": {
          "model_module": "@jupyter-widgets/base",
          "model_module_version": "1.2.0",
          "model_name": "LayoutModel",
          "state": {
            "_model_module": "@jupyter-widgets/base",
            "_model_module_version": "1.2.0",
            "_model_name": "LayoutModel",
            "_view_count": null,
            "_view_module": "@jupyter-widgets/base",
            "_view_module_version": "1.2.0",
            "_view_name": "LayoutView",
            "align_content": null,
            "align_items": null,
            "align_self": null,
            "border": null,
            "bottom": null,
            "display": null,
            "flex": null,
            "flex_flow": null,
            "grid_area": null,
            "grid_auto_columns": null,
            "grid_auto_flow": null,
            "grid_auto_rows": null,
            "grid_column": null,
            "grid_gap": null,
            "grid_row": null,
            "grid_template_areas": null,
            "grid_template_columns": null,
            "grid_template_rows": null,
            "height": null,
            "justify_content": null,
            "justify_items": null,
            "left": null,
            "margin": null,
            "max_height": null,
            "max_width": null,
            "min_height": null,
            "min_width": null,
            "object_fit": null,
            "object_position": null,
            "order": null,
            "overflow": null,
            "overflow_x": null,
            "overflow_y": null,
            "padding": null,
            "right": null,
            "top": null,
            "visibility": null,
            "width": null
          }
        },
        "c71758c7f80846868e571d3b5c7d1fb7": {
          "model_module": "@jupyter-widgets/controls",
          "model_module_version": "1.5.0",
          "model_name": "DescriptionStyleModel",
          "state": {
            "_model_module": "@jupyter-widgets/controls",
            "_model_module_version": "1.5.0",
            "_model_name": "DescriptionStyleModel",
            "_view_count": null,
            "_view_module": "@jupyter-widgets/base",
            "_view_module_version": "1.2.0",
            "_view_name": "StyleView",
            "description_width": ""
          }
        },
        "ca5103aa9f8d4cc7a44050b1e029221a": {
          "model_module": "@jupyter-widgets/controls",
          "model_module_version": "1.5.0",
          "model_name": "HTMLModel",
          "state": {
            "_dom_classes": [],
            "_model_module": "@jupyter-widgets/controls",
            "_model_module_version": "1.5.0",
            "_model_name": "HTMLModel",
            "_view_count": null,
            "_view_module": "@jupyter-widgets/controls",
            "_view_module_version": "1.5.0",
            "_view_name": "HTMLView",
            "description": "",
            "description_tooltip": null,
            "layout": "IPY_MODEL_1b779668627a40b9929db92d319a6f66",
            "placeholder": "​",
            "style": "IPY_MODEL_7ed99df1ccb14675a2e151f531bdcf74",
            "value": "tokenizer.json: 100%"
          }
        },
        "caec5069b44946c6b821fce8aaa30bd6": {
          "model_module": "@jupyter-widgets/base",
          "model_module_version": "1.2.0",
          "model_name": "LayoutModel",
          "state": {
            "_model_module": "@jupyter-widgets/base",
            "_model_module_version": "1.2.0",
            "_model_name": "LayoutModel",
            "_view_count": null,
            "_view_module": "@jupyter-widgets/base",
            "_view_module_version": "1.2.0",
            "_view_name": "LayoutView",
            "align_content": null,
            "align_items": null,
            "align_self": null,
            "border": null,
            "bottom": null,
            "display": null,
            "flex": null,
            "flex_flow": null,
            "grid_area": null,
            "grid_auto_columns": null,
            "grid_auto_flow": null,
            "grid_auto_rows": null,
            "grid_column": null,
            "grid_gap": null,
            "grid_row": null,
            "grid_template_areas": null,
            "grid_template_columns": null,
            "grid_template_rows": null,
            "height": null,
            "justify_content": null,
            "justify_items": null,
            "left": null,
            "margin": null,
            "max_height": null,
            "max_width": null,
            "min_height": null,
            "min_width": null,
            "object_fit": null,
            "object_position": null,
            "order": null,
            "overflow": null,
            "overflow_x": null,
            "overflow_y": null,
            "padding": null,
            "right": null,
            "top": null,
            "visibility": null,
            "width": null
          }
        },
        "d1828d2108954e7a924bad47d363dfec": {
          "model_module": "@jupyter-widgets/base",
          "model_module_version": "1.2.0",
          "model_name": "LayoutModel",
          "state": {
            "_model_module": "@jupyter-widgets/base",
            "_model_module_version": "1.2.0",
            "_model_name": "LayoutModel",
            "_view_count": null,
            "_view_module": "@jupyter-widgets/base",
            "_view_module_version": "1.2.0",
            "_view_name": "LayoutView",
            "align_content": null,
            "align_items": null,
            "align_self": null,
            "border": null,
            "bottom": null,
            "display": null,
            "flex": null,
            "flex_flow": null,
            "grid_area": null,
            "grid_auto_columns": null,
            "grid_auto_flow": null,
            "grid_auto_rows": null,
            "grid_column": null,
            "grid_gap": null,
            "grid_row": null,
            "grid_template_areas": null,
            "grid_template_columns": null,
            "grid_template_rows": null,
            "height": null,
            "justify_content": null,
            "justify_items": null,
            "left": null,
            "margin": null,
            "max_height": null,
            "max_width": null,
            "min_height": null,
            "min_width": null,
            "object_fit": null,
            "object_position": null,
            "order": null,
            "overflow": null,
            "overflow_x": null,
            "overflow_y": null,
            "padding": null,
            "right": null,
            "top": null,
            "visibility": null,
            "width": null
          }
        },
        "d1fb734e42fc4960bb2550f33e15cacf": {
          "model_module": "@jupyter-widgets/controls",
          "model_module_version": "1.5.0",
          "model_name": "HBoxModel",
          "state": {
            "_dom_classes": [],
            "_model_module": "@jupyter-widgets/controls",
            "_model_module_version": "1.5.0",
            "_model_name": "HBoxModel",
            "_view_count": null,
            "_view_module": "@jupyter-widgets/controls",
            "_view_module_version": "1.5.0",
            "_view_name": "HBoxView",
            "box_style": "",
            "children": [
              "IPY_MODEL_b3a388d4c5464c2d915f2c15f6232f34",
              "IPY_MODEL_d77e2f40e0a14a8fafb122d0e8c967de",
              "IPY_MODEL_01c63992791f401386cbd14381bdeedc"
            ],
            "layout": "IPY_MODEL_4a7d3968731d436cb25ca1abbc293de3"
          }
        },
        "d501b5fa81fb40d98d7cd9cdb8cf4c02": {
          "model_module": "@jupyter-widgets/controls",
          "model_module_version": "1.5.0",
          "model_name": "DescriptionStyleModel",
          "state": {
            "_model_module": "@jupyter-widgets/controls",
            "_model_module_version": "1.5.0",
            "_model_name": "DescriptionStyleModel",
            "_view_count": null,
            "_view_module": "@jupyter-widgets/base",
            "_view_module_version": "1.2.0",
            "_view_name": "StyleView",
            "description_width": ""
          }
        },
        "d77e2f40e0a14a8fafb122d0e8c967de": {
          "model_module": "@jupyter-widgets/controls",
          "model_module_version": "1.5.0",
          "model_name": "FloatProgressModel",
          "state": {
            "_dom_classes": [],
            "_model_module": "@jupyter-widgets/controls",
            "_model_module_version": "1.5.0",
            "_model_name": "FloatProgressModel",
            "_view_count": null,
            "_view_module": "@jupyter-widgets/controls",
            "_view_module_version": "1.5.0",
            "_view_name": "ProgressView",
            "bar_style": "success",
            "description": "",
            "description_tooltip": null,
            "layout": "IPY_MODEL_ef2aca5d0fb748dbb6e83ffa433776be",
            "max": 995526,
            "min": 0,
            "orientation": "horizontal",
            "style": "IPY_MODEL_15febb6e1a004859aae0ef03349dbbcf",
            "value": 995526
          }
        },
        "d8b5882704a547eaa6d8e7ea5a082181": {
          "model_module": "@jupyter-widgets/controls",
          "model_module_version": "1.5.0",
          "model_name": "DescriptionStyleModel",
          "state": {
            "_model_module": "@jupyter-widgets/controls",
            "_model_module_version": "1.5.0",
            "_model_name": "DescriptionStyleModel",
            "_view_count": null,
            "_view_module": "@jupyter-widgets/base",
            "_view_module_version": "1.2.0",
            "_view_name": "StyleView",
            "description_width": ""
          }
        },
        "df68d5dbf048417e8d0a03fbaefe4d99": {
          "model_module": "@jupyter-widgets/controls",
          "model_module_version": "1.5.0",
          "model_name": "HTMLModel",
          "state": {
            "_dom_classes": [],
            "_model_module": "@jupyter-widgets/controls",
            "_model_module_version": "1.5.0",
            "_model_name": "HTMLModel",
            "_view_count": null,
            "_view_module": "@jupyter-widgets/controls",
            "_view_module_version": "1.5.0",
            "_view_name": "HTMLView",
            "description": "",
            "description_tooltip": null,
            "layout": "IPY_MODEL_a957636ce86d46c78de84fd4227830b6",
            "placeholder": "​",
            "style": "IPY_MODEL_df7233c71f92425e91a4b4cb449a7551",
            "value": "tokenizer_config.json: 100%"
          }
        },
        "df7233c71f92425e91a4b4cb449a7551": {
          "model_module": "@jupyter-widgets/controls",
          "model_module_version": "1.5.0",
          "model_name": "DescriptionStyleModel",
          "state": {
            "_model_module": "@jupyter-widgets/controls",
            "_model_module_version": "1.5.0",
            "_model_name": "DescriptionStyleModel",
            "_view_count": null,
            "_view_module": "@jupyter-widgets/base",
            "_view_module_version": "1.2.0",
            "_view_name": "StyleView",
            "description_width": ""
          }
        },
        "e3ba5af8abba4e1593ec2b5042446637": {
          "model_module": "@jupyter-widgets/controls",
          "model_module_version": "1.5.0",
          "model_name": "ProgressStyleModel",
          "state": {
            "_model_module": "@jupyter-widgets/controls",
            "_model_module_version": "1.5.0",
            "_model_name": "ProgressStyleModel",
            "_view_count": null,
            "_view_module": "@jupyter-widgets/base",
            "_view_module_version": "1.2.0",
            "_view_name": "StyleView",
            "bar_color": null,
            "description_width": ""
          }
        },
        "e8ef61c459e54b5aacf09a28dd6e5142": {
          "model_module": "@jupyter-widgets/base",
          "model_module_version": "1.2.0",
          "model_name": "LayoutModel",
          "state": {
            "_model_module": "@jupyter-widgets/base",
            "_model_module_version": "1.2.0",
            "_model_name": "LayoutModel",
            "_view_count": null,
            "_view_module": "@jupyter-widgets/base",
            "_view_module_version": "1.2.0",
            "_view_name": "LayoutView",
            "align_content": null,
            "align_items": null,
            "align_self": null,
            "border": null,
            "bottom": null,
            "display": null,
            "flex": null,
            "flex_flow": null,
            "grid_area": null,
            "grid_auto_columns": null,
            "grid_auto_flow": null,
            "grid_auto_rows": null,
            "grid_column": null,
            "grid_gap": null,
            "grid_row": null,
            "grid_template_areas": null,
            "grid_template_columns": null,
            "grid_template_rows": null,
            "height": null,
            "justify_content": null,
            "justify_items": null,
            "left": null,
            "margin": null,
            "max_height": null,
            "max_width": null,
            "min_height": null,
            "min_width": null,
            "object_fit": null,
            "object_position": null,
            "order": null,
            "overflow": null,
            "overflow_x": null,
            "overflow_y": null,
            "padding": null,
            "right": null,
            "top": null,
            "visibility": null,
            "width": null
          }
        },
        "ea54f16602f44b0bb3449edc08c5c2c6": {
          "model_module": "@jupyter-widgets/controls",
          "model_module_version": "1.5.0",
          "model_name": "DescriptionStyleModel",
          "state": {
            "_model_module": "@jupyter-widgets/controls",
            "_model_module_version": "1.5.0",
            "_model_name": "DescriptionStyleModel",
            "_view_count": null,
            "_view_module": "@jupyter-widgets/base",
            "_view_module_version": "1.2.0",
            "_view_name": "StyleView",
            "description_width": ""
          }
        },
        "ef2aca5d0fb748dbb6e83ffa433776be": {
          "model_module": "@jupyter-widgets/base",
          "model_module_version": "1.2.0",
          "model_name": "LayoutModel",
          "state": {
            "_model_module": "@jupyter-widgets/base",
            "_model_module_version": "1.2.0",
            "_model_name": "LayoutModel",
            "_view_count": null,
            "_view_module": "@jupyter-widgets/base",
            "_view_module_version": "1.2.0",
            "_view_name": "LayoutView",
            "align_content": null,
            "align_items": null,
            "align_self": null,
            "border": null,
            "bottom": null,
            "display": null,
            "flex": null,
            "flex_flow": null,
            "grid_area": null,
            "grid_auto_columns": null,
            "grid_auto_flow": null,
            "grid_auto_rows": null,
            "grid_column": null,
            "grid_gap": null,
            "grid_row": null,
            "grid_template_areas": null,
            "grid_template_columns": null,
            "grid_template_rows": null,
            "height": null,
            "justify_content": null,
            "justify_items": null,
            "left": null,
            "margin": null,
            "max_height": null,
            "max_width": null,
            "min_height": null,
            "min_width": null,
            "object_fit": null,
            "object_position": null,
            "order": null,
            "overflow": null,
            "overflow_x": null,
            "overflow_y": null,
            "padding": null,
            "right": null,
            "top": null,
            "visibility": null,
            "width": null
          }
        },
        "f09ef653d0344031a76575c72b9ff26d": {
          "model_module": "@jupyter-widgets/controls",
          "model_module_version": "1.5.0",
          "model_name": "HBoxModel",
          "state": {
            "_dom_classes": [],
            "_model_module": "@jupyter-widgets/controls",
            "_model_module_version": "1.5.0",
            "_model_name": "HBoxModel",
            "_view_count": null,
            "_view_module": "@jupyter-widgets/controls",
            "_view_module_version": "1.5.0",
            "_view_name": "HBoxView",
            "box_style": "",
            "children": [
              "IPY_MODEL_ca5103aa9f8d4cc7a44050b1e029221a",
              "IPY_MODEL_9b5952389d434542a8e4a50c060c9db8",
              "IPY_MODEL_2bb0e915ad4c426dab7d2028c587b010"
            ],
            "layout": "IPY_MODEL_9e06e558d11e426d9c4e8b10c98ade3b"
          }
        },
        "f92f4147187149e7a90b1aec6df54292": {
          "model_module": "@jupyter-widgets/controls",
          "model_module_version": "1.5.0",
          "model_name": "DescriptionStyleModel",
          "state": {
            "_model_module": "@jupyter-widgets/controls",
            "_model_module_version": "1.5.0",
            "_model_name": "DescriptionStyleModel",
            "_view_count": null,
            "_view_module": "@jupyter-widgets/base",
            "_view_module_version": "1.2.0",
            "_view_name": "StyleView",
            "description_width": ""
          }
        },
        "f9f2c01381ed494baf344ad317fc2bcc": {
          "model_module": "@jupyter-widgets/base",
          "model_module_version": "1.2.0",
          "model_name": "LayoutModel",
          "state": {
            "_model_module": "@jupyter-widgets/base",
            "_model_module_version": "1.2.0",
            "_model_name": "LayoutModel",
            "_view_count": null,
            "_view_module": "@jupyter-widgets/base",
            "_view_module_version": "1.2.0",
            "_view_name": "LayoutView",
            "align_content": null,
            "align_items": null,
            "align_self": null,
            "border": null,
            "bottom": null,
            "display": null,
            "flex": null,
            "flex_flow": null,
            "grid_area": null,
            "grid_auto_columns": null,
            "grid_auto_flow": null,
            "grid_auto_rows": null,
            "grid_column": null,
            "grid_gap": null,
            "grid_row": null,
            "grid_template_areas": null,
            "grid_template_columns": null,
            "grid_template_rows": null,
            "height": null,
            "justify_content": null,
            "justify_items": null,
            "left": null,
            "margin": null,
            "max_height": null,
            "max_width": null,
            "min_height": null,
            "min_width": null,
            "object_fit": null,
            "object_position": null,
            "order": null,
            "overflow": null,
            "overflow_x": null,
            "overflow_y": null,
            "padding": null,
            "right": null,
            "top": null,
            "visibility": null,
            "width": null
          }
        },
        "fb17ebe9d3694f429c26f0d009e07510": {
          "model_module": "@jupyter-widgets/controls",
          "model_module_version": "1.5.0",
          "model_name": "ProgressStyleModel",
          "state": {
            "_model_module": "@jupyter-widgets/controls",
            "_model_module_version": "1.5.0",
            "_model_name": "ProgressStyleModel",
            "_view_count": null,
            "_view_module": "@jupyter-widgets/base",
            "_view_module_version": "1.2.0",
            "_view_name": "StyleView",
            "bar_color": null,
            "description_width": ""
          }
        }
      }
    }
  },
  "nbformat": 4,
  "nbformat_minor": 0
}